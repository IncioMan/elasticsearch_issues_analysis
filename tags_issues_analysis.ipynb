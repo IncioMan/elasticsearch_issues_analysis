{
 "cells": [
  {
   "cell_type": "code",
   "execution_count": 429,
   "metadata": {},
   "outputs": [],
   "source": [
    "import pandas as pd\n",
    "import seaborn as sns\n",
    "import numpy as np\n",
    "import matplotlib.pyplot as plt"
   ]
  },
  {
   "cell_type": "markdown",
   "metadata": {},
   "source": [
    "# Elasticsearch issues analysis\n",
    "## Main objective\n",
    "Investigate whether issues have been used consistently over time and throughout the release versions of the software, and is therefore a reliable source of information to use when validating our anomaly predictions."
   ]
  },
  {
   "cell_type": "markdown",
   "metadata": {},
   "source": [
    "## Data loading"
   ]
  },
  {
   "cell_type": "markdown",
   "metadata": {},
   "source": [
    "### Labels"
   ]
  },
  {
   "cell_type": "code",
   "execution_count": 430,
   "metadata": {},
   "outputs": [],
   "source": [
    "issues_labels = pd.read_csv(\"./issues_labels.csv\", index_col=0, squeeze=True, header=None)"
   ]
  },
  {
   "cell_type": "code",
   "execution_count": 431,
   "metadata": {},
   "outputs": [
    {
     "data": {
      "text/plain": [
       "438"
      ]
     },
     "execution_count": 431,
     "metadata": {},
     "output_type": "execute_result"
    }
   ],
   "source": [
    "len(issues_labels)"
   ]
  },
  {
   "cell_type": "markdown",
   "metadata": {},
   "source": [
    "### Issues"
   ]
  },
  {
   "cell_type": "code",
   "execution_count": 535,
   "metadata": {},
   "outputs": [
    {
     "data": {
      "text/html": [
       "<div>\n",
       "<style scoped>\n",
       "    .dataframe tbody tr th:only-of-type {\n",
       "        vertical-align: middle;\n",
       "    }\n",
       "\n",
       "    .dataframe tbody tr th {\n",
       "        vertical-align: top;\n",
       "    }\n",
       "\n",
       "    .dataframe thead th {\n",
       "        text-align: right;\n",
       "    }\n",
       "</style>\n",
       "<table border=\"1\" class=\"dataframe\">\n",
       "  <thead>\n",
       "    <tr style=\"text-align: right;\">\n",
       "      <th></th>\n",
       "      <th>title</th>\n",
       "      <th>created_at</th>\n",
       "      <th>user</th>\n",
       "    </tr>\n",
       "    <tr>\n",
       "      <th>id</th>\n",
       "      <th></th>\n",
       "      <th></th>\n",
       "      <th></th>\n",
       "    </tr>\n",
       "  </thead>\n",
       "  <tbody>\n",
       "    <tr>\n",
       "      <td>682740346</td>\n",
       "      <td>[7.9] [DOCS] Fix EQL threat detection example ...</td>\n",
       "      <td>2020-08-20 13:58:10</td>\n",
       "      <td>jrodewig</td>\n",
       "    </tr>\n",
       "    <tr>\n",
       "      <td>682739786</td>\n",
       "      <td>[7.x] [DOCS] Fix EQL threat detection example ...</td>\n",
       "      <td>2020-08-20 13:57:22</td>\n",
       "      <td>jrodewig</td>\n",
       "    </tr>\n",
       "    <tr>\n",
       "      <td>682737733</td>\n",
       "      <td>[DOCS] [7.8] Adding ignore_unavailable param. ...</td>\n",
       "      <td>2020-08-20 13:54:35</td>\n",
       "      <td>lockewritesdocs</td>\n",
       "    </tr>\n",
       "    <tr>\n",
       "      <td>682734621</td>\n",
       "      <td>[DOCS] [7.9] Adding ignore_unavailable param. ...</td>\n",
       "      <td>2020-08-20 13:50:36</td>\n",
       "      <td>lockewritesdocs</td>\n",
       "    </tr>\n",
       "    <tr>\n",
       "      <td>682732176</td>\n",
       "      <td>[DOCS] [7.x] Adding ignore_unavailable param. ...</td>\n",
       "      <td>2020-08-20 13:47:21</td>\n",
       "      <td>lockewritesdocs</td>\n",
       "    </tr>\n",
       "    <tr>\n",
       "      <td>...</td>\n",
       "      <td>...</td>\n",
       "      <td>...</td>\n",
       "      <td>...</td>\n",
       "    </tr>\n",
       "    <tr>\n",
       "      <td>23083082</td>\n",
       "      <td>Consistency between `_search` and `_msearch`</td>\n",
       "      <td>2013-11-21 17:33:06</td>\n",
       "      <td>ofavre</td>\n",
       "    </tr>\n",
       "    <tr>\n",
       "      <td>20864348</td>\n",
       "      <td>ActionResponse should implement ToXContentObject</td>\n",
       "      <td>2013-10-11 11:52:52</td>\n",
       "      <td>s1monw</td>\n",
       "    </tr>\n",
       "    <tr>\n",
       "      <td>20743479</td>\n",
       "      <td>Get document API can specify an alias, but wil...</td>\n",
       "      <td>2013-10-09 13:56:33</td>\n",
       "      <td>ccw-morris</td>\n",
       "    </tr>\n",
       "    <tr>\n",
       "      <td>12899202</td>\n",
       "      <td>index.auto_expand_replicas and shard allocatio...</td>\n",
       "      <td>2013-04-07 18:10:01</td>\n",
       "      <td>synhershko</td>\n",
       "    </tr>\n",
       "    <tr>\n",
       "      <td>1400233</td>\n",
       "      <td>Changes API</td>\n",
       "      <td>2011-08-13 15:45:14</td>\n",
       "      <td>Vineeth-Mohan</td>\n",
       "    </tr>\n",
       "  </tbody>\n",
       "</table>\n",
       "<p>61215 rows × 3 columns</p>\n",
       "</div>"
      ],
      "text/plain": [
       "                                                       title  \\\n",
       "id                                                             \n",
       "682740346  [7.9] [DOCS] Fix EQL threat detection example ...   \n",
       "682739786  [7.x] [DOCS] Fix EQL threat detection example ...   \n",
       "682737733  [DOCS] [7.8] Adding ignore_unavailable param. ...   \n",
       "682734621  [DOCS] [7.9] Adding ignore_unavailable param. ...   \n",
       "682732176  [DOCS] [7.x] Adding ignore_unavailable param. ...   \n",
       "...                                                      ...   \n",
       "23083082        Consistency between `_search` and `_msearch`   \n",
       "20864348    ActionResponse should implement ToXContentObject   \n",
       "20743479   Get document API can specify an alias, but wil...   \n",
       "12899202   index.auto_expand_replicas and shard allocatio...   \n",
       "1400233                                          Changes API   \n",
       "\n",
       "                    created_at             user  \n",
       "id                                               \n",
       "682740346  2020-08-20 13:58:10         jrodewig  \n",
       "682739786  2020-08-20 13:57:22         jrodewig  \n",
       "682737733  2020-08-20 13:54:35  lockewritesdocs  \n",
       "682734621  2020-08-20 13:50:36  lockewritesdocs  \n",
       "682732176  2020-08-20 13:47:21  lockewritesdocs  \n",
       "...                        ...              ...  \n",
       "23083082   2013-11-21 17:33:06           ofavre  \n",
       "20864348   2013-10-11 11:52:52           s1monw  \n",
       "20743479   2013-10-09 13:56:33       ccw-morris  \n",
       "12899202   2013-04-07 18:10:01       synhershko  \n",
       "1400233    2011-08-13 15:45:14    Vineeth-Mohan  \n",
       "\n",
       "[61215 rows x 3 columns]"
      ]
     },
     "execution_count": 535,
     "metadata": {},
     "output_type": "execute_result"
    }
   ],
   "source": [
    "issues = pd.read_csv(\"./issues.csv\", index_col=0, squeeze=True)\n",
    "issues"
   ]
  },
  {
   "cell_type": "markdown",
   "metadata": {},
   "source": [
    "### Labels and issues "
   ]
  },
  {
   "cell_type": "code",
   "execution_count": 432,
   "metadata": {},
   "outputs": [
    {
     "data": {
      "text/html": [
       "<div>\n",
       "<style scoped>\n",
       "    .dataframe tbody tr th:only-of-type {\n",
       "        vertical-align: middle;\n",
       "    }\n",
       "\n",
       "    .dataframe tbody tr th {\n",
       "        vertical-align: top;\n",
       "    }\n",
       "\n",
       "    .dataframe thead th {\n",
       "        text-align: right;\n",
       "    }\n",
       "</style>\n",
       "<table border=\"1\" class=\"dataframe\">\n",
       "  <thead>\n",
       "    <tr style=\"text-align: right;\">\n",
       "      <th></th>\n",
       "      <th>id</th>\n",
       "      <th>label</th>\n",
       "    </tr>\n",
       "  </thead>\n",
       "  <tbody>\n",
       "    <tr>\n",
       "      <td>0</td>\n",
       "      <td>681010786</td>\n",
       "      <td>backport</td>\n",
       "    </tr>\n",
       "    <tr>\n",
       "      <td>1</td>\n",
       "      <td>681010786</td>\n",
       "      <td>v7.9.1</td>\n",
       "    </tr>\n",
       "    <tr>\n",
       "      <td>2</td>\n",
       "      <td>681010233</td>\n",
       "      <td>backport</td>\n",
       "    </tr>\n",
       "    <tr>\n",
       "      <td>3</td>\n",
       "      <td>681010233</td>\n",
       "      <td>v7.10.0</td>\n",
       "    </tr>\n",
       "    <tr>\n",
       "      <td>4</td>\n",
       "      <td>680841671</td>\n",
       "      <td>:ml</td>\n",
       "    </tr>\n",
       "    <tr>\n",
       "      <td>...</td>\n",
       "      <td>...</td>\n",
       "      <td>...</td>\n",
       "    </tr>\n",
       "    <tr>\n",
       "      <td>166760</td>\n",
       "      <td>1400233</td>\n",
       "      <td>:Distributed/Distributed</td>\n",
       "    </tr>\n",
       "    <tr>\n",
       "      <td>166761</td>\n",
       "      <td>1400233</td>\n",
       "      <td>&gt;feature</td>\n",
       "    </tr>\n",
       "    <tr>\n",
       "      <td>166762</td>\n",
       "      <td>1400233</td>\n",
       "      <td>Team:Distributed</td>\n",
       "    </tr>\n",
       "    <tr>\n",
       "      <td>166763</td>\n",
       "      <td>1400233</td>\n",
       "      <td>high hanging fruit</td>\n",
       "    </tr>\n",
       "    <tr>\n",
       "      <td>166764</td>\n",
       "      <td>1400233</td>\n",
       "      <td>stalled</td>\n",
       "    </tr>\n",
       "  </tbody>\n",
       "</table>\n",
       "<p>166765 rows × 2 columns</p>\n",
       "</div>"
      ],
      "text/plain": [
       "               id                     label\n",
       "0       681010786                  backport\n",
       "1       681010786                    v7.9.1\n",
       "2       681010233                  backport\n",
       "3       681010233                   v7.10.0\n",
       "4       680841671                       :ml\n",
       "...           ...                       ...\n",
       "166760    1400233  :Distributed/Distributed\n",
       "166761    1400233                  >feature\n",
       "166762    1400233          Team:Distributed\n",
       "166763    1400233        high hanging fruit\n",
       "166764    1400233                   stalled\n",
       "\n",
       "[166765 rows x 2 columns]"
      ]
     },
     "execution_count": 432,
     "metadata": {},
     "output_type": "execute_result"
    }
   ],
   "source": [
    "ilpr = pd.read_csv(\"issues_label_per_row.csv\", index_col=0)\n",
    "ilpr"
   ]
  },
  {
   "cell_type": "code",
   "execution_count": 433,
   "metadata": {},
   "outputs": [
    {
     "data": {
      "text/html": [
       "<div>\n",
       "<style scoped>\n",
       "    .dataframe tbody tr th:only-of-type {\n",
       "        vertical-align: middle;\n",
       "    }\n",
       "\n",
       "    .dataframe tbody tr th {\n",
       "        vertical-align: top;\n",
       "    }\n",
       "\n",
       "    .dataframe thead th {\n",
       "        text-align: right;\n",
       "    }\n",
       "</style>\n",
       "<table border=\"1\" class=\"dataframe\">\n",
       "  <thead>\n",
       "    <tr style=\"text-align: right;\">\n",
       "      <th></th>\n",
       "      <th>:Analytics/Aggregations</th>\n",
       "      <th>:Analytics/Geo</th>\n",
       "      <th>:Analytics/Graph</th>\n",
       "      <th>:Analytics/Rollup</th>\n",
       "      <th>:Core/Features/CAT APIs</th>\n",
       "      <th>:Core/Features/Data streams</th>\n",
       "      <th>:Core/Features/Features</th>\n",
       "      <th>:Core/Features/ILM+SLM</th>\n",
       "      <th>:Core/Features/Indices APIs</th>\n",
       "      <th>:Core/Features/Ingest</th>\n",
       "      <th>...</th>\n",
       "      <th>v7.7.0</th>\n",
       "      <th>v7.7.1</th>\n",
       "      <th>v7.7.2</th>\n",
       "      <th>v7.8.0</th>\n",
       "      <th>v7.8.1</th>\n",
       "      <th>v7.8.2</th>\n",
       "      <th>v7.9.0</th>\n",
       "      <th>v7.9.1</th>\n",
       "      <th>v8.0.0</th>\n",
       "      <th>won't fix</th>\n",
       "    </tr>\n",
       "    <tr>\n",
       "      <th>id</th>\n",
       "      <th></th>\n",
       "      <th></th>\n",
       "      <th></th>\n",
       "      <th></th>\n",
       "      <th></th>\n",
       "      <th></th>\n",
       "      <th></th>\n",
       "      <th></th>\n",
       "      <th></th>\n",
       "      <th></th>\n",
       "      <th></th>\n",
       "      <th></th>\n",
       "      <th></th>\n",
       "      <th></th>\n",
       "      <th></th>\n",
       "      <th></th>\n",
       "      <th></th>\n",
       "      <th></th>\n",
       "      <th></th>\n",
       "      <th></th>\n",
       "      <th></th>\n",
       "    </tr>\n",
       "  </thead>\n",
       "  <tbody>\n",
       "    <tr>\n",
       "      <td>681010786</td>\n",
       "      <td>0</td>\n",
       "      <td>0</td>\n",
       "      <td>0</td>\n",
       "      <td>0</td>\n",
       "      <td>0</td>\n",
       "      <td>0</td>\n",
       "      <td>0</td>\n",
       "      <td>0</td>\n",
       "      <td>0</td>\n",
       "      <td>0</td>\n",
       "      <td>...</td>\n",
       "      <td>0</td>\n",
       "      <td>0</td>\n",
       "      <td>0</td>\n",
       "      <td>0</td>\n",
       "      <td>0</td>\n",
       "      <td>0</td>\n",
       "      <td>0</td>\n",
       "      <td>1</td>\n",
       "      <td>0</td>\n",
       "      <td>0</td>\n",
       "    </tr>\n",
       "    <tr>\n",
       "      <td>681010233</td>\n",
       "      <td>0</td>\n",
       "      <td>0</td>\n",
       "      <td>0</td>\n",
       "      <td>0</td>\n",
       "      <td>0</td>\n",
       "      <td>0</td>\n",
       "      <td>0</td>\n",
       "      <td>0</td>\n",
       "      <td>0</td>\n",
       "      <td>0</td>\n",
       "      <td>...</td>\n",
       "      <td>0</td>\n",
       "      <td>0</td>\n",
       "      <td>0</td>\n",
       "      <td>0</td>\n",
       "      <td>0</td>\n",
       "      <td>0</td>\n",
       "      <td>0</td>\n",
       "      <td>0</td>\n",
       "      <td>0</td>\n",
       "      <td>0</td>\n",
       "    </tr>\n",
       "    <tr>\n",
       "      <td>680841671</td>\n",
       "      <td>0</td>\n",
       "      <td>0</td>\n",
       "      <td>0</td>\n",
       "      <td>0</td>\n",
       "      <td>0</td>\n",
       "      <td>0</td>\n",
       "      <td>0</td>\n",
       "      <td>0</td>\n",
       "      <td>0</td>\n",
       "      <td>0</td>\n",
       "      <td>...</td>\n",
       "      <td>0</td>\n",
       "      <td>0</td>\n",
       "      <td>0</td>\n",
       "      <td>0</td>\n",
       "      <td>0</td>\n",
       "      <td>0</td>\n",
       "      <td>0</td>\n",
       "      <td>0</td>\n",
       "      <td>0</td>\n",
       "      <td>0</td>\n",
       "    </tr>\n",
       "    <tr>\n",
       "      <td>680827130</td>\n",
       "      <td>0</td>\n",
       "      <td>0</td>\n",
       "      <td>0</td>\n",
       "      <td>0</td>\n",
       "      <td>0</td>\n",
       "      <td>0</td>\n",
       "      <td>0</td>\n",
       "      <td>0</td>\n",
       "      <td>0</td>\n",
       "      <td>0</td>\n",
       "      <td>...</td>\n",
       "      <td>0</td>\n",
       "      <td>0</td>\n",
       "      <td>0</td>\n",
       "      <td>0</td>\n",
       "      <td>0</td>\n",
       "      <td>0</td>\n",
       "      <td>0</td>\n",
       "      <td>0</td>\n",
       "      <td>0</td>\n",
       "      <td>0</td>\n",
       "    </tr>\n",
       "    <tr>\n",
       "      <td>680805162</td>\n",
       "      <td>0</td>\n",
       "      <td>0</td>\n",
       "      <td>0</td>\n",
       "      <td>0</td>\n",
       "      <td>0</td>\n",
       "      <td>0</td>\n",
       "      <td>0</td>\n",
       "      <td>0</td>\n",
       "      <td>0</td>\n",
       "      <td>0</td>\n",
       "      <td>...</td>\n",
       "      <td>0</td>\n",
       "      <td>0</td>\n",
       "      <td>0</td>\n",
       "      <td>0</td>\n",
       "      <td>0</td>\n",
       "      <td>0</td>\n",
       "      <td>0</td>\n",
       "      <td>1</td>\n",
       "      <td>1</td>\n",
       "      <td>0</td>\n",
       "    </tr>\n",
       "    <tr>\n",
       "      <td>...</td>\n",
       "      <td>...</td>\n",
       "      <td>...</td>\n",
       "      <td>...</td>\n",
       "      <td>...</td>\n",
       "      <td>...</td>\n",
       "      <td>...</td>\n",
       "      <td>...</td>\n",
       "      <td>...</td>\n",
       "      <td>...</td>\n",
       "      <td>...</td>\n",
       "      <td>...</td>\n",
       "      <td>...</td>\n",
       "      <td>...</td>\n",
       "      <td>...</td>\n",
       "      <td>...</td>\n",
       "      <td>...</td>\n",
       "      <td>...</td>\n",
       "      <td>...</td>\n",
       "      <td>...</td>\n",
       "      <td>...</td>\n",
       "      <td>...</td>\n",
       "    </tr>\n",
       "    <tr>\n",
       "      <td>23083082</td>\n",
       "      <td>0</td>\n",
       "      <td>0</td>\n",
       "      <td>0</td>\n",
       "      <td>0</td>\n",
       "      <td>0</td>\n",
       "      <td>0</td>\n",
       "      <td>0</td>\n",
       "      <td>0</td>\n",
       "      <td>0</td>\n",
       "      <td>0</td>\n",
       "      <td>...</td>\n",
       "      <td>0</td>\n",
       "      <td>0</td>\n",
       "      <td>0</td>\n",
       "      <td>0</td>\n",
       "      <td>0</td>\n",
       "      <td>0</td>\n",
       "      <td>0</td>\n",
       "      <td>0</td>\n",
       "      <td>0</td>\n",
       "      <td>0</td>\n",
       "    </tr>\n",
       "    <tr>\n",
       "      <td>20864348</td>\n",
       "      <td>0</td>\n",
       "      <td>0</td>\n",
       "      <td>0</td>\n",
       "      <td>0</td>\n",
       "      <td>0</td>\n",
       "      <td>0</td>\n",
       "      <td>0</td>\n",
       "      <td>0</td>\n",
       "      <td>0</td>\n",
       "      <td>0</td>\n",
       "      <td>...</td>\n",
       "      <td>0</td>\n",
       "      <td>0</td>\n",
       "      <td>0</td>\n",
       "      <td>0</td>\n",
       "      <td>0</td>\n",
       "      <td>0</td>\n",
       "      <td>0</td>\n",
       "      <td>0</td>\n",
       "      <td>0</td>\n",
       "      <td>0</td>\n",
       "    </tr>\n",
       "    <tr>\n",
       "      <td>20743479</td>\n",
       "      <td>0</td>\n",
       "      <td>0</td>\n",
       "      <td>0</td>\n",
       "      <td>0</td>\n",
       "      <td>0</td>\n",
       "      <td>0</td>\n",
       "      <td>0</td>\n",
       "      <td>0</td>\n",
       "      <td>1</td>\n",
       "      <td>0</td>\n",
       "      <td>...</td>\n",
       "      <td>0</td>\n",
       "      <td>0</td>\n",
       "      <td>0</td>\n",
       "      <td>0</td>\n",
       "      <td>0</td>\n",
       "      <td>0</td>\n",
       "      <td>0</td>\n",
       "      <td>0</td>\n",
       "      <td>0</td>\n",
       "      <td>0</td>\n",
       "    </tr>\n",
       "    <tr>\n",
       "      <td>12899202</td>\n",
       "      <td>0</td>\n",
       "      <td>0</td>\n",
       "      <td>0</td>\n",
       "      <td>0</td>\n",
       "      <td>0</td>\n",
       "      <td>0</td>\n",
       "      <td>0</td>\n",
       "      <td>0</td>\n",
       "      <td>0</td>\n",
       "      <td>0</td>\n",
       "      <td>...</td>\n",
       "      <td>0</td>\n",
       "      <td>0</td>\n",
       "      <td>0</td>\n",
       "      <td>0</td>\n",
       "      <td>0</td>\n",
       "      <td>0</td>\n",
       "      <td>0</td>\n",
       "      <td>0</td>\n",
       "      <td>0</td>\n",
       "      <td>0</td>\n",
       "    </tr>\n",
       "    <tr>\n",
       "      <td>1400233</td>\n",
       "      <td>0</td>\n",
       "      <td>0</td>\n",
       "      <td>0</td>\n",
       "      <td>0</td>\n",
       "      <td>0</td>\n",
       "      <td>0</td>\n",
       "      <td>0</td>\n",
       "      <td>0</td>\n",
       "      <td>0</td>\n",
       "      <td>0</td>\n",
       "      <td>...</td>\n",
       "      <td>0</td>\n",
       "      <td>0</td>\n",
       "      <td>0</td>\n",
       "      <td>0</td>\n",
       "      <td>0</td>\n",
       "      <td>0</td>\n",
       "      <td>0</td>\n",
       "      <td>0</td>\n",
       "      <td>0</td>\n",
       "      <td>0</td>\n",
       "    </tr>\n",
       "  </tbody>\n",
       "</table>\n",
       "<p>61103 rows × 438 columns</p>\n",
       "</div>"
      ],
      "text/plain": [
       "           :Analytics/Aggregations  :Analytics/Geo  :Analytics/Graph  \\\n",
       "id                                                                     \n",
       "681010786                        0               0                 0   \n",
       "681010233                        0               0                 0   \n",
       "680841671                        0               0                 0   \n",
       "680827130                        0               0                 0   \n",
       "680805162                        0               0                 0   \n",
       "...                            ...             ...               ...   \n",
       "23083082                         0               0                 0   \n",
       "20864348                         0               0                 0   \n",
       "20743479                         0               0                 0   \n",
       "12899202                         0               0                 0   \n",
       "1400233                          0               0                 0   \n",
       "\n",
       "           :Analytics/Rollup  :Core/Features/CAT APIs  \\\n",
       "id                                                      \n",
       "681010786                  0                        0   \n",
       "681010233                  0                        0   \n",
       "680841671                  0                        0   \n",
       "680827130                  0                        0   \n",
       "680805162                  0                        0   \n",
       "...                      ...                      ...   \n",
       "23083082                   0                        0   \n",
       "20864348                   0                        0   \n",
       "20743479                   0                        0   \n",
       "12899202                   0                        0   \n",
       "1400233                    0                        0   \n",
       "\n",
       "           :Core/Features/Data streams  :Core/Features/Features  \\\n",
       "id                                                                \n",
       "681010786                            0                        0   \n",
       "681010233                            0                        0   \n",
       "680841671                            0                        0   \n",
       "680827130                            0                        0   \n",
       "680805162                            0                        0   \n",
       "...                                ...                      ...   \n",
       "23083082                             0                        0   \n",
       "20864348                             0                        0   \n",
       "20743479                             0                        0   \n",
       "12899202                             0                        0   \n",
       "1400233                              0                        0   \n",
       "\n",
       "           :Core/Features/ILM+SLM  :Core/Features/Indices APIs  \\\n",
       "id                                                               \n",
       "681010786                       0                            0   \n",
       "681010233                       0                            0   \n",
       "680841671                       0                            0   \n",
       "680827130                       0                            0   \n",
       "680805162                       0                            0   \n",
       "...                           ...                          ...   \n",
       "23083082                        0                            0   \n",
       "20864348                        0                            0   \n",
       "20743479                        0                            1   \n",
       "12899202                        0                            0   \n",
       "1400233                         0                            0   \n",
       "\n",
       "           :Core/Features/Ingest  ...  v7.7.0  v7.7.1  v7.7.2  v7.8.0  v7.8.1  \\\n",
       "id                                ...                                           \n",
       "681010786                      0  ...       0       0       0       0       0   \n",
       "681010233                      0  ...       0       0       0       0       0   \n",
       "680841671                      0  ...       0       0       0       0       0   \n",
       "680827130                      0  ...       0       0       0       0       0   \n",
       "680805162                      0  ...       0       0       0       0       0   \n",
       "...                          ...  ...     ...     ...     ...     ...     ...   \n",
       "23083082                       0  ...       0       0       0       0       0   \n",
       "20864348                       0  ...       0       0       0       0       0   \n",
       "20743479                       0  ...       0       0       0       0       0   \n",
       "12899202                       0  ...       0       0       0       0       0   \n",
       "1400233                        0  ...       0       0       0       0       0   \n",
       "\n",
       "           v7.8.2  v7.9.0  v7.9.1  v8.0.0  won't fix  \n",
       "id                                                    \n",
       "681010786       0       0       1       0          0  \n",
       "681010233       0       0       0       0          0  \n",
       "680841671       0       0       0       0          0  \n",
       "680827130       0       0       0       0          0  \n",
       "680805162       0       0       1       1          0  \n",
       "...           ...     ...     ...     ...        ...  \n",
       "23083082        0       0       0       0          0  \n",
       "20864348        0       0       0       0          0  \n",
       "20743479        0       0       0       0          0  \n",
       "12899202        0       0       0       0          0  \n",
       "1400233         0       0       0       0          0  \n",
       "\n",
       "[61103 rows x 438 columns]"
      ]
     },
     "execution_count": 433,
     "metadata": {},
     "output_type": "execute_result"
    }
   ],
   "source": [
    "ilac = pd.read_csv(\"issue_labels_as_columns.csv\", index_col=0)\n",
    "ilac"
   ]
  },
  {
   "cell_type": "markdown",
   "metadata": {},
   "source": [
    "### Tags"
   ]
  },
  {
   "cell_type": "code",
   "execution_count": 537,
   "metadata": {
    "scrolled": true
   },
   "outputs": [
    {
     "data": {
      "text/html": [
       "<div>\n",
       "<style scoped>\n",
       "    .dataframe tbody tr th:only-of-type {\n",
       "        vertical-align: middle;\n",
       "    }\n",
       "\n",
       "    .dataframe tbody tr th {\n",
       "        vertical-align: top;\n",
       "    }\n",
       "\n",
       "    .dataframe thead th {\n",
       "        text-align: right;\n",
       "    }\n",
       "</style>\n",
       "<table border=\"1\" class=\"dataframe\">\n",
       "  <thead>\n",
       "    <tr style=\"text-align: right;\">\n",
       "      <th></th>\n",
       "      <th>Tag</th>\n",
       "      <th>Sha</th>\n",
       "      <th>Date</th>\n",
       "    </tr>\n",
       "  </thead>\n",
       "  <tbody>\n",
       "    <tr>\n",
       "      <td>0</td>\n",
       "      <td>v7.9.0</td>\n",
       "      <td>a479a2a7fce0389512d6a9361301708b92dff667</td>\n",
       "      <td>2020-08-11 16:42:47</td>\n",
       "    </tr>\n",
       "    <tr>\n",
       "      <td>1</td>\n",
       "      <td>v7.8.1</td>\n",
       "      <td>b5ca9c58fb664ca8bf9e4057fc229b3396bf3a89</td>\n",
       "      <td>2020-07-21 12:13:59</td>\n",
       "    </tr>\n",
       "    <tr>\n",
       "      <td>2</td>\n",
       "      <td>v7.8.0</td>\n",
       "      <td>757314695644ea9a1dc2fecd26d1a43856725e65</td>\n",
       "      <td>2020-06-12 22:39:07</td>\n",
       "    </tr>\n",
       "    <tr>\n",
       "      <td>3</td>\n",
       "      <td>v7.7.1</td>\n",
       "      <td>ad56dce891c901a492bb1ee393f12dfff473a423</td>\n",
       "      <td>2020-05-28 13:52:12</td>\n",
       "    </tr>\n",
       "    <tr>\n",
       "      <td>4</td>\n",
       "      <td>v7.7.0</td>\n",
       "      <td>81a1e9eda8e6183f5237786246f6dced26a10eaf</td>\n",
       "      <td>2020-05-08 23:11:19</td>\n",
       "    </tr>\n",
       "  </tbody>\n",
       "</table>\n",
       "</div>"
      ],
      "text/plain": [
       "      Tag                                       Sha                 Date\n",
       "0  v7.9.0  a479a2a7fce0389512d6a9361301708b92dff667  2020-08-11 16:42:47\n",
       "1  v7.8.1  b5ca9c58fb664ca8bf9e4057fc229b3396bf3a89  2020-07-21 12:13:59\n",
       "2  v7.8.0  757314695644ea9a1dc2fecd26d1a43856725e65  2020-06-12 22:39:07\n",
       "3  v7.7.1  ad56dce891c901a492bb1ee393f12dfff473a423  2020-05-28 13:52:12\n",
       "4  v7.7.0  81a1e9eda8e6183f5237786246f6dced26a10eaf  2020-05-08 23:11:19"
      ]
     },
     "execution_count": 537,
     "metadata": {},
     "output_type": "execute_result"
    }
   ],
   "source": [
    "tags = pd.read_csv(\"./tags.csv\", index_col=0)\n",
    "tags.head()"
   ]
  },
  {
   "cell_type": "code",
   "execution_count": 435,
   "metadata": {},
   "outputs": [
    {
     "data": {
      "text/plain": [
       "280"
      ]
     },
     "execution_count": 435,
     "metadata": {},
     "output_type": "execute_result"
    }
   ],
   "source": [
    "len(tags)"
   ]
  },
  {
   "cell_type": "markdown",
   "metadata": {},
   "source": [
    "### Tags and issues count"
   ]
  },
  {
   "cell_type": "code",
   "execution_count": 436,
   "metadata": {},
   "outputs": [],
   "source": [
    "# format data\n",
    "tic = []\n",
    "for index, tag in tags.iterrows():\n",
    "    tic.append((tag.Tag, len(ilpr[ilpr[\"label\"]==tag.Tag].id.unique())))"
   ]
  },
  {
   "cell_type": "code",
   "execution_count": 437,
   "metadata": {},
   "outputs": [
    {
     "data": {
      "text/html": [
       "<div>\n",
       "<style scoped>\n",
       "    .dataframe tbody tr th:only-of-type {\n",
       "        vertical-align: middle;\n",
       "    }\n",
       "\n",
       "    .dataframe tbody tr th {\n",
       "        vertical-align: top;\n",
       "    }\n",
       "\n",
       "    .dataframe thead th {\n",
       "        text-align: right;\n",
       "    }\n",
       "</style>\n",
       "<table border=\"1\" class=\"dataframe\">\n",
       "  <thead>\n",
       "    <tr style=\"text-align: right;\">\n",
       "      <th></th>\n",
       "      <th>Tag</th>\n",
       "      <th>Issues</th>\n",
       "    </tr>\n",
       "  </thead>\n",
       "  <tbody>\n",
       "    <tr>\n",
       "      <td>0</td>\n",
       "      <td>v7.9.0</td>\n",
       "      <td>1553</td>\n",
       "    </tr>\n",
       "    <tr>\n",
       "      <td>1</td>\n",
       "      <td>v7.8.1</td>\n",
       "      <td>409</td>\n",
       "    </tr>\n",
       "    <tr>\n",
       "      <td>2</td>\n",
       "      <td>v7.8.0</td>\n",
       "      <td>986</td>\n",
       "    </tr>\n",
       "    <tr>\n",
       "      <td>3</td>\n",
       "      <td>v7.7.1</td>\n",
       "      <td>346</td>\n",
       "    </tr>\n",
       "    <tr>\n",
       "      <td>4</td>\n",
       "      <td>v7.7.0</td>\n",
       "      <td>1331</td>\n",
       "    </tr>\n",
       "    <tr>\n",
       "      <td>...</td>\n",
       "      <td>...</td>\n",
       "      <td>...</td>\n",
       "    </tr>\n",
       "    <tr>\n",
       "      <td>275</td>\n",
       "      <td>v0.7.0</td>\n",
       "      <td>0</td>\n",
       "    </tr>\n",
       "    <tr>\n",
       "      <td>276</td>\n",
       "      <td>v0.6.0</td>\n",
       "      <td>0</td>\n",
       "    </tr>\n",
       "    <tr>\n",
       "      <td>277</td>\n",
       "      <td>v0.5.1</td>\n",
       "      <td>0</td>\n",
       "    </tr>\n",
       "    <tr>\n",
       "      <td>278</td>\n",
       "      <td>v0.5.0</td>\n",
       "      <td>0</td>\n",
       "    </tr>\n",
       "    <tr>\n",
       "      <td>279</td>\n",
       "      <td>v0.4.0</td>\n",
       "      <td>0</td>\n",
       "    </tr>\n",
       "  </tbody>\n",
       "</table>\n",
       "<p>280 rows × 2 columns</p>\n",
       "</div>"
      ],
      "text/plain": [
       "        Tag  Issues\n",
       "0    v7.9.0    1553\n",
       "1    v7.8.1     409\n",
       "2    v7.8.0     986\n",
       "3    v7.7.1     346\n",
       "4    v7.7.0    1331\n",
       "..      ...     ...\n",
       "275  v0.7.0       0\n",
       "276  v0.6.0       0\n",
       "277  v0.5.1       0\n",
       "278  v0.5.0       0\n",
       "279  v0.4.0       0\n",
       "\n",
       "[280 rows x 2 columns]"
      ]
     },
     "execution_count": 437,
     "metadata": {},
     "output_type": "execute_result"
    }
   ],
   "source": [
    "# create a dataframe for easy manipulation\n",
    "tagsIssueCountDf = pd.DataFrame(tic, columns=[\"Tag\", \"Issues\"])\n",
    "tagsIssueCountDf"
   ]
  },
  {
   "cell_type": "markdown",
   "metadata": {},
   "source": [
    "## Analysis\n",
    "* Quantify the number of issues and the its statistics over tags (mean, median, outliers)"
   ]
  },
  {
   "cell_type": "markdown",
   "metadata": {},
   "source": [
    "### Issues"
   ]
  },
  {
   "cell_type": "code",
   "execution_count": 438,
   "metadata": {},
   "outputs": [
    {
     "data": {
      "text/plain": [
       "61103"
      ]
     },
     "execution_count": 438,
     "metadata": {},
     "output_type": "execute_result"
    }
   ],
   "source": [
    "len(ilac)"
   ]
  },
  {
   "cell_type": "markdown",
   "metadata": {},
   "source": [
    "We have in total 61103 issues"
   ]
  },
  {
   "cell_type": "markdown",
   "metadata": {},
   "source": [
    "### Labels"
   ]
  },
  {
   "cell_type": "code",
   "execution_count": 439,
   "metadata": {},
   "outputs": [
    {
     "data": {
      "text/plain": [
       "438"
      ]
     },
     "execution_count": 439,
     "metadata": {},
     "output_type": "execute_result"
    }
   ],
   "source": [
    "len(issues_labels)"
   ]
  },
  {
   "cell_type": "markdown",
   "metadata": {},
   "source": [
    "#### Type of labels\n",
    "We were not able to find documentation for the type and convention for issue labels.\n",
    "By exploring the labels however, we identified some patterns which may help us focus our analysis.\n",
    "\n",
    "* **Sw versions** Labels representing specific sw versions have the format \"vX.Y.Z\"\n",
    "* **Major categories** These labels start with the sign \">\"\n",
    "* **Specific topics** Thes labels start with the sign \":\"\n",
    "\n",
    "We believe there is a hierarchy in labelling issues as follows: Major category -> topic"
   ]
  },
  {
   "cell_type": "markdown",
   "metadata": {},
   "source": [
    "#### Topics"
   ]
  },
  {
   "cell_type": "code",
   "execution_count": 440,
   "metadata": {},
   "outputs": [
    {
     "data": {
      "text/plain": [
       "array([':Analytics/Aggregations', ':Analytics/Geo', ':Analytics/Graph',\n",
       "       ':Analytics/Rollup', ':Core/Features/CAT APIs',\n",
       "       ':Core/Features/Data streams', ':Core/Features/Features',\n",
       "       ':Core/Features/ILM+SLM', ':Core/Features/Indices APIs',\n",
       "       ':Core/Features/Ingest',\n",
       "       ':Core/Features/Java High Level REST Client',\n",
       "       ':Core/Features/Java Low Level REST Client',\n",
       "       ':Core/Features/Monitoring', ':Core/Features/Stats',\n",
       "       ':Core/Features/Watcher', ':Core/Infra/Build',\n",
       "       ':Core/Infra/Circuit Breakers', ':Core/Infra/Core',\n",
       "       ':Core/Infra/Logging', ':Core/Infra/Packaging',\n",
       "       ':Core/Infra/Plugins', ':Core/Infra/REST API',\n",
       "       ':Core/Infra/Resiliency', ':Core/Infra/Scripting',\n",
       "       ':Core/Infra/Settings', ':Core/Infra/Transport API',\n",
       "       ':Distributed/Allocation', ':Distributed/Autoscaling',\n",
       "       ':Distributed/CCR', ':Distributed/CRUD',\n",
       "       ':Distributed/Cluster Coordination',\n",
       "       ':Distributed/Discovery-Plugins', ':Distributed/Distributed',\n",
       "       ':Distributed/Engine', ':Distributed/Network',\n",
       "       ':Distributed/Recovery', ':Distributed/Reindex',\n",
       "       ':Distributed/Snapshot/Restore', ':Distributed/Store',\n",
       "       ':Distributed/Task Management', ':Docs', ':Performance',\n",
       "       ':Query Languages/EQL', ':Query Languages/SQL', ':Search/Analysis',\n",
       "       ':Search/Highlighting', ':Search/Mapping', ':Search/Percolator',\n",
       "       ':Search/Ranking', ':Search/Search', ':Search/Suggesters',\n",
       "       ':Security/Audit', ':Security/Authentication',\n",
       "       ':Security/Authorization', ':Security/Client',\n",
       "       ':Security/IdentityProvider', ':Security/License',\n",
       "       ':Security/Network', ':Security/Security', ':ml', ':ml/Transform'],\n",
       "      dtype=object)"
      ]
     },
     "execution_count": 440,
     "metadata": {},
     "output_type": "execute_result"
    }
   ],
   "source": [
    "topic_labels = issues_labels[(issues_labels.str.startswith(\":\"))]\n",
    "topic_labels.unique()"
   ]
  },
  {
   "cell_type": "markdown",
   "metadata": {},
   "source": [
    "#### Categories"
   ]
  },
  {
   "cell_type": "code",
   "execution_count": 441,
   "metadata": {
    "scrolled": false
   },
   "outputs": [
    {
     "data": {
      "text/plain": [
       "array(['>breaking', '>breaking-java', '>bug', '>deprecation', '>docs',\n",
       "       '>enhancement', '>feature', '>non-issue', '>refactoring',\n",
       "       '>regression', '>test', '>test-failure', '>test-mute', '>upgrade'],\n",
       "      dtype=object)"
      ]
     },
     "execution_count": 441,
     "metadata": {},
     "output_type": "execute_result"
    }
   ],
   "source": [
    "category_labels = issues_labels[(issues_labels.str.startswith(\">\"))]\n",
    "category_labels.unique()"
   ]
  },
  {
   "cell_type": "markdown",
   "metadata": {},
   "source": [
    "#### All labels which do not represent versions"
   ]
  },
  {
   "cell_type": "code",
   "execution_count": 442,
   "metadata": {
    "scrolled": true
   },
   "outputs": [
    {
     "data": {
      "text/plain": [
       "count                      120\n",
       "unique                     120\n",
       "top       :Query Languages/EQL\n",
       "freq                         1\n",
       "Name: 1, dtype: object"
      ]
     },
     "execution_count": 442,
     "metadata": {},
     "output_type": "execute_result"
    }
   ],
   "source": [
    "labels_no_version = issues_labels[~(issues_labels.str.startswith(\"v\"))]\n",
    "labels_no_version.describe()"
   ]
  },
  {
   "cell_type": "markdown",
   "metadata": {},
   "source": [
    "#### Labels which are neither tags, topics or categories"
   ]
  },
  {
   "cell_type": "code",
   "execution_count": 443,
   "metadata": {},
   "outputs": [
    {
     "data": {
      "text/plain": [
       "0\n",
       "75                Awaiting CLA\n",
       "76         Dependency:Endpoint\n",
       "77             Dependency:SIEM\n",
       "78                        Meta\n",
       "79                        PITA\n",
       "80             Pioneer Program\n",
       "81     Pretty Bloody Important\n",
       "82              Team:Analytics\n",
       "83                Team:Clients\n",
       "84          Team:Core/Features\n",
       "85             Team:Core/Infra\n",
       "86            Team:Distributed\n",
       "87                   Team:Docs\n",
       "88                     Team:ML\n",
       "89            Team:Performance\n",
       "90                     Team:QL\n",
       "91                 Team:Search\n",
       "92               Team:Security\n",
       "93                     Team:UI\n",
       "94                     Top Ask\n",
       "95                         WIP\n",
       "96                [>test-mute]\n",
       "97                    backport\n",
       "98            backport pending\n",
       "99                     blocker\n",
       "100                   critical\n",
       "101                das awesome\n",
       "102                    discuss\n",
       "103          experimental/beta\n",
       "104            feedback_needed\n",
       "105           good first issue\n",
       "106                help wanted\n",
       "107         high hanging fruit\n",
       "108                      jdk10\n",
       "109                      jdk11\n",
       "110                      jdk12\n",
       "111                       jdk9\n",
       "112                    jvm bug\n",
       "113               needs:triage\n",
       "114          release highlight\n",
       "115                 resiliency\n",
       "116                    stalled\n",
       "117               team-discuss\n",
       "118              test-forwards\n",
       "437                  won't fix\n",
       "Name: 1, dtype: object"
      ]
     },
     "execution_count": 443,
     "metadata": {},
     "output_type": "execute_result"
    }
   ],
   "source": [
    "left_out_labels = issues_labels[~(issues_labels.str.startswith(\"v\")) &\n",
    "                               ~(issues_labels.isin(category_labels)) &\n",
    "                               ~(issues_labels.isin(topic_labels))]\n",
    "left_out_labels"
   ]
  },
  {
   "cell_type": "markdown",
   "metadata": {},
   "source": [
    "#### Quantify overlapping of the same label groups"
   ]
  },
  {
   "cell_type": "code",
   "execution_count": 444,
   "metadata": {},
   "outputs": [
    {
     "data": {
      "text/plain": [
       "label    0.039191\n",
       "dtype: float64"
      ]
     },
     "execution_count": 444,
     "metadata": {},
     "output_type": "execute_result"
    }
   ],
   "source": [
    "(ilpr[ilpr.label.isin(category_labels)].groupby(\"id\").count() > 1).sum() / len(ilpr.id.unique())"
   ]
  },
  {
   "cell_type": "code",
   "execution_count": 445,
   "metadata": {},
   "outputs": [
    {
     "data": {
      "text/plain": [
       "label    0.029571\n",
       "dtype: float64"
      ]
     },
     "execution_count": 445,
     "metadata": {},
     "output_type": "execute_result"
    }
   ],
   "source": [
    "(ilpr[ilpr.label.isin(topic_labels)].groupby(\"id\").count() > 1).sum() / len(ilpr.id.unique())"
   ]
  },
  {
   "cell_type": "markdown",
   "metadata": {},
   "source": [
    "Indeed only the 3% and 4% have two labels of the same group"
   ]
  },
  {
   "cell_type": "markdown",
   "metadata": {},
   "source": [
    "**Observations**\n",
    "* Our intuition regarding the convention for labels seems to hold\n",
    "* The labels \"left out\" from the convention indeed seem to be internal labels, used to assign issues to some specific teams (Team:) or specify even further the specific issue type (jdk)\n",
    "* We quantified how many issues have more than one label of the same group and this resulted in a very low number (3% and 4%). The overlapping is of course allowed and in some cases needed, but this low number confirms our intuition on the convention since in 97% of the cases only one label per group is used\n",
    "* Given the high number of labels and the low overlap of the ones in the same group, it seems to make sense to analyze these macro groups separately"
   ]
  },
  {
   "cell_type": "markdown",
   "metadata": {},
   "source": [
    "### Tags and issues"
   ]
  },
  {
   "cell_type": "code",
   "execution_count": 446,
   "metadata": {
    "scrolled": false
   },
   "outputs": [
    {
     "data": {
      "text/html": [
       "<div>\n",
       "<style scoped>\n",
       "    .dataframe tbody tr th:only-of-type {\n",
       "        vertical-align: middle;\n",
       "    }\n",
       "\n",
       "    .dataframe tbody tr th {\n",
       "        vertical-align: top;\n",
       "    }\n",
       "\n",
       "    .dataframe thead th {\n",
       "        text-align: right;\n",
       "    }\n",
       "</style>\n",
       "<table border=\"1\" class=\"dataframe\">\n",
       "  <thead>\n",
       "    <tr style=\"text-align: right;\">\n",
       "      <th></th>\n",
       "      <th>Issues</th>\n",
       "    </tr>\n",
       "  </thead>\n",
       "  <tbody>\n",
       "    <tr>\n",
       "      <td>count</td>\n",
       "      <td>280.000000</td>\n",
       "    </tr>\n",
       "    <tr>\n",
       "      <td>mean</td>\n",
       "      <td>163.996429</td>\n",
       "    </tr>\n",
       "    <tr>\n",
       "      <td>std</td>\n",
       "      <td>478.836250</td>\n",
       "    </tr>\n",
       "    <tr>\n",
       "      <td>min</td>\n",
       "      <td>0.000000</td>\n",
       "    </tr>\n",
       "    <tr>\n",
       "      <td>25%</td>\n",
       "      <td>13.000000</td>\n",
       "    </tr>\n",
       "    <tr>\n",
       "      <td>50%</td>\n",
       "      <td>32.000000</td>\n",
       "    </tr>\n",
       "    <tr>\n",
       "      <td>75%</td>\n",
       "      <td>90.000000</td>\n",
       "    </tr>\n",
       "    <tr>\n",
       "      <td>max</td>\n",
       "      <td>5707.000000</td>\n",
       "    </tr>\n",
       "  </tbody>\n",
       "</table>\n",
       "</div>"
      ],
      "text/plain": [
       "            Issues\n",
       "count   280.000000\n",
       "mean    163.996429\n",
       "std     478.836250\n",
       "min       0.000000\n",
       "25%      13.000000\n",
       "50%      32.000000\n",
       "75%      90.000000\n",
       "max    5707.000000"
      ]
     },
     "execution_count": 446,
     "metadata": {},
     "output_type": "execute_result"
    }
   ],
   "source": [
    "tagsIssueCountDf.describe()"
   ]
  },
  {
   "cell_type": "markdown",
   "metadata": {},
   "source": [
    "The percentiles (75th is 90) are low compared to the mean (163). This indicates the presence of outliers which influence the mean. Indeed the max value is very high with 5707 and we have a large standard deviation.\n",
    "\n",
    "Let's plot these in a box plot to confirm our intuition"
   ]
  },
  {
   "cell_type": "code",
   "execution_count": 638,
   "metadata": {
    "scrolled": true
   },
   "outputs": [
    {
     "data": {
      "text/plain": [
       "<matplotlib.axes._subplots.AxesSubplot at 0x7fd3f6582950>"
      ]
     },
     "execution_count": 638,
     "metadata": {},
     "output_type": "execute_result"
    },
    {
     "data": {
      "image/png": "[encoded data removed]",
      "text/plain": [
       "<Figure size 1080x360 with 1 Axes>"
      ]
     },
     "metadata": {
      "needs_background": "light"
     },
     "output_type": "display_data"
    }
   ],
   "source": [
    "plt.figure(figsize=(15,5))\n",
    "sns.boxplot(tagsIssueCountDf.Issues)"
   ]
  },
  {
   "cell_type": "code",
   "execution_count": 448,
   "metadata": {},
   "outputs": [
    {
     "data": {
      "text/plain": [
       "45"
      ]
     },
     "execution_count": 448,
     "metadata": {},
     "output_type": "execute_result"
    }
   ],
   "source": [
    "from matplotlib.cbook import boxplot_stats\n",
    "outliers = [y for stat in boxplot_stats(tagsIssueCountDf.Issues) for y in stat['fliers']]\n",
    "len(outliers)"
   ]
  },
  {
   "cell_type": "markdown",
   "metadata": {},
   "source": [
    "The box plots confirms the presence of outlier. There are 45 of them. It means that there are 45 tags with many issues compared to most of the tags which have a mean around 163 and a median of 32. These could be possibly very defected releases. Among these v7.0.0-beta1 results the tag with most issues."
   ]
  },
  {
   "cell_type": "code",
   "execution_count": 449,
   "metadata": {},
   "outputs": [
    {
     "data": {
      "text/html": [
       "<div>\n",
       "<style scoped>\n",
       "    .dataframe tbody tr th:only-of-type {\n",
       "        vertical-align: middle;\n",
       "    }\n",
       "\n",
       "    .dataframe tbody tr th {\n",
       "        vertical-align: top;\n",
       "    }\n",
       "\n",
       "    .dataframe thead th {\n",
       "        text-align: right;\n",
       "    }\n",
       "</style>\n",
       "<table border=\"1\" class=\"dataframe\">\n",
       "  <thead>\n",
       "    <tr style=\"text-align: right;\">\n",
       "      <th></th>\n",
       "      <th>Tag</th>\n",
       "      <th>Issues</th>\n",
       "    </tr>\n",
       "  </thead>\n",
       "  <tbody>\n",
       "    <tr>\n",
       "      <td>25</td>\n",
       "      <td>v7.0.0-beta1</td>\n",
       "      <td>5707</td>\n",
       "    </tr>\n",
       "    <tr>\n",
       "      <td>145</td>\n",
       "      <td>v2.0.0-beta1</td>\n",
       "      <td>3311</td>\n",
       "    </tr>\n",
       "    <tr>\n",
       "      <td>18</td>\n",
       "      <td>v7.2.0</td>\n",
       "      <td>1806</td>\n",
       "    </tr>\n",
       "    <tr>\n",
       "      <td>0</td>\n",
       "      <td>v7.9.0</td>\n",
       "      <td>1553</td>\n",
       "    </tr>\n",
       "    <tr>\n",
       "      <td>76</td>\n",
       "      <td>v6.0.0-alpha1</td>\n",
       "      <td>1525</td>\n",
       "    </tr>\n",
       "    <tr>\n",
       "      <td>120</td>\n",
       "      <td>v5.0.0-alpha1</td>\n",
       "      <td>1441</td>\n",
       "    </tr>\n",
       "    <tr>\n",
       "      <td>7</td>\n",
       "      <td>v7.6.0</td>\n",
       "      <td>1358</td>\n",
       "    </tr>\n",
       "    <tr>\n",
       "      <td>4</td>\n",
       "      <td>v7.7.0</td>\n",
       "      <td>1331</td>\n",
       "    </tr>\n",
       "    <tr>\n",
       "      <td>13</td>\n",
       "      <td>v7.4.0</td>\n",
       "      <td>1267</td>\n",
       "    </tr>\n",
       "    <tr>\n",
       "      <td>51</td>\n",
       "      <td>v6.5.0</td>\n",
       "      <td>1193</td>\n",
       "    </tr>\n",
       "    <tr>\n",
       "      <td>10</td>\n",
       "      <td>v7.5.0</td>\n",
       "      <td>1113</td>\n",
       "    </tr>\n",
       "    <tr>\n",
       "      <td>55</td>\n",
       "      <td>v6.4.0</td>\n",
       "      <td>1095</td>\n",
       "    </tr>\n",
       "    <tr>\n",
       "      <td>43</td>\n",
       "      <td>v6.7.0</td>\n",
       "      <td>1071</td>\n",
       "    </tr>\n",
       "    <tr>\n",
       "      <td>2</td>\n",
       "      <td>v7.8.0</td>\n",
       "      <td>986</td>\n",
       "    </tr>\n",
       "    <tr>\n",
       "      <td>16</td>\n",
       "      <td>v7.3.0</td>\n",
       "      <td>979</td>\n",
       "    </tr>\n",
       "    <tr>\n",
       "      <td>46</td>\n",
       "      <td>v6.6.0</td>\n",
       "      <td>969</td>\n",
       "    </tr>\n",
       "    <tr>\n",
       "      <td>58</td>\n",
       "      <td>v6.3.0</td>\n",
       "      <td>778</td>\n",
       "    </tr>\n",
       "    <tr>\n",
       "      <td>158</td>\n",
       "      <td>v1.5.0</td>\n",
       "      <td>664</td>\n",
       "    </tr>\n",
       "    <tr>\n",
       "      <td>74</td>\n",
       "      <td>v6.0.0-beta1</td>\n",
       "      <td>604</td>\n",
       "    </tr>\n",
       "    <tr>\n",
       "      <td>165</td>\n",
       "      <td>v1.4.0.Beta1</td>\n",
       "      <td>449</td>\n",
       "    </tr>\n",
       "    <tr>\n",
       "      <td>136</td>\n",
       "      <td>v2.2.0</td>\n",
       "      <td>435</td>\n",
       "    </tr>\n",
       "    <tr>\n",
       "      <td>1</td>\n",
       "      <td>v7.8.1</td>\n",
       "      <td>409</td>\n",
       "    </tr>\n",
       "    <tr>\n",
       "      <td>191</td>\n",
       "      <td>v1.0.0.Beta1</td>\n",
       "      <td>382</td>\n",
       "    </tr>\n",
       "    <tr>\n",
       "      <td>101</td>\n",
       "      <td>v5.4.0</td>\n",
       "      <td>362</td>\n",
       "    </tr>\n",
       "    <tr>\n",
       "      <td>63</td>\n",
       "      <td>v6.2.0</td>\n",
       "      <td>353</td>\n",
       "    </tr>\n",
       "    <tr>\n",
       "      <td>115</td>\n",
       "      <td>v5.0.0-beta1</td>\n",
       "      <td>346</td>\n",
       "    </tr>\n",
       "    <tr>\n",
       "      <td>3</td>\n",
       "      <td>v7.7.1</td>\n",
       "      <td>346</td>\n",
       "    </tr>\n",
       "    <tr>\n",
       "      <td>110</td>\n",
       "      <td>v5.1.1</td>\n",
       "      <td>343</td>\n",
       "    </tr>\n",
       "    <tr>\n",
       "      <td>180</td>\n",
       "      <td>v1.2.0</td>\n",
       "      <td>339</td>\n",
       "    </tr>\n",
       "    <tr>\n",
       "      <td>155</td>\n",
       "      <td>v1.6.0</td>\n",
       "      <td>336</td>\n",
       "    </tr>\n",
       "    <tr>\n",
       "      <td>116</td>\n",
       "      <td>v5.0.0-alpha5</td>\n",
       "      <td>332</td>\n",
       "    </tr>\n",
       "    <tr>\n",
       "      <td>97</td>\n",
       "      <td>v5.5.0</td>\n",
       "      <td>329</td>\n",
       "    </tr>\n",
       "    <tr>\n",
       "      <td>68</td>\n",
       "      <td>v6.1.0</td>\n",
       "      <td>325</td>\n",
       "    </tr>\n",
       "    <tr>\n",
       "      <td>118</td>\n",
       "      <td>v5.0.0-alpha3</td>\n",
       "      <td>310</td>\n",
       "    </tr>\n",
       "    <tr>\n",
       "      <td>108</td>\n",
       "      <td>v5.2.0</td>\n",
       "      <td>294</td>\n",
       "    </tr>\n",
       "    <tr>\n",
       "      <td>23</td>\n",
       "      <td>v7.0.0-rc2</td>\n",
       "      <td>282</td>\n",
       "    </tr>\n",
       "    <tr>\n",
       "      <td>93</td>\n",
       "      <td>v5.6.0</td>\n",
       "      <td>280</td>\n",
       "    </tr>\n",
       "    <tr>\n",
       "      <td>24</td>\n",
       "      <td>v7.0.0-rc1</td>\n",
       "      <td>266</td>\n",
       "    </tr>\n",
       "    <tr>\n",
       "      <td>183</td>\n",
       "      <td>v1.1.0</td>\n",
       "      <td>256</td>\n",
       "    </tr>\n",
       "    <tr>\n",
       "      <td>175</td>\n",
       "      <td>v1.3.0</td>\n",
       "      <td>255</td>\n",
       "    </tr>\n",
       "    <tr>\n",
       "      <td>117</td>\n",
       "      <td>v5.0.0-alpha4</td>\n",
       "      <td>240</td>\n",
       "    </tr>\n",
       "    <tr>\n",
       "      <td>119</td>\n",
       "      <td>v5.0.0-alpha2</td>\n",
       "      <td>238</td>\n",
       "    </tr>\n",
       "    <tr>\n",
       "      <td>139</td>\n",
       "      <td>v2.1.0</td>\n",
       "      <td>236</td>\n",
       "    </tr>\n",
       "    <tr>\n",
       "      <td>105</td>\n",
       "      <td>v5.3.0</td>\n",
       "      <td>236</td>\n",
       "    </tr>\n",
       "    <tr>\n",
       "      <td>133</td>\n",
       "      <td>v2.3.0</td>\n",
       "      <td>222</td>\n",
       "    </tr>\n",
       "  </tbody>\n",
       "</table>\n",
       "</div>"
      ],
      "text/plain": [
       "               Tag  Issues\n",
       "25    v7.0.0-beta1    5707\n",
       "145   v2.0.0-beta1    3311\n",
       "18          v7.2.0    1806\n",
       "0           v7.9.0    1553\n",
       "76   v6.0.0-alpha1    1525\n",
       "120  v5.0.0-alpha1    1441\n",
       "7           v7.6.0    1358\n",
       "4           v7.7.0    1331\n",
       "13          v7.4.0    1267\n",
       "51          v6.5.0    1193\n",
       "10          v7.5.0    1113\n",
       "55          v6.4.0    1095\n",
       "43          v6.7.0    1071\n",
       "2           v7.8.0     986\n",
       "16          v7.3.0     979\n",
       "46          v6.6.0     969\n",
       "58          v6.3.0     778\n",
       "158         v1.5.0     664\n",
       "74    v6.0.0-beta1     604\n",
       "165   v1.4.0.Beta1     449\n",
       "136         v2.2.0     435\n",
       "1           v7.8.1     409\n",
       "191   v1.0.0.Beta1     382\n",
       "101         v5.4.0     362\n",
       "63          v6.2.0     353\n",
       "115   v5.0.0-beta1     346\n",
       "3           v7.7.1     346\n",
       "110         v5.1.1     343\n",
       "180         v1.2.0     339\n",
       "155         v1.6.0     336\n",
       "116  v5.0.0-alpha5     332\n",
       "97          v5.5.0     329\n",
       "68          v6.1.0     325\n",
       "118  v5.0.0-alpha3     310\n",
       "108         v5.2.0     294\n",
       "23      v7.0.0-rc2     282\n",
       "93          v5.6.0     280\n",
       "24      v7.0.0-rc1     266\n",
       "183         v1.1.0     256\n",
       "175         v1.3.0     255\n",
       "117  v5.0.0-alpha4     240\n",
       "119  v5.0.0-alpha2     238\n",
       "139         v2.1.0     236\n",
       "105         v5.3.0     236\n",
       "133         v2.3.0     222"
      ]
     },
     "execution_count": 449,
     "metadata": {},
     "output_type": "execute_result"
    }
   ],
   "source": [
    "outliersDf = tagsIssueCountDf.sort_values(by=\"Issues\", ascending=False).head(45)\n",
    "outliersDf"
   ]
  },
  {
   "cell_type": "code",
   "execution_count": 450,
   "metadata": {},
   "outputs": [
    {
     "data": {
      "text/plain": [
       "0.26666666666666666"
      ]
     },
     "execution_count": 450,
     "metadata": {},
     "output_type": "execute_result"
    }
   ],
   "source": [
    "len(outliersDf[outliersDf.Tag.str.contains(\"alpha\") |\n",
    "               outliersDf.Tag.str.contains(\"rc\") |\n",
    "               outliersDf.Tag.str.contains(\"beta\")]) / len(outliers)"
   ]
  },
  {
   "cell_type": "markdown",
   "metadata": {},
   "source": [
    "26% of the outliers are alpha/beta/rc versions. The rest are official releases."
   ]
  },
  {
   "cell_type": "markdown",
   "metadata": {},
   "source": [
    "**Observation** The number of issue per each tag is not evenly distributed. A high concentration of tags with fewer than 100 issues while 45 outliers exceed the value 200 going all the way to 5707. Only 26% of these outliers are not final releases (alpha beta and rc). while the rest are.\n",
    "The number of issues for these tags may depend on \n",
    "* How buggy these releases were\n",
    "* How popular these releases were"
   ]
  },
  {
   "cell_type": "markdown",
   "metadata": {},
   "source": [
    "### Explore the distribution of issues throughout the different tags\n",
    "* Is the number of issues evenly distributed over the tags (and therefore over time)?\n",
    "* What are the most issue reported versions? Are they concentrated in some specific periods (old or recent releases)?"
   ]
  },
  {
   "cell_type": "code",
   "execution_count": 637,
   "metadata": {},
   "outputs": [
    {
     "data": {
      "image/png": "[encoded data removed]",
      "text/plain": [
       "<Figure size 1080x360 with 1 Axes>"
      ]
     },
     "metadata": {
      "needs_background": "light"
     },
     "output_type": "display_data"
    }
   ],
   "source": [
    "plt.figure(figsize=(15,5))\n",
    "plt.locator_params(axis='x', nbins=6)\n",
    "ax = sns.lineplot(x=\"Tag\", y=\"Issues\", data=tagsIssueCountDf.head(280))\n",
    "for ind, label in enumerate(ax.get_xticklabels()):\n",
    "    if ind % 20 == 0:  # every 10th label is kept\n",
    "        label.set_visible(True)\n",
    "    else:\n",
    "        label.set_visible(False)"
   ]
  },
  {
   "cell_type": "markdown",
   "metadata": {},
   "source": [
    "Let's investigate the first peak around version v1.0.0 at what tag it belongs to."
   ]
  },
  {
   "cell_type": "code",
   "execution_count": 452,
   "metadata": {},
   "outputs": [
    {
     "data": {
      "image/png": "[encoded data removed]",
      "text/plain": [
       "<Figure size 432x288 with 1 Axes>"
      ]
     },
     "metadata": {
      "needs_background": "light"
     },
     "output_type": "display_data"
    }
   ],
   "source": [
    "ax = sns.lineplot(x=\"Tag\", y=\"Issues\", data=tagsIssueCountDf[(tagsIssueCountDf.Tag < \"v1.2.1\") & (tagsIssueCountDf.Tag > \"v0.90.2\")])\n",
    "ax.tick_params(axis='x', labelrotation= 45)"
   ]
  },
  {
   "cell_type": "markdown",
   "metadata": {},
   "source": [
    "We can see that it indeed belongs to v1.0.0."
   ]
  },
  {
   "cell_type": "markdown",
   "metadata": {},
   "source": [
    "#### Comparison of below-v1 and above-v1"
   ]
  },
  {
   "cell_type": "markdown",
   "metadata": {},
   "source": [
    "Let's compare the statistics of version below and above v1.0.0 to quantify the differences in number of issues\n",
    "* Has there been a change in the use of the ITS from version 1 and above?"
   ]
  },
  {
   "cell_type": "code",
   "execution_count": 453,
   "metadata": {},
   "outputs": [
    {
     "data": {
      "text/html": [
       "<div>\n",
       "<style scoped>\n",
       "    .dataframe tbody tr th:only-of-type {\n",
       "        vertical-align: middle;\n",
       "    }\n",
       "\n",
       "    .dataframe tbody tr th {\n",
       "        vertical-align: top;\n",
       "    }\n",
       "\n",
       "    .dataframe thead th {\n",
       "        text-align: right;\n",
       "    }\n",
       "</style>\n",
       "<table border=\"1\" class=\"dataframe\">\n",
       "  <thead>\n",
       "    <tr style=\"text-align: right;\">\n",
       "      <th></th>\n",
       "      <th>Issues</th>\n",
       "    </tr>\n",
       "  </thead>\n",
       "  <tbody>\n",
       "    <tr>\n",
       "      <td>count</td>\n",
       "      <td>88.000000</td>\n",
       "    </tr>\n",
       "    <tr>\n",
       "      <td>mean</td>\n",
       "      <td>26.306818</td>\n",
       "    </tr>\n",
       "    <tr>\n",
       "      <td>std</td>\n",
       "      <td>36.415974</td>\n",
       "    </tr>\n",
       "    <tr>\n",
       "      <td>min</td>\n",
       "      <td>0.000000</td>\n",
       "    </tr>\n",
       "    <tr>\n",
       "      <td>25%</td>\n",
       "      <td>4.000000</td>\n",
       "    </tr>\n",
       "    <tr>\n",
       "      <td>50%</td>\n",
       "      <td>14.000000</td>\n",
       "    </tr>\n",
       "    <tr>\n",
       "      <td>75%</td>\n",
       "      <td>32.000000</td>\n",
       "    </tr>\n",
       "    <tr>\n",
       "      <td>max</td>\n",
       "      <td>197.000000</td>\n",
       "    </tr>\n",
       "  </tbody>\n",
       "</table>\n",
       "</div>"
      ],
      "text/plain": [
       "           Issues\n",
       "count   88.000000\n",
       "mean    26.306818\n",
       "std     36.415974\n",
       "min      0.000000\n",
       "25%      4.000000\n",
       "50%     14.000000\n",
       "75%     32.000000\n",
       "max    197.000000"
      ]
     },
     "execution_count": 453,
     "metadata": {},
     "output_type": "execute_result"
    }
   ],
   "source": [
    "tagsIssueCountDf[(tagsIssueCountDf.Tag < \"v1.0.0\")].describe()"
   ]
  },
  {
   "cell_type": "code",
   "execution_count": 454,
   "metadata": {},
   "outputs": [
    {
     "data": {
      "text/html": [
       "<div>\n",
       "<style scoped>\n",
       "    .dataframe tbody tr th:only-of-type {\n",
       "        vertical-align: middle;\n",
       "    }\n",
       "\n",
       "    .dataframe tbody tr th {\n",
       "        vertical-align: top;\n",
       "    }\n",
       "\n",
       "    .dataframe thead th {\n",
       "        text-align: right;\n",
       "    }\n",
       "</style>\n",
       "<table border=\"1\" class=\"dataframe\">\n",
       "  <thead>\n",
       "    <tr style=\"text-align: right;\">\n",
       "      <th></th>\n",
       "      <th>Issues</th>\n",
       "    </tr>\n",
       "  </thead>\n",
       "  <tbody>\n",
       "    <tr>\n",
       "      <td>count</td>\n",
       "      <td>192.000000</td>\n",
       "    </tr>\n",
       "    <tr>\n",
       "      <td>mean</td>\n",
       "      <td>227.104167</td>\n",
       "    </tr>\n",
       "    <tr>\n",
       "      <td>std</td>\n",
       "      <td>567.080832</td>\n",
       "    </tr>\n",
       "    <tr>\n",
       "      <td>min</td>\n",
       "      <td>0.000000</td>\n",
       "    </tr>\n",
       "    <tr>\n",
       "      <td>25%</td>\n",
       "      <td>21.000000</td>\n",
       "    </tr>\n",
       "    <tr>\n",
       "      <td>50%</td>\n",
       "      <td>49.000000</td>\n",
       "    </tr>\n",
       "    <tr>\n",
       "      <td>75%</td>\n",
       "      <td>159.250000</td>\n",
       "    </tr>\n",
       "    <tr>\n",
       "      <td>max</td>\n",
       "      <td>5707.000000</td>\n",
       "    </tr>\n",
       "  </tbody>\n",
       "</table>\n",
       "</div>"
      ],
      "text/plain": [
       "            Issues\n",
       "count   192.000000\n",
       "mean    227.104167\n",
       "std     567.080832\n",
       "min       0.000000\n",
       "25%      21.000000\n",
       "50%      49.000000\n",
       "75%     159.250000\n",
       "max    5707.000000"
      ]
     },
     "execution_count": 454,
     "metadata": {},
     "output_type": "execute_result"
    }
   ],
   "source": [
    "tagsIssueCountDf[(tagsIssueCountDf.Tag >= \"v1.0.0\")].describe()"
   ]
  },
  {
   "cell_type": "code",
   "execution_count": 643,
   "metadata": {},
   "outputs": [
    {
     "data": {
      "image/png": "[encoded data removed]",
      "text/plain": [
       "<Figure size 1080x360 with 1 Axes>"
      ]
     },
     "metadata": {
      "needs_background": "light"
     },
     "output_type": "display_data"
    }
   ],
   "source": [
    "plt.figure(figsize=(15,5))\n",
    "tagsv1 = pd.DataFrame(tagsIssueCountDf.Issues)\n",
    "tagsv1[\"v1\"] = tagsIssueCountDf.Tag.apply(lambda tag: \"Below v1\" if tag < \"v1.0.0\" else \"Above v1\")\n",
    "# Some outliers from Above v1 have been removed for readibility\n",
    "ax = sns.boxplot(x=\"v1\", y=\"Issues\", data=tagsv1, showfliers=False)"
   ]
  },
  {
   "cell_type": "markdown",
   "metadata": {},
   "source": [
    "**Observation** By plotting the number of issues for each tag sorted in an ascending order, we notice that the versions up to roughly v1.0.0 have few issues compared to the versions coming after. Statistical summaries show that the mean of \"below v1\" is 26 whereas \"above v1\" is 227 which is even larger than the maximum value of \"below v1\". This shows an increasing trend of more issues with versions above v1.\n",
    "\n",
    "In order to assess this impression, we need to plot statistics at a finer grain."
   ]
  },
  {
   "cell_type": "code",
   "execution_count": 456,
   "metadata": {},
   "outputs": [
    {
     "data": {
      "image/png": "[encoded data removed]",
      "text/plain": [
       "<Figure size 1080x360 with 2 Axes>"
      ]
     },
     "metadata": {
      "needs_background": "light"
     },
     "output_type": "display_data"
    }
   ],
   "source": [
    "f, axes = plt.subplots(1,2, figsize=(15,5))\n",
    "def version(tag):\n",
    "    for i in range(8):\n",
    "        if((tag > f\"v{i}\") & (tag < f\"v{i+1}\")):\n",
    "            return i\n",
    "tagsv = pd.DataFrame(tagsIssueCountDf.Issues)\n",
    "tagsv[\"version\"] = tagsIssueCountDf.Tag.apply(version)\n",
    "ax = sns.boxplot(ax=axes[0], x=\"version\", y=\"Issues\", data=tagsv, showfliers = False)\n",
    "ax = sns.boxplot(ax=axes[1], x=\"version\", y=\"Issues\", data=tagsv[tagsv.version <7], showfliers = False)"
   ]
  },
  {
   "cell_type": "markdown",
   "metadata": {},
   "source": [
    "***Observations***\n",
    "-  Given the high number of tags, we had to group them in a meaningful way. We believe that major versions is a good compromise as it preserves the temporal trend and as that is what we are interested in: verify if the ITS has been used consistently over time.\n",
    "- Our first observation turned out to be biased by versions 6 and 7 which do have significantly more issues and were therefore contributing in altering the \"abvove v1\" statistics. When we plot boxplots for tags grouped by each major version, we see that the v0 one does not differ much from the ones of v1 and v2. It is slightly lower in median and percentiles.\n",
    "\n",
    "This could be due to different reasons:\n",
    "\n",
    "* Versions below v1.0.0 were not widely adopted and therefore received fewer issues from users\n",
    "* Elasticsearch was not extensively using Github ITS as their main ITS\n",
    "* Those versions presented indeed fewer issues, possibly due to the fewer features implemented\n",
    "\n",
    "**Conclusions**\n",
    "* Elasticsearch seems to have used the ITS consistently over time and through the different versions. There has been a slightly increase over time and version 7 presents many more issues than ever before. This is probably due to either more bugs or major features implemented, as well as more popularity obtained by the project.\n",
    "\n",
    "\n",
    "**Other observations**\n",
    "- Elasticsearch has jumped from major version 2 to version 5 skipping 3 and 4"
   ]
  },
  {
   "cell_type": "code",
   "execution_count": 457,
   "metadata": {},
   "outputs": [],
   "source": [
    "versions = [0,1,2,5,6,7]"
   ]
  },
  {
   "cell_type": "markdown",
   "metadata": {},
   "source": [
    "### Issue type distribution\n",
    "* Do some versions present more issues of a specific type?"
   ]
  },
  {
   "cell_type": "markdown",
   "metadata": {},
   "source": [
    "#### Labels for versions with no tag"
   ]
  },
  {
   "cell_type": "markdown",
   "metadata": {},
   "source": [
    "List labels which do not correspond to a Tag"
   ]
  },
  {
   "cell_type": "code",
   "execution_count": 458,
   "metadata": {},
   "outputs": [
    {
     "data": {
      "text/plain": [
       "169"
      ]
     },
     "execution_count": 458,
     "metadata": {},
     "output_type": "execute_result"
    }
   ],
   "source": [
    "len(issues_labels[~issues_labels.isin(tags.Tag)])"
   ]
  },
  {
   "cell_type": "markdown",
   "metadata": {},
   "source": [
    "Of these labels, list the ones which do not have a tag associated"
   ]
  },
  {
   "cell_type": "code",
   "execution_count": 459,
   "metadata": {},
   "outputs": [
    {
     "data": {
      "text/plain": [
       "49"
      ]
     },
     "execution_count": 459,
     "metadata": {},
     "output_type": "execute_result"
    }
   ],
   "source": [
    "no_tag_version_labels = issues_labels[(~issues_labels.isin(tags.Tag)) & (issues_labels.str.startswith(\"v\"))]\n",
    "len(no_tag_version_labels)"
   ]
  },
  {
   "cell_type": "markdown",
   "metadata": {},
   "source": [
    "Count how many issues are labelled with these labels"
   ]
  },
  {
   "cell_type": "code",
   "execution_count": 460,
   "metadata": {},
   "outputs": [
    {
     "data": {
      "text/plain": [
       "12938"
      ]
     },
     "execution_count": 460,
     "metadata": {},
     "output_type": "execute_result"
    }
   ],
   "source": [
    "len(ilpr[ilpr.label.isin(no_tag_version_labels.values)])"
   ]
  },
  {
   "cell_type": "code",
   "execution_count": 461,
   "metadata": {},
   "outputs": [],
   "source": [
    "issue_indexes = ilpr[ilpr.label.isin(no_tag_version_labels.values)].id.unique().tolist()"
   ]
  },
  {
   "cell_type": "markdown",
   "metadata": {},
   "source": [
    "These labels seem to be associated with internal versions which did not end up getting tagged and released.\n",
    "How many of these issues are associated only with this label as version? Issues may be labelled with more versions\n",
    "\n",
    "We first select only the interested issues. We then filter out all the labels not being versions and remove the ones not associated with tags. We are left with the count of labels associated with these issues which are tags. All of them have more than 2 of these."
   ]
  },
  {
   "cell_type": "code",
   "execution_count": 462,
   "metadata": {},
   "outputs": [],
   "source": [
    "#issues associated also with valid tag labels\n",
    "with_valid_tag = ilpr[ilpr.id.isin(issue_indexes) & \n",
    "    ilpr.label.str.startswith(\"v\") & \n",
    "    ~ilpr.label.isin(no_tag_version_labels)].id.unique().tolist()"
   ]
  },
  {
   "cell_type": "code",
   "execution_count": 463,
   "metadata": {},
   "outputs": [
    {
     "data": {
      "text/plain": [
       "0.7879115782964909"
      ]
     },
     "execution_count": 463,
     "metadata": {},
     "output_type": "execute_result"
    }
   ],
   "source": [
    "1 - len(set(issue_indexes)^set(with_valid_tag)) / len(ilpr[ilpr.label.isin(no_tag_version_labels.values)])"
   ]
  },
  {
   "cell_type": "markdown",
   "metadata": {},
   "source": [
    "**Observations**\n",
    "* Some of the labels representing versions (following the vX.Y.Z convention) do not have a corrisponding tag\n",
    "* The 78% of these issues labeled with these version-label are also associated with a valid tag label\n",
    "* The rest of these issues may have been present in some versions which did not end up being tagged as releases. This should not represent a problem in our analysis"
   ]
  },
  {
   "cell_type": "markdown",
   "metadata": {},
   "source": [
    "## Issues distributions"
   ]
  },
  {
   "cell_type": "markdown",
   "metadata": {},
   "source": [
    "### Category distributions"
   ]
  },
  {
   "cell_type": "code",
   "execution_count": 647,
   "metadata": {},
   "outputs": [
    {
     "data": {
      "image/png": "[encoded data removed]",
      "text/plain": [
       "<Figure size 1080x360 with 1 Axes>"
      ]
     },
     "metadata": {
      "needs_background": "light"
     },
     "output_type": "display_data"
    }
   ],
   "source": [
    "plt.figure(figsize=(15,5))\n",
    "cat_count = ilpr[ilpr.label.isin(category_labels)].groupby(\"label\").id.count().sort_values(ascending=False)\n",
    "ax = sns.barplot(x=cat_count.index, y=cat_count.values)"
   ]
  },
  {
   "cell_type": "code",
   "execution_count": 650,
   "metadata": {},
   "outputs": [
    {
     "data": {
      "image/png": "[encoded data removed]",
      "text/plain": [
       "<Figure size 1080x1080 with 6 Axes>"
      ]
     },
     "metadata": {
      "needs_background": "light"
     },
     "output_type": "display_data"
    }
   ],
   "source": [
    "head = 5\n",
    "fig, axes = plt.subplots(len(versions), figsize=(15,15), sharex='col')\n",
    "fig.tight_layout(h_pad=5.0)\n",
    "for i in range(len(versions)):\n",
    "    issues_for_version = ilpr[ilpr.label.str.startswith(f\"v{versions[i]}\")].id.unique()\n",
    "    issues_type_for_version = (ilpr[ilpr.id.isin(issues_for_version) & \n",
    "                               ilpr.label.isin(category_labels)].groupby(\"label\").id.count() / len(issues_for_version)).sort_values(ascending=False)\n",
    "    ax = sns.barplot(ax=axes[i], y=issues_type_for_version.head(head).index.tolist(),\n",
    "                     x=issues_type_for_version.head(head).values)\n",
    "    #ax.tick_params(axis='x', labelrotation= 45)\n",
    "    ax.set_title(f\"Version {versions[i]}\", fontdict={'fontsize': 18, 'fontweight': 'medium'})"
   ]
  },
  {
   "cell_type": "markdown",
   "metadata": {},
   "source": [
    "**Observations**\n",
    "* enhancement, bug and docs have been the most prevalent labels in this group\n",
    "* enhancement and bug have been by far the most used labels in this group \n",
    "* Over time this has slowly decreased to a point where in version 7 bug is only the 4th most used label"
   ]
  },
  {
   "cell_type": "markdown",
   "metadata": {},
   "source": [
    "### Topics distribution"
   ]
  },
  {
   "cell_type": "code",
   "execution_count": 645,
   "metadata": {},
   "outputs": [
    {
     "data": {
      "image/png": "[encoded data removed]",
      "text/plain": [
       "<Figure size 1080x360 with 1 Axes>"
      ]
     },
     "metadata": {
      "needs_background": "light"
     },
     "output_type": "display_data"
    }
   ],
   "source": [
    "plt.figure(figsize=(15,5))\n",
    "cat_count = ilpr[ilpr.label.isin(topic_labels)].groupby(\"label\").id.count().head(15).sort_values(ascending=False)\n",
    "ax = sns.barplot(x=cat_count.index, y=cat_count.values)\n",
    "ax.tick_params(axis='x', labelrotation= 45)"
   ]
  },
  {
   "cell_type": "code",
   "execution_count": 649,
   "metadata": {},
   "outputs": [
    {
     "data": {
      "image/png": "[encoded data removed]",
      "text/plain": [
       "<Figure size 1080x1080 with 6 Axes>"
      ]
     },
     "metadata": {
      "needs_background": "light"
     },
     "output_type": "display_data"
    }
   ],
   "source": [
    "head = 5\n",
    "fig, axes = plt.subplots(len(versions), figsize=(15,15), sharex='col')\n",
    "fig.tight_layout(h_pad=5.0)\n",
    "for i in range(len(versions)):\n",
    "    issues_for_version = ilpr[ilpr.label.str.startswith(f\"v{versions[i]}\")].id.unique()\n",
    "    issues_type_for_version = (ilpr[ilpr.id.isin(issues_for_version) & \n",
    "                               ilpr.label.isin(topic_labels)].groupby(\"label\").id.count() / len(issues_for_version)).sort_values(ascending=False)\n",
    "    ax = sns.barplot(ax=axes[i], y=issues_type_for_version.head(head).index.tolist(),\n",
    "                     x=issues_type_for_version.head(head).values)\n",
    "    #ax.tick_params(axis='x', labelrotation= 45)\n",
    "    ax.set_title(f\"Version {versions[i]}\", fontdict={'fontsize': 18, 'fontweight': 'medium'})"
   ]
  },
  {
   "cell_type": "markdown",
   "metadata": {},
   "source": [
    "**Observations**\n",
    "* Analytics/Aggregation is by far the most popular label in the topic group over all issues\n",
    "* Version 0 did not present many issues labeled with topic labels\n",
    "* From version 1 we see a more extensive use of topic labels\n",
    "* Search/Search is in the top labels for all versions. This does not surprise given the nature of elasticsearch\n",
    "* Machine learning has gained popularity and we can see that it is the top label for the most recent version whereas it was not present in the top labels of the previous versions\n",
    "* The opposite has happened for Analytics/Aggregation which has slowly lost popularity since version 5"
   ]
  },
  {
   "cell_type": "markdown",
   "metadata": {},
   "source": [
    "### Intermidiate releases vs Official"
   ]
  },
  {
   "cell_type": "markdown",
   "metadata": {},
   "source": [
    "* Do intermidiate releases (alpha, beta and rc) receive less issues?\n",
    "* Do they present more of some specific types of issues?"
   ]
  },
  {
   "cell_type": "code",
   "execution_count": 539,
   "metadata": {},
   "outputs": [
    {
     "data": {
      "text/html": [
       "<div>\n",
       "<style scoped>\n",
       "    .dataframe tbody tr th:only-of-type {\n",
       "        vertical-align: middle;\n",
       "    }\n",
       "\n",
       "    .dataframe tbody tr th {\n",
       "        vertical-align: top;\n",
       "    }\n",
       "\n",
       "    .dataframe thead th {\n",
       "        text-align: right;\n",
       "    }\n",
       "</style>\n",
       "<table border=\"1\" class=\"dataframe\">\n",
       "  <thead>\n",
       "    <tr style=\"text-align: right;\">\n",
       "      <th></th>\n",
       "      <th>Tag</th>\n",
       "      <th>Sha</th>\n",
       "      <th>Date</th>\n",
       "    </tr>\n",
       "  </thead>\n",
       "  <tbody>\n",
       "    <tr>\n",
       "      <td>23</td>\n",
       "      <td>v7.0.0-rc2</td>\n",
       "      <td>f076a79831c97c82249851f209aff6fa24a97a4d</td>\n",
       "      <td>2019-04-02 15:00:22</td>\n",
       "    </tr>\n",
       "    <tr>\n",
       "      <td>24</td>\n",
       "      <td>v7.0.0-rc1</td>\n",
       "      <td>486505d65bdbd2a324242b64783ad87605b2d693</td>\n",
       "      <td>2019-03-22 18:24:22</td>\n",
       "    </tr>\n",
       "    <tr>\n",
       "      <td>25</td>\n",
       "      <td>v7.0.0-beta1</td>\n",
       "      <td>15bb494041370cf0f6b4414e37be6fb7a30a06cd</td>\n",
       "      <td>2019-02-13 09:07:16</td>\n",
       "    </tr>\n",
       "    <tr>\n",
       "      <td>26</td>\n",
       "      <td>v7.0.0-alpha2</td>\n",
       "      <td>a30e8c2fa3a8ee381c4fa6eae550681fee764cf5</td>\n",
       "      <td>2018-12-15 06:34:54</td>\n",
       "    </tr>\n",
       "    <tr>\n",
       "      <td>27</td>\n",
       "      <td>v7.0.0-alpha1</td>\n",
       "      <td>76cefb06e31967c6db2bdb827871e8d40741473a</td>\n",
       "      <td>2018-11-13 09:57:12</td>\n",
       "    </tr>\n",
       "  </tbody>\n",
       "</table>\n",
       "</div>"
      ],
      "text/plain": [
       "              Tag                                       Sha  \\\n",
       "23     v7.0.0-rc2  f076a79831c97c82249851f209aff6fa24a97a4d   \n",
       "24     v7.0.0-rc1  486505d65bdbd2a324242b64783ad87605b2d693   \n",
       "25   v7.0.0-beta1  15bb494041370cf0f6b4414e37be6fb7a30a06cd   \n",
       "26  v7.0.0-alpha2  a30e8c2fa3a8ee381c4fa6eae550681fee764cf5   \n",
       "27  v7.0.0-alpha1  76cefb06e31967c6db2bdb827871e8d40741473a   \n",
       "\n",
       "                   Date  \n",
       "23  2019-04-02 15:00:22  \n",
       "24  2019-03-22 18:24:22  \n",
       "25  2019-02-13 09:07:16  \n",
       "26  2018-12-15 06:34:54  \n",
       "27  2018-11-13 09:57:12  "
      ]
     },
     "execution_count": 539,
     "metadata": {},
     "output_type": "execute_result"
    }
   ],
   "source": [
    "preliminary_releases = tags[tags.Tag.str.contains(\"alpha\") | \n",
    "                      tags.Tag.str.contains(\"beta\") |\n",
    "                      tags.Tag.str.contains(\"rc\")]\n",
    "preliminary_releases.head()"
   ]
  },
  {
   "cell_type": "code",
   "execution_count": 540,
   "metadata": {},
   "outputs": [
    {
     "data": {
      "text/html": [
       "<div>\n",
       "<style scoped>\n",
       "    .dataframe tbody tr th:only-of-type {\n",
       "        vertical-align: middle;\n",
       "    }\n",
       "\n",
       "    .dataframe tbody tr th {\n",
       "        vertical-align: top;\n",
       "    }\n",
       "\n",
       "    .dataframe thead th {\n",
       "        text-align: right;\n",
       "    }\n",
       "</style>\n",
       "<table border=\"1\" class=\"dataframe\">\n",
       "  <thead>\n",
       "    <tr style=\"text-align: right;\">\n",
       "      <th></th>\n",
       "      <th>Tag</th>\n",
       "      <th>Sha</th>\n",
       "      <th>Date</th>\n",
       "    </tr>\n",
       "  </thead>\n",
       "  <tbody>\n",
       "    <tr>\n",
       "      <td>0</td>\n",
       "      <td>v7.9.0</td>\n",
       "      <td>a479a2a7fce0389512d6a9361301708b92dff667</td>\n",
       "      <td>2020-08-11 16:42:47</td>\n",
       "    </tr>\n",
       "    <tr>\n",
       "      <td>1</td>\n",
       "      <td>v7.8.1</td>\n",
       "      <td>b5ca9c58fb664ca8bf9e4057fc229b3396bf3a89</td>\n",
       "      <td>2020-07-21 12:13:59</td>\n",
       "    </tr>\n",
       "    <tr>\n",
       "      <td>2</td>\n",
       "      <td>v7.8.0</td>\n",
       "      <td>757314695644ea9a1dc2fecd26d1a43856725e65</td>\n",
       "      <td>2020-06-12 22:39:07</td>\n",
       "    </tr>\n",
       "    <tr>\n",
       "      <td>3</td>\n",
       "      <td>v7.7.1</td>\n",
       "      <td>ad56dce891c901a492bb1ee393f12dfff473a423</td>\n",
       "      <td>2020-05-28 13:52:12</td>\n",
       "    </tr>\n",
       "    <tr>\n",
       "      <td>4</td>\n",
       "      <td>v7.7.0</td>\n",
       "      <td>81a1e9eda8e6183f5237786246f6dced26a10eaf</td>\n",
       "      <td>2020-05-08 23:11:19</td>\n",
       "    </tr>\n",
       "  </tbody>\n",
       "</table>\n",
       "</div>"
      ],
      "text/plain": [
       "      Tag                                       Sha                 Date\n",
       "0  v7.9.0  a479a2a7fce0389512d6a9361301708b92dff667  2020-08-11 16:42:47\n",
       "1  v7.8.1  b5ca9c58fb664ca8bf9e4057fc229b3396bf3a89  2020-07-21 12:13:59\n",
       "2  v7.8.0  757314695644ea9a1dc2fecd26d1a43856725e65  2020-06-12 22:39:07\n",
       "3  v7.7.1  ad56dce891c901a492bb1ee393f12dfff473a423  2020-05-28 13:52:12\n",
       "4  v7.7.0  81a1e9eda8e6183f5237786246f6dced26a10eaf  2020-05-08 23:11:19"
      ]
     },
     "execution_count": 540,
     "metadata": {},
     "output_type": "execute_result"
    }
   ],
   "source": [
    "official_tags = tags[~tags.Tag.isin(preliminary_releases.Tag)]\n",
    "official_tags.head()"
   ]
  },
  {
   "cell_type": "code",
   "execution_count": 651,
   "metadata": {},
   "outputs": [
    {
     "data": {
      "text/plain": [
       "<matplotlib.axes._subplots.AxesSubplot at 0x7fd3f75c4310>"
      ]
     },
     "execution_count": 651,
     "metadata": {},
     "output_type": "execute_result"
    },
    {
     "data": {
      "image/png": "[encoded data removed]",
      "text/plain": [
       "<Figure size 1080x360 with 1 Axes>"
      ]
     },
     "metadata": {
      "needs_background": "light"
     },
     "output_type": "display_data"
    }
   ],
   "source": [
    "plt.figure(figsize=(15,5))\n",
    "type_tag_count = [(\"Preliminary releases\", len(ilpr[ilpr.label.isin(preliminary_releases.Tag)])/len(preliminary_releases.Tag)),\n",
    "                  (\"Official releases\", len(ilpr[ilpr.label.isin(official_tags.Tag)])/len(official_tags.Tag))]\n",
    "type_release_issue_count = pd.DataFrame(type_tag_count, columns=[\"Type of release\", \"Avarage n of issue per release\"])\n",
    "sns.barplot(x=\"Type of release\", y=\"Avarage n of issue per release\", data=type_release_issue_count)"
   ]
  },
  {
   "cell_type": "markdown",
   "metadata": {},
   "source": [
    "**Observation**\n",
    "Preliminary releases do receive significantly more bugs than offical releases.<br/>\n",
    "This can be expected due to their nature of being testing releases and not fully ready to be released."
   ]
  },
  {
   "cell_type": "markdown",
   "metadata": {},
   "source": [
    "* How many of issues on preliminary releases ended up being reported on official releases as well?"
   ]
  },
  {
   "cell_type": "code",
   "execution_count": 542,
   "metadata": {},
   "outputs": [
    {
     "data": {
      "text/plain": [
       "62.44867739112876"
      ]
     },
     "execution_count": 542,
     "metadata": {},
     "output_type": "execute_result"
    }
   ],
   "source": [
    "issue_prel_off = list(set.intersection(set(ilpr[ilpr.label.isin(official_tags.Tag)].id.unique()), set(ilpr[ilpr.label.isin(preliminary_releases.Tag)].id.unique())))\n",
    "len(issue_prel_off) / len(ilpr[ilpr.label.isin(preliminary_releases.Tag)].id.unique()) * 100"
   ]
  },
  {
   "cell_type": "markdown",
   "metadata": {},
   "source": [
    "62% of the issues assigned on a preliminary release are also assigned to an official release.\n",
    "\n",
    "\n",
    "This can both mean:\n",
    "* that issues occured for the first time in a preliminary version but were not fixed before releasing the offiacial version\n",
    "* Issues were present in an official releases but were not fixed before tagging the following preliminary release\n",
    "\n",
    "Let's investigate how often these two cases happen. We will focus our analysis on bugs only as this is what our final goal will mainly try to predict."
   ]
  },
  {
   "cell_type": "code",
   "execution_count": 615,
   "metadata": {},
   "outputs": [],
   "source": [
    "bug_issues = ilpr[ilpr.id.isin(ilpr[ilpr.label == \">bug\"].id)]"
   ]
  },
  {
   "cell_type": "code",
   "execution_count": 626,
   "metadata": {},
   "outputs": [],
   "source": [
    "x = pd.merge(bug_issues, preliminary_releases, left_on=\"label\", right_on=\"Tag\")\n",
    "x = x.rename(columns={\"Date\":\"Preliminary_release_date\"})"
   ]
  },
  {
   "cell_type": "code",
   "execution_count": 627,
   "metadata": {},
   "outputs": [],
   "source": [
    "y = pd.merge(bug_issues, official_tags, left_on=\"label\", right_on=\"Tag\").groupby(\"id\").Date.min()"
   ]
  },
  {
   "cell_type": "code",
   "execution_count": 628,
   "metadata": {},
   "outputs": [],
   "source": [
    "z = pd.DataFrame(y)\n",
    "z = z.rename(columns={\"Date\":\"Official_release_date\"})"
   ]
  },
  {
   "cell_type": "code",
   "execution_count": 629,
   "metadata": {},
   "outputs": [],
   "source": [
    "w = pd.merge(x, z, on=\"id\")"
   ]
  },
  {
   "cell_type": "markdown",
   "metadata": {},
   "source": [
    "Issues which appeared first in the preliminary release and afterwards also in an official one."
   ]
  },
  {
   "cell_type": "code",
   "execution_count": 630,
   "metadata": {
    "scrolled": true
   },
   "outputs": [
    {
     "data": {
      "text/html": [
       "<div>\n",
       "<style scoped>\n",
       "    .dataframe tbody tr th:only-of-type {\n",
       "        vertical-align: middle;\n",
       "    }\n",
       "\n",
       "    .dataframe tbody tr th {\n",
       "        vertical-align: top;\n",
       "    }\n",
       "\n",
       "    .dataframe thead th {\n",
       "        text-align: right;\n",
       "    }\n",
       "</style>\n",
       "<table border=\"1\" class=\"dataframe\">\n",
       "  <thead>\n",
       "    <tr style=\"text-align: right;\">\n",
       "      <th></th>\n",
       "      <th>id</th>\n",
       "      <th>label</th>\n",
       "      <th>Tag</th>\n",
       "      <th>Sha</th>\n",
       "      <th>Preliminary_release_date</th>\n",
       "      <th>Official_release_date</th>\n",
       "    </tr>\n",
       "  </thead>\n",
       "  <tbody>\n",
       "    <tr>\n",
       "      <td>0</td>\n",
       "      <td>429676052</td>\n",
       "      <td>v7.0.0-rc2</td>\n",
       "      <td>v7.0.0-rc2</td>\n",
       "      <td>f076a79831c97c82249851f209aff6fa24a97a4d</td>\n",
       "      <td>2019-04-02 15:00:22</td>\n",
       "      <td>2019-04-05 21:42:14</td>\n",
       "    </tr>\n",
       "    <tr>\n",
       "      <td>2</td>\n",
       "      <td>427296936</td>\n",
       "      <td>v7.0.0-rc2</td>\n",
       "      <td>v7.0.0-rc2</td>\n",
       "      <td>f076a79831c97c82249851f209aff6fa24a97a4d</td>\n",
       "      <td>2019-04-02 15:00:22</td>\n",
       "      <td>2019-04-29 03:58:47</td>\n",
       "    </tr>\n",
       "    <tr>\n",
       "      <td>3</td>\n",
       "      <td>427124926</td>\n",
       "      <td>v7.0.0-rc2</td>\n",
       "      <td>v7.0.0-rc2</td>\n",
       "      <td>f076a79831c97c82249851f209aff6fa24a97a4d</td>\n",
       "      <td>2019-04-02 15:00:22</td>\n",
       "      <td>2019-04-29 03:58:47</td>\n",
       "    </tr>\n",
       "    <tr>\n",
       "      <td>7</td>\n",
       "      <td>425970784</td>\n",
       "      <td>v7.0.0-rc2</td>\n",
       "      <td>v7.0.0-rc2</td>\n",
       "      <td>f076a79831c97c82249851f209aff6fa24a97a4d</td>\n",
       "      <td>2019-04-02 15:00:22</td>\n",
       "      <td>2019-06-20 12:10:21</td>\n",
       "    </tr>\n",
       "    <tr>\n",
       "      <td>8</td>\n",
       "      <td>425948413</td>\n",
       "      <td>v7.0.0-rc2</td>\n",
       "      <td>v7.0.0-rc2</td>\n",
       "      <td>f076a79831c97c82249851f209aff6fa24a97a4d</td>\n",
       "      <td>2019-04-02 15:00:22</td>\n",
       "      <td>2019-06-20 12:10:21</td>\n",
       "    </tr>\n",
       "    <tr>\n",
       "      <td>...</td>\n",
       "      <td>...</td>\n",
       "      <td>...</td>\n",
       "      <td>...</td>\n",
       "      <td>...</td>\n",
       "      <td>...</td>\n",
       "      <td>...</td>\n",
       "    </tr>\n",
       "    <tr>\n",
       "      <td>1648</td>\n",
       "      <td>99201860</td>\n",
       "      <td>v2.0.0-beta1</td>\n",
       "      <td>v2.0.0-beta1</td>\n",
       "      <td>bfa3e47383d0adc690329a2fa1094ceb64cae651</td>\n",
       "      <td>2015-08-24 08:26:49</td>\n",
       "      <td>2015-09-14 09:48:05</td>\n",
       "    </tr>\n",
       "    <tr>\n",
       "      <td>1649</td>\n",
       "      <td>99176061</td>\n",
       "      <td>v2.0.0-beta1</td>\n",
       "      <td>v2.0.0-beta1</td>\n",
       "      <td>bfa3e47383d0adc690329a2fa1094ceb64cae651</td>\n",
       "      <td>2015-08-24 08:26:49</td>\n",
       "      <td>2015-09-14 09:48:05</td>\n",
       "    </tr>\n",
       "    <tr>\n",
       "      <td>1650</td>\n",
       "      <td>98732110</td>\n",
       "      <td>v2.0.0-beta1</td>\n",
       "      <td>v2.0.0-beta1</td>\n",
       "      <td>bfa3e47383d0adc690329a2fa1094ceb64cae651</td>\n",
       "      <td>2015-08-24 08:26:49</td>\n",
       "      <td>2015-09-14 09:48:05</td>\n",
       "    </tr>\n",
       "    <tr>\n",
       "      <td>1651</td>\n",
       "      <td>97748933</td>\n",
       "      <td>v2.0.0-beta1</td>\n",
       "      <td>v2.0.0-beta1</td>\n",
       "      <td>bfa3e47383d0adc690329a2fa1094ceb64cae651</td>\n",
       "      <td>2015-08-24 08:26:49</td>\n",
       "      <td>2015-09-14 09:48:05</td>\n",
       "    </tr>\n",
       "    <tr>\n",
       "      <td>1658</td>\n",
       "      <td>95478178</td>\n",
       "      <td>v2.0.0-beta1</td>\n",
       "      <td>v2.0.0-beta1</td>\n",
       "      <td>bfa3e47383d0adc690329a2fa1094ceb64cae651</td>\n",
       "      <td>2015-08-24 08:26:49</td>\n",
       "      <td>2015-09-14 09:48:05</td>\n",
       "    </tr>\n",
       "  </tbody>\n",
       "</table>\n",
       "<p>254 rows × 6 columns</p>\n",
       "</div>"
      ],
      "text/plain": [
       "             id         label           Tag  \\\n",
       "0     429676052    v7.0.0-rc2    v7.0.0-rc2   \n",
       "2     427296936    v7.0.0-rc2    v7.0.0-rc2   \n",
       "3     427124926    v7.0.0-rc2    v7.0.0-rc2   \n",
       "7     425970784    v7.0.0-rc2    v7.0.0-rc2   \n",
       "8     425948413    v7.0.0-rc2    v7.0.0-rc2   \n",
       "...         ...           ...           ...   \n",
       "1648   99201860  v2.0.0-beta1  v2.0.0-beta1   \n",
       "1649   99176061  v2.0.0-beta1  v2.0.0-beta1   \n",
       "1650   98732110  v2.0.0-beta1  v2.0.0-beta1   \n",
       "1651   97748933  v2.0.0-beta1  v2.0.0-beta1   \n",
       "1658   95478178  v2.0.0-beta1  v2.0.0-beta1   \n",
       "\n",
       "                                           Sha Preliminary_release_date  \\\n",
       "0     f076a79831c97c82249851f209aff6fa24a97a4d      2019-04-02 15:00:22   \n",
       "2     f076a79831c97c82249851f209aff6fa24a97a4d      2019-04-02 15:00:22   \n",
       "3     f076a79831c97c82249851f209aff6fa24a97a4d      2019-04-02 15:00:22   \n",
       "7     f076a79831c97c82249851f209aff6fa24a97a4d      2019-04-02 15:00:22   \n",
       "8     f076a79831c97c82249851f209aff6fa24a97a4d      2019-04-02 15:00:22   \n",
       "...                                        ...                      ...   \n",
       "1648  bfa3e47383d0adc690329a2fa1094ceb64cae651      2015-08-24 08:26:49   \n",
       "1649  bfa3e47383d0adc690329a2fa1094ceb64cae651      2015-08-24 08:26:49   \n",
       "1650  bfa3e47383d0adc690329a2fa1094ceb64cae651      2015-08-24 08:26:49   \n",
       "1651  bfa3e47383d0adc690329a2fa1094ceb64cae651      2015-08-24 08:26:49   \n",
       "1658  bfa3e47383d0adc690329a2fa1094ceb64cae651      2015-08-24 08:26:49   \n",
       "\n",
       "     Official_release_date  \n",
       "0      2019-04-05 21:42:14  \n",
       "2      2019-04-29 03:58:47  \n",
       "3      2019-04-29 03:58:47  \n",
       "7      2019-06-20 12:10:21  \n",
       "8      2019-06-20 12:10:21  \n",
       "...                    ...  \n",
       "1648   2015-09-14 09:48:05  \n",
       "1649   2015-09-14 09:48:05  \n",
       "1650   2015-09-14 09:48:05  \n",
       "1651   2015-09-14 09:48:05  \n",
       "1658   2015-09-14 09:48:05  \n",
       "\n",
       "[254 rows x 6 columns]"
      ]
     },
     "execution_count": 630,
     "metadata": {},
     "output_type": "execute_result"
    }
   ],
   "source": [
    "w[w.Preliminary_release_date < w.Official_release_date]"
   ]
  },
  {
   "cell_type": "markdown",
   "metadata": {},
   "source": [
    "Issues which appeared first in an official release and afterwards also in a preliminary one."
   ]
  },
  {
   "cell_type": "code",
   "execution_count": 632,
   "metadata": {},
   "outputs": [
    {
     "data": {
      "text/html": [
       "<div>\n",
       "<style scoped>\n",
       "    .dataframe tbody tr th:only-of-type {\n",
       "        vertical-align: middle;\n",
       "    }\n",
       "\n",
       "    .dataframe tbody tr th {\n",
       "        vertical-align: top;\n",
       "    }\n",
       "\n",
       "    .dataframe thead th {\n",
       "        text-align: right;\n",
       "    }\n",
       "</style>\n",
       "<table border=\"1\" class=\"dataframe\">\n",
       "  <thead>\n",
       "    <tr style=\"text-align: right;\">\n",
       "      <th></th>\n",
       "      <th>id</th>\n",
       "      <th>label</th>\n",
       "      <th>Tag</th>\n",
       "      <th>Sha</th>\n",
       "      <th>Preliminary_release_date</th>\n",
       "      <th>Official_release_date</th>\n",
       "    </tr>\n",
       "  </thead>\n",
       "  <tbody>\n",
       "    <tr>\n",
       "      <td>1</td>\n",
       "      <td>428131971</td>\n",
       "      <td>v7.0.0-rc2</td>\n",
       "      <td>v7.0.0-rc2</td>\n",
       "      <td>f076a79831c97c82249851f209aff6fa24a97a4d</td>\n",
       "      <td>2019-04-02 15:00:22</td>\n",
       "      <td>2019-04-02 14:32:27</td>\n",
       "    </tr>\n",
       "    <tr>\n",
       "      <td>4</td>\n",
       "      <td>426878538</td>\n",
       "      <td>v7.0.0-rc2</td>\n",
       "      <td>v7.0.0-rc2</td>\n",
       "      <td>f076a79831c97c82249851f209aff6fa24a97a4d</td>\n",
       "      <td>2019-04-02 15:00:22</td>\n",
       "      <td>2019-04-02 14:32:27</td>\n",
       "    </tr>\n",
       "    <tr>\n",
       "      <td>5</td>\n",
       "      <td>426250137</td>\n",
       "      <td>v7.0.0-rc2</td>\n",
       "      <td>v7.0.0-rc2</td>\n",
       "      <td>f076a79831c97c82249851f209aff6fa24a97a4d</td>\n",
       "      <td>2019-04-02 15:00:22</td>\n",
       "      <td>2019-04-02 14:32:27</td>\n",
       "    </tr>\n",
       "    <tr>\n",
       "      <td>6</td>\n",
       "      <td>426153035</td>\n",
       "      <td>v7.0.0-rc2</td>\n",
       "      <td>v7.0.0-rc2</td>\n",
       "      <td>f076a79831c97c82249851f209aff6fa24a97a4d</td>\n",
       "      <td>2019-04-02 15:00:22</td>\n",
       "      <td>2019-04-02 14:32:27</td>\n",
       "    </tr>\n",
       "    <tr>\n",
       "      <td>9</td>\n",
       "      <td>425576810</td>\n",
       "      <td>v7.0.0-rc2</td>\n",
       "      <td>v7.0.0-rc2</td>\n",
       "      <td>f076a79831c97c82249851f209aff6fa24a97a4d</td>\n",
       "      <td>2019-04-02 15:00:22</td>\n",
       "      <td>2019-04-02 14:32:27</td>\n",
       "    </tr>\n",
       "    <tr>\n",
       "      <td>...</td>\n",
       "      <td>...</td>\n",
       "      <td>...</td>\n",
       "      <td>...</td>\n",
       "      <td>...</td>\n",
       "      <td>...</td>\n",
       "      <td>...</td>\n",
       "    </tr>\n",
       "    <tr>\n",
       "      <td>2501</td>\n",
       "      <td>12612187</td>\n",
       "      <td>v2.0.0-beta1</td>\n",
       "      <td>v2.0.0-beta1</td>\n",
       "      <td>bfa3e47383d0adc690329a2fa1094ceb64cae651</td>\n",
       "      <td>2015-08-24 08:26:49</td>\n",
       "      <td>2015-06-09 13:35:08</td>\n",
       "    </tr>\n",
       "    <tr>\n",
       "      <td>2502</td>\n",
       "      <td>11545783</td>\n",
       "      <td>v2.0.0-beta1</td>\n",
       "      <td>v2.0.0-beta1</td>\n",
       "      <td>bfa3e47383d0adc690329a2fa1094ceb64cae651</td>\n",
       "      <td>2015-08-24 08:26:49</td>\n",
       "      <td>2015-03-23 14:28:55</td>\n",
       "    </tr>\n",
       "    <tr>\n",
       "      <td>2503</td>\n",
       "      <td>9940887</td>\n",
       "      <td>v2.0.0-beta1</td>\n",
       "      <td>v2.0.0-beta1</td>\n",
       "      <td>bfa3e47383d0adc690329a2fa1094ceb64cae651</td>\n",
       "      <td>2015-08-24 08:26:49</td>\n",
       "      <td>2015-02-11 14:15:01</td>\n",
       "    </tr>\n",
       "    <tr>\n",
       "      <td>2504</td>\n",
       "      <td>9326377</td>\n",
       "      <td>v2.0.0-beta1</td>\n",
       "      <td>v2.0.0-beta1</td>\n",
       "      <td>bfa3e47383d0adc690329a2fa1094ceb64cae651</td>\n",
       "      <td>2015-08-24 08:26:49</td>\n",
       "      <td>2014-10-01 14:55:34</td>\n",
       "    </tr>\n",
       "    <tr>\n",
       "      <td>2505</td>\n",
       "      <td>8768938</td>\n",
       "      <td>v2.0.0-beta1</td>\n",
       "      <td>v2.0.0-beta1</td>\n",
       "      <td>bfa3e47383d0adc690329a2fa1094ceb64cae651</td>\n",
       "      <td>2015-08-24 08:26:49</td>\n",
       "      <td>2014-07-09 12:00:28</td>\n",
       "    </tr>\n",
       "  </tbody>\n",
       "</table>\n",
       "<p>2223 rows × 6 columns</p>\n",
       "</div>"
      ],
      "text/plain": [
       "             id         label           Tag  \\\n",
       "1     428131971    v7.0.0-rc2    v7.0.0-rc2   \n",
       "4     426878538    v7.0.0-rc2    v7.0.0-rc2   \n",
       "5     426250137    v7.0.0-rc2    v7.0.0-rc2   \n",
       "6     426153035    v7.0.0-rc2    v7.0.0-rc2   \n",
       "9     425576810    v7.0.0-rc2    v7.0.0-rc2   \n",
       "...         ...           ...           ...   \n",
       "2501   12612187  v2.0.0-beta1  v2.0.0-beta1   \n",
       "2502   11545783  v2.0.0-beta1  v2.0.0-beta1   \n",
       "2503    9940887  v2.0.0-beta1  v2.0.0-beta1   \n",
       "2504    9326377  v2.0.0-beta1  v2.0.0-beta1   \n",
       "2505    8768938  v2.0.0-beta1  v2.0.0-beta1   \n",
       "\n",
       "                                           Sha Preliminary_release_date  \\\n",
       "1     f076a79831c97c82249851f209aff6fa24a97a4d      2019-04-02 15:00:22   \n",
       "4     f076a79831c97c82249851f209aff6fa24a97a4d      2019-04-02 15:00:22   \n",
       "5     f076a79831c97c82249851f209aff6fa24a97a4d      2019-04-02 15:00:22   \n",
       "6     f076a79831c97c82249851f209aff6fa24a97a4d      2019-04-02 15:00:22   \n",
       "9     f076a79831c97c82249851f209aff6fa24a97a4d      2019-04-02 15:00:22   \n",
       "...                                        ...                      ...   \n",
       "2501  bfa3e47383d0adc690329a2fa1094ceb64cae651      2015-08-24 08:26:49   \n",
       "2502  bfa3e47383d0adc690329a2fa1094ceb64cae651      2015-08-24 08:26:49   \n",
       "2503  bfa3e47383d0adc690329a2fa1094ceb64cae651      2015-08-24 08:26:49   \n",
       "2504  bfa3e47383d0adc690329a2fa1094ceb64cae651      2015-08-24 08:26:49   \n",
       "2505  bfa3e47383d0adc690329a2fa1094ceb64cae651      2015-08-24 08:26:49   \n",
       "\n",
       "     Official_release_date  \n",
       "1      2019-04-02 14:32:27  \n",
       "4      2019-04-02 14:32:27  \n",
       "5      2019-04-02 14:32:27  \n",
       "6      2019-04-02 14:32:27  \n",
       "9      2019-04-02 14:32:27  \n",
       "...                    ...  \n",
       "2501   2015-06-09 13:35:08  \n",
       "2502   2015-03-23 14:28:55  \n",
       "2503   2015-02-11 14:15:01  \n",
       "2504   2014-10-01 14:55:34  \n",
       "2505   2014-07-09 12:00:28  \n",
       "\n",
       "[2223 rows x 6 columns]"
      ]
     },
     "execution_count": 632,
     "metadata": {},
     "output_type": "execute_result"
    }
   ],
   "source": [
    "w[w.Preliminary_release_date > w.Official_release_date]"
   ]
  },
  {
   "cell_type": "code",
   "execution_count": 652,
   "metadata": {},
   "outputs": [
    {
     "data": {
      "text/plain": [
       "<matplotlib.axes._subplots.AxesSubplot at 0x7fd3f76713d0>"
      ]
     },
     "execution_count": 652,
     "metadata": {},
     "output_type": "execute_result"
    },
    {
     "data": {
      "image/png": "[encoded data removed]",
      "text/plain": [
       "<Figure size 1080x360 with 1 Axes>"
      ]
     },
     "metadata": {
      "needs_background": "light"
     },
     "output_type": "display_data"
    }
   ],
   "source": [
    "plt.figure(figsize=(15,5))\n",
    "tmp = [(\"Preliminary->Official\",len(w[w.Preliminary_release_date<w.Official_release_date])), (\"Official->Preliminary\",len(w[w.Preliminary_release_date>=w.Official_release_date]))]\n",
    "tmpDf = pd.DataFrame(tmp, columns=[\"Order of appearence\", \"N of issues\"])\n",
    "sns.barplot(x=\"Order of appearence\", y=\"N of issues\", data=tmpDf)"
   ]
  },
  {
   "cell_type": "markdown",
   "metadata": {},
   "source": [
    "**Observation**\n",
    "* More bugs are introduced in official releases and then persist into a preliminary one other than the other way around"
   ]
  },
  {
   "cell_type": "code",
   "execution_count": null,
   "metadata": {},
   "outputs": [],
   "source": []
  }
 ],
 "metadata": {
  "kernelspec": {
   "display_name": "Python 3",
   "language": "python",
   "name": "python3"
  },
  "language_info": {
   "codemirror_mode": {
    "name": "ipython",
    "version": 3
   },
   "file_extension": ".py",
   "mimetype": "text/x-python",
   "name": "python",
   "nbconvert_exporter": "python",
   "pygments_lexer": "ipython3",
   "version": "3.7.4"
  }
 },
 "nbformat": 4,
 "nbformat_minor": 2
}
