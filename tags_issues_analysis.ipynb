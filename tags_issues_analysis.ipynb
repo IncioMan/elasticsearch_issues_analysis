{
 "cells": [
  {
   "cell_type": "code",
   "execution_count": 1,
   "metadata": {},
   "outputs": [],
   "source": [
    "import pandas as pd\n",
    "import seaborn as sns\n",
    "import numpy as np\n",
    "import re\n",
    "import matplotlib.pyplot as plt"
   ]
  },
  {
   "cell_type": "markdown",
   "metadata": {},
   "source": [
    "# Elasticsearch issues analysis\n",
    "## Main objective\n",
    "Investigate whether issues have been used consistently over time and throughout the release versions of the software, and is therefore a reliable source of information to use when validating our anomaly predictions."
   ]
  },
  {
   "cell_type": "markdown",
   "metadata": {},
   "source": [
    "## Data loading"
   ]
  },
  {
   "cell_type": "markdown",
   "metadata": {},
   "source": [
    "### Labels"
   ]
  },
  {
   "cell_type": "code",
   "execution_count": 2,
   "metadata": {},
   "outputs": [
    {
     "data": {
      "text/html": [
       "<div>\n",
       "<style scoped>\n",
       "    .dataframe tbody tr th:only-of-type {\n",
       "        vertical-align: middle;\n",
       "    }\n",
       "\n",
       "    .dataframe tbody tr th {\n",
       "        vertical-align: top;\n",
       "    }\n",
       "\n",
       "    .dataframe thead th {\n",
       "        text-align: right;\n",
       "    }\n",
       "</style>\n",
       "<table border=\"1\" class=\"dataframe\">\n",
       "  <thead>\n",
       "    <tr style=\"text-align: right;\">\n",
       "      <th></th>\n",
       "      <th>name</th>\n",
       "      <th>description</th>\n",
       "    </tr>\n",
       "  </thead>\n",
       "  <tbody>\n",
       "    <tr>\n",
       "      <td>0</td>\n",
       "      <td>:Analytics/Aggregations</td>\n",
       "      <td>Aggregations</td>\n",
       "    </tr>\n",
       "    <tr>\n",
       "      <td>1</td>\n",
       "      <td>:Analytics/Geo</td>\n",
       "      <td>Indexing, search aggregations of geo points an...</td>\n",
       "    </tr>\n",
       "    <tr>\n",
       "      <td>2</td>\n",
       "      <td>:Analytics/Graph</td>\n",
       "      <td>Discover connections in your documents</td>\n",
       "    </tr>\n",
       "    <tr>\n",
       "      <td>3</td>\n",
       "      <td>:Analytics/Rollup</td>\n",
       "      <td>Turn fine-grained time-based data into coarser...</td>\n",
       "    </tr>\n",
       "    <tr>\n",
       "      <td>4</td>\n",
       "      <td>:Core/Features/CAT APIs</td>\n",
       "      <td>Text APIs behind /_cat</td>\n",
       "    </tr>\n",
       "    <tr>\n",
       "      <td>...</td>\n",
       "      <td>...</td>\n",
       "      <td>...</td>\n",
       "    </tr>\n",
       "    <tr>\n",
       "      <td>433</td>\n",
       "      <td>v7.8.2</td>\n",
       "      <td>NaN</td>\n",
       "    </tr>\n",
       "    <tr>\n",
       "      <td>434</td>\n",
       "      <td>v7.9.0</td>\n",
       "      <td>NaN</td>\n",
       "    </tr>\n",
       "    <tr>\n",
       "      <td>435</td>\n",
       "      <td>v7.9.1</td>\n",
       "      <td>NaN</td>\n",
       "    </tr>\n",
       "    <tr>\n",
       "      <td>436</td>\n",
       "      <td>v8.0.0</td>\n",
       "      <td>NaN</td>\n",
       "    </tr>\n",
       "    <tr>\n",
       "      <td>437</td>\n",
       "      <td>won't fix</td>\n",
       "      <td>NaN</td>\n",
       "    </tr>\n",
       "  </tbody>\n",
       "</table>\n",
       "<p>438 rows × 2 columns</p>\n",
       "</div>"
      ],
      "text/plain": [
       "                        name  \\\n",
       "0    :Analytics/Aggregations   \n",
       "1             :Analytics/Geo   \n",
       "2           :Analytics/Graph   \n",
       "3          :Analytics/Rollup   \n",
       "4    :Core/Features/CAT APIs   \n",
       "..                       ...   \n",
       "433                   v7.8.2   \n",
       "434                   v7.9.0   \n",
       "435                   v7.9.1   \n",
       "436                   v8.0.0   \n",
       "437                won't fix   \n",
       "\n",
       "                                           description  \n",
       "0                                         Aggregations  \n",
       "1    Indexing, search aggregations of geo points an...  \n",
       "2               Discover connections in your documents  \n",
       "3    Turn fine-grained time-based data into coarser...  \n",
       "4                               Text APIs behind /_cat  \n",
       "..                                                 ...  \n",
       "433                                                NaN  \n",
       "434                                                NaN  \n",
       "435                                                NaN  \n",
       "436                                                NaN  \n",
       "437                                                NaN  \n",
       "\n",
       "[438 rows x 2 columns]"
      ]
     },
     "execution_count": 2,
     "metadata": {},
     "output_type": "execute_result"
    }
   ],
   "source": [
    "issues_labels = pd.read_csv(\"./issues_labels.csv\", index_col=0, squeeze=True)\n",
    "issues_labels"
   ]
  },
  {
   "cell_type": "code",
   "execution_count": 3,
   "metadata": {},
   "outputs": [
    {
     "data": {
      "text/plain": [
       "438"
      ]
     },
     "execution_count": 3,
     "metadata": {},
     "output_type": "execute_result"
    }
   ],
   "source": [
    "len(issues_labels)"
   ]
  },
  {
   "cell_type": "markdown",
   "metadata": {},
   "source": [
    "### Issues"
   ]
  },
  {
   "cell_type": "code",
   "execution_count": 98,
   "metadata": {},
   "outputs": [
    {
     "data": {
      "text/html": [
       "<div>\n",
       "<style scoped>\n",
       "    .dataframe tbody tr th:only-of-type {\n",
       "        vertical-align: middle;\n",
       "    }\n",
       "\n",
       "    .dataframe tbody tr th {\n",
       "        vertical-align: top;\n",
       "    }\n",
       "\n",
       "    .dataframe thead th {\n",
       "        text-align: right;\n",
       "    }\n",
       "</style>\n",
       "<table border=\"1\" class=\"dataframe\">\n",
       "  <thead>\n",
       "    <tr style=\"text-align: right;\">\n",
       "      <th></th>\n",
       "      <th>title</th>\n",
       "      <th>created_at</th>\n",
       "      <th>user</th>\n",
       "    </tr>\n",
       "    <tr>\n",
       "      <th>id</th>\n",
       "      <th></th>\n",
       "      <th></th>\n",
       "      <th></th>\n",
       "    </tr>\n",
       "  </thead>\n",
       "  <tbody>\n",
       "    <tr>\n",
       "      <td>682740346</td>\n",
       "      <td>[7.9] [DOCS] Fix EQL threat detection example ...</td>\n",
       "      <td>2020-08-20 13:58:10</td>\n",
       "      <td>jrodewig</td>\n",
       "    </tr>\n",
       "    <tr>\n",
       "      <td>682739786</td>\n",
       "      <td>[7.x] [DOCS] Fix EQL threat detection example ...</td>\n",
       "      <td>2020-08-20 13:57:22</td>\n",
       "      <td>jrodewig</td>\n",
       "    </tr>\n",
       "    <tr>\n",
       "      <td>682737733</td>\n",
       "      <td>[DOCS] [7.8] Adding ignore_unavailable param. ...</td>\n",
       "      <td>2020-08-20 13:54:35</td>\n",
       "      <td>lockewritesdocs</td>\n",
       "    </tr>\n",
       "    <tr>\n",
       "      <td>682734621</td>\n",
       "      <td>[DOCS] [7.9] Adding ignore_unavailable param. ...</td>\n",
       "      <td>2020-08-20 13:50:36</td>\n",
       "      <td>lockewritesdocs</td>\n",
       "    </tr>\n",
       "    <tr>\n",
       "      <td>682732176</td>\n",
       "      <td>[DOCS] [7.x] Adding ignore_unavailable param. ...</td>\n",
       "      <td>2020-08-20 13:47:21</td>\n",
       "      <td>lockewritesdocs</td>\n",
       "    </tr>\n",
       "    <tr>\n",
       "      <td>...</td>\n",
       "      <td>...</td>\n",
       "      <td>...</td>\n",
       "      <td>...</td>\n",
       "    </tr>\n",
       "    <tr>\n",
       "      <td>23083082</td>\n",
       "      <td>Consistency between `_search` and `_msearch`</td>\n",
       "      <td>2013-11-21 17:33:06</td>\n",
       "      <td>ofavre</td>\n",
       "    </tr>\n",
       "    <tr>\n",
       "      <td>20864348</td>\n",
       "      <td>ActionResponse should implement ToXContentObject</td>\n",
       "      <td>2013-10-11 11:52:52</td>\n",
       "      <td>s1monw</td>\n",
       "    </tr>\n",
       "    <tr>\n",
       "      <td>20743479</td>\n",
       "      <td>Get document API can specify an alias, but wil...</td>\n",
       "      <td>2013-10-09 13:56:33</td>\n",
       "      <td>ccw-morris</td>\n",
       "    </tr>\n",
       "    <tr>\n",
       "      <td>12899202</td>\n",
       "      <td>index.auto_expand_replicas and shard allocatio...</td>\n",
       "      <td>2013-04-07 18:10:01</td>\n",
       "      <td>synhershko</td>\n",
       "    </tr>\n",
       "    <tr>\n",
       "      <td>1400233</td>\n",
       "      <td>Changes API</td>\n",
       "      <td>2011-08-13 15:45:14</td>\n",
       "      <td>Vineeth-Mohan</td>\n",
       "    </tr>\n",
       "  </tbody>\n",
       "</table>\n",
       "<p>61215 rows × 3 columns</p>\n",
       "</div>"
      ],
      "text/plain": [
       "                                                       title  \\\n",
       "id                                                             \n",
       "682740346  [7.9] [DOCS] Fix EQL threat detection example ...   \n",
       "682739786  [7.x] [DOCS] Fix EQL threat detection example ...   \n",
       "682737733  [DOCS] [7.8] Adding ignore_unavailable param. ...   \n",
       "682734621  [DOCS] [7.9] Adding ignore_unavailable param. ...   \n",
       "682732176  [DOCS] [7.x] Adding ignore_unavailable param. ...   \n",
       "...                                                      ...   \n",
       "23083082        Consistency between `_search` and `_msearch`   \n",
       "20864348    ActionResponse should implement ToXContentObject   \n",
       "20743479   Get document API can specify an alias, but wil...   \n",
       "12899202   index.auto_expand_replicas and shard allocatio...   \n",
       "1400233                                          Changes API   \n",
       "\n",
       "                   created_at             user  \n",
       "id                                              \n",
       "682740346 2020-08-20 13:58:10         jrodewig  \n",
       "682739786 2020-08-20 13:57:22         jrodewig  \n",
       "682737733 2020-08-20 13:54:35  lockewritesdocs  \n",
       "682734621 2020-08-20 13:50:36  lockewritesdocs  \n",
       "682732176 2020-08-20 13:47:21  lockewritesdocs  \n",
       "...                       ...              ...  \n",
       "23083082  2013-11-21 17:33:06           ofavre  \n",
       "20864348  2013-10-11 11:52:52           s1monw  \n",
       "20743479  2013-10-09 13:56:33       ccw-morris  \n",
       "12899202  2013-04-07 18:10:01       synhershko  \n",
       "1400233   2011-08-13 15:45:14    Vineeth-Mohan  \n",
       "\n",
       "[61215 rows x 3 columns]"
      ]
     },
     "execution_count": 98,
     "metadata": {},
     "output_type": "execute_result"
    }
   ],
   "source": [
    "issues = pd.read_csv(\"./issues.csv\", index_col=0, squeeze=True)\n",
    "issues.created_at = issues.created_at.astype(\"datetime64\")\n",
    "issues"
   ]
  },
  {
   "cell_type": "markdown",
   "metadata": {},
   "source": [
    "### Labels and issues "
   ]
  },
  {
   "cell_type": "code",
   "execution_count": 5,
   "metadata": {},
   "outputs": [
    {
     "data": {
      "text/html": [
       "<div>\n",
       "<style scoped>\n",
       "    .dataframe tbody tr th:only-of-type {\n",
       "        vertical-align: middle;\n",
       "    }\n",
       "\n",
       "    .dataframe tbody tr th {\n",
       "        vertical-align: top;\n",
       "    }\n",
       "\n",
       "    .dataframe thead th {\n",
       "        text-align: right;\n",
       "    }\n",
       "</style>\n",
       "<table border=\"1\" class=\"dataframe\">\n",
       "  <thead>\n",
       "    <tr style=\"text-align: right;\">\n",
       "      <th></th>\n",
       "      <th>id</th>\n",
       "      <th>label</th>\n",
       "    </tr>\n",
       "  </thead>\n",
       "  <tbody>\n",
       "    <tr>\n",
       "      <td>0</td>\n",
       "      <td>681010786</td>\n",
       "      <td>backport</td>\n",
       "    </tr>\n",
       "    <tr>\n",
       "      <td>1</td>\n",
       "      <td>681010786</td>\n",
       "      <td>v7.9.1</td>\n",
       "    </tr>\n",
       "    <tr>\n",
       "      <td>2</td>\n",
       "      <td>681010233</td>\n",
       "      <td>backport</td>\n",
       "    </tr>\n",
       "    <tr>\n",
       "      <td>3</td>\n",
       "      <td>681010233</td>\n",
       "      <td>v7.10.0</td>\n",
       "    </tr>\n",
       "    <tr>\n",
       "      <td>4</td>\n",
       "      <td>680841671</td>\n",
       "      <td>:ml</td>\n",
       "    </tr>\n",
       "    <tr>\n",
       "      <td>...</td>\n",
       "      <td>...</td>\n",
       "      <td>...</td>\n",
       "    </tr>\n",
       "    <tr>\n",
       "      <td>166760</td>\n",
       "      <td>1400233</td>\n",
       "      <td>:Distributed/Distributed</td>\n",
       "    </tr>\n",
       "    <tr>\n",
       "      <td>166761</td>\n",
       "      <td>1400233</td>\n",
       "      <td>&gt;feature</td>\n",
       "    </tr>\n",
       "    <tr>\n",
       "      <td>166762</td>\n",
       "      <td>1400233</td>\n",
       "      <td>Team:Distributed</td>\n",
       "    </tr>\n",
       "    <tr>\n",
       "      <td>166763</td>\n",
       "      <td>1400233</td>\n",
       "      <td>high hanging fruit</td>\n",
       "    </tr>\n",
       "    <tr>\n",
       "      <td>166764</td>\n",
       "      <td>1400233</td>\n",
       "      <td>stalled</td>\n",
       "    </tr>\n",
       "  </tbody>\n",
       "</table>\n",
       "<p>166765 rows × 2 columns</p>\n",
       "</div>"
      ],
      "text/plain": [
       "               id                     label\n",
       "0       681010786                  backport\n",
       "1       681010786                    v7.9.1\n",
       "2       681010233                  backport\n",
       "3       681010233                   v7.10.0\n",
       "4       680841671                       :ml\n",
       "...           ...                       ...\n",
       "166760    1400233  :Distributed/Distributed\n",
       "166761    1400233                  >feature\n",
       "166762    1400233          Team:Distributed\n",
       "166763    1400233        high hanging fruit\n",
       "166764    1400233                   stalled\n",
       "\n",
       "[166765 rows x 2 columns]"
      ]
     },
     "execution_count": 5,
     "metadata": {},
     "output_type": "execute_result"
    }
   ],
   "source": [
    "ilpr = pd.read_csv(\"issues_label_per_row.csv\", index_col=0)\n",
    "ilpr"
   ]
  },
  {
   "cell_type": "code",
   "execution_count": 6,
   "metadata": {},
   "outputs": [
    {
     "data": {
      "text/html": [
       "<div>\n",
       "<style scoped>\n",
       "    .dataframe tbody tr th:only-of-type {\n",
       "        vertical-align: middle;\n",
       "    }\n",
       "\n",
       "    .dataframe tbody tr th {\n",
       "        vertical-align: top;\n",
       "    }\n",
       "\n",
       "    .dataframe thead th {\n",
       "        text-align: right;\n",
       "    }\n",
       "</style>\n",
       "<table border=\"1\" class=\"dataframe\">\n",
       "  <thead>\n",
       "    <tr style=\"text-align: right;\">\n",
       "      <th></th>\n",
       "      <th>:Analytics/Aggregations</th>\n",
       "      <th>:Analytics/Geo</th>\n",
       "      <th>:Analytics/Graph</th>\n",
       "      <th>:Analytics/Rollup</th>\n",
       "      <th>:Core/Features/CAT APIs</th>\n",
       "      <th>:Core/Features/Data streams</th>\n",
       "      <th>:Core/Features/Features</th>\n",
       "      <th>:Core/Features/ILM+SLM</th>\n",
       "      <th>:Core/Features/Indices APIs</th>\n",
       "      <th>:Core/Features/Ingest</th>\n",
       "      <th>...</th>\n",
       "      <th>v7.7.0</th>\n",
       "      <th>v7.7.1</th>\n",
       "      <th>v7.7.2</th>\n",
       "      <th>v7.8.0</th>\n",
       "      <th>v7.8.1</th>\n",
       "      <th>v7.8.2</th>\n",
       "      <th>v7.9.0</th>\n",
       "      <th>v7.9.1</th>\n",
       "      <th>v8.0.0</th>\n",
       "      <th>won't fix</th>\n",
       "    </tr>\n",
       "    <tr>\n",
       "      <th>id</th>\n",
       "      <th></th>\n",
       "      <th></th>\n",
       "      <th></th>\n",
       "      <th></th>\n",
       "      <th></th>\n",
       "      <th></th>\n",
       "      <th></th>\n",
       "      <th></th>\n",
       "      <th></th>\n",
       "      <th></th>\n",
       "      <th></th>\n",
       "      <th></th>\n",
       "      <th></th>\n",
       "      <th></th>\n",
       "      <th></th>\n",
       "      <th></th>\n",
       "      <th></th>\n",
       "      <th></th>\n",
       "      <th></th>\n",
       "      <th></th>\n",
       "      <th></th>\n",
       "    </tr>\n",
       "  </thead>\n",
       "  <tbody>\n",
       "    <tr>\n",
       "      <td>681010786</td>\n",
       "      <td>0</td>\n",
       "      <td>0</td>\n",
       "      <td>0</td>\n",
       "      <td>0</td>\n",
       "      <td>0</td>\n",
       "      <td>0</td>\n",
       "      <td>0</td>\n",
       "      <td>0</td>\n",
       "      <td>0</td>\n",
       "      <td>0</td>\n",
       "      <td>...</td>\n",
       "      <td>0</td>\n",
       "      <td>0</td>\n",
       "      <td>0</td>\n",
       "      <td>0</td>\n",
       "      <td>0</td>\n",
       "      <td>0</td>\n",
       "      <td>0</td>\n",
       "      <td>1</td>\n",
       "      <td>0</td>\n",
       "      <td>0</td>\n",
       "    </tr>\n",
       "    <tr>\n",
       "      <td>681010233</td>\n",
       "      <td>0</td>\n",
       "      <td>0</td>\n",
       "      <td>0</td>\n",
       "      <td>0</td>\n",
       "      <td>0</td>\n",
       "      <td>0</td>\n",
       "      <td>0</td>\n",
       "      <td>0</td>\n",
       "      <td>0</td>\n",
       "      <td>0</td>\n",
       "      <td>...</td>\n",
       "      <td>0</td>\n",
       "      <td>0</td>\n",
       "      <td>0</td>\n",
       "      <td>0</td>\n",
       "      <td>0</td>\n",
       "      <td>0</td>\n",
       "      <td>0</td>\n",
       "      <td>0</td>\n",
       "      <td>0</td>\n",
       "      <td>0</td>\n",
       "    </tr>\n",
       "    <tr>\n",
       "      <td>680841671</td>\n",
       "      <td>0</td>\n",
       "      <td>0</td>\n",
       "      <td>0</td>\n",
       "      <td>0</td>\n",
       "      <td>0</td>\n",
       "      <td>0</td>\n",
       "      <td>0</td>\n",
       "      <td>0</td>\n",
       "      <td>0</td>\n",
       "      <td>0</td>\n",
       "      <td>...</td>\n",
       "      <td>0</td>\n",
       "      <td>0</td>\n",
       "      <td>0</td>\n",
       "      <td>0</td>\n",
       "      <td>0</td>\n",
       "      <td>0</td>\n",
       "      <td>0</td>\n",
       "      <td>0</td>\n",
       "      <td>0</td>\n",
       "      <td>0</td>\n",
       "    </tr>\n",
       "    <tr>\n",
       "      <td>680827130</td>\n",
       "      <td>0</td>\n",
       "      <td>0</td>\n",
       "      <td>0</td>\n",
       "      <td>0</td>\n",
       "      <td>0</td>\n",
       "      <td>0</td>\n",
       "      <td>0</td>\n",
       "      <td>0</td>\n",
       "      <td>0</td>\n",
       "      <td>0</td>\n",
       "      <td>...</td>\n",
       "      <td>0</td>\n",
       "      <td>0</td>\n",
       "      <td>0</td>\n",
       "      <td>0</td>\n",
       "      <td>0</td>\n",
       "      <td>0</td>\n",
       "      <td>0</td>\n",
       "      <td>0</td>\n",
       "      <td>0</td>\n",
       "      <td>0</td>\n",
       "    </tr>\n",
       "    <tr>\n",
       "      <td>680805162</td>\n",
       "      <td>0</td>\n",
       "      <td>0</td>\n",
       "      <td>0</td>\n",
       "      <td>0</td>\n",
       "      <td>0</td>\n",
       "      <td>0</td>\n",
       "      <td>0</td>\n",
       "      <td>0</td>\n",
       "      <td>0</td>\n",
       "      <td>0</td>\n",
       "      <td>...</td>\n",
       "      <td>0</td>\n",
       "      <td>0</td>\n",
       "      <td>0</td>\n",
       "      <td>0</td>\n",
       "      <td>0</td>\n",
       "      <td>0</td>\n",
       "      <td>0</td>\n",
       "      <td>1</td>\n",
       "      <td>1</td>\n",
       "      <td>0</td>\n",
       "    </tr>\n",
       "    <tr>\n",
       "      <td>...</td>\n",
       "      <td>...</td>\n",
       "      <td>...</td>\n",
       "      <td>...</td>\n",
       "      <td>...</td>\n",
       "      <td>...</td>\n",
       "      <td>...</td>\n",
       "      <td>...</td>\n",
       "      <td>...</td>\n",
       "      <td>...</td>\n",
       "      <td>...</td>\n",
       "      <td>...</td>\n",
       "      <td>...</td>\n",
       "      <td>...</td>\n",
       "      <td>...</td>\n",
       "      <td>...</td>\n",
       "      <td>...</td>\n",
       "      <td>...</td>\n",
       "      <td>...</td>\n",
       "      <td>...</td>\n",
       "      <td>...</td>\n",
       "      <td>...</td>\n",
       "    </tr>\n",
       "    <tr>\n",
       "      <td>23083082</td>\n",
       "      <td>0</td>\n",
       "      <td>0</td>\n",
       "      <td>0</td>\n",
       "      <td>0</td>\n",
       "      <td>0</td>\n",
       "      <td>0</td>\n",
       "      <td>0</td>\n",
       "      <td>0</td>\n",
       "      <td>0</td>\n",
       "      <td>0</td>\n",
       "      <td>...</td>\n",
       "      <td>0</td>\n",
       "      <td>0</td>\n",
       "      <td>0</td>\n",
       "      <td>0</td>\n",
       "      <td>0</td>\n",
       "      <td>0</td>\n",
       "      <td>0</td>\n",
       "      <td>0</td>\n",
       "      <td>0</td>\n",
       "      <td>0</td>\n",
       "    </tr>\n",
       "    <tr>\n",
       "      <td>20864348</td>\n",
       "      <td>0</td>\n",
       "      <td>0</td>\n",
       "      <td>0</td>\n",
       "      <td>0</td>\n",
       "      <td>0</td>\n",
       "      <td>0</td>\n",
       "      <td>0</td>\n",
       "      <td>0</td>\n",
       "      <td>0</td>\n",
       "      <td>0</td>\n",
       "      <td>...</td>\n",
       "      <td>0</td>\n",
       "      <td>0</td>\n",
       "      <td>0</td>\n",
       "      <td>0</td>\n",
       "      <td>0</td>\n",
       "      <td>0</td>\n",
       "      <td>0</td>\n",
       "      <td>0</td>\n",
       "      <td>0</td>\n",
       "      <td>0</td>\n",
       "    </tr>\n",
       "    <tr>\n",
       "      <td>20743479</td>\n",
       "      <td>0</td>\n",
       "      <td>0</td>\n",
       "      <td>0</td>\n",
       "      <td>0</td>\n",
       "      <td>0</td>\n",
       "      <td>0</td>\n",
       "      <td>0</td>\n",
       "      <td>0</td>\n",
       "      <td>1</td>\n",
       "      <td>0</td>\n",
       "      <td>...</td>\n",
       "      <td>0</td>\n",
       "      <td>0</td>\n",
       "      <td>0</td>\n",
       "      <td>0</td>\n",
       "      <td>0</td>\n",
       "      <td>0</td>\n",
       "      <td>0</td>\n",
       "      <td>0</td>\n",
       "      <td>0</td>\n",
       "      <td>0</td>\n",
       "    </tr>\n",
       "    <tr>\n",
       "      <td>12899202</td>\n",
       "      <td>0</td>\n",
       "      <td>0</td>\n",
       "      <td>0</td>\n",
       "      <td>0</td>\n",
       "      <td>0</td>\n",
       "      <td>0</td>\n",
       "      <td>0</td>\n",
       "      <td>0</td>\n",
       "      <td>0</td>\n",
       "      <td>0</td>\n",
       "      <td>...</td>\n",
       "      <td>0</td>\n",
       "      <td>0</td>\n",
       "      <td>0</td>\n",
       "      <td>0</td>\n",
       "      <td>0</td>\n",
       "      <td>0</td>\n",
       "      <td>0</td>\n",
       "      <td>0</td>\n",
       "      <td>0</td>\n",
       "      <td>0</td>\n",
       "    </tr>\n",
       "    <tr>\n",
       "      <td>1400233</td>\n",
       "      <td>0</td>\n",
       "      <td>0</td>\n",
       "      <td>0</td>\n",
       "      <td>0</td>\n",
       "      <td>0</td>\n",
       "      <td>0</td>\n",
       "      <td>0</td>\n",
       "      <td>0</td>\n",
       "      <td>0</td>\n",
       "      <td>0</td>\n",
       "      <td>...</td>\n",
       "      <td>0</td>\n",
       "      <td>0</td>\n",
       "      <td>0</td>\n",
       "      <td>0</td>\n",
       "      <td>0</td>\n",
       "      <td>0</td>\n",
       "      <td>0</td>\n",
       "      <td>0</td>\n",
       "      <td>0</td>\n",
       "      <td>0</td>\n",
       "    </tr>\n",
       "  </tbody>\n",
       "</table>\n",
       "<p>61103 rows × 438 columns</p>\n",
       "</div>"
      ],
      "text/plain": [
       "           :Analytics/Aggregations  :Analytics/Geo  :Analytics/Graph  \\\n",
       "id                                                                     \n",
       "681010786                        0               0                 0   \n",
       "681010233                        0               0                 0   \n",
       "680841671                        0               0                 0   \n",
       "680827130                        0               0                 0   \n",
       "680805162                        0               0                 0   \n",
       "...                            ...             ...               ...   \n",
       "23083082                         0               0                 0   \n",
       "20864348                         0               0                 0   \n",
       "20743479                         0               0                 0   \n",
       "12899202                         0               0                 0   \n",
       "1400233                          0               0                 0   \n",
       "\n",
       "           :Analytics/Rollup  :Core/Features/CAT APIs  \\\n",
       "id                                                      \n",
       "681010786                  0                        0   \n",
       "681010233                  0                        0   \n",
       "680841671                  0                        0   \n",
       "680827130                  0                        0   \n",
       "680805162                  0                        0   \n",
       "...                      ...                      ...   \n",
       "23083082                   0                        0   \n",
       "20864348                   0                        0   \n",
       "20743479                   0                        0   \n",
       "12899202                   0                        0   \n",
       "1400233                    0                        0   \n",
       "\n",
       "           :Core/Features/Data streams  :Core/Features/Features  \\\n",
       "id                                                                \n",
       "681010786                            0                        0   \n",
       "681010233                            0                        0   \n",
       "680841671                            0                        0   \n",
       "680827130                            0                        0   \n",
       "680805162                            0                        0   \n",
       "...                                ...                      ...   \n",
       "23083082                             0                        0   \n",
       "20864348                             0                        0   \n",
       "20743479                             0                        0   \n",
       "12899202                             0                        0   \n",
       "1400233                              0                        0   \n",
       "\n",
       "           :Core/Features/ILM+SLM  :Core/Features/Indices APIs  \\\n",
       "id                                                               \n",
       "681010786                       0                            0   \n",
       "681010233                       0                            0   \n",
       "680841671                       0                            0   \n",
       "680827130                       0                            0   \n",
       "680805162                       0                            0   \n",
       "...                           ...                          ...   \n",
       "23083082                        0                            0   \n",
       "20864348                        0                            0   \n",
       "20743479                        0                            1   \n",
       "12899202                        0                            0   \n",
       "1400233                         0                            0   \n",
       "\n",
       "           :Core/Features/Ingest  ...  v7.7.0  v7.7.1  v7.7.2  v7.8.0  v7.8.1  \\\n",
       "id                                ...                                           \n",
       "681010786                      0  ...       0       0       0       0       0   \n",
       "681010233                      0  ...       0       0       0       0       0   \n",
       "680841671                      0  ...       0       0       0       0       0   \n",
       "680827130                      0  ...       0       0       0       0       0   \n",
       "680805162                      0  ...       0       0       0       0       0   \n",
       "...                          ...  ...     ...     ...     ...     ...     ...   \n",
       "23083082                       0  ...       0       0       0       0       0   \n",
       "20864348                       0  ...       0       0       0       0       0   \n",
       "20743479                       0  ...       0       0       0       0       0   \n",
       "12899202                       0  ...       0       0       0       0       0   \n",
       "1400233                        0  ...       0       0       0       0       0   \n",
       "\n",
       "           v7.8.2  v7.9.0  v7.9.1  v8.0.0  won't fix  \n",
       "id                                                    \n",
       "681010786       0       0       1       0          0  \n",
       "681010233       0       0       0       0          0  \n",
       "680841671       0       0       0       0          0  \n",
       "680827130       0       0       0       0          0  \n",
       "680805162       0       0       1       1          0  \n",
       "...           ...     ...     ...     ...        ...  \n",
       "23083082        0       0       0       0          0  \n",
       "20864348        0       0       0       0          0  \n",
       "20743479        0       0       0       0          0  \n",
       "12899202        0       0       0       0          0  \n",
       "1400233         0       0       0       0          0  \n",
       "\n",
       "[61103 rows x 438 columns]"
      ]
     },
     "execution_count": 6,
     "metadata": {},
     "output_type": "execute_result"
    }
   ],
   "source": [
    "ilac = pd.read_csv(\"issue_labels_as_columns.csv\", index_col=0)\n",
    "ilac"
   ]
  },
  {
   "cell_type": "markdown",
   "metadata": {},
   "source": [
    "### Tags"
   ]
  },
  {
   "cell_type": "code",
   "execution_count": 86,
   "metadata": {
    "scrolled": true
   },
   "outputs": [
    {
     "data": {
      "text/html": [
       "<div>\n",
       "<style scoped>\n",
       "    .dataframe tbody tr th:only-of-type {\n",
       "        vertical-align: middle;\n",
       "    }\n",
       "\n",
       "    .dataframe tbody tr th {\n",
       "        vertical-align: top;\n",
       "    }\n",
       "\n",
       "    .dataframe thead th {\n",
       "        text-align: right;\n",
       "    }\n",
       "</style>\n",
       "<table border=\"1\" class=\"dataframe\">\n",
       "  <thead>\n",
       "    <tr style=\"text-align: right;\">\n",
       "      <th></th>\n",
       "      <th>Tag</th>\n",
       "      <th>Sha</th>\n",
       "      <th>Date</th>\n",
       "    </tr>\n",
       "  </thead>\n",
       "  <tbody>\n",
       "    <tr>\n",
       "      <td>0</td>\n",
       "      <td>v7.9.0</td>\n",
       "      <td>a479a2a7fce0389512d6a9361301708b92dff667</td>\n",
       "      <td>2020-08-11 16:42:47</td>\n",
       "    </tr>\n",
       "    <tr>\n",
       "      <td>1</td>\n",
       "      <td>v7.8.1</td>\n",
       "      <td>b5ca9c58fb664ca8bf9e4057fc229b3396bf3a89</td>\n",
       "      <td>2020-07-21 12:13:59</td>\n",
       "    </tr>\n",
       "    <tr>\n",
       "      <td>2</td>\n",
       "      <td>v7.8.0</td>\n",
       "      <td>757314695644ea9a1dc2fecd26d1a43856725e65</td>\n",
       "      <td>2020-06-12 22:39:07</td>\n",
       "    </tr>\n",
       "    <tr>\n",
       "      <td>3</td>\n",
       "      <td>v7.7.1</td>\n",
       "      <td>ad56dce891c901a492bb1ee393f12dfff473a423</td>\n",
       "      <td>2020-05-28 13:52:12</td>\n",
       "    </tr>\n",
       "    <tr>\n",
       "      <td>4</td>\n",
       "      <td>v7.7.0</td>\n",
       "      <td>81a1e9eda8e6183f5237786246f6dced26a10eaf</td>\n",
       "      <td>2020-05-08 23:11:19</td>\n",
       "    </tr>\n",
       "  </tbody>\n",
       "</table>\n",
       "</div>"
      ],
      "text/plain": [
       "      Tag                                       Sha                 Date\n",
       "0  v7.9.0  a479a2a7fce0389512d6a9361301708b92dff667  2020-08-11 16:42:47\n",
       "1  v7.8.1  b5ca9c58fb664ca8bf9e4057fc229b3396bf3a89  2020-07-21 12:13:59\n",
       "2  v7.8.0  757314695644ea9a1dc2fecd26d1a43856725e65  2020-06-12 22:39:07\n",
       "3  v7.7.1  ad56dce891c901a492bb1ee393f12dfff473a423  2020-05-28 13:52:12\n",
       "4  v7.7.0  81a1e9eda8e6183f5237786246f6dced26a10eaf  2020-05-08 23:11:19"
      ]
     },
     "execution_count": 86,
     "metadata": {},
     "output_type": "execute_result"
    }
   ],
   "source": [
    "tags = pd.read_csv(\"./tags.csv\", index_col=0)\n",
    "tags.head()"
   ]
  },
  {
   "cell_type": "code",
   "execution_count": 88,
   "metadata": {},
   "outputs": [],
   "source": [
    "tags.Date = tags.Date.astype(\"datetime64\")"
   ]
  },
  {
   "cell_type": "code",
   "execution_count": 8,
   "metadata": {},
   "outputs": [
    {
     "data": {
      "text/plain": [
       "280"
      ]
     },
     "execution_count": 8,
     "metadata": {},
     "output_type": "execute_result"
    }
   ],
   "source": [
    "len(tags)"
   ]
  },
  {
   "cell_type": "markdown",
   "metadata": {},
   "source": [
    "### Tags and issues count"
   ]
  },
  {
   "cell_type": "code",
   "execution_count": 9,
   "metadata": {},
   "outputs": [],
   "source": [
    "# format data\n",
    "tic = []\n",
    "for index, tag in tags.iterrows():\n",
    "    tic.append((tag.Tag, len(ilpr[ilpr[\"label\"]==tag.Tag].id.unique())))"
   ]
  },
  {
   "cell_type": "code",
   "execution_count": 10,
   "metadata": {},
   "outputs": [
    {
     "data": {
      "text/html": [
       "<div>\n",
       "<style scoped>\n",
       "    .dataframe tbody tr th:only-of-type {\n",
       "        vertical-align: middle;\n",
       "    }\n",
       "\n",
       "    .dataframe tbody tr th {\n",
       "        vertical-align: top;\n",
       "    }\n",
       "\n",
       "    .dataframe thead th {\n",
       "        text-align: right;\n",
       "    }\n",
       "</style>\n",
       "<table border=\"1\" class=\"dataframe\">\n",
       "  <thead>\n",
       "    <tr style=\"text-align: right;\">\n",
       "      <th></th>\n",
       "      <th>Tag</th>\n",
       "      <th>Issues</th>\n",
       "    </tr>\n",
       "  </thead>\n",
       "  <tbody>\n",
       "    <tr>\n",
       "      <td>0</td>\n",
       "      <td>v7.9.0</td>\n",
       "      <td>1553</td>\n",
       "    </tr>\n",
       "    <tr>\n",
       "      <td>1</td>\n",
       "      <td>v7.8.1</td>\n",
       "      <td>409</td>\n",
       "    </tr>\n",
       "    <tr>\n",
       "      <td>2</td>\n",
       "      <td>v7.8.0</td>\n",
       "      <td>986</td>\n",
       "    </tr>\n",
       "    <tr>\n",
       "      <td>3</td>\n",
       "      <td>v7.7.1</td>\n",
       "      <td>346</td>\n",
       "    </tr>\n",
       "    <tr>\n",
       "      <td>4</td>\n",
       "      <td>v7.7.0</td>\n",
       "      <td>1331</td>\n",
       "    </tr>\n",
       "    <tr>\n",
       "      <td>...</td>\n",
       "      <td>...</td>\n",
       "      <td>...</td>\n",
       "    </tr>\n",
       "    <tr>\n",
       "      <td>275</td>\n",
       "      <td>v0.7.0</td>\n",
       "      <td>0</td>\n",
       "    </tr>\n",
       "    <tr>\n",
       "      <td>276</td>\n",
       "      <td>v0.6.0</td>\n",
       "      <td>0</td>\n",
       "    </tr>\n",
       "    <tr>\n",
       "      <td>277</td>\n",
       "      <td>v0.5.1</td>\n",
       "      <td>0</td>\n",
       "    </tr>\n",
       "    <tr>\n",
       "      <td>278</td>\n",
       "      <td>v0.5.0</td>\n",
       "      <td>0</td>\n",
       "    </tr>\n",
       "    <tr>\n",
       "      <td>279</td>\n",
       "      <td>v0.4.0</td>\n",
       "      <td>0</td>\n",
       "    </tr>\n",
       "  </tbody>\n",
       "</table>\n",
       "<p>280 rows × 2 columns</p>\n",
       "</div>"
      ],
      "text/plain": [
       "        Tag  Issues\n",
       "0    v7.9.0    1553\n",
       "1    v7.8.1     409\n",
       "2    v7.8.0     986\n",
       "3    v7.7.1     346\n",
       "4    v7.7.0    1331\n",
       "..      ...     ...\n",
       "275  v0.7.0       0\n",
       "276  v0.6.0       0\n",
       "277  v0.5.1       0\n",
       "278  v0.5.0       0\n",
       "279  v0.4.0       0\n",
       "\n",
       "[280 rows x 2 columns]"
      ]
     },
     "execution_count": 10,
     "metadata": {},
     "output_type": "execute_result"
    }
   ],
   "source": [
    "# create a dataframe for easy manipulation\n",
    "tagsIssueCountDf = pd.DataFrame(tic, columns=[\"Tag\", \"Issues\"])\n",
    "tagsIssueCountDf"
   ]
  },
  {
   "cell_type": "markdown",
   "metadata": {},
   "source": [
    "## Data cleaning\n",
    "Inspect the data for mistakes"
   ]
  },
  {
   "cell_type": "markdown",
   "metadata": {},
   "source": [
    "### Labels\n",
    "Let's start by listing the least used labels. These may be misspelled labels which may represent duplicates and therefore only used few times."
   ]
  },
  {
   "cell_type": "code",
   "execution_count": 11,
   "metadata": {},
   "outputs": [
    {
     "data": {
      "text/html": [
       "<div>\n",
       "<style scoped>\n",
       "    .dataframe tbody tr th:only-of-type {\n",
       "        vertical-align: middle;\n",
       "    }\n",
       "\n",
       "    .dataframe tbody tr th {\n",
       "        vertical-align: top;\n",
       "    }\n",
       "\n",
       "    .dataframe thead th {\n",
       "        text-align: right;\n",
       "    }\n",
       "</style>\n",
       "<table border=\"1\" class=\"dataframe\">\n",
       "  <thead>\n",
       "    <tr style=\"text-align: right;\">\n",
       "      <th></th>\n",
       "      <th>label</th>\n",
       "      <th>id</th>\n",
       "    </tr>\n",
       "  </thead>\n",
       "  <tbody>\n",
       "    <tr>\n",
       "      <td>178</td>\n",
       "      <td>v0.19.6</td>\n",
       "      <td>1</td>\n",
       "    </tr>\n",
       "    <tr>\n",
       "      <td>150</td>\n",
       "      <td>v0.17.4</td>\n",
       "      <td>1</td>\n",
       "    </tr>\n",
       "    <tr>\n",
       "      <td>160</td>\n",
       "      <td>v0.18.4</td>\n",
       "      <td>1</td>\n",
       "    </tr>\n",
       "    <tr>\n",
       "      <td>135</td>\n",
       "      <td>v0.14.3</td>\n",
       "      <td>1</td>\n",
       "    </tr>\n",
       "    <tr>\n",
       "      <td>133</td>\n",
       "      <td>v0.14.1</td>\n",
       "      <td>1</td>\n",
       "    </tr>\n",
       "    <tr>\n",
       "      <td>152</td>\n",
       "      <td>v0.17.6</td>\n",
       "      <td>1</td>\n",
       "    </tr>\n",
       "    <tr>\n",
       "      <td>184</td>\n",
       "      <td>v0.20.1</td>\n",
       "      <td>1</td>\n",
       "    </tr>\n",
       "    <tr>\n",
       "      <td>157</td>\n",
       "      <td>v0.18.1</td>\n",
       "      <td>1</td>\n",
       "    </tr>\n",
       "    <tr>\n",
       "      <td>76</td>\n",
       "      <td>Dependency:Endpoint</td>\n",
       "      <td>1</td>\n",
       "    </tr>\n",
       "    <tr>\n",
       "      <td>55</td>\n",
       "      <td>:Security/IdentityProvider</td>\n",
       "      <td>1</td>\n",
       "    </tr>\n",
       "  </tbody>\n",
       "</table>\n",
       "</div>"
      ],
      "text/plain": [
       "                          label  id\n",
       "178                     v0.19.6   1\n",
       "150                     v0.17.4   1\n",
       "160                     v0.18.4   1\n",
       "135                     v0.14.3   1\n",
       "133                     v0.14.1   1\n",
       "152                     v0.17.6   1\n",
       "184                     v0.20.1   1\n",
       "157                     v0.18.1   1\n",
       "76          Dependency:Endpoint   1\n",
       "55   :Security/IdentityProvider   1"
      ]
     },
     "execution_count": 11,
     "metadata": {},
     "output_type": "execute_result"
    }
   ],
   "source": [
    "cnt = ilpr.groupby(\"label\").count()\n",
    "cnt = cnt.reset_index()\n",
    "cnt[(cnt.id < 5)].sort_values(by=\"id\").head(10)"
   ]
  },
  {
   "cell_type": "markdown",
   "metadata": {},
   "source": [
    "Let's filter out the labels representing versions (starting with v) as we believe they do not represent mistakes"
   ]
  },
  {
   "cell_type": "code",
   "execution_count": 12,
   "metadata": {
    "scrolled": true
   },
   "outputs": [
    {
     "data": {
      "text/html": [
       "<div>\n",
       "<style scoped>\n",
       "    .dataframe tbody tr th:only-of-type {\n",
       "        vertical-align: middle;\n",
       "    }\n",
       "\n",
       "    .dataframe tbody tr th {\n",
       "        vertical-align: top;\n",
       "    }\n",
       "\n",
       "    .dataframe thead th {\n",
       "        text-align: right;\n",
       "    }\n",
       "</style>\n",
       "<table border=\"1\" class=\"dataframe\">\n",
       "  <thead>\n",
       "    <tr style=\"text-align: right;\">\n",
       "      <th></th>\n",
       "      <th>label</th>\n",
       "      <th>id</th>\n",
       "    </tr>\n",
       "  </thead>\n",
       "  <tbody>\n",
       "    <tr>\n",
       "      <td>55</td>\n",
       "      <td>:Security/IdentityProvider</td>\n",
       "      <td>1</td>\n",
       "    </tr>\n",
       "    <tr>\n",
       "      <td>76</td>\n",
       "      <td>Dependency:Endpoint</td>\n",
       "      <td>1</td>\n",
       "    </tr>\n",
       "    <tr>\n",
       "      <td>89</td>\n",
       "      <td>Team:Performance</td>\n",
       "      <td>2</td>\n",
       "    </tr>\n",
       "    <tr>\n",
       "      <td>96</td>\n",
       "      <td>[&gt;test-mute]</td>\n",
       "      <td>2</td>\n",
       "    </tr>\n",
       "  </tbody>\n",
       "</table>\n",
       "</div>"
      ],
      "text/plain": [
       "                         label  id\n",
       "55  :Security/IdentityProvider   1\n",
       "76         Dependency:Endpoint   1\n",
       "89            Team:Performance   2\n",
       "96                [>test-mute]   2"
      ]
     },
     "execution_count": 12,
     "metadata": {},
     "output_type": "execute_result"
    }
   ],
   "source": [
    "cnt[(~cnt.label.str.startswith(\"v\"))&(cnt.id < 3)]"
   ]
  },
  {
   "cell_type": "markdown",
   "metadata": {},
   "source": [
    "It looks like these labels are correctly spelled.\n",
    "Let's check if any of these labels are misformatted or have been replace with a new label using another convention"
   ]
  },
  {
   "cell_type": "code",
   "execution_count": 13,
   "metadata": {},
   "outputs": [
    {
     "data": {
      "text/html": [
       "<div>\n",
       "<style scoped>\n",
       "    .dataframe tbody tr th:only-of-type {\n",
       "        vertical-align: middle;\n",
       "    }\n",
       "\n",
       "    .dataframe tbody tr th {\n",
       "        vertical-align: top;\n",
       "    }\n",
       "\n",
       "    .dataframe thead th {\n",
       "        text-align: right;\n",
       "    }\n",
       "</style>\n",
       "<table border=\"1\" class=\"dataframe\">\n",
       "  <thead>\n",
       "    <tr style=\"text-align: right;\">\n",
       "      <th></th>\n",
       "      <th>name</th>\n",
       "      <th>description</th>\n",
       "    </tr>\n",
       "  </thead>\n",
       "  <tbody>\n",
       "    <tr>\n",
       "      <td>41</td>\n",
       "      <td>:Performance</td>\n",
       "      <td>All issues related to Elasticsearch performanc...</td>\n",
       "    </tr>\n",
       "    <tr>\n",
       "      <td>55</td>\n",
       "      <td>:Security/IdentityProvider</td>\n",
       "      <td>Identity Provider (SSO) project in X-Pack</td>\n",
       "    </tr>\n",
       "    <tr>\n",
       "      <td>73</td>\n",
       "      <td>&gt;test-mute</td>\n",
       "      <td>Use for PR that only mute tests</td>\n",
       "    </tr>\n",
       "    <tr>\n",
       "      <td>76</td>\n",
       "      <td>Dependency:Endpoint</td>\n",
       "      <td>NaN</td>\n",
       "    </tr>\n",
       "    <tr>\n",
       "      <td>77</td>\n",
       "      <td>Dependency:SIEM</td>\n",
       "      <td>NaN</td>\n",
       "    </tr>\n",
       "    <tr>\n",
       "      <td>89</td>\n",
       "      <td>Team:Performance</td>\n",
       "      <td>Meta label for performance team</td>\n",
       "    </tr>\n",
       "    <tr>\n",
       "      <td>96</td>\n",
       "      <td>[&gt;test-mute]</td>\n",
       "      <td>NaN</td>\n",
       "    </tr>\n",
       "  </tbody>\n",
       "</table>\n",
       "</div>"
      ],
      "text/plain": [
       "                          name  \\\n",
       "41                :Performance   \n",
       "55  :Security/IdentityProvider   \n",
       "73                  >test-mute   \n",
       "76         Dependency:Endpoint   \n",
       "77             Dependency:SIEM   \n",
       "89            Team:Performance   \n",
       "96                [>test-mute]   \n",
       "\n",
       "                                          description  \n",
       "41  All issues related to Elasticsearch performanc...  \n",
       "55          Identity Provider (SSO) project in X-Pack  \n",
       "73                    Use for PR that only mute tests  \n",
       "76                                                NaN  \n",
       "77                                                NaN  \n",
       "89                    Meta label for performance team  \n",
       "96                                                NaN  "
      ]
     },
     "execution_count": 13,
     "metadata": {},
     "output_type": "execute_result"
    }
   ],
   "source": [
    "issues_labels[issues_labels.name.str.contains(\"mute\", flags=re.IGNORECASE) |\n",
    "             issues_labels.name.str.contains(\"identity\", flags=re.IGNORECASE)|\n",
    "             issues_labels.name.str.contains(\"provider\", flags=re.IGNORECASE)|\n",
    "             issues_labels.name.str.contains(\"performance\", flags=re.IGNORECASE)|\n",
    "             issues_labels.name.str.contains(\"dependency\", flags=re.IGNORECASE)]"
   ]
  },
  {
   "cell_type": "code",
   "execution_count": 14,
   "metadata": {},
   "outputs": [
    {
     "data": {
      "text/html": [
       "<div>\n",
       "<style scoped>\n",
       "    .dataframe tbody tr th:only-of-type {\n",
       "        vertical-align: middle;\n",
       "    }\n",
       "\n",
       "    .dataframe tbody tr th {\n",
       "        vertical-align: top;\n",
       "    }\n",
       "\n",
       "    .dataframe thead th {\n",
       "        text-align: right;\n",
       "    }\n",
       "</style>\n",
       "<table border=\"1\" class=\"dataframe\">\n",
       "  <thead>\n",
       "    <tr style=\"text-align: right;\">\n",
       "      <th></th>\n",
       "      <th>label</th>\n",
       "      <th>id</th>\n",
       "    </tr>\n",
       "  </thead>\n",
       "  <tbody>\n",
       "    <tr>\n",
       "      <td>73</td>\n",
       "      <td>&gt;test-mute</td>\n",
       "      <td>475</td>\n",
       "    </tr>\n",
       "    <tr>\n",
       "      <td>96</td>\n",
       "      <td>[&gt;test-mute]</td>\n",
       "      <td>2</td>\n",
       "    </tr>\n",
       "  </tbody>\n",
       "</table>\n",
       "</div>"
      ],
      "text/plain": [
       "           label   id\n",
       "73    >test-mute  475\n",
       "96  [>test-mute]    2"
      ]
     },
     "execution_count": 14,
     "metadata": {},
     "output_type": "execute_result"
    }
   ],
   "source": [
    "cnt[cnt.label.str.contains(\"test-mute\")]"
   ]
  },
  {
   "cell_type": "markdown",
   "metadata": {},
   "source": [
    "The only label which seems to be a mistake is **[>test-mute]** which we decide to replace with the more popular **>test-mute**"
   ]
  },
  {
   "cell_type": "code",
   "execution_count": 15,
   "metadata": {},
   "outputs": [],
   "source": [
    "ilpr.label = ilpr.label.replace({\"[>test-mute]\":\">test-mute\"})"
   ]
  },
  {
   "cell_type": "markdown",
   "metadata": {},
   "source": [
    "## Analysis\n",
    "* Identify types of labels\n",
    "* Quantify the number of issues and the their statistics over tags (mean, median, outliers, distributions)"
   ]
  },
  {
   "cell_type": "markdown",
   "metadata": {},
   "source": [
    "### Issues"
   ]
  },
  {
   "cell_type": "code",
   "execution_count": 16,
   "metadata": {},
   "outputs": [
    {
     "data": {
      "text/plain": [
       "61103"
      ]
     },
     "execution_count": 16,
     "metadata": {},
     "output_type": "execute_result"
    }
   ],
   "source": [
    "len(ilac)"
   ]
  },
  {
   "cell_type": "markdown",
   "metadata": {},
   "source": [
    "We have in total 61103 issues"
   ]
  },
  {
   "cell_type": "markdown",
   "metadata": {},
   "source": [
    "### Labels"
   ]
  },
  {
   "cell_type": "code",
   "execution_count": 17,
   "metadata": {},
   "outputs": [
    {
     "data": {
      "text/plain": [
       "438"
      ]
     },
     "execution_count": 17,
     "metadata": {},
     "output_type": "execute_result"
    }
   ],
   "source": [
    "len(issues_labels)"
   ]
  },
  {
   "cell_type": "markdown",
   "metadata": {},
   "source": [
    "#### Type of labels\n",
    "We were not able to find documentation for the type and convention for issue labels.\n",
    "By exploring the labels however, we identified some patterns which may help us focus our analysis.\n",
    "\n",
    "* **Sw versions** Labels representing specific sw versions have the format \"vX.Y.Z\"\n",
    "* **Major categories** These labels start with the sign \">\"\n",
    "* **Specific topics** Thes labels start with the sign \":\"\n",
    "\n",
    "We believe there is a hierarchy in labelling issues as follows: Major category -> topic"
   ]
  },
  {
   "cell_type": "markdown",
   "metadata": {},
   "source": [
    "#### Topics"
   ]
  },
  {
   "cell_type": "code",
   "execution_count": 18,
   "metadata": {},
   "outputs": [
    {
     "data": {
      "text/plain": [
       "array([':Analytics/Aggregations', ':Analytics/Geo', ':Analytics/Graph',\n",
       "       ':Analytics/Rollup', ':Core/Features/CAT APIs',\n",
       "       ':Core/Features/Data streams', ':Core/Features/Features',\n",
       "       ':Core/Features/ILM+SLM', ':Core/Features/Indices APIs',\n",
       "       ':Core/Features/Ingest',\n",
       "       ':Core/Features/Java High Level REST Client',\n",
       "       ':Core/Features/Java Low Level REST Client',\n",
       "       ':Core/Features/Monitoring', ':Core/Features/Stats',\n",
       "       ':Core/Features/Watcher', ':Core/Infra/Build',\n",
       "       ':Core/Infra/Circuit Breakers', ':Core/Infra/Core',\n",
       "       ':Core/Infra/Logging', ':Core/Infra/Packaging',\n",
       "       ':Core/Infra/Plugins', ':Core/Infra/REST API',\n",
       "       ':Core/Infra/Resiliency', ':Core/Infra/Scripting',\n",
       "       ':Core/Infra/Settings', ':Core/Infra/Transport API',\n",
       "       ':Distributed/Allocation', ':Distributed/Autoscaling',\n",
       "       ':Distributed/CCR', ':Distributed/CRUD',\n",
       "       ':Distributed/Cluster Coordination',\n",
       "       ':Distributed/Discovery-Plugins', ':Distributed/Distributed',\n",
       "       ':Distributed/Engine', ':Distributed/Network',\n",
       "       ':Distributed/Recovery', ':Distributed/Reindex',\n",
       "       ':Distributed/Snapshot/Restore', ':Distributed/Store',\n",
       "       ':Distributed/Task Management', ':Docs', ':Performance',\n",
       "       ':Query Languages/EQL', ':Query Languages/SQL', ':Search/Analysis',\n",
       "       ':Search/Highlighting', ':Search/Mapping', ':Search/Percolator',\n",
       "       ':Search/Ranking', ':Search/Search', ':Search/Suggesters',\n",
       "       ':Security/Audit', ':Security/Authentication',\n",
       "       ':Security/Authorization', ':Security/Client',\n",
       "       ':Security/IdentityProvider', ':Security/License',\n",
       "       ':Security/Network', ':Security/Security', ':ml', ':ml/Transform'],\n",
       "      dtype=object)"
      ]
     },
     "execution_count": 18,
     "metadata": {},
     "output_type": "execute_result"
    }
   ],
   "source": [
    "topic_labels = issues_labels[(issues_labels.name.str.startswith(\":\"))].name\n",
    "topic_labels.unique()"
   ]
  },
  {
   "cell_type": "markdown",
   "metadata": {},
   "source": [
    "#### Categories"
   ]
  },
  {
   "cell_type": "code",
   "execution_count": 19,
   "metadata": {
    "scrolled": false
   },
   "outputs": [
    {
     "data": {
      "text/plain": [
       "array(['>breaking', '>breaking-java', '>bug', '>deprecation', '>docs',\n",
       "       '>enhancement', '>feature', '>non-issue', '>refactoring',\n",
       "       '>regression', '>test', '>test-failure', '>test-mute', '>upgrade'],\n",
       "      dtype=object)"
      ]
     },
     "execution_count": 19,
     "metadata": {},
     "output_type": "execute_result"
    }
   ],
   "source": [
    "category_labels = issues_labels[(issues_labels.name.str.startswith(\">\"))].name\n",
    "category_labels.unique()"
   ]
  },
  {
   "cell_type": "markdown",
   "metadata": {},
   "source": [
    "#### All labels which do not represent versions"
   ]
  },
  {
   "cell_type": "code",
   "execution_count": 20,
   "metadata": {
    "scrolled": true
   },
   "outputs": [
    {
     "data": {
      "text/plain": [
       "count          120\n",
       "unique         120\n",
       "top       backport\n",
       "freq             1\n",
       "Name: name, dtype: object"
      ]
     },
     "execution_count": 20,
     "metadata": {},
     "output_type": "execute_result"
    }
   ],
   "source": [
    "labels_no_version = issues_labels[~(issues_labels.name.str.startswith(\"v\"))].name\n",
    "labels_no_version.describe()"
   ]
  },
  {
   "cell_type": "markdown",
   "metadata": {},
   "source": [
    "#### Labels which are neither tags, topics or categories"
   ]
  },
  {
   "cell_type": "code",
   "execution_count": 21,
   "metadata": {},
   "outputs": [
    {
     "data": {
      "text/html": [
       "<div>\n",
       "<style scoped>\n",
       "    .dataframe tbody tr th:only-of-type {\n",
       "        vertical-align: middle;\n",
       "    }\n",
       "\n",
       "    .dataframe tbody tr th {\n",
       "        vertical-align: top;\n",
       "    }\n",
       "\n",
       "    .dataframe thead th {\n",
       "        text-align: right;\n",
       "    }\n",
       "</style>\n",
       "<table border=\"1\" class=\"dataframe\">\n",
       "  <thead>\n",
       "    <tr style=\"text-align: right;\">\n",
       "      <th></th>\n",
       "      <th>name</th>\n",
       "      <th>description</th>\n",
       "    </tr>\n",
       "  </thead>\n",
       "  <tbody>\n",
       "    <tr>\n",
       "      <td>75</td>\n",
       "      <td>Awaiting CLA</td>\n",
       "      <td>NaN</td>\n",
       "    </tr>\n",
       "    <tr>\n",
       "      <td>76</td>\n",
       "      <td>Dependency:Endpoint</td>\n",
       "      <td>NaN</td>\n",
       "    </tr>\n",
       "    <tr>\n",
       "      <td>77</td>\n",
       "      <td>Dependency:SIEM</td>\n",
       "      <td>NaN</td>\n",
       "    </tr>\n",
       "    <tr>\n",
       "      <td>78</td>\n",
       "      <td>Meta</td>\n",
       "      <td>NaN</td>\n",
       "    </tr>\n",
       "    <tr>\n",
       "      <td>79</td>\n",
       "      <td>PITA</td>\n",
       "      <td>NaN</td>\n",
       "    </tr>\n",
       "    <tr>\n",
       "      <td>80</td>\n",
       "      <td>Pioneer Program</td>\n",
       "      <td>NaN</td>\n",
       "    </tr>\n",
       "    <tr>\n",
       "      <td>81</td>\n",
       "      <td>Pretty Bloody Important</td>\n",
       "      <td>NaN</td>\n",
       "    </tr>\n",
       "    <tr>\n",
       "      <td>82</td>\n",
       "      <td>Team:Analytics</td>\n",
       "      <td>Meta label for analytics/geo team</td>\n",
       "    </tr>\n",
       "    <tr>\n",
       "      <td>83</td>\n",
       "      <td>Team:Clients</td>\n",
       "      <td>Meta label for clients team</td>\n",
       "    </tr>\n",
       "    <tr>\n",
       "      <td>84</td>\n",
       "      <td>Team:Core/Features</td>\n",
       "      <td>Meta label for core/features team</td>\n",
       "    </tr>\n",
       "    <tr>\n",
       "      <td>85</td>\n",
       "      <td>Team:Core/Infra</td>\n",
       "      <td>Meta label for core/infra team</td>\n",
       "    </tr>\n",
       "    <tr>\n",
       "      <td>86</td>\n",
       "      <td>Team:Distributed</td>\n",
       "      <td>Meta label for distributed team</td>\n",
       "    </tr>\n",
       "    <tr>\n",
       "      <td>87</td>\n",
       "      <td>Team:Docs</td>\n",
       "      <td>Meta label for docs team</td>\n",
       "    </tr>\n",
       "    <tr>\n",
       "      <td>88</td>\n",
       "      <td>Team:ML</td>\n",
       "      <td>Meta label for the ML team</td>\n",
       "    </tr>\n",
       "    <tr>\n",
       "      <td>89</td>\n",
       "      <td>Team:Performance</td>\n",
       "      <td>Meta label for performance team</td>\n",
       "    </tr>\n",
       "    <tr>\n",
       "      <td>90</td>\n",
       "      <td>Team:QL</td>\n",
       "      <td>Meta label for query languages team</td>\n",
       "    </tr>\n",
       "    <tr>\n",
       "      <td>91</td>\n",
       "      <td>Team:Search</td>\n",
       "      <td>Meta label for search team</td>\n",
       "    </tr>\n",
       "    <tr>\n",
       "      <td>92</td>\n",
       "      <td>Team:Security</td>\n",
       "      <td>Meta label for security team</td>\n",
       "    </tr>\n",
       "    <tr>\n",
       "      <td>93</td>\n",
       "      <td>Team:UI</td>\n",
       "      <td>Meta label for UI team</td>\n",
       "    </tr>\n",
       "    <tr>\n",
       "      <td>94</td>\n",
       "      <td>Top Ask</td>\n",
       "      <td>NaN</td>\n",
       "    </tr>\n",
       "    <tr>\n",
       "      <td>95</td>\n",
       "      <td>WIP</td>\n",
       "      <td>NaN</td>\n",
       "    </tr>\n",
       "    <tr>\n",
       "      <td>96</td>\n",
       "      <td>[&gt;test-mute]</td>\n",
       "      <td>NaN</td>\n",
       "    </tr>\n",
       "    <tr>\n",
       "      <td>97</td>\n",
       "      <td>backport</td>\n",
       "      <td>NaN</td>\n",
       "    </tr>\n",
       "    <tr>\n",
       "      <td>98</td>\n",
       "      <td>backport pending</td>\n",
       "      <td>NaN</td>\n",
       "    </tr>\n",
       "    <tr>\n",
       "      <td>99</td>\n",
       "      <td>blocker</td>\n",
       "      <td>NaN</td>\n",
       "    </tr>\n",
       "    <tr>\n",
       "      <td>100</td>\n",
       "      <td>critical</td>\n",
       "      <td>NaN</td>\n",
       "    </tr>\n",
       "    <tr>\n",
       "      <td>101</td>\n",
       "      <td>das awesome</td>\n",
       "      <td>NaN</td>\n",
       "    </tr>\n",
       "    <tr>\n",
       "      <td>102</td>\n",
       "      <td>discuss</td>\n",
       "      <td>NaN</td>\n",
       "    </tr>\n",
       "    <tr>\n",
       "      <td>103</td>\n",
       "      <td>experimental/beta</td>\n",
       "      <td>NaN</td>\n",
       "    </tr>\n",
       "    <tr>\n",
       "      <td>104</td>\n",
       "      <td>feedback_needed</td>\n",
       "      <td>NaN</td>\n",
       "    </tr>\n",
       "    <tr>\n",
       "      <td>105</td>\n",
       "      <td>good first issue</td>\n",
       "      <td>low hanging fruit</td>\n",
       "    </tr>\n",
       "    <tr>\n",
       "      <td>106</td>\n",
       "      <td>help wanted</td>\n",
       "      <td>adoptme</td>\n",
       "    </tr>\n",
       "    <tr>\n",
       "      <td>107</td>\n",
       "      <td>high hanging fruit</td>\n",
       "      <td>NaN</td>\n",
       "    </tr>\n",
       "    <tr>\n",
       "      <td>108</td>\n",
       "      <td>jdk10</td>\n",
       "      <td>NaN</td>\n",
       "    </tr>\n",
       "    <tr>\n",
       "      <td>109</td>\n",
       "      <td>jdk11</td>\n",
       "      <td>NaN</td>\n",
       "    </tr>\n",
       "    <tr>\n",
       "      <td>110</td>\n",
       "      <td>jdk12</td>\n",
       "      <td>NaN</td>\n",
       "    </tr>\n",
       "    <tr>\n",
       "      <td>111</td>\n",
       "      <td>jdk9</td>\n",
       "      <td>NaN</td>\n",
       "    </tr>\n",
       "    <tr>\n",
       "      <td>112</td>\n",
       "      <td>jvm bug</td>\n",
       "      <td>NaN</td>\n",
       "    </tr>\n",
       "    <tr>\n",
       "      <td>113</td>\n",
       "      <td>needs:triage</td>\n",
       "      <td>NaN</td>\n",
       "    </tr>\n",
       "    <tr>\n",
       "      <td>114</td>\n",
       "      <td>release highlight</td>\n",
       "      <td>NaN</td>\n",
       "    </tr>\n",
       "    <tr>\n",
       "      <td>115</td>\n",
       "      <td>resiliency</td>\n",
       "      <td>NaN</td>\n",
       "    </tr>\n",
       "    <tr>\n",
       "      <td>116</td>\n",
       "      <td>stalled</td>\n",
       "      <td>NaN</td>\n",
       "    </tr>\n",
       "    <tr>\n",
       "      <td>117</td>\n",
       "      <td>team-discuss</td>\n",
       "      <td>NaN</td>\n",
       "    </tr>\n",
       "    <tr>\n",
       "      <td>118</td>\n",
       "      <td>test-forwards</td>\n",
       "      <td>NaN</td>\n",
       "    </tr>\n",
       "    <tr>\n",
       "      <td>437</td>\n",
       "      <td>won't fix</td>\n",
       "      <td>NaN</td>\n",
       "    </tr>\n",
       "  </tbody>\n",
       "</table>\n",
       "</div>"
      ],
      "text/plain": [
       "                        name                          description\n",
       "75              Awaiting CLA                                  NaN\n",
       "76       Dependency:Endpoint                                  NaN\n",
       "77           Dependency:SIEM                                  NaN\n",
       "78                      Meta                                  NaN\n",
       "79                      PITA                                  NaN\n",
       "80           Pioneer Program                                  NaN\n",
       "81   Pretty Bloody Important                                  NaN\n",
       "82            Team:Analytics    Meta label for analytics/geo team\n",
       "83              Team:Clients          Meta label for clients team\n",
       "84        Team:Core/Features    Meta label for core/features team\n",
       "85           Team:Core/Infra       Meta label for core/infra team\n",
       "86          Team:Distributed      Meta label for distributed team\n",
       "87                 Team:Docs             Meta label for docs team\n",
       "88                   Team:ML           Meta label for the ML team\n",
       "89          Team:Performance      Meta label for performance team\n",
       "90                   Team:QL  Meta label for query languages team\n",
       "91               Team:Search           Meta label for search team\n",
       "92             Team:Security         Meta label for security team\n",
       "93                   Team:UI               Meta label for UI team\n",
       "94                   Top Ask                                  NaN\n",
       "95                       WIP                                  NaN\n",
       "96              [>test-mute]                                  NaN\n",
       "97                  backport                                  NaN\n",
       "98          backport pending                                  NaN\n",
       "99                   blocker                                  NaN\n",
       "100                 critical                                  NaN\n",
       "101              das awesome                                  NaN\n",
       "102                  discuss                                  NaN\n",
       "103        experimental/beta                                  NaN\n",
       "104          feedback_needed                                  NaN\n",
       "105         good first issue                    low hanging fruit\n",
       "106              help wanted                              adoptme\n",
       "107       high hanging fruit                                  NaN\n",
       "108                    jdk10                                  NaN\n",
       "109                    jdk11                                  NaN\n",
       "110                    jdk12                                  NaN\n",
       "111                     jdk9                                  NaN\n",
       "112                  jvm bug                                  NaN\n",
       "113             needs:triage                                  NaN\n",
       "114        release highlight                                  NaN\n",
       "115               resiliency                                  NaN\n",
       "116                  stalled                                  NaN\n",
       "117             team-discuss                                  NaN\n",
       "118            test-forwards                                  NaN\n",
       "437                won't fix                                  NaN"
      ]
     },
     "execution_count": 21,
     "metadata": {},
     "output_type": "execute_result"
    }
   ],
   "source": [
    "left_out_labels = issues_labels[~(issues_labels.name.str.startswith(\"v\")) &\n",
    "                               ~(issues_labels.name.isin(category_labels)) &\n",
    "                               ~(issues_labels.name.isin(topic_labels))]\n",
    "left_out_labels"
   ]
  },
  {
   "cell_type": "markdown",
   "metadata": {},
   "source": [
    "#### Quantify overlapping of the same label groups"
   ]
  },
  {
   "cell_type": "code",
   "execution_count": 22,
   "metadata": {},
   "outputs": [
    {
     "data": {
      "text/plain": [
       "label    0.039191\n",
       "dtype: float64"
      ]
     },
     "execution_count": 22,
     "metadata": {},
     "output_type": "execute_result"
    }
   ],
   "source": [
    "(ilpr[ilpr.label.isin(category_labels)].groupby(\"id\").count() > 1).sum() / len(ilpr.id.unique())"
   ]
  },
  {
   "cell_type": "code",
   "execution_count": 23,
   "metadata": {},
   "outputs": [
    {
     "data": {
      "text/plain": [
       "label    0.029571\n",
       "dtype: float64"
      ]
     },
     "execution_count": 23,
     "metadata": {},
     "output_type": "execute_result"
    }
   ],
   "source": [
    "(ilpr[ilpr.label.isin(topic_labels)].groupby(\"id\").count() > 1).sum() / len(ilpr.id.unique())"
   ]
  },
  {
   "cell_type": "markdown",
   "metadata": {},
   "source": [
    "Indeed only the 3% and 4% have two labels of the same group"
   ]
  },
  {
   "cell_type": "markdown",
   "metadata": {},
   "source": [
    "**Observations**\n",
    "* Our intuition regarding the convention for labels seems to hold\n",
    "* The labels \"left out\" from the convention indeed seem to be internal labels, used to assign issues to some specific teams (Team:) or specify even further the specific issue type (jdk)\n",
    "* We quantified how many issues have more than one label of the same group and this resulted in a very low number (3% and 4%). The overlapping is of course allowed and in some cases needed, but this low number confirms our intuition on the convention since in 97% of the cases only one label per group is used\n",
    "* Given the high number of labels and the low overlap of the ones in the same group, it seems to make sense to analyze these macro groups separately"
   ]
  },
  {
   "cell_type": "markdown",
   "metadata": {},
   "source": [
    "### Tags and issues"
   ]
  },
  {
   "cell_type": "code",
   "execution_count": 24,
   "metadata": {
    "scrolled": false
   },
   "outputs": [
    {
     "data": {
      "text/html": [
       "<div>\n",
       "<style scoped>\n",
       "    .dataframe tbody tr th:only-of-type {\n",
       "        vertical-align: middle;\n",
       "    }\n",
       "\n",
       "    .dataframe tbody tr th {\n",
       "        vertical-align: top;\n",
       "    }\n",
       "\n",
       "    .dataframe thead th {\n",
       "        text-align: right;\n",
       "    }\n",
       "</style>\n",
       "<table border=\"1\" class=\"dataframe\">\n",
       "  <thead>\n",
       "    <tr style=\"text-align: right;\">\n",
       "      <th></th>\n",
       "      <th>Issues</th>\n",
       "    </tr>\n",
       "  </thead>\n",
       "  <tbody>\n",
       "    <tr>\n",
       "      <td>count</td>\n",
       "      <td>280.000000</td>\n",
       "    </tr>\n",
       "    <tr>\n",
       "      <td>mean</td>\n",
       "      <td>163.996429</td>\n",
       "    </tr>\n",
       "    <tr>\n",
       "      <td>std</td>\n",
       "      <td>478.836250</td>\n",
       "    </tr>\n",
       "    <tr>\n",
       "      <td>min</td>\n",
       "      <td>0.000000</td>\n",
       "    </tr>\n",
       "    <tr>\n",
       "      <td>25%</td>\n",
       "      <td>13.000000</td>\n",
       "    </tr>\n",
       "    <tr>\n",
       "      <td>50%</td>\n",
       "      <td>32.000000</td>\n",
       "    </tr>\n",
       "    <tr>\n",
       "      <td>75%</td>\n",
       "      <td>90.000000</td>\n",
       "    </tr>\n",
       "    <tr>\n",
       "      <td>max</td>\n",
       "      <td>5707.000000</td>\n",
       "    </tr>\n",
       "  </tbody>\n",
       "</table>\n",
       "</div>"
      ],
      "text/plain": [
       "            Issues\n",
       "count   280.000000\n",
       "mean    163.996429\n",
       "std     478.836250\n",
       "min       0.000000\n",
       "25%      13.000000\n",
       "50%      32.000000\n",
       "75%      90.000000\n",
       "max    5707.000000"
      ]
     },
     "execution_count": 24,
     "metadata": {},
     "output_type": "execute_result"
    }
   ],
   "source": [
    "tagsIssueCountDf.describe()"
   ]
  },
  {
   "cell_type": "markdown",
   "metadata": {},
   "source": [
    "The percentiles (75th is 90) are low compared to the mean (163). This indicates the presence of outliers which influence the mean. Indeed the max value is very high with 5707 and we have a large standard deviation.\n",
    "\n",
    "Let's plot these in a box plot to confirm our intuition"
   ]
  },
  {
   "cell_type": "code",
   "execution_count": 25,
   "metadata": {
    "scrolled": true
   },
   "outputs": [
    {
     "data": {
      "text/plain": [
       "<matplotlib.axes._subplots.AxesSubplot at 0x7f808c84b710>"
      ]
     },
     "execution_count": 25,
     "metadata": {},
     "output_type": "execute_result"
    },
    {
     "data": {
      "image/png": "[encoded data removed]",
      "text/plain": [
       "<Figure size 1080x360 with 1 Axes>"
      ]
     },
     "metadata": {
      "needs_background": "light"
     },
     "output_type": "display_data"
    }
   ],
   "source": [
    "plt.figure(figsize=(15,5))\n",
    "sns.boxplot(tagsIssueCountDf.Issues)"
   ]
  },
  {
   "cell_type": "code",
   "execution_count": 26,
   "metadata": {},
   "outputs": [
    {
     "data": {
      "text/plain": [
       "45"
      ]
     },
     "execution_count": 26,
     "metadata": {},
     "output_type": "execute_result"
    }
   ],
   "source": [
    "from matplotlib.cbook import boxplot_stats\n",
    "outliers = [y for stat in boxplot_stats(tagsIssueCountDf.Issues) for y in stat['fliers']]\n",
    "len(outliers)"
   ]
  },
  {
   "cell_type": "markdown",
   "metadata": {},
   "source": [
    "The box plots confirms the presence of outlier. There are 45 of them. It means that there are 45 tags with many issues compared to most of the tags which have a mean around 163 and a median of 32. These could be possibly very defected releases. Among these v7.0.0-beta1 results the tag with most issues."
   ]
  },
  {
   "cell_type": "code",
   "execution_count": 27,
   "metadata": {},
   "outputs": [
    {
     "data": {
      "text/html": [
       "<div>\n",
       "<style scoped>\n",
       "    .dataframe tbody tr th:only-of-type {\n",
       "        vertical-align: middle;\n",
       "    }\n",
       "\n",
       "    .dataframe tbody tr th {\n",
       "        vertical-align: top;\n",
       "    }\n",
       "\n",
       "    .dataframe thead th {\n",
       "        text-align: right;\n",
       "    }\n",
       "</style>\n",
       "<table border=\"1\" class=\"dataframe\">\n",
       "  <thead>\n",
       "    <tr style=\"text-align: right;\">\n",
       "      <th></th>\n",
       "      <th>Tag</th>\n",
       "      <th>Issues</th>\n",
       "    </tr>\n",
       "  </thead>\n",
       "  <tbody>\n",
       "    <tr>\n",
       "      <td>25</td>\n",
       "      <td>v7.0.0-beta1</td>\n",
       "      <td>5707</td>\n",
       "    </tr>\n",
       "    <tr>\n",
       "      <td>145</td>\n",
       "      <td>v2.0.0-beta1</td>\n",
       "      <td>3311</td>\n",
       "    </tr>\n",
       "    <tr>\n",
       "      <td>18</td>\n",
       "      <td>v7.2.0</td>\n",
       "      <td>1806</td>\n",
       "    </tr>\n",
       "    <tr>\n",
       "      <td>0</td>\n",
       "      <td>v7.9.0</td>\n",
       "      <td>1553</td>\n",
       "    </tr>\n",
       "    <tr>\n",
       "      <td>76</td>\n",
       "      <td>v6.0.0-alpha1</td>\n",
       "      <td>1525</td>\n",
       "    </tr>\n",
       "    <tr>\n",
       "      <td>120</td>\n",
       "      <td>v5.0.0-alpha1</td>\n",
       "      <td>1441</td>\n",
       "    </tr>\n",
       "    <tr>\n",
       "      <td>7</td>\n",
       "      <td>v7.6.0</td>\n",
       "      <td>1358</td>\n",
       "    </tr>\n",
       "    <tr>\n",
       "      <td>4</td>\n",
       "      <td>v7.7.0</td>\n",
       "      <td>1331</td>\n",
       "    </tr>\n",
       "    <tr>\n",
       "      <td>13</td>\n",
       "      <td>v7.4.0</td>\n",
       "      <td>1267</td>\n",
       "    </tr>\n",
       "    <tr>\n",
       "      <td>51</td>\n",
       "      <td>v6.5.0</td>\n",
       "      <td>1193</td>\n",
       "    </tr>\n",
       "  </tbody>\n",
       "</table>\n",
       "</div>"
      ],
      "text/plain": [
       "               Tag  Issues\n",
       "25    v7.0.0-beta1    5707\n",
       "145   v2.0.0-beta1    3311\n",
       "18          v7.2.0    1806\n",
       "0           v7.9.0    1553\n",
       "76   v6.0.0-alpha1    1525\n",
       "120  v5.0.0-alpha1    1441\n",
       "7           v7.6.0    1358\n",
       "4           v7.7.0    1331\n",
       "13          v7.4.0    1267\n",
       "51          v6.5.0    1193"
      ]
     },
     "execution_count": 27,
     "metadata": {},
     "output_type": "execute_result"
    }
   ],
   "source": [
    "outliersDf = tagsIssueCountDf.sort_values(by=\"Issues\", ascending=False).head(45)\n",
    "outliersDf.head(10)"
   ]
  },
  {
   "cell_type": "code",
   "execution_count": 28,
   "metadata": {},
   "outputs": [
    {
     "data": {
      "text/plain": [
       "0.26666666666666666"
      ]
     },
     "execution_count": 28,
     "metadata": {},
     "output_type": "execute_result"
    }
   ],
   "source": [
    "len(outliersDf[outliersDf.Tag.str.contains(\"alpha\") |\n",
    "               outliersDf.Tag.str.contains(\"rc\") |\n",
    "               outliersDf.Tag.str.contains(\"beta\")]) / len(outliers)"
   ]
  },
  {
   "cell_type": "markdown",
   "metadata": {},
   "source": [
    "26% of the outliers are alpha/beta/rc versions. The rest are official releases."
   ]
  },
  {
   "cell_type": "markdown",
   "metadata": {},
   "source": [
    "**Observation** The number of issue per each tag is not evenly distributed. A high concentration of tags with fewer than 100 issues while 45 outliers exceed the value 200 going all the way to 5707. Only 26% of these outliers are not final releases (alpha beta and rc). while the rest are.\n",
    "The number of issues for these tags may depend on \n",
    "* How buggy these releases were\n",
    "* How popular these releases were"
   ]
  },
  {
   "cell_type": "markdown",
   "metadata": {},
   "source": [
    "### Explore the distribution of issues throughout the different tags\n",
    "* Is the number of issues evenly distributed over the tags (and therefore over time)?\n",
    "* What are the most issue reported versions? Are they concentrated in some specific periods (old or recent releases)?"
   ]
  },
  {
   "cell_type": "code",
   "execution_count": 29,
   "metadata": {},
   "outputs": [
    {
     "data": {
      "image/png": "[encoded data removed]",
      "text/plain": [
       "<Figure size 1080x360 with 1 Axes>"
      ]
     },
     "metadata": {
      "needs_background": "light"
     },
     "output_type": "display_data"
    }
   ],
   "source": [
    "plt.figure(figsize=(15,5))\n",
    "plt.locator_params(axis='x', nbins=6)\n",
    "ax = sns.lineplot(x=\"Tag\", y=\"Issues\", data=tagsIssueCountDf.head(280))\n",
    "for ind, label in enumerate(ax.get_xticklabels()):\n",
    "    if ind % 20 == 0:  # every 10th label is kept\n",
    "        label.set_visible(True)\n",
    "    else:\n",
    "        label.set_visible(False)"
   ]
  },
  {
   "cell_type": "markdown",
   "metadata": {},
   "source": [
    "Let's investigate the first peak around version v1.0.0 at what tag it belongs to."
   ]
  },
  {
   "cell_type": "code",
   "execution_count": 30,
   "metadata": {},
   "outputs": [
    {
     "data": {
      "image/png": "[encoded data removed]",
      "text/plain": [
       "<Figure size 1080x360 with 1 Axes>"
      ]
     },
     "metadata": {
      "needs_background": "light"
     },
     "output_type": "display_data"
    }
   ],
   "source": [
    "plt.figure(figsize=(15,5))\n",
    "ax = sns.lineplot(x=\"Tag\", y=\"Issues\", data=tagsIssueCountDf[(tagsIssueCountDf.Tag < \"v1.2.1\") & (tagsIssueCountDf.Tag > \"v0.5\")])\n",
    "ax.tick_params(axis='x', labelrotation= 45)"
   ]
  },
  {
   "cell_type": "markdown",
   "metadata": {},
   "source": [
    "We can see that it indeed belongs to v1.0.0."
   ]
  },
  {
   "cell_type": "markdown",
   "metadata": {},
   "source": [
    "#### Comparison of below-v1 and above-v1"
   ]
  },
  {
   "cell_type": "markdown",
   "metadata": {},
   "source": [
    "Let's compare the statistics of version below and above v1.0.0 to quantify the differences in number of issues\n",
    "* Has there been a change in the use of the ITS from version 1 and above?"
   ]
  },
  {
   "cell_type": "code",
   "execution_count": 31,
   "metadata": {},
   "outputs": [
    {
     "data": {
      "text/html": [
       "<div>\n",
       "<style scoped>\n",
       "    .dataframe tbody tr th:only-of-type {\n",
       "        vertical-align: middle;\n",
       "    }\n",
       "\n",
       "    .dataframe tbody tr th {\n",
       "        vertical-align: top;\n",
       "    }\n",
       "\n",
       "    .dataframe thead th {\n",
       "        text-align: right;\n",
       "    }\n",
       "</style>\n",
       "<table border=\"1\" class=\"dataframe\">\n",
       "  <thead>\n",
       "    <tr style=\"text-align: right;\">\n",
       "      <th></th>\n",
       "      <th>Issues</th>\n",
       "    </tr>\n",
       "  </thead>\n",
       "  <tbody>\n",
       "    <tr>\n",
       "      <td>count</td>\n",
       "      <td>88.000000</td>\n",
       "    </tr>\n",
       "    <tr>\n",
       "      <td>mean</td>\n",
       "      <td>26.306818</td>\n",
       "    </tr>\n",
       "    <tr>\n",
       "      <td>std</td>\n",
       "      <td>36.415974</td>\n",
       "    </tr>\n",
       "    <tr>\n",
       "      <td>min</td>\n",
       "      <td>0.000000</td>\n",
       "    </tr>\n",
       "    <tr>\n",
       "      <td>25%</td>\n",
       "      <td>4.000000</td>\n",
       "    </tr>\n",
       "    <tr>\n",
       "      <td>50%</td>\n",
       "      <td>14.000000</td>\n",
       "    </tr>\n",
       "    <tr>\n",
       "      <td>75%</td>\n",
       "      <td>32.000000</td>\n",
       "    </tr>\n",
       "    <tr>\n",
       "      <td>max</td>\n",
       "      <td>197.000000</td>\n",
       "    </tr>\n",
       "  </tbody>\n",
       "</table>\n",
       "</div>"
      ],
      "text/plain": [
       "           Issues\n",
       "count   88.000000\n",
       "mean    26.306818\n",
       "std     36.415974\n",
       "min      0.000000\n",
       "25%      4.000000\n",
       "50%     14.000000\n",
       "75%     32.000000\n",
       "max    197.000000"
      ]
     },
     "execution_count": 31,
     "metadata": {},
     "output_type": "execute_result"
    }
   ],
   "source": [
    "tagsIssueCountDf[(tagsIssueCountDf.Tag < \"v1.0.0\")].describe()"
   ]
  },
  {
   "cell_type": "code",
   "execution_count": 32,
   "metadata": {},
   "outputs": [
    {
     "data": {
      "text/html": [
       "<div>\n",
       "<style scoped>\n",
       "    .dataframe tbody tr th:only-of-type {\n",
       "        vertical-align: middle;\n",
       "    }\n",
       "\n",
       "    .dataframe tbody tr th {\n",
       "        vertical-align: top;\n",
       "    }\n",
       "\n",
       "    .dataframe thead th {\n",
       "        text-align: right;\n",
       "    }\n",
       "</style>\n",
       "<table border=\"1\" class=\"dataframe\">\n",
       "  <thead>\n",
       "    <tr style=\"text-align: right;\">\n",
       "      <th></th>\n",
       "      <th>Issues</th>\n",
       "    </tr>\n",
       "  </thead>\n",
       "  <tbody>\n",
       "    <tr>\n",
       "      <td>count</td>\n",
       "      <td>192.000000</td>\n",
       "    </tr>\n",
       "    <tr>\n",
       "      <td>mean</td>\n",
       "      <td>227.104167</td>\n",
       "    </tr>\n",
       "    <tr>\n",
       "      <td>std</td>\n",
       "      <td>567.080832</td>\n",
       "    </tr>\n",
       "    <tr>\n",
       "      <td>min</td>\n",
       "      <td>0.000000</td>\n",
       "    </tr>\n",
       "    <tr>\n",
       "      <td>25%</td>\n",
       "      <td>21.000000</td>\n",
       "    </tr>\n",
       "    <tr>\n",
       "      <td>50%</td>\n",
       "      <td>49.000000</td>\n",
       "    </tr>\n",
       "    <tr>\n",
       "      <td>75%</td>\n",
       "      <td>159.250000</td>\n",
       "    </tr>\n",
       "    <tr>\n",
       "      <td>max</td>\n",
       "      <td>5707.000000</td>\n",
       "    </tr>\n",
       "  </tbody>\n",
       "</table>\n",
       "</div>"
      ],
      "text/plain": [
       "            Issues\n",
       "count   192.000000\n",
       "mean    227.104167\n",
       "std     567.080832\n",
       "min       0.000000\n",
       "25%      21.000000\n",
       "50%      49.000000\n",
       "75%     159.250000\n",
       "max    5707.000000"
      ]
     },
     "execution_count": 32,
     "metadata": {},
     "output_type": "execute_result"
    }
   ],
   "source": [
    "tagsIssueCountDf[(tagsIssueCountDf.Tag >= \"v1.0.0\")].describe()"
   ]
  },
  {
   "cell_type": "code",
   "execution_count": 33,
   "metadata": {},
   "outputs": [
    {
     "data": {
      "image/png": "[encoded data removed]",
      "text/plain": [
       "<Figure size 1080x360 with 1 Axes>"
      ]
     },
     "metadata": {
      "needs_background": "light"
     },
     "output_type": "display_data"
    }
   ],
   "source": [
    "plt.figure(figsize=(15,5))\n",
    "tagsv1 = pd.DataFrame(tagsIssueCountDf.Issues)\n",
    "tagsv1[\"v1\"] = tagsIssueCountDf.Tag.apply(lambda tag: \"Below v1\" if tag < \"v1.0.0\" else \"Above v1\")\n",
    "# Some outliers from Above v1 have been removed for readibility\n",
    "ax = sns.boxplot(x=\"v1\", y=\"Issues\", data=tagsv1, showfliers=False)"
   ]
  },
  {
   "cell_type": "markdown",
   "metadata": {},
   "source": [
    "**Observation** By plotting the number of issues for each tag sorted in an ascending order, we notice that the versions up to roughly v1.0.0 have few issues compared to the versions coming after. Statistical summaries show that the mean of \"below v1\" is 26 whereas \"above v1\" is 227 which is even larger than the maximum value of \"below v1\". This shows an increasing trend of more issues with versions above v1.\n",
    "\n",
    "In order to assess this impression, we need to plot statistics at a finer grain."
   ]
  },
  {
   "cell_type": "code",
   "execution_count": 34,
   "metadata": {},
   "outputs": [
    {
     "data": {
      "image/png": "[encoded data removed]",
      "text/plain": [
       "<Figure size 1080x360 with 2 Axes>"
      ]
     },
     "metadata": {
      "needs_background": "light"
     },
     "output_type": "display_data"
    }
   ],
   "source": [
    "f, axes = plt.subplots(1,2, figsize=(15,5))\n",
    "def version(tag):\n",
    "    for i in range(8):\n",
    "        if((tag > f\"v{i}\") & (tag < f\"v{i+1}\")):\n",
    "            return i\n",
    "tagsv = pd.DataFrame(tagsIssueCountDf.Issues)\n",
    "tagsv[\"version\"] = tagsIssueCountDf.Tag.apply(version)\n",
    "ax = sns.boxplot(ax=axes[0], x=\"version\", y=\"Issues\", data=tagsv, showfliers = False)\n",
    "ax = sns.boxplot(ax=axes[1], x=\"version\", y=\"Issues\", data=tagsv[tagsv.version <7], showfliers = False)"
   ]
  },
  {
   "cell_type": "markdown",
   "metadata": {},
   "source": [
    "***Observations***\n",
    "-  Given the high number of tags, we had to group them in a meaningful way. We believe that major versions is a good compromise as it preserves the temporal trend and as that is what we are interested in: verify if the ITS has been used consistently over time.\n",
    "- Our first observation turned out to be biased by versions 6 and 7 which do have significantly more issues and were therefore contributing in altering the \"abvove v1\" statistics. When we plot boxplots for tags grouped by each major version, we see that the v0 one does not differ much from the ones of v1 and v2. It is slightly lower in median and percentiles.\n",
    "\n",
    "This could be due to different reasons:\n",
    "\n",
    "* Versions below v1.0.0 were not widely adopted and therefore received fewer issues from users\n",
    "* Elasticsearch was not extensively using Github ITS as their main ITS\n",
    "* Those versions presented indeed fewer issues, possibly due to the fewer features implemented\n",
    "\n",
    "**Conclusions**\n",
    "* Elasticsearch seems to have used the ITS consistently over time and through the different versions. There has been a slightly increase over time and version 7 presents many more issues than ever before. This is probably due to either more bugs or major features implemented, as well as more popularity obtained by the project.\n",
    "\n",
    "\n",
    "**Other observations**\n",
    "- Elasticsearch has jumped from major version 2 to version 5 skipping 3 and 4"
   ]
  },
  {
   "cell_type": "code",
   "execution_count": 35,
   "metadata": {},
   "outputs": [],
   "source": [
    "versions = [0,1,2,5,6,7]"
   ]
  },
  {
   "cell_type": "markdown",
   "metadata": {},
   "source": [
    "###  Labels for versions with no tag"
   ]
  },
  {
   "cell_type": "markdown",
   "metadata": {},
   "source": [
    "List labels which do not correspond to a Tag"
   ]
  },
  {
   "cell_type": "code",
   "execution_count": 36,
   "metadata": {},
   "outputs": [
    {
     "data": {
      "text/plain": [
       "169"
      ]
     },
     "execution_count": 36,
     "metadata": {},
     "output_type": "execute_result"
    }
   ],
   "source": [
    "len(issues_labels[~issues_labels.name.isin(tags.Tag)])"
   ]
  },
  {
   "cell_type": "markdown",
   "metadata": {},
   "source": [
    "Of these labels, list the ones which do not have a tag associated"
   ]
  },
  {
   "cell_type": "code",
   "execution_count": 37,
   "metadata": {},
   "outputs": [
    {
     "data": {
      "text/plain": [
       "49"
      ]
     },
     "execution_count": 37,
     "metadata": {},
     "output_type": "execute_result"
    }
   ],
   "source": [
    "no_tag_version_labels = issues_labels[(~issues_labels.name.isin(tags.Tag)) & (issues_labels.name.str.startswith(\"v\"))].name\n",
    "len(no_tag_version_labels)"
   ]
  },
  {
   "cell_type": "markdown",
   "metadata": {},
   "source": [
    "Count how many issues are labelled with these labels"
   ]
  },
  {
   "cell_type": "code",
   "execution_count": 38,
   "metadata": {},
   "outputs": [
    {
     "data": {
      "text/plain": [
       "12938"
      ]
     },
     "execution_count": 38,
     "metadata": {},
     "output_type": "execute_result"
    }
   ],
   "source": [
    "len(ilpr[ilpr.label.isin(no_tag_version_labels.values)])"
   ]
  },
  {
   "cell_type": "code",
   "execution_count": 39,
   "metadata": {},
   "outputs": [],
   "source": [
    "issue_indexes = ilpr[ilpr.label.isin(no_tag_version_labels.values)].id.unique().tolist()"
   ]
  },
  {
   "cell_type": "markdown",
   "metadata": {},
   "source": [
    "These labels seem to be associated with internal versions which did not end up getting tagged and released.\n",
    "How many of these issues are associated only with this label as version? Issues may be labelled with more versions\n",
    "\n",
    "We first select only the interested issues. We then filter out all the labels not being versions and remove the ones not associated with tags. We are left with the count of labels associated with these issues which are tags. All of them have more than 2 of these."
   ]
  },
  {
   "cell_type": "code",
   "execution_count": 40,
   "metadata": {},
   "outputs": [],
   "source": [
    "#issues associated also with valid tag labels\n",
    "with_valid_tag = ilpr[ilpr.id.isin(issue_indexes) & \n",
    "    ilpr.label.str.startswith(\"v\") & \n",
    "    ~ilpr.label.isin(no_tag_version_labels)].id.unique().tolist()"
   ]
  },
  {
   "cell_type": "code",
   "execution_count": 41,
   "metadata": {},
   "outputs": [
    {
     "data": {
      "text/plain": [
       "0.7879115782964909"
      ]
     },
     "execution_count": 41,
     "metadata": {},
     "output_type": "execute_result"
    }
   ],
   "source": [
    "1 - len(set(issue_indexes)^set(with_valid_tag)) / len(ilpr[ilpr.label.isin(no_tag_version_labels.values)])"
   ]
  },
  {
   "cell_type": "markdown",
   "metadata": {},
   "source": [
    "**Observations**\n",
    "* Some of the labels representing versions (following the vX.Y.Z convention) do not have a corrisponding tag\n",
    "* The 78% of these issues labeled with these version-label are also associated with a valid tag label\n",
    "* The rest of these issues may have been present in some versions which did not end up being tagged as releases. This should not represent a problem in our analysis"
   ]
  },
  {
   "cell_type": "markdown",
   "metadata": {},
   "source": [
    "## Issues distributions"
   ]
  },
  {
   "cell_type": "markdown",
   "metadata": {},
   "source": [
    "### Number of labels per issues\n",
    "* The distribution of number of labels per issue"
   ]
  },
  {
   "cell_type": "code",
   "execution_count": 42,
   "metadata": {},
   "outputs": [
    {
     "data": {
      "text/plain": [
       "<matplotlib.axes._subplots.AxesSubplot at 0x7f805eaab8d0>"
      ]
     },
     "execution_count": 42,
     "metadata": {},
     "output_type": "execute_result"
    },
    {
     "data": {
      "image/png": "[encoded data removed]",
      "text/plain": [
       "<Figure size 1080x360 with 1 Axes>"
      ]
     },
     "metadata": {
      "needs_background": "light"
     },
     "output_type": "display_data"
    }
   ],
   "source": [
    "plt.figure(figsize=(15,5))\n",
    "sns.distplot(ilpr.groupby(\"id\").count())"
   ]
  },
  {
   "cell_type": "markdown",
   "metadata": {},
   "source": [
    "* Most of the issues have between 1 and 5 labels\n",
    "* The distribution seems to have a long tail with issues with around 30 labels.\n",
    "\n",
    "Let's inspect the outliers"
   ]
  },
  {
   "cell_type": "code",
   "execution_count": 43,
   "metadata": {},
   "outputs": [],
   "source": [
    "tmp = ilpr.groupby(\"id\").count() > 25"
   ]
  },
  {
   "cell_type": "code",
   "execution_count": 44,
   "metadata": {},
   "outputs": [
    {
     "data": {
      "text/html": [
       "<div>\n",
       "<style scoped>\n",
       "    .dataframe tbody tr th:only-of-type {\n",
       "        vertical-align: middle;\n",
       "    }\n",
       "\n",
       "    .dataframe tbody tr th {\n",
       "        vertical-align: top;\n",
       "    }\n",
       "\n",
       "    .dataframe thead th {\n",
       "        text-align: right;\n",
       "    }\n",
       "</style>\n",
       "<table border=\"1\" class=\"dataframe\">\n",
       "  <thead>\n",
       "    <tr style=\"text-align: right;\">\n",
       "      <th></th>\n",
       "      <th>title</th>\n",
       "      <th>created_at</th>\n",
       "      <th>user</th>\n",
       "    </tr>\n",
       "    <tr>\n",
       "      <th>id</th>\n",
       "      <th></th>\n",
       "      <th></th>\n",
       "      <th></th>\n",
       "    </tr>\n",
       "  </thead>\n",
       "  <tbody>\n",
       "    <tr>\n",
       "      <td>406385566</td>\n",
       "      <td>Docs: Drop inline callout from scroll example</td>\n",
       "      <td>2019-02-04 15:35:59</td>\n",
       "      <td>nik9000</td>\n",
       "    </tr>\n",
       "    <tr>\n",
       "      <td>419578480</td>\n",
       "      <td>Docs: Drop inline callouts from the java API</td>\n",
       "      <td>2019-03-11 16:57:45</td>\n",
       "      <td>nik9000</td>\n",
       "    </tr>\n",
       "    <tr>\n",
       "      <td>428388084</td>\n",
       "      <td>Docs: Move id in the java-api</td>\n",
       "      <td>2019-04-02 18:55:08</td>\n",
       "      <td>nik9000</td>\n",
       "    </tr>\n",
       "  </tbody>\n",
       "</table>\n",
       "</div>"
      ],
      "text/plain": [
       "                                                   title           created_at  \\\n",
       "id                                                                              \n",
       "406385566  Docs: Drop inline callout from scroll example  2019-02-04 15:35:59   \n",
       "419578480   Docs: Drop inline callouts from the java API  2019-03-11 16:57:45   \n",
       "428388084                  Docs: Move id in the java-api  2019-04-02 18:55:08   \n",
       "\n",
       "              user  \n",
       "id                  \n",
       "406385566  nik9000  \n",
       "419578480  nik9000  \n",
       "428388084  nik9000  "
      ]
     },
     "execution_count": 44,
     "metadata": {},
     "output_type": "execute_result"
    }
   ],
   "source": [
    "issues.loc[tmp[tmp.label].index]"
   ]
  },
  {
   "cell_type": "code",
   "execution_count": 45,
   "metadata": {
    "scrolled": false
   },
   "outputs": [
    {
     "name": "stdout",
     "output_type": "stream",
     "text": [
      "['>docs', 'v1.3.10', 'v1.4.5', 'v1.5.3', 'v1.6.3', 'v1.7.6', 'v2.0.3', 'v2.1.3', 'v2.2.2', 'v2.3.6', 'v2.4.7', 'v5.0.3', 'v5.1.3', 'v5.2.3', 'v5.3.3', 'v5.4.4', 'v5.5.4', 'v5.6.14', 'v6.0.3', 'v6.1.5', 'v6.2.5', 'v6.3.3', 'v6.4.4', 'v6.5.0', 'v6.6.1', 'v6.7.0', 'v7.0.0-beta1']\n",
      "[':Core/Infra/Transport API', '>docs', 'v1.4.5', 'v1.5.3', 'v1.6.3', 'v1.7.6', 'v2.0.3', 'v2.1.3', 'v2.2.2', 'v2.3.6', 'v2.4.7', 'v5.0.3', 'v5.1.3', 'v5.2.3', 'v5.3.3', 'v5.4.4', 'v5.5.4', 'v5.6.17', 'v6.0.3', 'v6.1.5', 'v6.2.4', 'v6.3.3', 'v6.4.4', 'v6.5.5', 'v6.6.3', 'v6.7.1', 'v7.0.0-rc2', 'v7.2.0', 'v8.0.0']\n",
      "['>docs', 'v0.90.14', 'v1.3.10', 'v1.4.5', 'v1.5.3', 'v1.6.3', 'v1.7.6', 'v2.0.3', 'v2.1.3', 'v2.2.2', 'v2.3.6', 'v2.4.7', 'v5.0.3', 'v5.1.3', 'v5.2.3', 'v5.3.3', 'v5.4.4', 'v5.5.4', 'v5.6.17', 'v6.0.3', 'v6.1.5', 'v6.2.5', 'v6.3.3', 'v6.4.4', 'v6.5.5', 'v6.6.3', 'v6.7.1', 'v7.0.0-rc2', 'v7.2.0', 'v8.0.0']\n"
     ]
    }
   ],
   "source": [
    "for issue in issues.loc[tmp[tmp.label].index].itertuples():\n",
    "    print(ilpr[ilpr.id == issue.Index].label.tolist())"
   ]
  },
  {
   "cell_type": "markdown",
   "metadata": {},
   "source": [
    "**Observation**\n",
    "* They are all **docs** related issues\n",
    "* We observe that the 3 outliers share the common trait of having a large number of version labels. This means that the large number of labels is due to the large number of versions affected by these docs related requests.  "
   ]
  },
  {
   "cell_type": "markdown",
   "metadata": {},
   "source": [
    "* The distribution of number of **version** labels per issue"
   ]
  },
  {
   "cell_type": "code",
   "execution_count": 46,
   "metadata": {
    "scrolled": true
   },
   "outputs": [
    {
     "data": {
      "text/plain": [
       "Text(0.5, 1.0, 'Only tag labels')"
      ]
     },
     "execution_count": 46,
     "metadata": {},
     "output_type": "execute_result"
    },
    {
     "data": {
      "image/png": "[encoded data removed]",
      "text/plain": [
       "<Figure size 1080x360 with 2 Axes>"
      ]
     },
     "metadata": {
      "needs_background": "light"
     },
     "output_type": "display_data"
    }
   ],
   "source": [
    "f, axes = plt.subplots(2, figsize=(15,5), sharex=True)\n",
    "sns.distplot(ilpr[ilpr.label.str.startswith(\"v\")].groupby(\"id\").count(), ax=axes[0])\n",
    "sns.distplot(ilpr[ilpr.label.isin(tags.Tag)].groupby(\"id\").count(), ax=axes[1])\n",
    "axes[0].set_title(\"All version labels\")\n",
    "axes[1].set_title(\"Only tag labels\")"
   ]
  },
  {
   "cell_type": "code",
   "execution_count": 47,
   "metadata": {},
   "outputs": [
    {
     "data": {
      "text/html": [
       "<div>\n",
       "<style scoped>\n",
       "    .dataframe tbody tr th:only-of-type {\n",
       "        vertical-align: middle;\n",
       "    }\n",
       "\n",
       "    .dataframe tbody tr th {\n",
       "        vertical-align: top;\n",
       "    }\n",
       "\n",
       "    .dataframe thead th {\n",
       "        text-align: right;\n",
       "    }\n",
       "</style>\n",
       "<table border=\"1\" class=\"dataframe\">\n",
       "  <thead>\n",
       "    <tr style=\"text-align: right;\">\n",
       "      <th></th>\n",
       "      <th>label</th>\n",
       "    </tr>\n",
       "  </thead>\n",
       "  <tbody>\n",
       "    <tr>\n",
       "      <td>count</td>\n",
       "      <td>30406.000000</td>\n",
       "    </tr>\n",
       "    <tr>\n",
       "      <td>mean</td>\n",
       "      <td>1.935703</td>\n",
       "    </tr>\n",
       "    <tr>\n",
       "      <td>std</td>\n",
       "      <td>1.121134</td>\n",
       "    </tr>\n",
       "    <tr>\n",
       "      <td>min</td>\n",
       "      <td>1.000000</td>\n",
       "    </tr>\n",
       "    <tr>\n",
       "      <td>25%</td>\n",
       "      <td>1.000000</td>\n",
       "    </tr>\n",
       "    <tr>\n",
       "      <td>50%</td>\n",
       "      <td>2.000000</td>\n",
       "    </tr>\n",
       "    <tr>\n",
       "      <td>75%</td>\n",
       "      <td>2.000000</td>\n",
       "    </tr>\n",
       "    <tr>\n",
       "      <td>max</td>\n",
       "      <td>29.000000</td>\n",
       "    </tr>\n",
       "  </tbody>\n",
       "</table>\n",
       "</div>"
      ],
      "text/plain": [
       "              label\n",
       "count  30406.000000\n",
       "mean       1.935703\n",
       "std        1.121134\n",
       "min        1.000000\n",
       "25%        1.000000\n",
       "50%        2.000000\n",
       "75%        2.000000\n",
       "max       29.000000"
      ]
     },
     "execution_count": 47,
     "metadata": {},
     "output_type": "execute_result"
    }
   ],
   "source": [
    "ilpr[ilpr.label.str.startswith(\"v\")].groupby(\"id\").count().describe()"
   ]
  },
  {
   "cell_type": "code",
   "execution_count": 48,
   "metadata": {
    "scrolled": false
   },
   "outputs": [
    {
     "data": {
      "text/html": [
       "<div>\n",
       "<style scoped>\n",
       "    .dataframe tbody tr th:only-of-type {\n",
       "        vertical-align: middle;\n",
       "    }\n",
       "\n",
       "    .dataframe tbody tr th {\n",
       "        vertical-align: top;\n",
       "    }\n",
       "\n",
       "    .dataframe thead th {\n",
       "        text-align: right;\n",
       "    }\n",
       "</style>\n",
       "<table border=\"1\" class=\"dataframe\">\n",
       "  <thead>\n",
       "    <tr style=\"text-align: right;\">\n",
       "      <th></th>\n",
       "      <th>label</th>\n",
       "    </tr>\n",
       "  </thead>\n",
       "  <tbody>\n",
       "    <tr>\n",
       "      <td>count</td>\n",
       "      <td>27662.000000</td>\n",
       "    </tr>\n",
       "    <tr>\n",
       "      <td>mean</td>\n",
       "      <td>1.660003</td>\n",
       "    </tr>\n",
       "    <tr>\n",
       "      <td>std</td>\n",
       "      <td>0.815891</td>\n",
       "    </tr>\n",
       "    <tr>\n",
       "      <td>min</td>\n",
       "      <td>1.000000</td>\n",
       "    </tr>\n",
       "    <tr>\n",
       "      <td>25%</td>\n",
       "      <td>1.000000</td>\n",
       "    </tr>\n",
       "    <tr>\n",
       "      <td>50%</td>\n",
       "      <td>1.000000</td>\n",
       "    </tr>\n",
       "    <tr>\n",
       "      <td>75%</td>\n",
       "      <td>2.000000</td>\n",
       "    </tr>\n",
       "    <tr>\n",
       "      <td>max</td>\n",
       "      <td>15.000000</td>\n",
       "    </tr>\n",
       "  </tbody>\n",
       "</table>\n",
       "</div>"
      ],
      "text/plain": [
       "              label\n",
       "count  27662.000000\n",
       "mean       1.660003\n",
       "std        0.815891\n",
       "min        1.000000\n",
       "25%        1.000000\n",
       "50%        1.000000\n",
       "75%        2.000000\n",
       "max       15.000000"
      ]
     },
     "execution_count": 48,
     "metadata": {},
     "output_type": "execute_result"
    }
   ],
   "source": [
    "ilpr[ilpr.label.isin(tags.Tag)].groupby(\"id\").count().describe()"
   ]
  },
  {
   "cell_type": "markdown",
   "metadata": {},
   "source": [
    "It is interesting to notice the different distribution if we only look at tag labels.\n",
    "The tail of the distribution is shorter and both the median and std are smaller.\n",
    "This means that when looking at tags (releases), issues tend to affect fewer of them (50% of the issues affect only one) than when compared to versions in general. In the latter case the mean is close to 2, meaning that issues tend to affect more versions than releases.  "
   ]
  },
  {
   "cell_type": "markdown",
   "metadata": {},
   "source": [
    "### Category distributions\n",
    "* What are the most popular category labels?\n",
    "* Do some versions present more issues of a specific category?"
   ]
  },
  {
   "cell_type": "code",
   "execution_count": 49,
   "metadata": {},
   "outputs": [
    {
     "data": {
      "image/png": "[encoded data removed]",
      "text/plain": [
       "<Figure size 1080x360 with 1 Axes>"
      ]
     },
     "metadata": {
      "needs_background": "light"
     },
     "output_type": "display_data"
    }
   ],
   "source": [
    "plt.figure(figsize=(15,5))\n",
    "cat_count = ilpr[ilpr.label.isin(category_labels)].groupby(\"label\").id.count().sort_values(ascending=False)\n",
    "ax = sns.barplot(x=cat_count.index, y=cat_count.values)"
   ]
  },
  {
   "cell_type": "code",
   "execution_count": 50,
   "metadata": {},
   "outputs": [
    {
     "data": {
      "image/png": "[encoded data removed]",
      "text/plain": [
       "<Figure size 1080x1080 with 6 Axes>"
      ]
     },
     "metadata": {
      "needs_background": "light"
     },
     "output_type": "display_data"
    }
   ],
   "source": [
    "head = 5\n",
    "fig, axes = plt.subplots(len(versions), figsize=(15,15), sharex='col')\n",
    "fig.tight_layout(h_pad=5.0)\n",
    "for i in range(len(versions)):\n",
    "    issues_for_version = ilpr[ilpr.label.str.startswith(f\"v{versions[i]}\")].id.unique()\n",
    "    issues_type_for_version = (ilpr[ilpr.id.isin(issues_for_version) & \n",
    "                               ilpr.label.isin(category_labels)].groupby(\"label\").id.count() / len(issues_for_version)).sort_values(ascending=False)\n",
    "    ax = sns.barplot(ax=axes[i], y=issues_type_for_version.head(head).index.tolist(),\n",
    "                     x=issues_type_for_version.head(head).values)\n",
    "    #ax.tick_params(axis='x', labelrotation= 45)\n",
    "    ax.set_title(f\"Version {versions[i]}\", fontdict={'fontsize': 18, 'fontweight': 'medium'})"
   ]
  },
  {
   "cell_type": "markdown",
   "metadata": {},
   "source": [
    "**Observations**\n",
    "* enhancement, bug and docs have been the most prevalent labels in this group\n",
    "* enhancement and bug have been by far the most used labels in this group \n",
    "* Over time this has slowly decreased to a point where in version 7 bug is only the 4th most used label"
   ]
  },
  {
   "cell_type": "markdown",
   "metadata": {},
   "source": [
    "### Topics distribution\n",
    "* What are the most popular topic labels?\n",
    "* Do some versions present more issues of a specific topic?"
   ]
  },
  {
   "cell_type": "code",
   "execution_count": 51,
   "metadata": {},
   "outputs": [
    {
     "data": {
      "image/png": "[encoded data removed]",
      "text/plain": [
       "<Figure size 1080x360 with 1 Axes>"
      ]
     },
     "metadata": {
      "needs_background": "light"
     },
     "output_type": "display_data"
    }
   ],
   "source": [
    "plt.figure(figsize=(15,5))\n",
    "top_topic_labels = ilpr[ilpr.label.isin(topic_labels)].groupby(\"label\").id.count().sort_values(ascending=False).head(15)\n",
    "ax = sns.barplot(x=top_topic_labels.index, y=top_topic_labels.values)\n",
    "ax.tick_params(axis='x', labelrotation= 45)"
   ]
  },
  {
   "cell_type": "code",
   "execution_count": 52,
   "metadata": {},
   "outputs": [
    {
     "data": {
      "image/png": "[encoded data removed]",
      "text/plain": [
       "<Figure size 1080x1080 with 6 Axes>"
      ]
     },
     "metadata": {
      "needs_background": "light"
     },
     "output_type": "display_data"
    }
   ],
   "source": [
    "head = 5\n",
    "fig, axes = plt.subplots(len(versions), figsize=(15,15), sharex='col')\n",
    "fig.tight_layout(h_pad=5.0)\n",
    "for i in range(len(versions)):\n",
    "    issues_for_version = ilpr[ilpr.label.str.startswith(f\"v{versions[i]}\")].id.unique()\n",
    "    issues_type_for_version = (ilpr[ilpr.id.isin(issues_for_version) & \n",
    "                               ilpr.label.isin(topic_labels)].groupby(\"label\").id.count() / len(issues_for_version)).sort_values(ascending=False)\n",
    "    ax = sns.barplot(ax=axes[i], y=issues_type_for_version.head(head).index.tolist(),\n",
    "                     x=issues_type_for_version.head(head).values)\n",
    "    #ax.tick_params(axis='x', labelrotation= 45)\n",
    "    ax.set_title(f\"Version {versions[i]}\", fontdict={'fontsize': 18, 'fontweight': 'medium'})"
   ]
  },
  {
   "cell_type": "markdown",
   "metadata": {},
   "source": [
    "**Observations**\n",
    "* Search/Search is by far the most popular label in the topic group over all issues\n",
    "* Version 0 did not present many issues labeled with topic labels\n",
    "* From version 1 we see a more extensive use of topic labels\n",
    "* Search/Search is in the top labels for all versions. This does not surprise given the nature of elasticsearch\n",
    "* Machine learning has gained popularity and we can see that it is the top label for the most recent version whereas it was not present in the top labels of the previous versions\n",
    "* The opposite has happened for Analytics/Aggregation which has slowly lost popularity since version 5"
   ]
  },
  {
   "cell_type": "markdown",
   "metadata": {},
   "source": [
    "### Preliminary releases vs Official"
   ]
  },
  {
   "cell_type": "markdown",
   "metadata": {},
   "source": [
    "* Do intermidiate releases (alpha, beta and rc) receive less issues?\n",
    "* Do they present more of some specific types of issues?"
   ]
  },
  {
   "cell_type": "code",
   "execution_count": 53,
   "metadata": {},
   "outputs": [
    {
     "data": {
      "text/html": [
       "<div>\n",
       "<style scoped>\n",
       "    .dataframe tbody tr th:only-of-type {\n",
       "        vertical-align: middle;\n",
       "    }\n",
       "\n",
       "    .dataframe tbody tr th {\n",
       "        vertical-align: top;\n",
       "    }\n",
       "\n",
       "    .dataframe thead th {\n",
       "        text-align: right;\n",
       "    }\n",
       "</style>\n",
       "<table border=\"1\" class=\"dataframe\">\n",
       "  <thead>\n",
       "    <tr style=\"text-align: right;\">\n",
       "      <th></th>\n",
       "      <th>Tag</th>\n",
       "      <th>Sha</th>\n",
       "      <th>Date</th>\n",
       "    </tr>\n",
       "  </thead>\n",
       "  <tbody>\n",
       "    <tr>\n",
       "      <td>23</td>\n",
       "      <td>v7.0.0-rc2</td>\n",
       "      <td>f076a79831c97c82249851f209aff6fa24a97a4d</td>\n",
       "      <td>2019-04-02 15:00:22</td>\n",
       "    </tr>\n",
       "    <tr>\n",
       "      <td>24</td>\n",
       "      <td>v7.0.0-rc1</td>\n",
       "      <td>486505d65bdbd2a324242b64783ad87605b2d693</td>\n",
       "      <td>2019-03-22 18:24:22</td>\n",
       "    </tr>\n",
       "    <tr>\n",
       "      <td>25</td>\n",
       "      <td>v7.0.0-beta1</td>\n",
       "      <td>15bb494041370cf0f6b4414e37be6fb7a30a06cd</td>\n",
       "      <td>2019-02-13 09:07:16</td>\n",
       "    </tr>\n",
       "    <tr>\n",
       "      <td>26</td>\n",
       "      <td>v7.0.0-alpha2</td>\n",
       "      <td>a30e8c2fa3a8ee381c4fa6eae550681fee764cf5</td>\n",
       "      <td>2018-12-15 06:34:54</td>\n",
       "    </tr>\n",
       "    <tr>\n",
       "      <td>27</td>\n",
       "      <td>v7.0.0-alpha1</td>\n",
       "      <td>76cefb06e31967c6db2bdb827871e8d40741473a</td>\n",
       "      <td>2018-11-13 09:57:12</td>\n",
       "    </tr>\n",
       "  </tbody>\n",
       "</table>\n",
       "</div>"
      ],
      "text/plain": [
       "              Tag                                       Sha  \\\n",
       "23     v7.0.0-rc2  f076a79831c97c82249851f209aff6fa24a97a4d   \n",
       "24     v7.0.0-rc1  486505d65bdbd2a324242b64783ad87605b2d693   \n",
       "25   v7.0.0-beta1  15bb494041370cf0f6b4414e37be6fb7a30a06cd   \n",
       "26  v7.0.0-alpha2  a30e8c2fa3a8ee381c4fa6eae550681fee764cf5   \n",
       "27  v7.0.0-alpha1  76cefb06e31967c6db2bdb827871e8d40741473a   \n",
       "\n",
       "                   Date  \n",
       "23  2019-04-02 15:00:22  \n",
       "24  2019-03-22 18:24:22  \n",
       "25  2019-02-13 09:07:16  \n",
       "26  2018-12-15 06:34:54  \n",
       "27  2018-11-13 09:57:12  "
      ]
     },
     "execution_count": 53,
     "metadata": {},
     "output_type": "execute_result"
    }
   ],
   "source": [
    "preliminary_releases = tags[tags.Tag.str.contains(\"alpha\") | \n",
    "                      tags.Tag.str.contains(\"beta\") |\n",
    "                      tags.Tag.str.contains(\"rc\")]\n",
    "preliminary_releases.head()"
   ]
  },
  {
   "cell_type": "code",
   "execution_count": 54,
   "metadata": {},
   "outputs": [
    {
     "data": {
      "text/html": [
       "<div>\n",
       "<style scoped>\n",
       "    .dataframe tbody tr th:only-of-type {\n",
       "        vertical-align: middle;\n",
       "    }\n",
       "\n",
       "    .dataframe tbody tr th {\n",
       "        vertical-align: top;\n",
       "    }\n",
       "\n",
       "    .dataframe thead th {\n",
       "        text-align: right;\n",
       "    }\n",
       "</style>\n",
       "<table border=\"1\" class=\"dataframe\">\n",
       "  <thead>\n",
       "    <tr style=\"text-align: right;\">\n",
       "      <th></th>\n",
       "      <th>Tag</th>\n",
       "      <th>Sha</th>\n",
       "      <th>Date</th>\n",
       "    </tr>\n",
       "  </thead>\n",
       "  <tbody>\n",
       "    <tr>\n",
       "      <td>0</td>\n",
       "      <td>v7.9.0</td>\n",
       "      <td>a479a2a7fce0389512d6a9361301708b92dff667</td>\n",
       "      <td>2020-08-11 16:42:47</td>\n",
       "    </tr>\n",
       "    <tr>\n",
       "      <td>1</td>\n",
       "      <td>v7.8.1</td>\n",
       "      <td>b5ca9c58fb664ca8bf9e4057fc229b3396bf3a89</td>\n",
       "      <td>2020-07-21 12:13:59</td>\n",
       "    </tr>\n",
       "    <tr>\n",
       "      <td>2</td>\n",
       "      <td>v7.8.0</td>\n",
       "      <td>757314695644ea9a1dc2fecd26d1a43856725e65</td>\n",
       "      <td>2020-06-12 22:39:07</td>\n",
       "    </tr>\n",
       "    <tr>\n",
       "      <td>3</td>\n",
       "      <td>v7.7.1</td>\n",
       "      <td>ad56dce891c901a492bb1ee393f12dfff473a423</td>\n",
       "      <td>2020-05-28 13:52:12</td>\n",
       "    </tr>\n",
       "    <tr>\n",
       "      <td>4</td>\n",
       "      <td>v7.7.0</td>\n",
       "      <td>81a1e9eda8e6183f5237786246f6dced26a10eaf</td>\n",
       "      <td>2020-05-08 23:11:19</td>\n",
       "    </tr>\n",
       "  </tbody>\n",
       "</table>\n",
       "</div>"
      ],
      "text/plain": [
       "      Tag                                       Sha                 Date\n",
       "0  v7.9.0  a479a2a7fce0389512d6a9361301708b92dff667  2020-08-11 16:42:47\n",
       "1  v7.8.1  b5ca9c58fb664ca8bf9e4057fc229b3396bf3a89  2020-07-21 12:13:59\n",
       "2  v7.8.0  757314695644ea9a1dc2fecd26d1a43856725e65  2020-06-12 22:39:07\n",
       "3  v7.7.1  ad56dce891c901a492bb1ee393f12dfff473a423  2020-05-28 13:52:12\n",
       "4  v7.7.0  81a1e9eda8e6183f5237786246f6dced26a10eaf  2020-05-08 23:11:19"
      ]
     },
     "execution_count": 54,
     "metadata": {},
     "output_type": "execute_result"
    }
   ],
   "source": [
    "official_tags = tags[~tags.Tag.isin(preliminary_releases.Tag)]\n",
    "official_tags.head()"
   ]
  },
  {
   "cell_type": "code",
   "execution_count": 55,
   "metadata": {},
   "outputs": [
    {
     "data": {
      "text/plain": [
       "<matplotlib.axes._subplots.AxesSubplot at 0x7f805f180dd0>"
      ]
     },
     "execution_count": 55,
     "metadata": {},
     "output_type": "execute_result"
    },
    {
     "data": {
      "image/png": "[encoded data removed]",
      "text/plain": [
       "<Figure size 1080x360 with 1 Axes>"
      ]
     },
     "metadata": {
      "needs_background": "light"
     },
     "output_type": "display_data"
    }
   ],
   "source": [
    "plt.figure(figsize=(15,5))\n",
    "type_tag_count = [(\"Preliminary releases\", len(ilpr[ilpr.label.isin(preliminary_releases.Tag)])/len(preliminary_releases.Tag)),\n",
    "                  (\"Official releases\", len(ilpr[ilpr.label.isin(official_tags.Tag)])/len(official_tags.Tag))]\n",
    "type_release_issue_count = pd.DataFrame(type_tag_count, columns=[\"Type of release\", \"Avarage n of issue per release\"])\n",
    "sns.barplot(x=\"Type of release\", y=\"Avarage n of issue per release\", data=type_release_issue_count)"
   ]
  },
  {
   "cell_type": "markdown",
   "metadata": {},
   "source": [
    "**Observation**\n",
    "Preliminary releases do receive significantly more bugs than offical releases.<br/>\n",
    "This can be expected due to their nature of being \"test\" releases and not fully ready to be released."
   ]
  },
  {
   "cell_type": "markdown",
   "metadata": {},
   "source": [
    "* How many of the issues on preliminary releases ended up being reported on official releases as well?"
   ]
  },
  {
   "cell_type": "code",
   "execution_count": 56,
   "metadata": {},
   "outputs": [
    {
     "data": {
      "text/plain": [
       "62.44867739112876"
      ]
     },
     "execution_count": 56,
     "metadata": {},
     "output_type": "execute_result"
    }
   ],
   "source": [
    "issue_prel_off = list(set.intersection(set(ilpr[ilpr.label.isin(official_tags.Tag)].id.unique()), set(ilpr[ilpr.label.isin(preliminary_releases.Tag)].id.unique())))\n",
    "len(issue_prel_off) / len(ilpr[ilpr.label.isin(preliminary_releases.Tag)].id.unique()) * 100"
   ]
  },
  {
   "cell_type": "markdown",
   "metadata": {},
   "source": [
    "62% of the issues assigned on a preliminary release are also assigned to an official release.\n",
    "\n",
    "\n",
    "This can both mean:\n",
    "* that issues occured for the first time in a preliminary version but were not fixed before releasing the official version\n",
    "* Issues were present in an official release but were not fixed before tagging the following preliminary release\n",
    "\n",
    "Let's investigate how often these two cases happen. We will focus our analysis on bugs only as this is what our final goal will mainly focus on."
   ]
  },
  {
   "cell_type": "code",
   "execution_count": 57,
   "metadata": {},
   "outputs": [],
   "source": [
    "bug_issues = ilpr[ilpr.id.isin(ilpr[ilpr.label == \">bug\"].id)]"
   ]
  },
  {
   "cell_type": "code",
   "execution_count": 58,
   "metadata": {},
   "outputs": [],
   "source": [
    "x = pd.merge(bug_issues, preliminary_releases, left_on=\"label\", right_on=\"Tag\")\n",
    "x = x.rename(columns={\"Date\":\"Preliminary_release_date\"})"
   ]
  },
  {
   "cell_type": "code",
   "execution_count": 59,
   "metadata": {},
   "outputs": [],
   "source": [
    "y = pd.merge(bug_issues, official_tags, left_on=\"label\", right_on=\"Tag\").groupby(\"id\").Date.min()"
   ]
  },
  {
   "cell_type": "code",
   "execution_count": 60,
   "metadata": {},
   "outputs": [],
   "source": [
    "z = pd.DataFrame(y)\n",
    "z = z.rename(columns={\"Date\":\"Official_release_date\"})"
   ]
  },
  {
   "cell_type": "code",
   "execution_count": 61,
   "metadata": {},
   "outputs": [],
   "source": [
    "w = pd.merge(x, z, on=\"id\")"
   ]
  },
  {
   "cell_type": "markdown",
   "metadata": {},
   "source": [
    "Issues which appeared first in the preliminary release and afterwards also in an official one."
   ]
  },
  {
   "cell_type": "code",
   "execution_count": 62,
   "metadata": {
    "scrolled": true
   },
   "outputs": [
    {
     "data": {
      "text/html": [
       "<div>\n",
       "<style scoped>\n",
       "    .dataframe tbody tr th:only-of-type {\n",
       "        vertical-align: middle;\n",
       "    }\n",
       "\n",
       "    .dataframe tbody tr th {\n",
       "        vertical-align: top;\n",
       "    }\n",
       "\n",
       "    .dataframe thead th {\n",
       "        text-align: right;\n",
       "    }\n",
       "</style>\n",
       "<table border=\"1\" class=\"dataframe\">\n",
       "  <thead>\n",
       "    <tr style=\"text-align: right;\">\n",
       "      <th></th>\n",
       "      <th>id</th>\n",
       "      <th>label</th>\n",
       "      <th>Tag</th>\n",
       "      <th>Sha</th>\n",
       "      <th>Preliminary_release_date</th>\n",
       "      <th>Official_release_date</th>\n",
       "    </tr>\n",
       "  </thead>\n",
       "  <tbody>\n",
       "    <tr>\n",
       "      <td>0</td>\n",
       "      <td>429676052</td>\n",
       "      <td>v7.0.0-rc2</td>\n",
       "      <td>v7.0.0-rc2</td>\n",
       "      <td>f076a79831c97c82249851f209aff6fa24a97a4d</td>\n",
       "      <td>2019-04-02 15:00:22</td>\n",
       "      <td>2019-04-05 21:42:14</td>\n",
       "    </tr>\n",
       "    <tr>\n",
       "      <td>2</td>\n",
       "      <td>427296936</td>\n",
       "      <td>v7.0.0-rc2</td>\n",
       "      <td>v7.0.0-rc2</td>\n",
       "      <td>f076a79831c97c82249851f209aff6fa24a97a4d</td>\n",
       "      <td>2019-04-02 15:00:22</td>\n",
       "      <td>2019-04-29 03:58:47</td>\n",
       "    </tr>\n",
       "    <tr>\n",
       "      <td>3</td>\n",
       "      <td>427124926</td>\n",
       "      <td>v7.0.0-rc2</td>\n",
       "      <td>v7.0.0-rc2</td>\n",
       "      <td>f076a79831c97c82249851f209aff6fa24a97a4d</td>\n",
       "      <td>2019-04-02 15:00:22</td>\n",
       "      <td>2019-04-29 03:58:47</td>\n",
       "    </tr>\n",
       "    <tr>\n",
       "      <td>7</td>\n",
       "      <td>425970784</td>\n",
       "      <td>v7.0.0-rc2</td>\n",
       "      <td>v7.0.0-rc2</td>\n",
       "      <td>f076a79831c97c82249851f209aff6fa24a97a4d</td>\n",
       "      <td>2019-04-02 15:00:22</td>\n",
       "      <td>2019-06-20 12:10:21</td>\n",
       "    </tr>\n",
       "    <tr>\n",
       "      <td>8</td>\n",
       "      <td>425948413</td>\n",
       "      <td>v7.0.0-rc2</td>\n",
       "      <td>v7.0.0-rc2</td>\n",
       "      <td>f076a79831c97c82249851f209aff6fa24a97a4d</td>\n",
       "      <td>2019-04-02 15:00:22</td>\n",
       "      <td>2019-06-20 12:10:21</td>\n",
       "    </tr>\n",
       "    <tr>\n",
       "      <td>...</td>\n",
       "      <td>...</td>\n",
       "      <td>...</td>\n",
       "      <td>...</td>\n",
       "      <td>...</td>\n",
       "      <td>...</td>\n",
       "      <td>...</td>\n",
       "    </tr>\n",
       "    <tr>\n",
       "      <td>1648</td>\n",
       "      <td>99201860</td>\n",
       "      <td>v2.0.0-beta1</td>\n",
       "      <td>v2.0.0-beta1</td>\n",
       "      <td>bfa3e47383d0adc690329a2fa1094ceb64cae651</td>\n",
       "      <td>2015-08-24 08:26:49</td>\n",
       "      <td>2015-09-14 09:48:05</td>\n",
       "    </tr>\n",
       "    <tr>\n",
       "      <td>1649</td>\n",
       "      <td>99176061</td>\n",
       "      <td>v2.0.0-beta1</td>\n",
       "      <td>v2.0.0-beta1</td>\n",
       "      <td>bfa3e47383d0adc690329a2fa1094ceb64cae651</td>\n",
       "      <td>2015-08-24 08:26:49</td>\n",
       "      <td>2015-09-14 09:48:05</td>\n",
       "    </tr>\n",
       "    <tr>\n",
       "      <td>1650</td>\n",
       "      <td>98732110</td>\n",
       "      <td>v2.0.0-beta1</td>\n",
       "      <td>v2.0.0-beta1</td>\n",
       "      <td>bfa3e47383d0adc690329a2fa1094ceb64cae651</td>\n",
       "      <td>2015-08-24 08:26:49</td>\n",
       "      <td>2015-09-14 09:48:05</td>\n",
       "    </tr>\n",
       "    <tr>\n",
       "      <td>1651</td>\n",
       "      <td>97748933</td>\n",
       "      <td>v2.0.0-beta1</td>\n",
       "      <td>v2.0.0-beta1</td>\n",
       "      <td>bfa3e47383d0adc690329a2fa1094ceb64cae651</td>\n",
       "      <td>2015-08-24 08:26:49</td>\n",
       "      <td>2015-09-14 09:48:05</td>\n",
       "    </tr>\n",
       "    <tr>\n",
       "      <td>1658</td>\n",
       "      <td>95478178</td>\n",
       "      <td>v2.0.0-beta1</td>\n",
       "      <td>v2.0.0-beta1</td>\n",
       "      <td>bfa3e47383d0adc690329a2fa1094ceb64cae651</td>\n",
       "      <td>2015-08-24 08:26:49</td>\n",
       "      <td>2015-09-14 09:48:05</td>\n",
       "    </tr>\n",
       "  </tbody>\n",
       "</table>\n",
       "<p>254 rows × 6 columns</p>\n",
       "</div>"
      ],
      "text/plain": [
       "             id         label           Tag  \\\n",
       "0     429676052    v7.0.0-rc2    v7.0.0-rc2   \n",
       "2     427296936    v7.0.0-rc2    v7.0.0-rc2   \n",
       "3     427124926    v7.0.0-rc2    v7.0.0-rc2   \n",
       "7     425970784    v7.0.0-rc2    v7.0.0-rc2   \n",
       "8     425948413    v7.0.0-rc2    v7.0.0-rc2   \n",
       "...         ...           ...           ...   \n",
       "1648   99201860  v2.0.0-beta1  v2.0.0-beta1   \n",
       "1649   99176061  v2.0.0-beta1  v2.0.0-beta1   \n",
       "1650   98732110  v2.0.0-beta1  v2.0.0-beta1   \n",
       "1651   97748933  v2.0.0-beta1  v2.0.0-beta1   \n",
       "1658   95478178  v2.0.0-beta1  v2.0.0-beta1   \n",
       "\n",
       "                                           Sha Preliminary_release_date  \\\n",
       "0     f076a79831c97c82249851f209aff6fa24a97a4d      2019-04-02 15:00:22   \n",
       "2     f076a79831c97c82249851f209aff6fa24a97a4d      2019-04-02 15:00:22   \n",
       "3     f076a79831c97c82249851f209aff6fa24a97a4d      2019-04-02 15:00:22   \n",
       "7     f076a79831c97c82249851f209aff6fa24a97a4d      2019-04-02 15:00:22   \n",
       "8     f076a79831c97c82249851f209aff6fa24a97a4d      2019-04-02 15:00:22   \n",
       "...                                        ...                      ...   \n",
       "1648  bfa3e47383d0adc690329a2fa1094ceb64cae651      2015-08-24 08:26:49   \n",
       "1649  bfa3e47383d0adc690329a2fa1094ceb64cae651      2015-08-24 08:26:49   \n",
       "1650  bfa3e47383d0adc690329a2fa1094ceb64cae651      2015-08-24 08:26:49   \n",
       "1651  bfa3e47383d0adc690329a2fa1094ceb64cae651      2015-08-24 08:26:49   \n",
       "1658  bfa3e47383d0adc690329a2fa1094ceb64cae651      2015-08-24 08:26:49   \n",
       "\n",
       "     Official_release_date  \n",
       "0      2019-04-05 21:42:14  \n",
       "2      2019-04-29 03:58:47  \n",
       "3      2019-04-29 03:58:47  \n",
       "7      2019-06-20 12:10:21  \n",
       "8      2019-06-20 12:10:21  \n",
       "...                    ...  \n",
       "1648   2015-09-14 09:48:05  \n",
       "1649   2015-09-14 09:48:05  \n",
       "1650   2015-09-14 09:48:05  \n",
       "1651   2015-09-14 09:48:05  \n",
       "1658   2015-09-14 09:48:05  \n",
       "\n",
       "[254 rows x 6 columns]"
      ]
     },
     "execution_count": 62,
     "metadata": {},
     "output_type": "execute_result"
    }
   ],
   "source": [
    "w[w.Preliminary_release_date < w.Official_release_date]"
   ]
  },
  {
   "cell_type": "markdown",
   "metadata": {},
   "source": [
    "Issues which appeared first in an official release and afterwards also in a preliminary one."
   ]
  },
  {
   "cell_type": "code",
   "execution_count": 63,
   "metadata": {},
   "outputs": [
    {
     "data": {
      "text/html": [
       "<div>\n",
       "<style scoped>\n",
       "    .dataframe tbody tr th:only-of-type {\n",
       "        vertical-align: middle;\n",
       "    }\n",
       "\n",
       "    .dataframe tbody tr th {\n",
       "        vertical-align: top;\n",
       "    }\n",
       "\n",
       "    .dataframe thead th {\n",
       "        text-align: right;\n",
       "    }\n",
       "</style>\n",
       "<table border=\"1\" class=\"dataframe\">\n",
       "  <thead>\n",
       "    <tr style=\"text-align: right;\">\n",
       "      <th></th>\n",
       "      <th>id</th>\n",
       "      <th>label</th>\n",
       "      <th>Tag</th>\n",
       "      <th>Sha</th>\n",
       "      <th>Preliminary_release_date</th>\n",
       "      <th>Official_release_date</th>\n",
       "    </tr>\n",
       "  </thead>\n",
       "  <tbody>\n",
       "    <tr>\n",
       "      <td>1</td>\n",
       "      <td>428131971</td>\n",
       "      <td>v7.0.0-rc2</td>\n",
       "      <td>v7.0.0-rc2</td>\n",
       "      <td>f076a79831c97c82249851f209aff6fa24a97a4d</td>\n",
       "      <td>2019-04-02 15:00:22</td>\n",
       "      <td>2019-04-02 14:32:27</td>\n",
       "    </tr>\n",
       "    <tr>\n",
       "      <td>4</td>\n",
       "      <td>426878538</td>\n",
       "      <td>v7.0.0-rc2</td>\n",
       "      <td>v7.0.0-rc2</td>\n",
       "      <td>f076a79831c97c82249851f209aff6fa24a97a4d</td>\n",
       "      <td>2019-04-02 15:00:22</td>\n",
       "      <td>2019-04-02 14:32:27</td>\n",
       "    </tr>\n",
       "    <tr>\n",
       "      <td>5</td>\n",
       "      <td>426250137</td>\n",
       "      <td>v7.0.0-rc2</td>\n",
       "      <td>v7.0.0-rc2</td>\n",
       "      <td>f076a79831c97c82249851f209aff6fa24a97a4d</td>\n",
       "      <td>2019-04-02 15:00:22</td>\n",
       "      <td>2019-04-02 14:32:27</td>\n",
       "    </tr>\n",
       "    <tr>\n",
       "      <td>6</td>\n",
       "      <td>426153035</td>\n",
       "      <td>v7.0.0-rc2</td>\n",
       "      <td>v7.0.0-rc2</td>\n",
       "      <td>f076a79831c97c82249851f209aff6fa24a97a4d</td>\n",
       "      <td>2019-04-02 15:00:22</td>\n",
       "      <td>2019-04-02 14:32:27</td>\n",
       "    </tr>\n",
       "    <tr>\n",
       "      <td>9</td>\n",
       "      <td>425576810</td>\n",
       "      <td>v7.0.0-rc2</td>\n",
       "      <td>v7.0.0-rc2</td>\n",
       "      <td>f076a79831c97c82249851f209aff6fa24a97a4d</td>\n",
       "      <td>2019-04-02 15:00:22</td>\n",
       "      <td>2019-04-02 14:32:27</td>\n",
       "    </tr>\n",
       "    <tr>\n",
       "      <td>...</td>\n",
       "      <td>...</td>\n",
       "      <td>...</td>\n",
       "      <td>...</td>\n",
       "      <td>...</td>\n",
       "      <td>...</td>\n",
       "      <td>...</td>\n",
       "    </tr>\n",
       "    <tr>\n",
       "      <td>2501</td>\n",
       "      <td>12612187</td>\n",
       "      <td>v2.0.0-beta1</td>\n",
       "      <td>v2.0.0-beta1</td>\n",
       "      <td>bfa3e47383d0adc690329a2fa1094ceb64cae651</td>\n",
       "      <td>2015-08-24 08:26:49</td>\n",
       "      <td>2015-06-09 13:35:08</td>\n",
       "    </tr>\n",
       "    <tr>\n",
       "      <td>2502</td>\n",
       "      <td>11545783</td>\n",
       "      <td>v2.0.0-beta1</td>\n",
       "      <td>v2.0.0-beta1</td>\n",
       "      <td>bfa3e47383d0adc690329a2fa1094ceb64cae651</td>\n",
       "      <td>2015-08-24 08:26:49</td>\n",
       "      <td>2015-03-23 14:28:55</td>\n",
       "    </tr>\n",
       "    <tr>\n",
       "      <td>2503</td>\n",
       "      <td>9940887</td>\n",
       "      <td>v2.0.0-beta1</td>\n",
       "      <td>v2.0.0-beta1</td>\n",
       "      <td>bfa3e47383d0adc690329a2fa1094ceb64cae651</td>\n",
       "      <td>2015-08-24 08:26:49</td>\n",
       "      <td>2015-02-11 14:15:01</td>\n",
       "    </tr>\n",
       "    <tr>\n",
       "      <td>2504</td>\n",
       "      <td>9326377</td>\n",
       "      <td>v2.0.0-beta1</td>\n",
       "      <td>v2.0.0-beta1</td>\n",
       "      <td>bfa3e47383d0adc690329a2fa1094ceb64cae651</td>\n",
       "      <td>2015-08-24 08:26:49</td>\n",
       "      <td>2014-10-01 14:55:34</td>\n",
       "    </tr>\n",
       "    <tr>\n",
       "      <td>2505</td>\n",
       "      <td>8768938</td>\n",
       "      <td>v2.0.0-beta1</td>\n",
       "      <td>v2.0.0-beta1</td>\n",
       "      <td>bfa3e47383d0adc690329a2fa1094ceb64cae651</td>\n",
       "      <td>2015-08-24 08:26:49</td>\n",
       "      <td>2014-07-09 12:00:28</td>\n",
       "    </tr>\n",
       "  </tbody>\n",
       "</table>\n",
       "<p>2223 rows × 6 columns</p>\n",
       "</div>"
      ],
      "text/plain": [
       "             id         label           Tag  \\\n",
       "1     428131971    v7.0.0-rc2    v7.0.0-rc2   \n",
       "4     426878538    v7.0.0-rc2    v7.0.0-rc2   \n",
       "5     426250137    v7.0.0-rc2    v7.0.0-rc2   \n",
       "6     426153035    v7.0.0-rc2    v7.0.0-rc2   \n",
       "9     425576810    v7.0.0-rc2    v7.0.0-rc2   \n",
       "...         ...           ...           ...   \n",
       "2501   12612187  v2.0.0-beta1  v2.0.0-beta1   \n",
       "2502   11545783  v2.0.0-beta1  v2.0.0-beta1   \n",
       "2503    9940887  v2.0.0-beta1  v2.0.0-beta1   \n",
       "2504    9326377  v2.0.0-beta1  v2.0.0-beta1   \n",
       "2505    8768938  v2.0.0-beta1  v2.0.0-beta1   \n",
       "\n",
       "                                           Sha Preliminary_release_date  \\\n",
       "1     f076a79831c97c82249851f209aff6fa24a97a4d      2019-04-02 15:00:22   \n",
       "4     f076a79831c97c82249851f209aff6fa24a97a4d      2019-04-02 15:00:22   \n",
       "5     f076a79831c97c82249851f209aff6fa24a97a4d      2019-04-02 15:00:22   \n",
       "6     f076a79831c97c82249851f209aff6fa24a97a4d      2019-04-02 15:00:22   \n",
       "9     f076a79831c97c82249851f209aff6fa24a97a4d      2019-04-02 15:00:22   \n",
       "...                                        ...                      ...   \n",
       "2501  bfa3e47383d0adc690329a2fa1094ceb64cae651      2015-08-24 08:26:49   \n",
       "2502  bfa3e47383d0adc690329a2fa1094ceb64cae651      2015-08-24 08:26:49   \n",
       "2503  bfa3e47383d0adc690329a2fa1094ceb64cae651      2015-08-24 08:26:49   \n",
       "2504  bfa3e47383d0adc690329a2fa1094ceb64cae651      2015-08-24 08:26:49   \n",
       "2505  bfa3e47383d0adc690329a2fa1094ceb64cae651      2015-08-24 08:26:49   \n",
       "\n",
       "     Official_release_date  \n",
       "1      2019-04-02 14:32:27  \n",
       "4      2019-04-02 14:32:27  \n",
       "5      2019-04-02 14:32:27  \n",
       "6      2019-04-02 14:32:27  \n",
       "9      2019-04-02 14:32:27  \n",
       "...                    ...  \n",
       "2501   2015-06-09 13:35:08  \n",
       "2502   2015-03-23 14:28:55  \n",
       "2503   2015-02-11 14:15:01  \n",
       "2504   2014-10-01 14:55:34  \n",
       "2505   2014-07-09 12:00:28  \n",
       "\n",
       "[2223 rows x 6 columns]"
      ]
     },
     "execution_count": 63,
     "metadata": {},
     "output_type": "execute_result"
    }
   ],
   "source": [
    "w[w.Preliminary_release_date > w.Official_release_date]"
   ]
  },
  {
   "cell_type": "code",
   "execution_count": 64,
   "metadata": {},
   "outputs": [
    {
     "data": {
      "text/plain": [
       "<matplotlib.axes._subplots.AxesSubplot at 0x7f805eb17510>"
      ]
     },
     "execution_count": 64,
     "metadata": {},
     "output_type": "execute_result"
    },
    {
     "data": {
      "image/png": "[encoded data removed]",
      "text/plain": [
       "<Figure size 1080x360 with 1 Axes>"
      ]
     },
     "metadata": {
      "needs_background": "light"
     },
     "output_type": "display_data"
    }
   ],
   "source": [
    "plt.figure(figsize=(15,5))\n",
    "tmp = [(\"Preliminary->Official\",len(w[w.Preliminary_release_date<w.Official_release_date])), (\"Official->Preliminary\",len(w[w.Preliminary_release_date>=w.Official_release_date]))]\n",
    "tmpDf = pd.DataFrame(tmp, columns=[\"Order of appearence\", \"N of issues\"])\n",
    "sns.barplot(x=\"Order of appearence\", y=\"N of issues\", data=tmpDf)"
   ]
  },
  {
   "cell_type": "markdown",
   "metadata": {},
   "source": [
    "**Observation**\n",
    "* More bugs are introduced in official releases and then persist into a preliminary one other than the other way around"
   ]
  },
  {
   "cell_type": "markdown",
   "metadata": {},
   "source": [
    "## Correlations"
   ]
  },
  {
   "cell_type": "markdown",
   "metadata": {},
   "source": [
    "### Topic labels"
   ]
  },
  {
   "cell_type": "markdown",
   "metadata": {},
   "source": [
    "Let's calculate the correlation for the relative nuber of issue per each topic label over each major version of the software"
   ]
  },
  {
   "cell_type": "code",
   "execution_count": 65,
   "metadata": {},
   "outputs": [],
   "source": [
    "list_of_series = []\n",
    "for i in range(len(versions)):\n",
    "    issues_for_version = ilpr[ilpr.label.str.startswith(f\"v{versions[i]}\")].id.unique()\n",
    "    issues_type_for_version = (ilpr[ilpr.id.isin(issues_for_version) & \n",
    "                               ilpr.label.isin(topic_labels)].groupby(\"label\").id.count() / len(issues_for_version)).sort_values(ascending=False)\n",
    "    list_of_series.append(issues_type_for_version)\n",
    "df = pd.concat(list_of_series, axis=1, sort=True).transpose()\n",
    "df = df.set_index([pd.Index(versions)])\n",
    "df = df.fillna(0)"
   ]
  },
  {
   "cell_type": "code",
   "execution_count": 66,
   "metadata": {},
   "outputs": [],
   "source": [
    "s = (df > 0).sum()\n",
    "ind = s[s > len(versions) - 1].index"
   ]
  },
  {
   "cell_type": "markdown",
   "metadata": {},
   "source": [
    "Let's visualize the correlation matrix"
   ]
  },
  {
   "cell_type": "code",
   "execution_count": 67,
   "metadata": {},
   "outputs": [
    {
     "data": {
      "text/html": [
       "<div>\n",
       "<style scoped>\n",
       "    .dataframe tbody tr th:only-of-type {\n",
       "        vertical-align: middle;\n",
       "    }\n",
       "\n",
       "    .dataframe tbody tr th {\n",
       "        vertical-align: top;\n",
       "    }\n",
       "\n",
       "    .dataframe thead th {\n",
       "        text-align: right;\n",
       "    }\n",
       "</style>\n",
       "<table border=\"1\" class=\"dataframe\">\n",
       "  <thead>\n",
       "    <tr style=\"text-align: right;\">\n",
       "      <th></th>\n",
       "      <th>:Core/Features/Indices APIs</th>\n",
       "      <th>:Core/Features/Stats</th>\n",
       "      <th>:Core/Infra/Core</th>\n",
       "      <th>:Core/Infra/Packaging</th>\n",
       "      <th>:Core/Infra/Plugins</th>\n",
       "      <th>:Core/Infra/REST API</th>\n",
       "      <th>:Core/Infra/Settings</th>\n",
       "      <th>:Core/Infra/Transport API</th>\n",
       "      <th>:Distributed/CRUD</th>\n",
       "      <th>:Distributed/Distributed</th>\n",
       "      <th>:Distributed/Engine</th>\n",
       "      <th>:Docs</th>\n",
       "      <th>:Search/Highlighting</th>\n",
       "      <th>:Search/Mapping</th>\n",
       "      <th>:Search/Search</th>\n",
       "      <th>:Search/Suggesters</th>\n",
       "    </tr>\n",
       "  </thead>\n",
       "  <tbody>\n",
       "    <tr>\n",
       "      <td>:Core/Features/Indices APIs</td>\n",
       "      <td>1.000000</td>\n",
       "      <td>0.215686</td>\n",
       "      <td>0.708466</td>\n",
       "      <td>0.474316</td>\n",
       "      <td>0.244135</td>\n",
       "      <td>0.141957</td>\n",
       "      <td>0.215230</td>\n",
       "      <td>-0.052649</td>\n",
       "      <td>0.538723</td>\n",
       "      <td>0.472949</td>\n",
       "      <td>0.625733</td>\n",
       "      <td>0.783010</td>\n",
       "      <td>0.047745</td>\n",
       "      <td>0.400235</td>\n",
       "      <td>0.519935</td>\n",
       "      <td>0.107370</td>\n",
       "    </tr>\n",
       "    <tr>\n",
       "      <td>:Core/Features/Stats</td>\n",
       "      <td>0.215686</td>\n",
       "      <td>1.000000</td>\n",
       "      <td>0.762719</td>\n",
       "      <td>0.883514</td>\n",
       "      <td>0.876494</td>\n",
       "      <td>0.943086</td>\n",
       "      <td>0.721122</td>\n",
       "      <td>0.885474</td>\n",
       "      <td>0.732704</td>\n",
       "      <td>0.832916</td>\n",
       "      <td>0.572353</td>\n",
       "      <td>-0.402192</td>\n",
       "      <td>0.937653</td>\n",
       "      <td>0.950193</td>\n",
       "      <td>0.895616</td>\n",
       "      <td>0.817158</td>\n",
       "    </tr>\n",
       "    <tr>\n",
       "      <td>:Core/Infra/Core</td>\n",
       "      <td>0.708466</td>\n",
       "      <td>0.762719</td>\n",
       "      <td>1.000000</td>\n",
       "      <td>0.865300</td>\n",
       "      <td>0.711870</td>\n",
       "      <td>0.731406</td>\n",
       "      <td>0.630652</td>\n",
       "      <td>0.547847</td>\n",
       "      <td>0.811844</td>\n",
       "      <td>0.918890</td>\n",
       "      <td>0.908441</td>\n",
       "      <td>0.252438</td>\n",
       "      <td>0.662958</td>\n",
       "      <td>0.834499</td>\n",
       "      <td>0.947211</td>\n",
       "      <td>0.645698</td>\n",
       "    </tr>\n",
       "    <tr>\n",
       "      <td>:Core/Infra/Packaging</td>\n",
       "      <td>0.474316</td>\n",
       "      <td>0.883514</td>\n",
       "      <td>0.865300</td>\n",
       "      <td>1.000000</td>\n",
       "      <td>0.917083</td>\n",
       "      <td>0.863220</td>\n",
       "      <td>0.725755</td>\n",
       "      <td>0.624908</td>\n",
       "      <td>0.854440</td>\n",
       "      <td>0.787264</td>\n",
       "      <td>0.616640</td>\n",
       "      <td>-0.049295</td>\n",
       "      <td>0.862762</td>\n",
       "      <td>0.957858</td>\n",
       "      <td>0.870475</td>\n",
       "      <td>0.526313</td>\n",
       "    </tr>\n",
       "    <tr>\n",
       "      <td>:Core/Infra/Plugins</td>\n",
       "      <td>0.244135</td>\n",
       "      <td>0.876494</td>\n",
       "      <td>0.711870</td>\n",
       "      <td>0.917083</td>\n",
       "      <td>1.000000</td>\n",
       "      <td>0.953244</td>\n",
       "      <td>0.912343</td>\n",
       "      <td>0.578610</td>\n",
       "      <td>0.911794</td>\n",
       "      <td>0.770900</td>\n",
       "      <td>0.410877</td>\n",
       "      <td>-0.255848</td>\n",
       "      <td>0.954670</td>\n",
       "      <td>0.847721</td>\n",
       "      <td>0.818136</td>\n",
       "      <td>0.521314</td>\n",
       "    </tr>\n",
       "    <tr>\n",
       "      <td>:Core/Infra/REST API</td>\n",
       "      <td>0.141957</td>\n",
       "      <td>0.943086</td>\n",
       "      <td>0.731406</td>\n",
       "      <td>0.863220</td>\n",
       "      <td>0.953244</td>\n",
       "      <td>1.000000</td>\n",
       "      <td>0.893659</td>\n",
       "      <td>0.747832</td>\n",
       "      <td>0.841760</td>\n",
       "      <td>0.862997</td>\n",
       "      <td>0.518367</td>\n",
       "      <td>-0.390741</td>\n",
       "      <td>0.987917</td>\n",
       "      <td>0.853475</td>\n",
       "      <td>0.883358</td>\n",
       "      <td>0.738843</td>\n",
       "    </tr>\n",
       "    <tr>\n",
       "      <td>:Core/Infra/Settings</td>\n",
       "      <td>0.215230</td>\n",
       "      <td>0.721122</td>\n",
       "      <td>0.630652</td>\n",
       "      <td>0.725755</td>\n",
       "      <td>0.912343</td>\n",
       "      <td>0.893659</td>\n",
       "      <td>1.000000</td>\n",
       "      <td>0.389818</td>\n",
       "      <td>0.929643</td>\n",
       "      <td>0.791258</td>\n",
       "      <td>0.376120</td>\n",
       "      <td>-0.173908</td>\n",
       "      <td>0.852790</td>\n",
       "      <td>0.614686</td>\n",
       "      <td>0.769204</td>\n",
       "      <td>0.500653</td>\n",
       "    </tr>\n",
       "    <tr>\n",
       "      <td>:Core/Infra/Transport API</td>\n",
       "      <td>-0.052649</td>\n",
       "      <td>0.885474</td>\n",
       "      <td>0.547847</td>\n",
       "      <td>0.624908</td>\n",
       "      <td>0.578610</td>\n",
       "      <td>0.747832</td>\n",
       "      <td>0.389818</td>\n",
       "      <td>1.000000</td>\n",
       "      <td>0.347839</td>\n",
       "      <td>0.651353</td>\n",
       "      <td>0.509532</td>\n",
       "      <td>-0.602041</td>\n",
       "      <td>0.760773</td>\n",
       "      <td>0.799830</td>\n",
       "      <td>0.704805</td>\n",
       "      <td>0.891628</td>\n",
       "    </tr>\n",
       "    <tr>\n",
       "      <td>:Distributed/CRUD</td>\n",
       "      <td>0.538723</td>\n",
       "      <td>0.732704</td>\n",
       "      <td>0.811844</td>\n",
       "      <td>0.854440</td>\n",
       "      <td>0.911794</td>\n",
       "      <td>0.841760</td>\n",
       "      <td>0.929643</td>\n",
       "      <td>0.347839</td>\n",
       "      <td>1.000000</td>\n",
       "      <td>0.836441</td>\n",
       "      <td>0.541603</td>\n",
       "      <td>0.108946</td>\n",
       "      <td>0.788240</td>\n",
       "      <td>0.731083</td>\n",
       "      <td>0.852246</td>\n",
       "      <td>0.447272</td>\n",
       "    </tr>\n",
       "    <tr>\n",
       "      <td>:Distributed/Distributed</td>\n",
       "      <td>0.472949</td>\n",
       "      <td>0.832916</td>\n",
       "      <td>0.918890</td>\n",
       "      <td>0.787264</td>\n",
       "      <td>0.770900</td>\n",
       "      <td>0.862997</td>\n",
       "      <td>0.791258</td>\n",
       "      <td>0.651353</td>\n",
       "      <td>0.836441</td>\n",
       "      <td>1.000000</td>\n",
       "      <td>0.840371</td>\n",
       "      <td>-0.008172</td>\n",
       "      <td>0.783915</td>\n",
       "      <td>0.778179</td>\n",
       "      <td>0.982336</td>\n",
       "      <td>0.820310</td>\n",
       "    </tr>\n",
       "    <tr>\n",
       "      <td>:Distributed/Engine</td>\n",
       "      <td>0.625733</td>\n",
       "      <td>0.572353</td>\n",
       "      <td>0.908441</td>\n",
       "      <td>0.616640</td>\n",
       "      <td>0.410877</td>\n",
       "      <td>0.518367</td>\n",
       "      <td>0.376120</td>\n",
       "      <td>0.509532</td>\n",
       "      <td>0.541603</td>\n",
       "      <td>0.840371</td>\n",
       "      <td>1.000000</td>\n",
       "      <td>0.309917</td>\n",
       "      <td>0.432844</td>\n",
       "      <td>0.628613</td>\n",
       "      <td>0.824020</td>\n",
       "      <td>0.678276</td>\n",
       "    </tr>\n",
       "    <tr>\n",
       "      <td>:Docs</td>\n",
       "      <td>0.783010</td>\n",
       "      <td>-0.402192</td>\n",
       "      <td>0.252438</td>\n",
       "      <td>-0.049295</td>\n",
       "      <td>-0.255848</td>\n",
       "      <td>-0.390741</td>\n",
       "      <td>-0.173908</td>\n",
       "      <td>-0.602041</td>\n",
       "      <td>0.108946</td>\n",
       "      <td>-0.008172</td>\n",
       "      <td>0.309917</td>\n",
       "      <td>1.000000</td>\n",
       "      <td>-0.473735</td>\n",
       "      <td>-0.195952</td>\n",
       "      <td>-0.021854</td>\n",
       "      <td>-0.401919</td>\n",
       "    </tr>\n",
       "    <tr>\n",
       "      <td>:Search/Highlighting</td>\n",
       "      <td>0.047745</td>\n",
       "      <td>0.937653</td>\n",
       "      <td>0.662958</td>\n",
       "      <td>0.862762</td>\n",
       "      <td>0.954670</td>\n",
       "      <td>0.987917</td>\n",
       "      <td>0.852790</td>\n",
       "      <td>0.760773</td>\n",
       "      <td>0.788240</td>\n",
       "      <td>0.783915</td>\n",
       "      <td>0.432844</td>\n",
       "      <td>-0.473735</td>\n",
       "      <td>1.000000</td>\n",
       "      <td>0.857049</td>\n",
       "      <td>0.819028</td>\n",
       "      <td>0.683830</td>\n",
       "    </tr>\n",
       "    <tr>\n",
       "      <td>:Search/Mapping</td>\n",
       "      <td>0.400235</td>\n",
       "      <td>0.950193</td>\n",
       "      <td>0.834499</td>\n",
       "      <td>0.957858</td>\n",
       "      <td>0.847721</td>\n",
       "      <td>0.853475</td>\n",
       "      <td>0.614686</td>\n",
       "      <td>0.799830</td>\n",
       "      <td>0.731083</td>\n",
       "      <td>0.778179</td>\n",
       "      <td>0.628613</td>\n",
       "      <td>-0.195952</td>\n",
       "      <td>0.857049</td>\n",
       "      <td>1.000000</td>\n",
       "      <td>0.875598</td>\n",
       "      <td>0.675424</td>\n",
       "    </tr>\n",
       "    <tr>\n",
       "      <td>:Search/Search</td>\n",
       "      <td>0.519935</td>\n",
       "      <td>0.895616</td>\n",
       "      <td>0.947211</td>\n",
       "      <td>0.870475</td>\n",
       "      <td>0.818136</td>\n",
       "      <td>0.883358</td>\n",
       "      <td>0.769204</td>\n",
       "      <td>0.704805</td>\n",
       "      <td>0.852246</td>\n",
       "      <td>0.982336</td>\n",
       "      <td>0.824020</td>\n",
       "      <td>-0.021854</td>\n",
       "      <td>0.819028</td>\n",
       "      <td>0.875598</td>\n",
       "      <td>1.000000</td>\n",
       "      <td>0.807548</td>\n",
       "    </tr>\n",
       "    <tr>\n",
       "      <td>:Search/Suggesters</td>\n",
       "      <td>0.107370</td>\n",
       "      <td>0.817158</td>\n",
       "      <td>0.645698</td>\n",
       "      <td>0.526313</td>\n",
       "      <td>0.521314</td>\n",
       "      <td>0.738843</td>\n",
       "      <td>0.500653</td>\n",
       "      <td>0.891628</td>\n",
       "      <td>0.447272</td>\n",
       "      <td>0.820310</td>\n",
       "      <td>0.678276</td>\n",
       "      <td>-0.401919</td>\n",
       "      <td>0.683830</td>\n",
       "      <td>0.675424</td>\n",
       "      <td>0.807548</td>\n",
       "      <td>1.000000</td>\n",
       "    </tr>\n",
       "  </tbody>\n",
       "</table>\n",
       "</div>"
      ],
      "text/plain": [
       "                             :Core/Features/Indices APIs  \\\n",
       ":Core/Features/Indices APIs                     1.000000   \n",
       ":Core/Features/Stats                            0.215686   \n",
       ":Core/Infra/Core                                0.708466   \n",
       ":Core/Infra/Packaging                           0.474316   \n",
       ":Core/Infra/Plugins                             0.244135   \n",
       ":Core/Infra/REST API                            0.141957   \n",
       ":Core/Infra/Settings                            0.215230   \n",
       ":Core/Infra/Transport API                      -0.052649   \n",
       ":Distributed/CRUD                               0.538723   \n",
       ":Distributed/Distributed                        0.472949   \n",
       ":Distributed/Engine                             0.625733   \n",
       ":Docs                                           0.783010   \n",
       ":Search/Highlighting                            0.047745   \n",
       ":Search/Mapping                                 0.400235   \n",
       ":Search/Search                                  0.519935   \n",
       ":Search/Suggesters                              0.107370   \n",
       "\n",
       "                             :Core/Features/Stats  :Core/Infra/Core  \\\n",
       ":Core/Features/Indices APIs              0.215686          0.708466   \n",
       ":Core/Features/Stats                     1.000000          0.762719   \n",
       ":Core/Infra/Core                         0.762719          1.000000   \n",
       ":Core/Infra/Packaging                    0.883514          0.865300   \n",
       ":Core/Infra/Plugins                      0.876494          0.711870   \n",
       ":Core/Infra/REST API                     0.943086          0.731406   \n",
       ":Core/Infra/Settings                     0.721122          0.630652   \n",
       ":Core/Infra/Transport API                0.885474          0.547847   \n",
       ":Distributed/CRUD                        0.732704          0.811844   \n",
       ":Distributed/Distributed                 0.832916          0.918890   \n",
       ":Distributed/Engine                      0.572353          0.908441   \n",
       ":Docs                                   -0.402192          0.252438   \n",
       ":Search/Highlighting                     0.937653          0.662958   \n",
       ":Search/Mapping                          0.950193          0.834499   \n",
       ":Search/Search                           0.895616          0.947211   \n",
       ":Search/Suggesters                       0.817158          0.645698   \n",
       "\n",
       "                             :Core/Infra/Packaging  :Core/Infra/Plugins  \\\n",
       ":Core/Features/Indices APIs               0.474316             0.244135   \n",
       ":Core/Features/Stats                      0.883514             0.876494   \n",
       ":Core/Infra/Core                          0.865300             0.711870   \n",
       ":Core/Infra/Packaging                     1.000000             0.917083   \n",
       ":Core/Infra/Plugins                       0.917083             1.000000   \n",
       ":Core/Infra/REST API                      0.863220             0.953244   \n",
       ":Core/Infra/Settings                      0.725755             0.912343   \n",
       ":Core/Infra/Transport API                 0.624908             0.578610   \n",
       ":Distributed/CRUD                         0.854440             0.911794   \n",
       ":Distributed/Distributed                  0.787264             0.770900   \n",
       ":Distributed/Engine                       0.616640             0.410877   \n",
       ":Docs                                    -0.049295            -0.255848   \n",
       ":Search/Highlighting                      0.862762             0.954670   \n",
       ":Search/Mapping                           0.957858             0.847721   \n",
       ":Search/Search                            0.870475             0.818136   \n",
       ":Search/Suggesters                        0.526313             0.521314   \n",
       "\n",
       "                             :Core/Infra/REST API  :Core/Infra/Settings  \\\n",
       ":Core/Features/Indices APIs              0.141957              0.215230   \n",
       ":Core/Features/Stats                     0.943086              0.721122   \n",
       ":Core/Infra/Core                         0.731406              0.630652   \n",
       ":Core/Infra/Packaging                    0.863220              0.725755   \n",
       ":Core/Infra/Plugins                      0.953244              0.912343   \n",
       ":Core/Infra/REST API                     1.000000              0.893659   \n",
       ":Core/Infra/Settings                     0.893659              1.000000   \n",
       ":Core/Infra/Transport API                0.747832              0.389818   \n",
       ":Distributed/CRUD                        0.841760              0.929643   \n",
       ":Distributed/Distributed                 0.862997              0.791258   \n",
       ":Distributed/Engine                      0.518367              0.376120   \n",
       ":Docs                                   -0.390741             -0.173908   \n",
       ":Search/Highlighting                     0.987917              0.852790   \n",
       ":Search/Mapping                          0.853475              0.614686   \n",
       ":Search/Search                           0.883358              0.769204   \n",
       ":Search/Suggesters                       0.738843              0.500653   \n",
       "\n",
       "                             :Core/Infra/Transport API  :Distributed/CRUD  \\\n",
       ":Core/Features/Indices APIs                  -0.052649           0.538723   \n",
       ":Core/Features/Stats                          0.885474           0.732704   \n",
       ":Core/Infra/Core                              0.547847           0.811844   \n",
       ":Core/Infra/Packaging                         0.624908           0.854440   \n",
       ":Core/Infra/Plugins                           0.578610           0.911794   \n",
       ":Core/Infra/REST API                          0.747832           0.841760   \n",
       ":Core/Infra/Settings                          0.389818           0.929643   \n",
       ":Core/Infra/Transport API                     1.000000           0.347839   \n",
       ":Distributed/CRUD                             0.347839           1.000000   \n",
       ":Distributed/Distributed                      0.651353           0.836441   \n",
       ":Distributed/Engine                           0.509532           0.541603   \n",
       ":Docs                                        -0.602041           0.108946   \n",
       ":Search/Highlighting                          0.760773           0.788240   \n",
       ":Search/Mapping                               0.799830           0.731083   \n",
       ":Search/Search                                0.704805           0.852246   \n",
       ":Search/Suggesters                            0.891628           0.447272   \n",
       "\n",
       "                             :Distributed/Distributed  :Distributed/Engine  \\\n",
       ":Core/Features/Indices APIs                  0.472949             0.625733   \n",
       ":Core/Features/Stats                         0.832916             0.572353   \n",
       ":Core/Infra/Core                             0.918890             0.908441   \n",
       ":Core/Infra/Packaging                        0.787264             0.616640   \n",
       ":Core/Infra/Plugins                          0.770900             0.410877   \n",
       ":Core/Infra/REST API                         0.862997             0.518367   \n",
       ":Core/Infra/Settings                         0.791258             0.376120   \n",
       ":Core/Infra/Transport API                    0.651353             0.509532   \n",
       ":Distributed/CRUD                            0.836441             0.541603   \n",
       ":Distributed/Distributed                     1.000000             0.840371   \n",
       ":Distributed/Engine                          0.840371             1.000000   \n",
       ":Docs                                       -0.008172             0.309917   \n",
       ":Search/Highlighting                         0.783915             0.432844   \n",
       ":Search/Mapping                              0.778179             0.628613   \n",
       ":Search/Search                               0.982336             0.824020   \n",
       ":Search/Suggesters                           0.820310             0.678276   \n",
       "\n",
       "                                :Docs  :Search/Highlighting  :Search/Mapping  \\\n",
       ":Core/Features/Indices APIs  0.783010              0.047745         0.400235   \n",
       ":Core/Features/Stats        -0.402192              0.937653         0.950193   \n",
       ":Core/Infra/Core             0.252438              0.662958         0.834499   \n",
       ":Core/Infra/Packaging       -0.049295              0.862762         0.957858   \n",
       ":Core/Infra/Plugins         -0.255848              0.954670         0.847721   \n",
       ":Core/Infra/REST API        -0.390741              0.987917         0.853475   \n",
       ":Core/Infra/Settings        -0.173908              0.852790         0.614686   \n",
       ":Core/Infra/Transport API   -0.602041              0.760773         0.799830   \n",
       ":Distributed/CRUD            0.108946              0.788240         0.731083   \n",
       ":Distributed/Distributed    -0.008172              0.783915         0.778179   \n",
       ":Distributed/Engine          0.309917              0.432844         0.628613   \n",
       ":Docs                        1.000000             -0.473735        -0.195952   \n",
       ":Search/Highlighting        -0.473735              1.000000         0.857049   \n",
       ":Search/Mapping             -0.195952              0.857049         1.000000   \n",
       ":Search/Search              -0.021854              0.819028         0.875598   \n",
       ":Search/Suggesters          -0.401919              0.683830         0.675424   \n",
       "\n",
       "                             :Search/Search  :Search/Suggesters  \n",
       ":Core/Features/Indices APIs        0.519935            0.107370  \n",
       ":Core/Features/Stats               0.895616            0.817158  \n",
       ":Core/Infra/Core                   0.947211            0.645698  \n",
       ":Core/Infra/Packaging              0.870475            0.526313  \n",
       ":Core/Infra/Plugins                0.818136            0.521314  \n",
       ":Core/Infra/REST API               0.883358            0.738843  \n",
       ":Core/Infra/Settings               0.769204            0.500653  \n",
       ":Core/Infra/Transport API          0.704805            0.891628  \n",
       ":Distributed/CRUD                  0.852246            0.447272  \n",
       ":Distributed/Distributed           0.982336            0.820310  \n",
       ":Distributed/Engine                0.824020            0.678276  \n",
       ":Docs                             -0.021854           -0.401919  \n",
       ":Search/Highlighting               0.819028            0.683830  \n",
       ":Search/Mapping                    0.875598            0.675424  \n",
       ":Search/Search                     1.000000            0.807548  \n",
       ":Search/Suggesters                 0.807548            1.000000  "
      ]
     },
     "execution_count": 67,
     "metadata": {},
     "output_type": "execute_result"
    }
   ],
   "source": [
    "df[ind].corr()"
   ]
  },
  {
   "cell_type": "code",
   "execution_count": 68,
   "metadata": {
    "scrolled": true
   },
   "outputs": [
    {
     "data": {
      "text/plain": [
       "<matplotlib.axes._subplots.AxesSubplot at 0x7f805f180210>"
      ]
     },
     "execution_count": 68,
     "metadata": {},
     "output_type": "execute_result"
    },
    {
     "data": {
      "image/png": "[encoded data removed]",
      "text/plain": [
       "<Figure size 1080x720 with 2 Axes>"
      ]
     },
     "metadata": {
      "needs_background": "light"
     },
     "output_type": "display_data"
    }
   ],
   "source": [
    "plt.figure(figsize=(15,10))\n",
    "sns.heatmap(df[ind].corr(), cmap=sns.color_palette(\"Reds_r\"))"
   ]
  },
  {
   "cell_type": "code",
   "execution_count": 69,
   "metadata": {},
   "outputs": [
    {
     "data": {
      "text/plain": [
       "73"
      ]
     },
     "execution_count": 69,
     "metadata": {},
     "output_type": "execute_result"
    }
   ],
   "source": [
    "c = df.corr().abs()\n",
    "s = c.unstack()\n",
    "so = s.sort_values(ascending=False)\n",
    "len(so[so==1]) - len(df)"
   ]
  },
  {
   "cell_type": "markdown",
   "metadata": {},
   "source": [
    "There are 73 unique pairs of topic labels with perfect correlation.\n",
    "This is odd, so let's inspect one of them."
   ]
  },
  {
   "cell_type": "code",
   "execution_count": 70,
   "metadata": {},
   "outputs": [
    {
     "data": {
      "text/html": [
       "<div>\n",
       "<style scoped>\n",
       "    .dataframe tbody tr th:only-of-type {\n",
       "        vertical-align: middle;\n",
       "    }\n",
       "\n",
       "    .dataframe tbody tr th {\n",
       "        vertical-align: top;\n",
       "    }\n",
       "\n",
       "    .dataframe thead th {\n",
       "        text-align: right;\n",
       "    }\n",
       "</style>\n",
       "<table border=\"1\" class=\"dataframe\">\n",
       "  <thead>\n",
       "    <tr style=\"text-align: right;\">\n",
       "      <th></th>\n",
       "      <th>:Search/Suggesters</th>\n",
       "      <th>:Core/Features/Stats</th>\n",
       "    </tr>\n",
       "  </thead>\n",
       "  <tbody>\n",
       "    <tr>\n",
       "      <td>0</td>\n",
       "      <td>0.001508</td>\n",
       "      <td>0.001005</td>\n",
       "    </tr>\n",
       "    <tr>\n",
       "      <td>1</td>\n",
       "      <td>0.008062</td>\n",
       "      <td>0.010964</td>\n",
       "    </tr>\n",
       "    <tr>\n",
       "      <td>2</td>\n",
       "      <td>0.006586</td>\n",
       "      <td>0.017124</td>\n",
       "    </tr>\n",
       "    <tr>\n",
       "      <td>5</td>\n",
       "      <td>0.005485</td>\n",
       "      <td>0.014104</td>\n",
       "    </tr>\n",
       "    <tr>\n",
       "      <td>6</td>\n",
       "      <td>0.004300</td>\n",
       "      <td>0.006902</td>\n",
       "    </tr>\n",
       "    <tr>\n",
       "      <td>7</td>\n",
       "      <td>0.003106</td>\n",
       "      <td>0.005542</td>\n",
       "    </tr>\n",
       "  </tbody>\n",
       "</table>\n",
       "</div>"
      ],
      "text/plain": [
       "   :Search/Suggesters  :Core/Features/Stats\n",
       "0            0.001508              0.001005\n",
       "1            0.008062              0.010964\n",
       "2            0.006586              0.017124\n",
       "5            0.005485              0.014104\n",
       "6            0.004300              0.006902\n",
       "7            0.003106              0.005542"
      ]
     },
     "execution_count": 70,
     "metadata": {},
     "output_type": "execute_result"
    }
   ],
   "source": [
    "df[[\":Search/Suggesters\",\":Core/Features/Stats\"]]"
   ]
  },
  {
   "cell_type": "markdown",
   "metadata": {},
   "source": [
    "We can see that the perfect correlation is due to the absence of both labels in many versions.\n",
    "These labels may even be new labels which have been both introduced in version 7. \n",
    "This correlation matrix as it is (overwhelmingly full of perfectly correlated labels which are not present in many versions), does not help us in identifying significant correlated labels"
   ]
  },
  {
   "cell_type": "markdown",
   "metadata": {},
   "source": [
    "### Category labels"
   ]
  },
  {
   "cell_type": "code",
   "execution_count": 71,
   "metadata": {},
   "outputs": [
    {
     "data": {
      "text/html": [
       "<div>\n",
       "<style scoped>\n",
       "    .dataframe tbody tr th:only-of-type {\n",
       "        vertical-align: middle;\n",
       "    }\n",
       "\n",
       "    .dataframe tbody tr th {\n",
       "        vertical-align: top;\n",
       "    }\n",
       "\n",
       "    .dataframe thead th {\n",
       "        text-align: right;\n",
       "    }\n",
       "</style>\n",
       "<table border=\"1\" class=\"dataframe\">\n",
       "  <thead>\n",
       "    <tr style=\"text-align: right;\">\n",
       "      <th></th>\n",
       "      <th>&gt;breaking</th>\n",
       "      <th>&gt;breaking-java</th>\n",
       "      <th>&gt;bug</th>\n",
       "      <th>&gt;deprecation</th>\n",
       "      <th>&gt;docs</th>\n",
       "      <th>&gt;enhancement</th>\n",
       "      <th>&gt;feature</th>\n",
       "      <th>&gt;non-issue</th>\n",
       "      <th>&gt;refactoring</th>\n",
       "      <th>&gt;regression</th>\n",
       "      <th>&gt;test</th>\n",
       "      <th>&gt;test-failure</th>\n",
       "      <th>&gt;test-mute</th>\n",
       "      <th>&gt;upgrade</th>\n",
       "    </tr>\n",
       "  </thead>\n",
       "  <tbody>\n",
       "    <tr>\n",
       "      <td>0</td>\n",
       "      <td>0.053769</td>\n",
       "      <td>0.000000</td>\n",
       "      <td>0.375377</td>\n",
       "      <td>0.000000</td>\n",
       "      <td>0.007035</td>\n",
       "      <td>0.448241</td>\n",
       "      <td>0.134673</td>\n",
       "      <td>0.006030</td>\n",
       "      <td>0.000000</td>\n",
       "      <td>0.006030</td>\n",
       "      <td>0.005528</td>\n",
       "      <td>0.000000</td>\n",
       "      <td>0.000000</td>\n",
       "      <td>0.000503</td>\n",
       "    </tr>\n",
       "    <tr>\n",
       "      <td>1</td>\n",
       "      <td>0.045792</td>\n",
       "      <td>0.000000</td>\n",
       "      <td>0.397291</td>\n",
       "      <td>0.006772</td>\n",
       "      <td>0.046114</td>\n",
       "      <td>0.377943</td>\n",
       "      <td>0.051596</td>\n",
       "      <td>0.006772</td>\n",
       "      <td>0.000000</td>\n",
       "      <td>0.008062</td>\n",
       "      <td>0.059336</td>\n",
       "      <td>0.000000</td>\n",
       "      <td>0.000000</td>\n",
       "      <td>0.011609</td>\n",
       "    </tr>\n",
       "    <tr>\n",
       "      <td>2</td>\n",
       "      <td>0.057958</td>\n",
       "      <td>0.000220</td>\n",
       "      <td>0.323381</td>\n",
       "      <td>0.009001</td>\n",
       "      <td>0.063886</td>\n",
       "      <td>0.365093</td>\n",
       "      <td>0.038419</td>\n",
       "      <td>0.013611</td>\n",
       "      <td>0.000000</td>\n",
       "      <td>0.004830</td>\n",
       "      <td>0.090231</td>\n",
       "      <td>0.002634</td>\n",
       "      <td>0.000000</td>\n",
       "      <td>0.020637</td>\n",
       "    </tr>\n",
       "    <tr>\n",
       "      <td>5</td>\n",
       "      <td>0.032321</td>\n",
       "      <td>0.023898</td>\n",
       "      <td>0.221939</td>\n",
       "      <td>0.012733</td>\n",
       "      <td>0.108521</td>\n",
       "      <td>0.293634</td>\n",
       "      <td>0.020568</td>\n",
       "      <td>0.119687</td>\n",
       "      <td>0.000000</td>\n",
       "      <td>0.003330</td>\n",
       "      <td>0.101469</td>\n",
       "      <td>0.008031</td>\n",
       "      <td>0.000196</td>\n",
       "      <td>0.016063</td>\n",
       "    </tr>\n",
       "    <tr>\n",
       "      <td>6</td>\n",
       "      <td>0.019688</td>\n",
       "      <td>0.009391</td>\n",
       "      <td>0.208871</td>\n",
       "      <td>0.012220</td>\n",
       "      <td>0.157502</td>\n",
       "      <td>0.214302</td>\n",
       "      <td>0.020367</td>\n",
       "      <td>0.173456</td>\n",
       "      <td>0.027608</td>\n",
       "      <td>0.002602</td>\n",
       "      <td>0.115071</td>\n",
       "      <td>0.029984</td>\n",
       "      <td>0.002489</td>\n",
       "      <td>0.011088</td>\n",
       "    </tr>\n",
       "  </tbody>\n",
       "</table>\n",
       "</div>"
      ],
      "text/plain": [
       "   >breaking  >breaking-java      >bug  >deprecation     >docs  >enhancement  \\\n",
       "0   0.053769        0.000000  0.375377      0.000000  0.007035      0.448241   \n",
       "1   0.045792        0.000000  0.397291      0.006772  0.046114      0.377943   \n",
       "2   0.057958        0.000220  0.323381      0.009001  0.063886      0.365093   \n",
       "5   0.032321        0.023898  0.221939      0.012733  0.108521      0.293634   \n",
       "6   0.019688        0.009391  0.208871      0.012220  0.157502      0.214302   \n",
       "\n",
       "   >feature  >non-issue  >refactoring  >regression     >test  >test-failure  \\\n",
       "0  0.134673    0.006030      0.000000     0.006030  0.005528       0.000000   \n",
       "1  0.051596    0.006772      0.000000     0.008062  0.059336       0.000000   \n",
       "2  0.038419    0.013611      0.000000     0.004830  0.090231       0.002634   \n",
       "5  0.020568    0.119687      0.000000     0.003330  0.101469       0.008031   \n",
       "6  0.020367    0.173456      0.027608     0.002602  0.115071       0.029984   \n",
       "\n",
       "   >test-mute  >upgrade  \n",
       "0    0.000000  0.000503  \n",
       "1    0.000000  0.011609  \n",
       "2    0.000000  0.020637  \n",
       "5    0.000196  0.016063  \n",
       "6    0.002489  0.011088  "
      ]
     },
     "execution_count": 71,
     "metadata": {},
     "output_type": "execute_result"
    }
   ],
   "source": [
    "list_of_series = []\n",
    "for i in range(len(versions)):\n",
    "    issues_for_version = ilpr[ilpr.label.str.startswith(f\"v{versions[i]}\")].id.unique()\n",
    "    issues_type_for_version = (ilpr[ilpr.id.isin(issues_for_version) & \n",
    "                               ilpr.label.isin(category_labels)].groupby(\"label\").id.count() / len(issues_for_version)).sort_values(ascending=False)\n",
    "    list_of_series.append(issues_type_for_version)\n",
    "df = pd.concat(list_of_series, axis=1, sort=True).transpose()\n",
    "df = df.set_index([pd.Index(versions)])\n",
    "df = df.fillna(0)\n",
    "df.head()"
   ]
  },
  {
   "cell_type": "code",
   "execution_count": 72,
   "metadata": {
    "scrolled": true
   },
   "outputs": [
    {
     "data": {
      "text/plain": [
       "<matplotlib.axes._subplots.AxesSubplot at 0x7f805f75f7d0>"
      ]
     },
     "execution_count": 72,
     "metadata": {},
     "output_type": "execute_result"
    },
    {
     "data": {
      "image/png": "[encoded data removed]",
      "text/plain": [
       "<Figure size 1080x720 with 2 Axes>"
      ]
     },
     "metadata": {
      "needs_background": "light"
     },
     "output_type": "display_data"
    }
   ],
   "source": [
    "plt.figure(figsize=(15,10))\n",
    "sns.heatmap(df.corr(), cmap=sns.color_palette(\"Reds_r\"))"
   ]
  },
  {
   "cell_type": "markdown",
   "metadata": {},
   "source": [
    "Let's inspect the perfectly positive correlated categories"
   ]
  },
  {
   "cell_type": "code",
   "execution_count": 73,
   "metadata": {},
   "outputs": [
    {
     "data": {
      "text/plain": [
       "8"
      ]
     },
     "execution_count": 73,
     "metadata": {},
     "output_type": "execute_result"
    }
   ],
   "source": [
    "c = df.corr()\n",
    "s = c.unstack()\n",
    "so = s.sort_values(ascending=False)\n",
    "len(so[so==1]) - len(df)"
   ]
  },
  {
   "cell_type": "code",
   "execution_count": 74,
   "metadata": {
    "scrolled": true
   },
   "outputs": [
    {
     "data": {
      "text/plain": [
       ">upgrade        >upgrade          1.0\n",
       ">test-mute      >test-mute        1.0\n",
       ">breaking-java  >breaking-java    1.0\n",
       ">bug            >bug              1.0\n",
       ">deprecation    >deprecation      1.0\n",
       ">docs           >docs             1.0\n",
       ">enhancement    >enhancement      1.0\n",
       ">feature        >feature          1.0\n",
       ">non-issue      >non-issue        1.0\n",
       ">refactoring    >refactoring      1.0\n",
       ">regression     >regression       1.0\n",
       ">test           >test             1.0\n",
       ">test-failure   >test-failure     1.0\n",
       ">breaking       >breaking         1.0\n",
       "dtype: float64"
      ]
     },
     "execution_count": 74,
     "metadata": {},
     "output_type": "execute_result"
    }
   ],
   "source": [
    "so[so==1]"
   ]
  },
  {
   "cell_type": "markdown",
   "metadata": {},
   "source": [
    "In this case all the pairs with perfect correlation are self-correlated variables, so we skip them"
   ]
  },
  {
   "cell_type": "code",
   "execution_count": 75,
   "metadata": {
    "scrolled": true
   },
   "outputs": [
    {
     "data": {
      "text/plain": [
       ">regression   >bug            0.971871\n",
       ">bug          >regression     0.971871\n",
       ">deprecation  >test           0.965972\n",
       ">test         >deprecation    0.965972\n",
       ">refactoring  >test-mute      0.965327\n",
       ">test-mute    >refactoring    0.965327\n",
       ">non-issue    >docs           0.956833\n",
       ">docs         >non-issue      0.956833\n",
       "dtype: float64"
      ]
     },
     "execution_count": 75,
     "metadata": {},
     "output_type": "execute_result"
    }
   ],
   "source": [
    "so[(so > 0.95) & (so < 1)]"
   ]
  },
  {
   "cell_type": "code",
   "execution_count": 76,
   "metadata": {},
   "outputs": [
    {
     "data": {
      "text/html": [
       "<div>\n",
       "<style scoped>\n",
       "    .dataframe tbody tr th:only-of-type {\n",
       "        vertical-align: middle;\n",
       "    }\n",
       "\n",
       "    .dataframe tbody tr th {\n",
       "        vertical-align: top;\n",
       "    }\n",
       "\n",
       "    .dataframe thead th {\n",
       "        text-align: right;\n",
       "    }\n",
       "</style>\n",
       "<table border=\"1\" class=\"dataframe\">\n",
       "  <thead>\n",
       "    <tr style=\"text-align: right;\">\n",
       "      <th></th>\n",
       "      <th>&gt;regression</th>\n",
       "      <th>&gt;bug</th>\n",
       "    </tr>\n",
       "  </thead>\n",
       "  <tbody>\n",
       "    <tr>\n",
       "      <td>0</td>\n",
       "      <td>0.006030</td>\n",
       "      <td>0.375377</td>\n",
       "    </tr>\n",
       "    <tr>\n",
       "      <td>1</td>\n",
       "      <td>0.008062</td>\n",
       "      <td>0.397291</td>\n",
       "    </tr>\n",
       "    <tr>\n",
       "      <td>2</td>\n",
       "      <td>0.004830</td>\n",
       "      <td>0.323381</td>\n",
       "    </tr>\n",
       "    <tr>\n",
       "      <td>5</td>\n",
       "      <td>0.003330</td>\n",
       "      <td>0.221939</td>\n",
       "    </tr>\n",
       "    <tr>\n",
       "      <td>6</td>\n",
       "      <td>0.002602</td>\n",
       "      <td>0.208871</td>\n",
       "    </tr>\n",
       "    <tr>\n",
       "      <td>7</td>\n",
       "      <td>0.001340</td>\n",
       "      <td>0.143797</td>\n",
       "    </tr>\n",
       "  </tbody>\n",
       "</table>\n",
       "</div>"
      ],
      "text/plain": [
       "   >regression      >bug\n",
       "0     0.006030  0.375377\n",
       "1     0.008062  0.397291\n",
       "2     0.004830  0.323381\n",
       "5     0.003330  0.221939\n",
       "6     0.002602  0.208871\n",
       "7     0.001340  0.143797"
      ]
     },
     "execution_count": 76,
     "metadata": {},
     "output_type": "execute_result"
    }
   ],
   "source": [
    "df[[\">regression\",\">bug\"]]"
   ]
  },
  {
   "cell_type": "markdown",
   "metadata": {},
   "source": [
    "The correlation matrix shows a strong correlation among\n",
    "* Regression and bug\n",
    "* Deprecated and test\n",
    "* Refactoring and test\n",
    "\n",
    "to name a few. This means that these types have followed a similar trend throughout versions: e.g. when regression issues increased, so did bugs labeled issues."
   ]
  },
  {
   "cell_type": "code",
   "execution_count": 77,
   "metadata": {},
   "outputs": [
    {
     "data": {
      "text/plain": [
       ">enhancement  >non-issue     -0.960379\n",
       ">non-issue    >enhancement   -0.960379\n",
       ">bug          >non-issue     -0.964881\n",
       ">non-issue    >bug           -0.964881\n",
       "              >breaking      -0.969544\n",
       ">breaking     >non-issue     -0.969544\n",
       ">feature      >deprecation   -0.971680\n",
       ">deprecation  >feature       -0.971680\n",
       ">test         >feature       -0.972340\n",
       ">feature      >test          -0.972340\n",
       ">enhancement  >docs          -0.997137\n",
       ">docs         >enhancement   -0.997137\n",
       "dtype: float64"
      ]
     },
     "execution_count": 77,
     "metadata": {},
     "output_type": "execute_result"
    }
   ],
   "source": [
    "so[(so < -0.95)]"
   ]
  },
  {
   "cell_type": "code",
   "execution_count": 78,
   "metadata": {},
   "outputs": [
    {
     "data": {
      "text/html": [
       "<div>\n",
       "<style scoped>\n",
       "    .dataframe tbody tr th:only-of-type {\n",
       "        vertical-align: middle;\n",
       "    }\n",
       "\n",
       "    .dataframe tbody tr th {\n",
       "        vertical-align: top;\n",
       "    }\n",
       "\n",
       "    .dataframe thead th {\n",
       "        text-align: right;\n",
       "    }\n",
       "</style>\n",
       "<table border=\"1\" class=\"dataframe\">\n",
       "  <thead>\n",
       "    <tr style=\"text-align: right;\">\n",
       "      <th></th>\n",
       "      <th>&gt;feature</th>\n",
       "      <th>&gt;test</th>\n",
       "    </tr>\n",
       "  </thead>\n",
       "  <tbody>\n",
       "    <tr>\n",
       "      <td>0</td>\n",
       "      <td>0.134673</td>\n",
       "      <td>0.005528</td>\n",
       "    </tr>\n",
       "    <tr>\n",
       "      <td>1</td>\n",
       "      <td>0.051596</td>\n",
       "      <td>0.059336</td>\n",
       "    </tr>\n",
       "    <tr>\n",
       "      <td>2</td>\n",
       "      <td>0.038419</td>\n",
       "      <td>0.090231</td>\n",
       "    </tr>\n",
       "    <tr>\n",
       "      <td>5</td>\n",
       "      <td>0.020568</td>\n",
       "      <td>0.101469</td>\n",
       "    </tr>\n",
       "    <tr>\n",
       "      <td>6</td>\n",
       "      <td>0.020367</td>\n",
       "      <td>0.115071</td>\n",
       "    </tr>\n",
       "    <tr>\n",
       "      <td>7</td>\n",
       "      <td>0.019429</td>\n",
       "      <td>0.113040</td>\n",
       "    </tr>\n",
       "  </tbody>\n",
       "</table>\n",
       "</div>"
      ],
      "text/plain": [
       "   >feature     >test\n",
       "0  0.134673  0.005528\n",
       "1  0.051596  0.059336\n",
       "2  0.038419  0.090231\n",
       "5  0.020568  0.101469\n",
       "6  0.020367  0.115071\n",
       "7  0.019429  0.113040"
      ]
     },
     "execution_count": 78,
     "metadata": {},
     "output_type": "execute_result"
    }
   ],
   "source": [
    "df[[\">feature\",\">test\"]]"
   ]
  },
  {
   "cell_type": "markdown",
   "metadata": {},
   "source": [
    "On the other hand, categories pairs such as\n",
    "* docs and enhancement\n",
    "* feature and test\n",
    "* deprecation and feature\n",
    "\n",
    "Have followed opposite trends: e.g versions which experienced an increase in docs issues, did present a decrease in enhancement issues."
   ]
  },
  {
   "cell_type": "markdown",
   "metadata": {},
   "source": [
    "**Observations**\n",
    "Correlation among topics did not lead to any result as the original matrix was too sparse and this resulted in many labels to be perfectly correlated thanks to their absence (possibly because they did not exist as labels back then) in the same versions.\n",
    "Correlation among categories did show some interesting relationships.\n",
    "* Positive: regression and bug has been decreasing since version 0. This can possibly the result of some action taken by the developers (i.e implementing regression testing)\n",
    "* Negative: percentage of requests for features have decreased overtime, while the ones for tests have been increased. This can be the sign of a mature product: which needs less new features and values testing more and more over time. "
   ]
  },
  {
   "cell_type": "markdown",
   "metadata": {},
   "source": [
    "### Number of unique labels over time"
   ]
  },
  {
   "cell_type": "code",
   "execution_count": 79,
   "metadata": {},
   "outputs": [
    {
     "data": {
      "text/html": [
       "<div>\n",
       "<style scoped>\n",
       "    .dataframe tbody tr th:only-of-type {\n",
       "        vertical-align: middle;\n",
       "    }\n",
       "\n",
       "    .dataframe tbody tr th {\n",
       "        vertical-align: top;\n",
       "    }\n",
       "\n",
       "    .dataframe thead th {\n",
       "        text-align: right;\n",
       "    }\n",
       "</style>\n",
       "<table border=\"1\" class=\"dataframe\">\n",
       "  <thead>\n",
       "    <tr style=\"text-align: right;\">\n",
       "      <th></th>\n",
       "      <th>Tag</th>\n",
       "      <th>Sha</th>\n",
       "      <th>Date</th>\n",
       "    </tr>\n",
       "  </thead>\n",
       "  <tbody>\n",
       "    <tr>\n",
       "      <td>0</td>\n",
       "      <td>v7.9.0</td>\n",
       "      <td>a479a2a7fce0389512d6a9361301708b92dff667</td>\n",
       "      <td>2020-08-11 16:42:47</td>\n",
       "    </tr>\n",
       "    <tr>\n",
       "      <td>1</td>\n",
       "      <td>v7.8.1</td>\n",
       "      <td>b5ca9c58fb664ca8bf9e4057fc229b3396bf3a89</td>\n",
       "      <td>2020-07-21 12:13:59</td>\n",
       "    </tr>\n",
       "    <tr>\n",
       "      <td>2</td>\n",
       "      <td>v7.8.0</td>\n",
       "      <td>757314695644ea9a1dc2fecd26d1a43856725e65</td>\n",
       "      <td>2020-06-12 22:39:07</td>\n",
       "    </tr>\n",
       "    <tr>\n",
       "      <td>3</td>\n",
       "      <td>v7.7.1</td>\n",
       "      <td>ad56dce891c901a492bb1ee393f12dfff473a423</td>\n",
       "      <td>2020-05-28 13:52:12</td>\n",
       "    </tr>\n",
       "    <tr>\n",
       "      <td>4</td>\n",
       "      <td>v7.7.0</td>\n",
       "      <td>81a1e9eda8e6183f5237786246f6dced26a10eaf</td>\n",
       "      <td>2020-05-08 23:11:19</td>\n",
       "    </tr>\n",
       "    <tr>\n",
       "      <td>...</td>\n",
       "      <td>...</td>\n",
       "      <td>...</td>\n",
       "      <td>...</td>\n",
       "    </tr>\n",
       "    <tr>\n",
       "      <td>275</td>\n",
       "      <td>v0.7.0</td>\n",
       "      <td>797cb66dbeb57098fdab0ec34dc0958ff2a05640</td>\n",
       "      <td>2010-05-14 20:15:53</td>\n",
       "    </tr>\n",
       "    <tr>\n",
       "      <td>276</td>\n",
       "      <td>v0.6.0</td>\n",
       "      <td>9549b9c2d3cd4151a03bacebea13b96b19478291</td>\n",
       "      <td>2010-04-09 14:06:09</td>\n",
       "    </tr>\n",
       "    <tr>\n",
       "      <td>277</td>\n",
       "      <td>v0.5.1</td>\n",
       "      <td>79e1df14e0a4223bdfdf9ac53f533b6ee9e272ba</td>\n",
       "      <td>2010-03-09 11:30:49</td>\n",
       "    </tr>\n",
       "    <tr>\n",
       "      <td>278</td>\n",
       "      <td>v0.5.0</td>\n",
       "      <td>f4f26d2118b1bc6f0d895ba990ede22b02e731b4</td>\n",
       "      <td>2010-03-05 14:05:08</td>\n",
       "    </tr>\n",
       "    <tr>\n",
       "      <td>279</td>\n",
       "      <td>v0.4.0</td>\n",
       "      <td>b3337c312765e51cec7bde5883bbc0a08f56fb65</td>\n",
       "      <td>2010-02-08 13:30:06</td>\n",
       "    </tr>\n",
       "  </tbody>\n",
       "</table>\n",
       "<p>280 rows × 3 columns</p>\n",
       "</div>"
      ],
      "text/plain": [
       "        Tag                                       Sha                 Date\n",
       "0    v7.9.0  a479a2a7fce0389512d6a9361301708b92dff667  2020-08-11 16:42:47\n",
       "1    v7.8.1  b5ca9c58fb664ca8bf9e4057fc229b3396bf3a89  2020-07-21 12:13:59\n",
       "2    v7.8.0  757314695644ea9a1dc2fecd26d1a43856725e65  2020-06-12 22:39:07\n",
       "3    v7.7.1  ad56dce891c901a492bb1ee393f12dfff473a423  2020-05-28 13:52:12\n",
       "4    v7.7.0  81a1e9eda8e6183f5237786246f6dced26a10eaf  2020-05-08 23:11:19\n",
       "..      ...                                       ...                  ...\n",
       "275  v0.7.0  797cb66dbeb57098fdab0ec34dc0958ff2a05640  2010-05-14 20:15:53\n",
       "276  v0.6.0  9549b9c2d3cd4151a03bacebea13b96b19478291  2010-04-09 14:06:09\n",
       "277  v0.5.1  79e1df14e0a4223bdfdf9ac53f533b6ee9e272ba  2010-03-09 11:30:49\n",
       "278  v0.5.0  f4f26d2118b1bc6f0d895ba990ede22b02e731b4  2010-03-05 14:05:08\n",
       "279  v0.4.0  b3337c312765e51cec7bde5883bbc0a08f56fb65  2010-02-08 13:30:06\n",
       "\n",
       "[280 rows x 3 columns]"
      ]
     },
     "execution_count": 79,
     "metadata": {},
     "output_type": "execute_result"
    }
   ],
   "source": [
    "tags"
   ]
  },
  {
   "cell_type": "code",
   "execution_count": 93,
   "metadata": {},
   "outputs": [],
   "source": [
    "tags[\"Month\"] = tags.Date.dt.month\n",
    "tags[\"Year\"] = tags.Date.dt.year"
   ]
  },
  {
   "cell_type": "code",
   "execution_count": 94,
   "metadata": {},
   "outputs": [
    {
     "data": {
      "text/html": [
       "<div>\n",
       "<style scoped>\n",
       "    .dataframe tbody tr th:only-of-type {\n",
       "        vertical-align: middle;\n",
       "    }\n",
       "\n",
       "    .dataframe tbody tr th {\n",
       "        vertical-align: top;\n",
       "    }\n",
       "\n",
       "    .dataframe thead th {\n",
       "        text-align: right;\n",
       "    }\n",
       "</style>\n",
       "<table border=\"1\" class=\"dataframe\">\n",
       "  <thead>\n",
       "    <tr style=\"text-align: right;\">\n",
       "      <th></th>\n",
       "      <th>Tag</th>\n",
       "      <th>Sha</th>\n",
       "      <th>Date</th>\n",
       "      <th>Month</th>\n",
       "      <th>Year</th>\n",
       "    </tr>\n",
       "  </thead>\n",
       "  <tbody>\n",
       "    <tr>\n",
       "      <td>0</td>\n",
       "      <td>v7.9.0</td>\n",
       "      <td>a479a2a7fce0389512d6a9361301708b92dff667</td>\n",
       "      <td>2020-08-11 16:42:47</td>\n",
       "      <td>8</td>\n",
       "      <td>2020</td>\n",
       "    </tr>\n",
       "    <tr>\n",
       "      <td>1</td>\n",
       "      <td>v7.8.1</td>\n",
       "      <td>b5ca9c58fb664ca8bf9e4057fc229b3396bf3a89</td>\n",
       "      <td>2020-07-21 12:13:59</td>\n",
       "      <td>7</td>\n",
       "      <td>2020</td>\n",
       "    </tr>\n",
       "    <tr>\n",
       "      <td>2</td>\n",
       "      <td>v7.8.0</td>\n",
       "      <td>757314695644ea9a1dc2fecd26d1a43856725e65</td>\n",
       "      <td>2020-06-12 22:39:07</td>\n",
       "      <td>6</td>\n",
       "      <td>2020</td>\n",
       "    </tr>\n",
       "    <tr>\n",
       "      <td>3</td>\n",
       "      <td>v7.7.1</td>\n",
       "      <td>ad56dce891c901a492bb1ee393f12dfff473a423</td>\n",
       "      <td>2020-05-28 13:52:12</td>\n",
       "      <td>5</td>\n",
       "      <td>2020</td>\n",
       "    </tr>\n",
       "    <tr>\n",
       "      <td>4</td>\n",
       "      <td>v7.7.0</td>\n",
       "      <td>81a1e9eda8e6183f5237786246f6dced26a10eaf</td>\n",
       "      <td>2020-05-08 23:11:19</td>\n",
       "      <td>5</td>\n",
       "      <td>2020</td>\n",
       "    </tr>\n",
       "    <tr>\n",
       "      <td>...</td>\n",
       "      <td>...</td>\n",
       "      <td>...</td>\n",
       "      <td>...</td>\n",
       "      <td>...</td>\n",
       "      <td>...</td>\n",
       "    </tr>\n",
       "    <tr>\n",
       "      <td>275</td>\n",
       "      <td>v0.7.0</td>\n",
       "      <td>797cb66dbeb57098fdab0ec34dc0958ff2a05640</td>\n",
       "      <td>2010-05-14 20:15:53</td>\n",
       "      <td>5</td>\n",
       "      <td>2010</td>\n",
       "    </tr>\n",
       "    <tr>\n",
       "      <td>276</td>\n",
       "      <td>v0.6.0</td>\n",
       "      <td>9549b9c2d3cd4151a03bacebea13b96b19478291</td>\n",
       "      <td>2010-04-09 14:06:09</td>\n",
       "      <td>4</td>\n",
       "      <td>2010</td>\n",
       "    </tr>\n",
       "    <tr>\n",
       "      <td>277</td>\n",
       "      <td>v0.5.1</td>\n",
       "      <td>79e1df14e0a4223bdfdf9ac53f533b6ee9e272ba</td>\n",
       "      <td>2010-03-09 11:30:49</td>\n",
       "      <td>3</td>\n",
       "      <td>2010</td>\n",
       "    </tr>\n",
       "    <tr>\n",
       "      <td>278</td>\n",
       "      <td>v0.5.0</td>\n",
       "      <td>f4f26d2118b1bc6f0d895ba990ede22b02e731b4</td>\n",
       "      <td>2010-03-05 14:05:08</td>\n",
       "      <td>3</td>\n",
       "      <td>2010</td>\n",
       "    </tr>\n",
       "    <tr>\n",
       "      <td>279</td>\n",
       "      <td>v0.4.0</td>\n",
       "      <td>b3337c312765e51cec7bde5883bbc0a08f56fb65</td>\n",
       "      <td>2010-02-08 13:30:06</td>\n",
       "      <td>2</td>\n",
       "      <td>2010</td>\n",
       "    </tr>\n",
       "  </tbody>\n",
       "</table>\n",
       "<p>280 rows × 5 columns</p>\n",
       "</div>"
      ],
      "text/plain": [
       "        Tag                                       Sha                Date  \\\n",
       "0    v7.9.0  a479a2a7fce0389512d6a9361301708b92dff667 2020-08-11 16:42:47   \n",
       "1    v7.8.1  b5ca9c58fb664ca8bf9e4057fc229b3396bf3a89 2020-07-21 12:13:59   \n",
       "2    v7.8.0  757314695644ea9a1dc2fecd26d1a43856725e65 2020-06-12 22:39:07   \n",
       "3    v7.7.1  ad56dce891c901a492bb1ee393f12dfff473a423 2020-05-28 13:52:12   \n",
       "4    v7.7.0  81a1e9eda8e6183f5237786246f6dced26a10eaf 2020-05-08 23:11:19   \n",
       "..      ...                                       ...                 ...   \n",
       "275  v0.7.0  797cb66dbeb57098fdab0ec34dc0958ff2a05640 2010-05-14 20:15:53   \n",
       "276  v0.6.0  9549b9c2d3cd4151a03bacebea13b96b19478291 2010-04-09 14:06:09   \n",
       "277  v0.5.1  79e1df14e0a4223bdfdf9ac53f533b6ee9e272ba 2010-03-09 11:30:49   \n",
       "278  v0.5.0  f4f26d2118b1bc6f0d895ba990ede22b02e731b4 2010-03-05 14:05:08   \n",
       "279  v0.4.0  b3337c312765e51cec7bde5883bbc0a08f56fb65 2010-02-08 13:30:06   \n",
       "\n",
       "     Month  Year  \n",
       "0        8  2020  \n",
       "1        7  2020  \n",
       "2        6  2020  \n",
       "3        5  2020  \n",
       "4        5  2020  \n",
       "..     ...   ...  \n",
       "275      5  2010  \n",
       "276      4  2010  \n",
       "277      3  2010  \n",
       "278      3  2010  \n",
       "279      2  2010  \n",
       "\n",
       "[280 rows x 5 columns]"
      ]
     },
     "execution_count": 94,
     "metadata": {},
     "output_type": "execute_result"
    }
   ],
   "source": [
    "tags"
   ]
  },
  {
   "cell_type": "code",
   "execution_count": 99,
   "metadata": {},
   "outputs": [
    {
     "data": {
      "text/html": [
       "<div>\n",
       "<style scoped>\n",
       "    .dataframe tbody tr th:only-of-type {\n",
       "        vertical-align: middle;\n",
       "    }\n",
       "\n",
       "    .dataframe tbody tr th {\n",
       "        vertical-align: top;\n",
       "    }\n",
       "\n",
       "    .dataframe thead th {\n",
       "        text-align: right;\n",
       "    }\n",
       "</style>\n",
       "<table border=\"1\" class=\"dataframe\">\n",
       "  <thead>\n",
       "    <tr style=\"text-align: right;\">\n",
       "      <th></th>\n",
       "      <th>title</th>\n",
       "      <th>created_at</th>\n",
       "      <th>user</th>\n",
       "    </tr>\n",
       "    <tr>\n",
       "      <th>id</th>\n",
       "      <th></th>\n",
       "      <th></th>\n",
       "      <th></th>\n",
       "    </tr>\n",
       "  </thead>\n",
       "  <tbody>\n",
       "    <tr>\n",
       "      <td>682740346</td>\n",
       "      <td>[7.9] [DOCS] Fix EQL threat detection example ...</td>\n",
       "      <td>2020-08-20 13:58:10</td>\n",
       "      <td>jrodewig</td>\n",
       "    </tr>\n",
       "    <tr>\n",
       "      <td>682739786</td>\n",
       "      <td>[7.x] [DOCS] Fix EQL threat detection example ...</td>\n",
       "      <td>2020-08-20 13:57:22</td>\n",
       "      <td>jrodewig</td>\n",
       "    </tr>\n",
       "    <tr>\n",
       "      <td>682737733</td>\n",
       "      <td>[DOCS] [7.8] Adding ignore_unavailable param. ...</td>\n",
       "      <td>2020-08-20 13:54:35</td>\n",
       "      <td>lockewritesdocs</td>\n",
       "    </tr>\n",
       "    <tr>\n",
       "      <td>682734621</td>\n",
       "      <td>[DOCS] [7.9] Adding ignore_unavailable param. ...</td>\n",
       "      <td>2020-08-20 13:50:36</td>\n",
       "      <td>lockewritesdocs</td>\n",
       "    </tr>\n",
       "    <tr>\n",
       "      <td>682732176</td>\n",
       "      <td>[DOCS] [7.x] Adding ignore_unavailable param. ...</td>\n",
       "      <td>2020-08-20 13:47:21</td>\n",
       "      <td>lockewritesdocs</td>\n",
       "    </tr>\n",
       "    <tr>\n",
       "      <td>...</td>\n",
       "      <td>...</td>\n",
       "      <td>...</td>\n",
       "      <td>...</td>\n",
       "    </tr>\n",
       "    <tr>\n",
       "      <td>23083082</td>\n",
       "      <td>Consistency between `_search` and `_msearch`</td>\n",
       "      <td>2013-11-21 17:33:06</td>\n",
       "      <td>ofavre</td>\n",
       "    </tr>\n",
       "    <tr>\n",
       "      <td>20864348</td>\n",
       "      <td>ActionResponse should implement ToXContentObject</td>\n",
       "      <td>2013-10-11 11:52:52</td>\n",
       "      <td>s1monw</td>\n",
       "    </tr>\n",
       "    <tr>\n",
       "      <td>20743479</td>\n",
       "      <td>Get document API can specify an alias, but wil...</td>\n",
       "      <td>2013-10-09 13:56:33</td>\n",
       "      <td>ccw-morris</td>\n",
       "    </tr>\n",
       "    <tr>\n",
       "      <td>12899202</td>\n",
       "      <td>index.auto_expand_replicas and shard allocatio...</td>\n",
       "      <td>2013-04-07 18:10:01</td>\n",
       "      <td>synhershko</td>\n",
       "    </tr>\n",
       "    <tr>\n",
       "      <td>1400233</td>\n",
       "      <td>Changes API</td>\n",
       "      <td>2011-08-13 15:45:14</td>\n",
       "      <td>Vineeth-Mohan</td>\n",
       "    </tr>\n",
       "  </tbody>\n",
       "</table>\n",
       "<p>61215 rows × 3 columns</p>\n",
       "</div>"
      ],
      "text/plain": [
       "                                                       title  \\\n",
       "id                                                             \n",
       "682740346  [7.9] [DOCS] Fix EQL threat detection example ...   \n",
       "682739786  [7.x] [DOCS] Fix EQL threat detection example ...   \n",
       "682737733  [DOCS] [7.8] Adding ignore_unavailable param. ...   \n",
       "682734621  [DOCS] [7.9] Adding ignore_unavailable param. ...   \n",
       "682732176  [DOCS] [7.x] Adding ignore_unavailable param. ...   \n",
       "...                                                      ...   \n",
       "23083082        Consistency between `_search` and `_msearch`   \n",
       "20864348    ActionResponse should implement ToXContentObject   \n",
       "20743479   Get document API can specify an alias, but wil...   \n",
       "12899202   index.auto_expand_replicas and shard allocatio...   \n",
       "1400233                                          Changes API   \n",
       "\n",
       "                   created_at             user  \n",
       "id                                              \n",
       "682740346 2020-08-20 13:58:10         jrodewig  \n",
       "682739786 2020-08-20 13:57:22         jrodewig  \n",
       "682737733 2020-08-20 13:54:35  lockewritesdocs  \n",
       "682734621 2020-08-20 13:50:36  lockewritesdocs  \n",
       "682732176 2020-08-20 13:47:21  lockewritesdocs  \n",
       "...                       ...              ...  \n",
       "23083082  2013-11-21 17:33:06           ofavre  \n",
       "20864348  2013-10-11 11:52:52           s1monw  \n",
       "20743479  2013-10-09 13:56:33       ccw-morris  \n",
       "12899202  2013-04-07 18:10:01       synhershko  \n",
       "1400233   2011-08-13 15:45:14    Vineeth-Mohan  \n",
       "\n",
       "[61215 rows x 3 columns]"
      ]
     },
     "execution_count": 99,
     "metadata": {},
     "output_type": "execute_result"
    }
   ],
   "source": [
    "issues"
   ]
  },
  {
   "cell_type": "code",
   "execution_count": 100,
   "metadata": {},
   "outputs": [
    {
     "data": {
      "text/html": [
       "<div>\n",
       "<style scoped>\n",
       "    .dataframe tbody tr th:only-of-type {\n",
       "        vertical-align: middle;\n",
       "    }\n",
       "\n",
       "    .dataframe tbody tr th {\n",
       "        vertical-align: top;\n",
       "    }\n",
       "\n",
       "    .dataframe thead th {\n",
       "        text-align: right;\n",
       "    }\n",
       "</style>\n",
       "<table border=\"1\" class=\"dataframe\">\n",
       "  <thead>\n",
       "    <tr style=\"text-align: right;\">\n",
       "      <th></th>\n",
       "      <th>id</th>\n",
       "      <th>label</th>\n",
       "    </tr>\n",
       "  </thead>\n",
       "  <tbody>\n",
       "    <tr>\n",
       "      <td>0</td>\n",
       "      <td>681010786</td>\n",
       "      <td>backport</td>\n",
       "    </tr>\n",
       "    <tr>\n",
       "      <td>1</td>\n",
       "      <td>681010786</td>\n",
       "      <td>v7.9.1</td>\n",
       "    </tr>\n",
       "    <tr>\n",
       "      <td>2</td>\n",
       "      <td>681010233</td>\n",
       "      <td>backport</td>\n",
       "    </tr>\n",
       "    <tr>\n",
       "      <td>3</td>\n",
       "      <td>681010233</td>\n",
       "      <td>v7.10.0</td>\n",
       "    </tr>\n",
       "    <tr>\n",
       "      <td>4</td>\n",
       "      <td>680841671</td>\n",
       "      <td>:ml</td>\n",
       "    </tr>\n",
       "    <tr>\n",
       "      <td>...</td>\n",
       "      <td>...</td>\n",
       "      <td>...</td>\n",
       "    </tr>\n",
       "    <tr>\n",
       "      <td>166760</td>\n",
       "      <td>1400233</td>\n",
       "      <td>:Distributed/Distributed</td>\n",
       "    </tr>\n",
       "    <tr>\n",
       "      <td>166761</td>\n",
       "      <td>1400233</td>\n",
       "      <td>&gt;feature</td>\n",
       "    </tr>\n",
       "    <tr>\n",
       "      <td>166762</td>\n",
       "      <td>1400233</td>\n",
       "      <td>Team:Distributed</td>\n",
       "    </tr>\n",
       "    <tr>\n",
       "      <td>166763</td>\n",
       "      <td>1400233</td>\n",
       "      <td>high hanging fruit</td>\n",
       "    </tr>\n",
       "    <tr>\n",
       "      <td>166764</td>\n",
       "      <td>1400233</td>\n",
       "      <td>stalled</td>\n",
       "    </tr>\n",
       "  </tbody>\n",
       "</table>\n",
       "<p>166765 rows × 2 columns</p>\n",
       "</div>"
      ],
      "text/plain": [
       "               id                     label\n",
       "0       681010786                  backport\n",
       "1       681010786                    v7.9.1\n",
       "2       681010233                  backport\n",
       "3       681010233                   v7.10.0\n",
       "4       680841671                       :ml\n",
       "...           ...                       ...\n",
       "166760    1400233  :Distributed/Distributed\n",
       "166761    1400233                  >feature\n",
       "166762    1400233          Team:Distributed\n",
       "166763    1400233        high hanging fruit\n",
       "166764    1400233                   stalled\n",
       "\n",
       "[166765 rows x 2 columns]"
      ]
     },
     "execution_count": 100,
     "metadata": {},
     "output_type": "execute_result"
    }
   ],
   "source": [
    "ilpr"
   ]
  },
  {
   "cell_type": "code",
   "execution_count": 102,
   "metadata": {},
   "outputs": [],
   "source": [
    "ilpr = pd.merge(ilpr, issues, on=\"id\")"
   ]
  },
  {
   "cell_type": "code",
   "execution_count": 103,
   "metadata": {},
   "outputs": [
    {
     "data": {
      "text/html": [
       "<div>\n",
       "<style scoped>\n",
       "    .dataframe tbody tr th:only-of-type {\n",
       "        vertical-align: middle;\n",
       "    }\n",
       "\n",
       "    .dataframe tbody tr th {\n",
       "        vertical-align: top;\n",
       "    }\n",
       "\n",
       "    .dataframe thead th {\n",
       "        text-align: right;\n",
       "    }\n",
       "</style>\n",
       "<table border=\"1\" class=\"dataframe\">\n",
       "  <thead>\n",
       "    <tr style=\"text-align: right;\">\n",
       "      <th></th>\n",
       "      <th>id</th>\n",
       "      <th>label</th>\n",
       "      <th>title</th>\n",
       "      <th>created_at</th>\n",
       "      <th>user</th>\n",
       "    </tr>\n",
       "  </thead>\n",
       "  <tbody>\n",
       "    <tr>\n",
       "      <td>0</td>\n",
       "      <td>681010786</td>\n",
       "      <td>backport</td>\n",
       "      <td>[7.9][DOCS] Fix typo in Java HLRC docs (#60863)</td>\n",
       "      <td>2020-08-18 12:41:50</td>\n",
       "      <td>jrodewig</td>\n",
       "    </tr>\n",
       "    <tr>\n",
       "      <td>1</td>\n",
       "      <td>681010786</td>\n",
       "      <td>v7.9.1</td>\n",
       "      <td>[7.9][DOCS] Fix typo in Java HLRC docs (#60863)</td>\n",
       "      <td>2020-08-18 12:41:50</td>\n",
       "      <td>jrodewig</td>\n",
       "    </tr>\n",
       "    <tr>\n",
       "      <td>2</td>\n",
       "      <td>681010233</td>\n",
       "      <td>backport</td>\n",
       "      <td>[7.x] [DOCS] Fix typo in Java HLRC docs (#60863)</td>\n",
       "      <td>2020-08-18 12:40:59</td>\n",
       "      <td>jrodewig</td>\n",
       "    </tr>\n",
       "    <tr>\n",
       "      <td>3</td>\n",
       "      <td>681010233</td>\n",
       "      <td>v7.10.0</td>\n",
       "      <td>[7.x] [DOCS] Fix typo in Java HLRC docs (#60863)</td>\n",
       "      <td>2020-08-18 12:40:59</td>\n",
       "      <td>jrodewig</td>\n",
       "    </tr>\n",
       "    <tr>\n",
       "      <td>4</td>\n",
       "      <td>680841671</td>\n",
       "      <td>:ml</td>\n",
       "      <td>[7.x] [DOCS] Replaces ml.node with node.roles:...</td>\n",
       "      <td>2020-08-18 09:25:11</td>\n",
       "      <td>szabosteve</td>\n",
       "    </tr>\n",
       "    <tr>\n",
       "      <td>...</td>\n",
       "      <td>...</td>\n",
       "      <td>...</td>\n",
       "      <td>...</td>\n",
       "      <td>...</td>\n",
       "      <td>...</td>\n",
       "    </tr>\n",
       "    <tr>\n",
       "      <td>166931</td>\n",
       "      <td>1400233</td>\n",
       "      <td>:Distributed/Distributed</td>\n",
       "      <td>Changes API</td>\n",
       "      <td>2011-08-13 15:45:14</td>\n",
       "      <td>Vineeth-Mohan</td>\n",
       "    </tr>\n",
       "    <tr>\n",
       "      <td>166932</td>\n",
       "      <td>1400233</td>\n",
       "      <td>&gt;feature</td>\n",
       "      <td>Changes API</td>\n",
       "      <td>2011-08-13 15:45:14</td>\n",
       "      <td>Vineeth-Mohan</td>\n",
       "    </tr>\n",
       "    <tr>\n",
       "      <td>166933</td>\n",
       "      <td>1400233</td>\n",
       "      <td>Team:Distributed</td>\n",
       "      <td>Changes API</td>\n",
       "      <td>2011-08-13 15:45:14</td>\n",
       "      <td>Vineeth-Mohan</td>\n",
       "    </tr>\n",
       "    <tr>\n",
       "      <td>166934</td>\n",
       "      <td>1400233</td>\n",
       "      <td>high hanging fruit</td>\n",
       "      <td>Changes API</td>\n",
       "      <td>2011-08-13 15:45:14</td>\n",
       "      <td>Vineeth-Mohan</td>\n",
       "    </tr>\n",
       "    <tr>\n",
       "      <td>166935</td>\n",
       "      <td>1400233</td>\n",
       "      <td>stalled</td>\n",
       "      <td>Changes API</td>\n",
       "      <td>2011-08-13 15:45:14</td>\n",
       "      <td>Vineeth-Mohan</td>\n",
       "    </tr>\n",
       "  </tbody>\n",
       "</table>\n",
       "<p>166936 rows × 5 columns</p>\n",
       "</div>"
      ],
      "text/plain": [
       "               id                     label  \\\n",
       "0       681010786                  backport   \n",
       "1       681010786                    v7.9.1   \n",
       "2       681010233                  backport   \n",
       "3       681010233                   v7.10.0   \n",
       "4       680841671                       :ml   \n",
       "...           ...                       ...   \n",
       "166931    1400233  :Distributed/Distributed   \n",
       "166932    1400233                  >feature   \n",
       "166933    1400233          Team:Distributed   \n",
       "166934    1400233        high hanging fruit   \n",
       "166935    1400233                   stalled   \n",
       "\n",
       "                                                    title          created_at  \\\n",
       "0         [7.9][DOCS] Fix typo in Java HLRC docs (#60863) 2020-08-18 12:41:50   \n",
       "1         [7.9][DOCS] Fix typo in Java HLRC docs (#60863) 2020-08-18 12:41:50   \n",
       "2        [7.x] [DOCS] Fix typo in Java HLRC docs (#60863) 2020-08-18 12:40:59   \n",
       "3        [7.x] [DOCS] Fix typo in Java HLRC docs (#60863) 2020-08-18 12:40:59   \n",
       "4       [7.x] [DOCS] Replaces ml.node with node.roles:... 2020-08-18 09:25:11   \n",
       "...                                                   ...                 ...   \n",
       "166931                                        Changes API 2011-08-13 15:45:14   \n",
       "166932                                        Changes API 2011-08-13 15:45:14   \n",
       "166933                                        Changes API 2011-08-13 15:45:14   \n",
       "166934                                        Changes API 2011-08-13 15:45:14   \n",
       "166935                                        Changes API 2011-08-13 15:45:14   \n",
       "\n",
       "                 user  \n",
       "0            jrodewig  \n",
       "1            jrodewig  \n",
       "2            jrodewig  \n",
       "3            jrodewig  \n",
       "4          szabosteve  \n",
       "...               ...  \n",
       "166931  Vineeth-Mohan  \n",
       "166932  Vineeth-Mohan  \n",
       "166933  Vineeth-Mohan  \n",
       "166934  Vineeth-Mohan  \n",
       "166935  Vineeth-Mohan  \n",
       "\n",
       "[166936 rows x 5 columns]"
      ]
     },
     "execution_count": 103,
     "metadata": {},
     "output_type": "execute_result"
    }
   ],
   "source": [
    "ilpr"
   ]
  },
  {
   "cell_type": "code",
   "execution_count": 105,
   "metadata": {},
   "outputs": [],
   "source": [
    "ilpr[\"Month\"] = ilpr.created_at.dt.month\n",
    "ilpr[\"Year\"] = ilpr.created_at.dt.year"
   ]
  },
  {
   "cell_type": "code",
   "execution_count": 106,
   "metadata": {},
   "outputs": [
    {
     "data": {
      "text/html": [
       "<div>\n",
       "<style scoped>\n",
       "    .dataframe tbody tr th:only-of-type {\n",
       "        vertical-align: middle;\n",
       "    }\n",
       "\n",
       "    .dataframe tbody tr th {\n",
       "        vertical-align: top;\n",
       "    }\n",
       "\n",
       "    .dataframe thead th {\n",
       "        text-align: right;\n",
       "    }\n",
       "</style>\n",
       "<table border=\"1\" class=\"dataframe\">\n",
       "  <thead>\n",
       "    <tr style=\"text-align: right;\">\n",
       "      <th></th>\n",
       "      <th>id</th>\n",
       "      <th>label</th>\n",
       "      <th>title</th>\n",
       "      <th>created_at</th>\n",
       "      <th>user</th>\n",
       "      <th>Month</th>\n",
       "      <th>Year</th>\n",
       "    </tr>\n",
       "  </thead>\n",
       "  <tbody>\n",
       "    <tr>\n",
       "      <td>0</td>\n",
       "      <td>681010786</td>\n",
       "      <td>backport</td>\n",
       "      <td>[7.9][DOCS] Fix typo in Java HLRC docs (#60863)</td>\n",
       "      <td>2020-08-18 12:41:50</td>\n",
       "      <td>jrodewig</td>\n",
       "      <td>8</td>\n",
       "      <td>2020</td>\n",
       "    </tr>\n",
       "    <tr>\n",
       "      <td>1</td>\n",
       "      <td>681010786</td>\n",
       "      <td>v7.9.1</td>\n",
       "      <td>[7.9][DOCS] Fix typo in Java HLRC docs (#60863)</td>\n",
       "      <td>2020-08-18 12:41:50</td>\n",
       "      <td>jrodewig</td>\n",
       "      <td>8</td>\n",
       "      <td>2020</td>\n",
       "    </tr>\n",
       "    <tr>\n",
       "      <td>2</td>\n",
       "      <td>681010233</td>\n",
       "      <td>backport</td>\n",
       "      <td>[7.x] [DOCS] Fix typo in Java HLRC docs (#60863)</td>\n",
       "      <td>2020-08-18 12:40:59</td>\n",
       "      <td>jrodewig</td>\n",
       "      <td>8</td>\n",
       "      <td>2020</td>\n",
       "    </tr>\n",
       "    <tr>\n",
       "      <td>3</td>\n",
       "      <td>681010233</td>\n",
       "      <td>v7.10.0</td>\n",
       "      <td>[7.x] [DOCS] Fix typo in Java HLRC docs (#60863)</td>\n",
       "      <td>2020-08-18 12:40:59</td>\n",
       "      <td>jrodewig</td>\n",
       "      <td>8</td>\n",
       "      <td>2020</td>\n",
       "    </tr>\n",
       "    <tr>\n",
       "      <td>4</td>\n",
       "      <td>680841671</td>\n",
       "      <td>:ml</td>\n",
       "      <td>[7.x] [DOCS] Replaces ml.node with node.roles:...</td>\n",
       "      <td>2020-08-18 09:25:11</td>\n",
       "      <td>szabosteve</td>\n",
       "      <td>8</td>\n",
       "      <td>2020</td>\n",
       "    </tr>\n",
       "    <tr>\n",
       "      <td>...</td>\n",
       "      <td>...</td>\n",
       "      <td>...</td>\n",
       "      <td>...</td>\n",
       "      <td>...</td>\n",
       "      <td>...</td>\n",
       "      <td>...</td>\n",
       "      <td>...</td>\n",
       "    </tr>\n",
       "    <tr>\n",
       "      <td>166931</td>\n",
       "      <td>1400233</td>\n",
       "      <td>:Distributed/Distributed</td>\n",
       "      <td>Changes API</td>\n",
       "      <td>2011-08-13 15:45:14</td>\n",
       "      <td>Vineeth-Mohan</td>\n",
       "      <td>8</td>\n",
       "      <td>2011</td>\n",
       "    </tr>\n",
       "    <tr>\n",
       "      <td>166932</td>\n",
       "      <td>1400233</td>\n",
       "      <td>&gt;feature</td>\n",
       "      <td>Changes API</td>\n",
       "      <td>2011-08-13 15:45:14</td>\n",
       "      <td>Vineeth-Mohan</td>\n",
       "      <td>8</td>\n",
       "      <td>2011</td>\n",
       "    </tr>\n",
       "    <tr>\n",
       "      <td>166933</td>\n",
       "      <td>1400233</td>\n",
       "      <td>Team:Distributed</td>\n",
       "      <td>Changes API</td>\n",
       "      <td>2011-08-13 15:45:14</td>\n",
       "      <td>Vineeth-Mohan</td>\n",
       "      <td>8</td>\n",
       "      <td>2011</td>\n",
       "    </tr>\n",
       "    <tr>\n",
       "      <td>166934</td>\n",
       "      <td>1400233</td>\n",
       "      <td>high hanging fruit</td>\n",
       "      <td>Changes API</td>\n",
       "      <td>2011-08-13 15:45:14</td>\n",
       "      <td>Vineeth-Mohan</td>\n",
       "      <td>8</td>\n",
       "      <td>2011</td>\n",
       "    </tr>\n",
       "    <tr>\n",
       "      <td>166935</td>\n",
       "      <td>1400233</td>\n",
       "      <td>stalled</td>\n",
       "      <td>Changes API</td>\n",
       "      <td>2011-08-13 15:45:14</td>\n",
       "      <td>Vineeth-Mohan</td>\n",
       "      <td>8</td>\n",
       "      <td>2011</td>\n",
       "    </tr>\n",
       "  </tbody>\n",
       "</table>\n",
       "<p>166936 rows × 7 columns</p>\n",
       "</div>"
      ],
      "text/plain": [
       "               id                     label  \\\n",
       "0       681010786                  backport   \n",
       "1       681010786                    v7.9.1   \n",
       "2       681010233                  backport   \n",
       "3       681010233                   v7.10.0   \n",
       "4       680841671                       :ml   \n",
       "...           ...                       ...   \n",
       "166931    1400233  :Distributed/Distributed   \n",
       "166932    1400233                  >feature   \n",
       "166933    1400233          Team:Distributed   \n",
       "166934    1400233        high hanging fruit   \n",
       "166935    1400233                   stalled   \n",
       "\n",
       "                                                    title          created_at  \\\n",
       "0         [7.9][DOCS] Fix typo in Java HLRC docs (#60863) 2020-08-18 12:41:50   \n",
       "1         [7.9][DOCS] Fix typo in Java HLRC docs (#60863) 2020-08-18 12:41:50   \n",
       "2        [7.x] [DOCS] Fix typo in Java HLRC docs (#60863) 2020-08-18 12:40:59   \n",
       "3        [7.x] [DOCS] Fix typo in Java HLRC docs (#60863) 2020-08-18 12:40:59   \n",
       "4       [7.x] [DOCS] Replaces ml.node with node.roles:... 2020-08-18 09:25:11   \n",
       "...                                                   ...                 ...   \n",
       "166931                                        Changes API 2011-08-13 15:45:14   \n",
       "166932                                        Changes API 2011-08-13 15:45:14   \n",
       "166933                                        Changes API 2011-08-13 15:45:14   \n",
       "166934                                        Changes API 2011-08-13 15:45:14   \n",
       "166935                                        Changes API 2011-08-13 15:45:14   \n",
       "\n",
       "                 user  Month  Year  \n",
       "0            jrodewig      8  2020  \n",
       "1            jrodewig      8  2020  \n",
       "2            jrodewig      8  2020  \n",
       "3            jrodewig      8  2020  \n",
       "4          szabosteve      8  2020  \n",
       "...               ...    ...   ...  \n",
       "166931  Vineeth-Mohan      8  2011  \n",
       "166932  Vineeth-Mohan      8  2011  \n",
       "166933  Vineeth-Mohan      8  2011  \n",
       "166934  Vineeth-Mohan      8  2011  \n",
       "166935  Vineeth-Mohan      8  2011  \n",
       "\n",
       "[166936 rows x 7 columns]"
      ]
     },
     "execution_count": 106,
     "metadata": {},
     "output_type": "execute_result"
    }
   ],
   "source": [
    "ilpr"
   ]
  },
  {
   "cell_type": "code",
   "execution_count": 117,
   "metadata": {},
   "outputs": [],
   "source": [
    "cnt = ilpr.groupby([\"Year\", \"Month\"]).label.nunique()"
   ]
  },
  {
   "cell_type": "code",
   "execution_count": 121,
   "metadata": {},
   "outputs": [],
   "source": [
    "x = cnt.reset_index()"
   ]
  },
  {
   "cell_type": "code",
   "execution_count": 122,
   "metadata": {},
   "outputs": [
    {
     "data": {
      "text/plain": [
       "<matplotlib.axes._subplots.AxesSubplot at 0x7f80670ba310>"
      ]
     },
     "execution_count": 122,
     "metadata": {},
     "output_type": "execute_result"
    },
    {
     "data": {
      "image/png": "[encoded data removed]",
      "text/plain": [
       "<Figure size 432x288 with 1 Axes>"
      ]
     },
     "metadata": {
      "needs_background": "light"
     },
     "output_type": "display_data"
    }
   ],
   "source": [
    "sns.barplot(x=x.index, y=x.label)"
   ]
  },
  {
   "cell_type": "code",
   "execution_count": 123,
   "metadata": {},
   "outputs": [
    {
     "data": {
      "text/html": [
       "<div>\n",
       "<style scoped>\n",
       "    .dataframe tbody tr th:only-of-type {\n",
       "        vertical-align: middle;\n",
       "    }\n",
       "\n",
       "    .dataframe tbody tr th {\n",
       "        vertical-align: top;\n",
       "    }\n",
       "\n",
       "    .dataframe thead th {\n",
       "        text-align: right;\n",
       "    }\n",
       "</style>\n",
       "<table border=\"1\" class=\"dataframe\">\n",
       "  <thead>\n",
       "    <tr style=\"text-align: right;\">\n",
       "      <th></th>\n",
       "      <th>Year</th>\n",
       "      <th>Month</th>\n",
       "      <th>label</th>\n",
       "    </tr>\n",
       "  </thead>\n",
       "  <tbody>\n",
       "    <tr>\n",
       "      <td>0</td>\n",
       "      <td>2010</td>\n",
       "      <td>2</td>\n",
       "      <td>5</td>\n",
       "    </tr>\n",
       "    <tr>\n",
       "      <td>1</td>\n",
       "      <td>2010</td>\n",
       "      <td>3</td>\n",
       "      <td>7</td>\n",
       "    </tr>\n",
       "    <tr>\n",
       "      <td>2</td>\n",
       "      <td>2010</td>\n",
       "      <td>4</td>\n",
       "      <td>7</td>\n",
       "    </tr>\n",
       "    <tr>\n",
       "      <td>3</td>\n",
       "      <td>2010</td>\n",
       "      <td>5</td>\n",
       "      <td>8</td>\n",
       "    </tr>\n",
       "    <tr>\n",
       "      <td>4</td>\n",
       "      <td>2010</td>\n",
       "      <td>6</td>\n",
       "      <td>5</td>\n",
       "    </tr>\n",
       "    <tr>\n",
       "      <td>...</td>\n",
       "      <td>...</td>\n",
       "      <td>...</td>\n",
       "      <td>...</td>\n",
       "    </tr>\n",
       "    <tr>\n",
       "      <td>122</td>\n",
       "      <td>2020</td>\n",
       "      <td>4</td>\n",
       "      <td>104</td>\n",
       "    </tr>\n",
       "    <tr>\n",
       "      <td>123</td>\n",
       "      <td>2020</td>\n",
       "      <td>5</td>\n",
       "      <td>106</td>\n",
       "    </tr>\n",
       "    <tr>\n",
       "      <td>124</td>\n",
       "      <td>2020</td>\n",
       "      <td>6</td>\n",
       "      <td>112</td>\n",
       "    </tr>\n",
       "    <tr>\n",
       "      <td>125</td>\n",
       "      <td>2020</td>\n",
       "      <td>7</td>\n",
       "      <td>111</td>\n",
       "    </tr>\n",
       "    <tr>\n",
       "      <td>126</td>\n",
       "      <td>2020</td>\n",
       "      <td>8</td>\n",
       "      <td>89</td>\n",
       "    </tr>\n",
       "  </tbody>\n",
       "</table>\n",
       "<p>127 rows × 3 columns</p>\n",
       "</div>"
      ],
      "text/plain": [
       "     Year  Month  label\n",
       "0    2010      2      5\n",
       "1    2010      3      7\n",
       "2    2010      4      7\n",
       "3    2010      5      8\n",
       "4    2010      6      5\n",
       "..    ...    ...    ...\n",
       "122  2020      4    104\n",
       "123  2020      5    106\n",
       "124  2020      6    112\n",
       "125  2020      7    111\n",
       "126  2020      8     89\n",
       "\n",
       "[127 rows x 3 columns]"
      ]
     },
     "execution_count": 123,
     "metadata": {},
     "output_type": "execute_result"
    }
   ],
   "source": [
    "x"
   ]
  },
  {
   "cell_type": "code",
   "execution_count": null,
   "metadata": {},
   "outputs": [],
   "source": []
  }
 ],
 "metadata": {
  "kernelspec": {
   "display_name": "Python 3",
   "language": "python",
   "name": "python3"
  },
  "language_info": {
   "codemirror_mode": {
    "name": "ipython",
    "version": 3
   },
   "file_extension": ".py",
   "mimetype": "text/x-python",
   "name": "python",
   "nbconvert_exporter": "python",
   "pygments_lexer": "ipython3",
   "version": "3.7.4"
  }
 },
 "nbformat": 4,
 "nbformat_minor": 2
}
