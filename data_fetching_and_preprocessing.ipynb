{
 "cells": [
  {
   "cell_type": "code",
   "execution_count": 37,
   "metadata": {},
   "outputs": [],
   "source": [
    "from github import Github\n",
    "import pickle\n",
    "import pandas as pd"
   ]
  },
  {
   "cell_type": "markdown",
   "metadata": {},
   "source": [
    "### Initialization"
   ]
  },
  {
   "cell_type": "code",
   "execution_count": 50,
   "metadata": {},
   "outputs": [],
   "source": [
    "# create github object using an access token\n",
    "g = Github(\"0334be289b018badd78b5e512935a4fb9c8d39d0\")\n",
    "#set the repository\n",
    "repo = g.get_repo(\"elastic/elasticsearch\")"
   ]
  },
  {
   "cell_type": "markdown",
   "metadata": {},
   "source": [
    "## Fetching data"
   ]
  },
  {
   "cell_type": "markdown",
   "metadata": {},
   "source": [
    "### Labels"
   ]
  },
  {
   "cell_type": "code",
   "execution_count": 51,
   "metadata": {},
   "outputs": [],
   "source": [
    "#Retrieve labels from Github APIs\n",
    "\n",
    "\"\"\"labels = repo.get_labels()\n",
    "label_names = []\n",
    "for label in labels:\n",
    "    label_names.append(label.name)\"\"\""
   ]
  },
  {
   "cell_type": "code",
   "execution_count": 52,
   "metadata": {},
   "outputs": [],
   "source": [
    "# Dump labels objects retrieved from Github APIs\n",
    "\n",
    "\"\"\"f = open('issues_labels.pkl', 'wb')\n",
    "for label in labels:\n",
    "    pickle.dump(label, f)\"\"\""
   ]
  },
  {
   "cell_type": "code",
   "execution_count": 53,
   "metadata": {},
   "outputs": [],
   "source": [
    "# Retrieve labels objects retrieved from Github APIs\n",
    "\n",
    "label_names = []\n",
    "with (open(\"issues_labels.pkl\", \"rb\")) as openfile:\n",
    "    while True:\n",
    "        try:\n",
    "            label_names.append(pickle.load(openfile).name)\n",
    "        except EOFError:\n",
    "            break"
   ]
  },
  {
   "cell_type": "code",
   "execution_count": 23,
   "metadata": {},
   "outputs": [
    {
     "data": {
      "text/plain": [
       "'label_series.to_csv(\"issues_labels.csv\")\\nlabel_series = pd.Series(label_names)\\nlabel_series'"
      ]
     },
     "execution_count": 23,
     "metadata": {},
     "output_type": "execute_result"
    }
   ],
   "source": [
    "# Create a file with issue labels pandas series\n",
    "\n",
    "\"\"\"label_series.to_csv(\"issues_labels.csv\")\n",
    "label_series = pd.Series(label_names)\n",
    "label_series\"\"\""
   ]
  },
  {
   "cell_type": "markdown",
   "metadata": {},
   "source": [
    "### Issues"
   ]
  },
  {
   "cell_type": "code",
   "execution_count": 24,
   "metadata": {},
   "outputs": [
    {
     "data": {
      "text/plain": [
       "'i = []\\nf = open(\\'closed_issues.pkl\\', \\'wb\\')\\ntmp = repo.get_issues(state=\"closed\")\\nfor issue in tmp:\\n    i.append(issue)\\n    pickle.dump(issue, f)'"
      ]
     },
     "execution_count": 24,
     "metadata": {},
     "output_type": "execute_result"
    }
   ],
   "source": [
    "# download all the closed issues and dump them into a file\n",
    "\n",
    "\"\"\"i = []\n",
    "f = open('closed_issues.pkl', 'wb')\n",
    "tmp = repo.get_issues(state=\"closed\")\n",
    "for issue in tmp:\n",
    "    i.append(issue)\n",
    "    pickle.dump(issue, f)\"\"\""
   ]
  },
  {
   "cell_type": "code",
   "execution_count": 25,
   "metadata": {},
   "outputs": [
    {
     "data": {
      "text/plain": [
       "'i = []\\nf = open(\\'open_issues.pkl\\', \\'wb\\')\\ntmp = repo.get_issues(state=\"open\")\\nfor issue in tmp:\\n    i.append(issue)\\n    pickle.dump(issue, f)'"
      ]
     },
     "execution_count": 25,
     "metadata": {},
     "output_type": "execute_result"
    }
   ],
   "source": [
    "# download all the closed issues and dump them into a file\n",
    "\n",
    "\"\"\"i = []\n",
    "f = open('open_issues.pkl', 'wb')\n",
    "tmp = repo.get_issues(state=\"open\")\n",
    "for issue in tmp:\n",
    "    i.append(issue)\n",
    "    pickle.dump(issue, f)\"\"\""
   ]
  },
  {
   "cell_type": "code",
   "execution_count": 40,
   "metadata": {},
   "outputs": [],
   "source": [
    "# Retrieve closed issues objects\n",
    "\n",
    "\"\"\"issues = []\n",
    "with (open(\"closed_issues.pkl\", \"rb\")) as openfile:\n",
    "    while True:\n",
    "        try:\n",
    "            issues.append(pickle.load(openfile))\n",
    "        except EOFError:\n",
    "            break\"\"\""
   ]
  },
  {
   "cell_type": "code",
   "execution_count": 41,
   "metadata": {},
   "outputs": [],
   "source": [
    "# Retrieve open issues objects\n",
    "\n",
    "\"\"\"with (open(\"open_issues.pkl\", \"rb\")) as openfile:\n",
    "    while True:\n",
    "        try:\n",
    "            issues.append(pickle.load(openfile))\n",
    "        except EOFError:\n",
    "            break\"\"\""
   ]
  },
  {
   "cell_type": "code",
   "execution_count": 55,
   "metadata": {},
   "outputs": [],
   "source": [
    "\"\"\"from sklearn.preprocessing import LabelEncoder\n",
    "from sklearn.preprocessing import OneHotEncoder\n",
    "import numpy as np\n",
    "\n",
    "label_encoder = LabelEncoder()\n",
    "label_encoder = label_encoder.fit(label_names)\n",
    "\n",
    "onehot_encoder = OneHotEncoder(sparse=False)\"\"\""
   ]
  },
  {
   "cell_type": "code",
   "execution_count": 85,
   "metadata": {},
   "outputs": [],
   "source": [
    "\"\"\"issues_encoded = []\n",
    "for issue in issues:\n",
    "    vector = np.full((len(label_names)+1,), 0)\n",
    "    vector[-1] = issue.id\n",
    "    label_encoded = label_encoder.transform([label.name for label in issue.labels])\n",
    "    for label in label_encoded:\n",
    "        vector[label] = 1\n",
    "    issues_encoded.append(vector)\"\"\""
   ]
  },
  {
   "cell_type": "code",
   "execution_count": 90,
   "metadata": {},
   "outputs": [],
   "source": [
    "\"\"\"cols = np.append(label_encoder.classes_,\"id\")\n",
    "issue_labels = pd.DataFrame(issues_encoded, columns=cols)\n",
    "issue_labels.set_index(\"id\",inplace=True)\"\"\""
   ]
  },
  {
   "cell_type": "code",
   "execution_count": 92,
   "metadata": {},
   "outputs": [],
   "source": [
    "#issue_labels.to_csv(\"issue_labels_as_columns.csv\")"
   ]
  },
  {
   "cell_type": "markdown",
   "metadata": {},
   "source": [
    "### Combine Labels and Issues into a Dataframe"
   ]
  },
  {
   "cell_type": "code",
   "execution_count": 28,
   "metadata": {},
   "outputs": [
    {
     "data": {
      "text/plain": [
       "'tmp = []\\nfor issue in issues:\\n    for label in issue.labels:\\n        tmp.append((issue.id, label.name))\\nilpr = pd.DataFrame(issues_labels_rows, columns=[\"id\", \"label\"])\\n# Export to csv\\nilpr.to_csv(\"issues_label_per_row.csv\")'"
      ]
     },
     "execution_count": 28,
     "metadata": {},
     "output_type": "execute_result"
    }
   ],
   "source": [
    "# Creation and export of issue label dataframe\n",
    "\n",
    "\"\"\"tmp = []\n",
    "for issue in issues:\n",
    "    for label in issue.labels:\n",
    "        tmp.append((issue.id, label.name))\n",
    "ilpr = pd.DataFrame(issues_labels_rows, columns=[\"id\", \"label\"])\n",
    "# Export to csv\n",
    "ilpr.to_csv(\"issues_label_per_row.csv\")\"\"\""
   ]
  },
  {
   "cell_type": "markdown",
   "metadata": {},
   "source": [
    "### Tags"
   ]
  },
  {
   "cell_type": "code",
   "execution_count": 29,
   "metadata": {},
   "outputs": [
    {
     "data": {
      "text/plain": [
       "'tags = repo.get_tags()\\ntmp = []\\nfor tag in tags:\\n    tmp.append((tag.name, tag.commit.sha))'"
      ]
     },
     "execution_count": 29,
     "metadata": {},
     "output_type": "execute_result"
    }
   ],
   "source": [
    "#Retrieve tags from Github APIs\n",
    "\n",
    "\"\"\"tags = repo.get_tags()\n",
    "tmp = []\n",
    "for tag in tags:\n",
    "    tmp.append((tag.name, tag.commit.sha))\"\"\""
   ]
  },
  {
   "cell_type": "code",
   "execution_count": 30,
   "metadata": {},
   "outputs": [
    {
     "data": {
      "text/plain": [
       "'tagsDf = pd.DataFrame(tmp, columns=[\"Tag\", \"Sha\"])\\ntagsDf.to_csv(\"./tags.csv\")'"
      ]
     },
     "execution_count": 30,
     "metadata": {},
     "output_type": "execute_result"
    }
   ],
   "source": [
    "# Create a file with tags pandas df\n",
    "\n",
    "\"\"\"tagsDf = pd.DataFrame(tmp, columns=[\"Tag\", \"Sha\"])\n",
    "tagsDf.to_csv(\"./tags.csv\")\"\"\""
   ]
  }
 ],
 "metadata": {
  "kernelspec": {
   "display_name": "Python 3",
   "language": "python",
   "name": "python3"
  },
  "language_info": {
   "codemirror_mode": {
    "name": "ipython",
    "version": 3
   },
   "file_extension": ".py",
   "mimetype": "text/x-python",
   "name": "python",
   "nbconvert_exporter": "python",
   "pygments_lexer": "ipython3",
   "version": "3.7.4"
  }
 },
 "nbformat": 4,
 "nbformat_minor": 2
}
