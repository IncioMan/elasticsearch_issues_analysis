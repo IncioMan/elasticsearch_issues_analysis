{
 "cells": [
  {
   "cell_type": "code",
   "execution_count": 18,
   "metadata": {},
   "outputs": [],
   "source": [
    "from github import Github\n",
    "import pickle"
   ]
  },
  {
   "cell_type": "markdown",
   "metadata": {},
   "source": [
    "### Initialization"
   ]
  },
  {
   "cell_type": "code",
   "execution_count": 19,
   "metadata": {},
   "outputs": [],
   "source": [
    "# create github object using an access token\n",
    "g = Github(\"ac6ae5227d6db693410997ed8807d118551a2056\")\n",
    "#set the repository\n",
    "repo = g.get_repo(\"elastic/elasticsearch\")"
   ]
  },
  {
   "cell_type": "markdown",
   "metadata": {},
   "source": [
    "## Fetching data"
   ]
  },
  {
   "cell_type": "markdown",
   "metadata": {},
   "source": [
    "### Labels"
   ]
  },
  {
   "cell_type": "code",
   "execution_count": 20,
   "metadata": {},
   "outputs": [
    {
     "data": {
      "text/plain": [
       "'labels = repo.get_labels()\\nlabel_names = []\\nfor label in labels:\\n    label_names.append(label.name)'"
      ]
     },
     "execution_count": 20,
     "metadata": {},
     "output_type": "execute_result"
    }
   ],
   "source": [
    "#Retrieve labels from Github APIs\n",
    "\n",
    "\"\"\"labels = repo.get_labels()\n",
    "label_names = []\n",
    "for label in labels:\n",
    "    label_names.append(label.name)\"\"\""
   ]
  },
  {
   "cell_type": "code",
   "execution_count": 21,
   "metadata": {},
   "outputs": [
    {
     "data": {
      "text/plain": [
       "\"f = open('issues_labels.pkl', 'wb')\\nfor label in labels:\\n    pickle.dump(label, f)\""
      ]
     },
     "execution_count": 21,
     "metadata": {},
     "output_type": "execute_result"
    }
   ],
   "source": [
    "# Dump labels objects retrieved from Github APIs\n",
    "\n",
    "\"\"\"f = open('issues_labels.pkl', 'wb')\n",
    "for label in labels:\n",
    "    pickle.dump(label, f)\"\"\""
   ]
  },
  {
   "cell_type": "code",
   "execution_count": 22,
   "metadata": {},
   "outputs": [
    {
     "data": {
      "text/plain": [
       "'label_names = []\\nwith (open(\"issues_labels.pkl\", \"rb\")) as openfile:\\n    while True:\\n        try:\\n            label_names.append(pickle.load(openfile).name)\\n        except EOFError:\\n            break\\n'"
      ]
     },
     "execution_count": 22,
     "metadata": {},
     "output_type": "execute_result"
    }
   ],
   "source": [
    "# Retrieve labels objects retrieved from Github APIs\n",
    "\n",
    "\"\"\"label_names = []\n",
    "with (open(\"issues_labels.pkl\", \"rb\")) as openfile:\n",
    "    while True:\n",
    "        try:\n",
    "            label_names.append(pickle.load(openfile).name)\n",
    "        except EOFError:\n",
    "            break\n",
    "\"\"\""
   ]
  },
  {
   "cell_type": "code",
   "execution_count": 23,
   "metadata": {},
   "outputs": [
    {
     "data": {
      "text/plain": [
       "'label_series.to_csv(\"issues_labels.csv\")\\nlabel_series = pd.Series(label_names)\\nlabel_series'"
      ]
     },
     "execution_count": 23,
     "metadata": {},
     "output_type": "execute_result"
    }
   ],
   "source": [
    "# Create a file with issue labels pandas series\n",
    "\n",
    "\"\"\"label_series.to_csv(\"issues_labels.csv\")\n",
    "label_series = pd.Series(label_names)\n",
    "label_series\"\"\""
   ]
  },
  {
   "cell_type": "markdown",
   "metadata": {},
   "source": [
    "### Issues"
   ]
  },
  {
   "cell_type": "code",
   "execution_count": 24,
   "metadata": {},
   "outputs": [
    {
     "data": {
      "text/plain": [
       "'i = []\\nf = open(\\'closed_issues.pkl\\', \\'wb\\')\\ntmp = repo.get_issues(state=\"closed\")\\nfor issue in tmp:\\n    i.append(issue)\\n    pickle.dump(issue, f)'"
      ]
     },
     "execution_count": 24,
     "metadata": {},
     "output_type": "execute_result"
    }
   ],
   "source": [
    "# download all the closed issues and dump them into a file\n",
    "\n",
    "\"\"\"i = []\n",
    "f = open('closed_issues.pkl', 'wb')\n",
    "tmp = repo.get_issues(state=\"closed\")\n",
    "for issue in tmp:\n",
    "    i.append(issue)\n",
    "    pickle.dump(issue, f)\"\"\""
   ]
  },
  {
   "cell_type": "code",
   "execution_count": 25,
   "metadata": {},
   "outputs": [
    {
     "data": {
      "text/plain": [
       "'i = []\\nf = open(\\'open_issues.pkl\\', \\'wb\\')\\ntmp = repo.get_issues(state=\"open\")\\nfor issue in tmp:\\n    i.append(issue)\\n    pickle.dump(issue, f)'"
      ]
     },
     "execution_count": 25,
     "metadata": {},
     "output_type": "execute_result"
    }
   ],
   "source": [
    "# download all the closed issues and dump them into a file\n",
    "\n",
    "\"\"\"i = []\n",
    "f = open('open_issues.pkl', 'wb')\n",
    "tmp = repo.get_issues(state=\"open\")\n",
    "for issue in tmp:\n",
    "    i.append(issue)\n",
    "    pickle.dump(issue, f)\"\"\""
   ]
  },
  {
   "cell_type": "code",
   "execution_count": 26,
   "metadata": {},
   "outputs": [
    {
     "data": {
      "text/plain": [
       "'issues = []\\nwith (open(\"closed_issues.pkl\", \"rb\")) as openfile:\\n    while True:\\n        try:\\n            issues.append(pickle.load(openfile))\\n        except EOFError:\\n            break'"
      ]
     },
     "execution_count": 26,
     "metadata": {},
     "output_type": "execute_result"
    }
   ],
   "source": [
    "# Retrieve closed issues objects\n",
    "\n",
    "\"\"\"issues = []\n",
    "with (open(\"closed_issues.pkl\", \"rb\")) as openfile:\n",
    "    while True:\n",
    "        try:\n",
    "            issues.append(pickle.load(openfile))\n",
    "        except EOFError:\n",
    "            break\"\"\""
   ]
  },
  {
   "cell_type": "code",
   "execution_count": 27,
   "metadata": {},
   "outputs": [
    {
     "data": {
      "text/plain": [
       "'with (open(\"open_issues.pkl\", \"rb\")) as openfile:\\n    while True:\\n        try:\\n            issues.append(pickle.load(openfile))\\n        except EOFError:\\n            break'"
      ]
     },
     "execution_count": 27,
     "metadata": {},
     "output_type": "execute_result"
    }
   ],
   "source": [
    "# Retrieve open issues objects\n",
    "\n",
    "\"\"\"with (open(\"open_issues.pkl\", \"rb\")) as openfile:\n",
    "    while True:\n",
    "        try:\n",
    "            issues.append(pickle.load(openfile))\n",
    "        except EOFError:\n",
    "            break\"\"\""
   ]
  },
  {
   "cell_type": "markdown",
   "metadata": {},
   "source": [
    "### Combine Labels and Issues into a Dataframe"
   ]
  },
  {
   "cell_type": "code",
   "execution_count": 28,
   "metadata": {},
   "outputs": [
    {
     "data": {
      "text/plain": [
       "'tmp = []\\nfor issue in issues:\\n    for label in issue.labels:\\n        tmp.append((issue.id, label.name))\\nilpr = pd.DataFrame(issues_labels_rows, columns=[\"id\", \"label\"])\\n# Export to csv\\nilpr.to_csv(\"issues_label_per_row.csv\")'"
      ]
     },
     "execution_count": 28,
     "metadata": {},
     "output_type": "execute_result"
    }
   ],
   "source": [
    "# Creation and export of issue label dataframe\n",
    "\n",
    "\"\"\"tmp = []\n",
    "for issue in issues:\n",
    "    for label in issue.labels:\n",
    "        tmp.append((issue.id, label.name))\n",
    "ilpr = pd.DataFrame(issues_labels_rows, columns=[\"id\", \"label\"])\n",
    "# Export to csv\n",
    "ilpr.to_csv(\"issues_label_per_row.csv\")\"\"\""
   ]
  },
  {
   "cell_type": "markdown",
   "metadata": {},
   "source": [
    "### Tags"
   ]
  },
  {
   "cell_type": "code",
   "execution_count": 29,
   "metadata": {},
   "outputs": [
    {
     "data": {
      "text/plain": [
       "'tags = repo.get_tags()\\ntmp = []\\nfor tag in tags:\\n    tmp.append((tag.name, tag.commit.sha))'"
      ]
     },
     "execution_count": 29,
     "metadata": {},
     "output_type": "execute_result"
    }
   ],
   "source": [
    "#Retrieve tags from Github APIs\n",
    "\n",
    "\"\"\"tags = repo.get_tags()\n",
    "tmp = []\n",
    "for tag in tags:\n",
    "    tmp.append((tag.name, tag.commit.sha))\"\"\""
   ]
  },
  {
   "cell_type": "code",
   "execution_count": 30,
   "metadata": {},
   "outputs": [
    {
     "data": {
      "text/plain": [
       "'tagsDf = pd.DataFrame(tmp, columns=[\"Tag\", \"Sha\"])\\ntagsDf.to_csv(\"./tags.csv\")'"
      ]
     },
     "execution_count": 30,
     "metadata": {},
     "output_type": "execute_result"
    }
   ],
   "source": [
    "# Create a file with tags pandas df\n",
    "\n",
    "\"\"\"tagsDf = pd.DataFrame(tmp, columns=[\"Tag\", \"Sha\"])\n",
    "tagsDf.to_csv(\"./tags.csv\")\"\"\""
   ]
  }
 ],
 "metadata": {
  "kernelspec": {
   "display_name": "Python 3",
   "language": "python",
   "name": "python3"
  },
  "language_info": {
   "codemirror_mode": {
    "name": "ipython",
    "version": 3
   },
   "file_extension": ".py",
   "mimetype": "text/x-python",
   "name": "python",
   "nbconvert_exporter": "python",
   "pygments_lexer": "ipython3",
   "version": "3.7.4"
  }
 },
 "nbformat": 4,
 "nbformat_minor": 2
}
