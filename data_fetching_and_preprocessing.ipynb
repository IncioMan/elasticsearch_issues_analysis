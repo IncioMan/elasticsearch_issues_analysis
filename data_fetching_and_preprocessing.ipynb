{
 "cells": [
  {
   "cell_type": "code",
   "execution_count": 1,
   "metadata": {},
   "outputs": [],
   "source": [
    "from github import Github\n",
    "import pickle\n",
    "import pandas as pd"
   ]
  },
  {
   "cell_type": "markdown",
   "metadata": {},
   "source": [
    "### Initialization"
   ]
  },
  {
   "cell_type": "code",
   "execution_count": 35,
   "metadata": {},
   "outputs": [],
   "source": [
    "# create github object using an access token\n",
    "g = Github(\"4a23f19dc7f5f392c9bc6e960557a843ec65c86b\")\n",
    "#set the repository\n",
    "repo = g.get_repo(\"elastic/elasticsearch\")"
   ]
  },
  {
   "cell_type": "markdown",
   "metadata": {},
   "source": [
    "## Fetching data"
   ]
  },
  {
   "cell_type": "markdown",
   "metadata": {},
   "source": [
    "### Labels"
   ]
  },
  {
   "cell_type": "code",
   "execution_count": 51,
   "metadata": {},
   "outputs": [],
   "source": [
    "#Retrieve labels from Github APIs\n",
    "\n",
    "\"\"\"labels = repo.get_labels()\n",
    "label_names = []\n",
    "for label in labels:\n",
    "    label_names.append(label.name)\"\"\""
   ]
  },
  {
   "cell_type": "code",
   "execution_count": 52,
   "metadata": {},
   "outputs": [],
   "source": [
    "# Dump labels objects retrieved from Github APIs\n",
    "\n",
    "\"\"\"f = open('issues_labels.pkl', 'wb')\n",
    "for label in labels:\n",
    "    pickle.dump(label, f)\"\"\""
   ]
  },
  {
   "cell_type": "code",
   "execution_count": 53,
   "metadata": {},
   "outputs": [],
   "source": [
    "# Retrieve labels objects retrieved from Github APIs\n",
    "\n",
    "\"\"\"label_names = []\n",
    "with (open(\"issues_labels.pkl\", \"rb\")) as openfile:\n",
    "    while True:\n",
    "        try:\n",
    "            label_names.append(pickle.load(openfile).name)\n",
    "        except EOFError:\n",
    "            break\"\"\""
   ]
  },
  {
   "cell_type": "code",
   "execution_count": 23,
   "metadata": {},
   "outputs": [
    {
     "data": {
      "text/plain": [
       "'label_series.to_csv(\"issues_labels.csv\")\\nlabel_series = pd.Series(label_names)\\nlabel_series'"
      ]
     },
     "execution_count": 23,
     "metadata": {},
     "output_type": "execute_result"
    }
   ],
   "source": [
    "# Create a file with issue labels pandas series\n",
    "\n",
    "\"\"\"label_series.to_csv(\"issues_labels.csv\")\n",
    "label_series = pd.Series(label_names)\n",
    "label_series\"\"\""
   ]
  },
  {
   "cell_type": "markdown",
   "metadata": {},
   "source": [
    "### Issues"
   ]
  },
  {
   "cell_type": "code",
   "execution_count": 28,
   "metadata": {},
   "outputs": [],
   "source": [
    "# download all the closed issues and dump them into a file\n",
    "\n",
    "\"\"\"i = []\n",
    "f = open('closed_issues.pkl', 'DONT')\n",
    "tmp = repo.get_issues(state=\"closed\")\n",
    "for issue in tmp:\n",
    "    i.append(issue)\n",
    "    pickle.dump(issue, f)\"\"\""
   ]
  },
  {
   "cell_type": "code",
   "execution_count": 25,
   "metadata": {},
   "outputs": [
    {
     "data": {
      "text/plain": [
       "'i = []\\nf = open(\\'open_issues.pkl\\', \\'wb\\')\\ntmp = repo.get_issues(state=\"open\")\\nfor issue in tmp:\\n    i.append(issue)\\n    pickle.dump(issue, f)'"
      ]
     },
     "execution_count": 25,
     "metadata": {},
     "output_type": "execute_result"
    }
   ],
   "source": [
    "# download all the closed issues and dump them into a file\n",
    "\n",
    "\"\"\"i = []\n",
    "f = open('open_issues.pkl', 'wb')\n",
    "tmp = repo.get_issues(state=\"open\")\n",
    "for issue in tmp:\n",
    "    i.append(issue)\n",
    "    pickle.dump(issue, f)\"\"\""
   ]
  },
  {
   "cell_type": "code",
   "execution_count": 31,
   "metadata": {},
   "outputs": [],
   "source": [
    "# Retrieve closed issues objects\n",
    "\n",
    "\"\"\"issues = []\n",
    "with (open(\"closed_issues.pkl\", \"rb\")) as openfile:\n",
    "    while True:\n",
    "        try:\n",
    "            issues.append(pickle.load(openfile))\n",
    "        except EOFError:\n",
    "            break\"\"\""
   ]
  },
  {
   "cell_type": "code",
   "execution_count": 32,
   "metadata": {},
   "outputs": [],
   "source": [
    "# Retrieve open issues objects\n",
    "\n",
    "\"\"\"with (open(\"open_issues.pkl\", \"rb\")) as openfile:\n",
    "    while True:\n",
    "        try:\n",
    "            issues.append(pickle.load(openfile))\n",
    "        except EOFError:\n",
    "            break\"\"\""
   ]
  },
  {
   "cell_type": "code",
   "execution_count": 33,
   "metadata": {},
   "outputs": [
    {
     "data": {
      "text/html": [
       "<div>\n",
       "<style scoped>\n",
       "    .dataframe tbody tr th:only-of-type {\n",
       "        vertical-align: middle;\n",
       "    }\n",
       "\n",
       "    .dataframe tbody tr th {\n",
       "        vertical-align: top;\n",
       "    }\n",
       "\n",
       "    .dataframe thead th {\n",
       "        text-align: right;\n",
       "    }\n",
       "</style>\n",
       "<table border=\"1\" class=\"dataframe\">\n",
       "  <thead>\n",
       "    <tr style=\"text-align: right;\">\n",
       "      <th></th>\n",
       "      <th>title</th>\n",
       "      <th>created_at</th>\n",
       "      <th>user</th>\n",
       "    </tr>\n",
       "    <tr>\n",
       "      <th>id</th>\n",
       "      <th></th>\n",
       "      <th></th>\n",
       "      <th></th>\n",
       "    </tr>\n",
       "  </thead>\n",
       "  <tbody>\n",
       "    <tr>\n",
       "      <td>682740346</td>\n",
       "      <td>[7.9] [DOCS] Fix EQL threat detection example ...</td>\n",
       "      <td>2020-08-20 13:58:10</td>\n",
       "      <td>jrodewig</td>\n",
       "    </tr>\n",
       "    <tr>\n",
       "      <td>682739786</td>\n",
       "      <td>[7.x] [DOCS] Fix EQL threat detection example ...</td>\n",
       "      <td>2020-08-20 13:57:22</td>\n",
       "      <td>jrodewig</td>\n",
       "    </tr>\n",
       "    <tr>\n",
       "      <td>682737733</td>\n",
       "      <td>[DOCS] [7.8] Adding ignore_unavailable param. ...</td>\n",
       "      <td>2020-08-20 13:54:35</td>\n",
       "      <td>lockewritesdocs</td>\n",
       "    </tr>\n",
       "    <tr>\n",
       "      <td>682734621</td>\n",
       "      <td>[DOCS] [7.9] Adding ignore_unavailable param. ...</td>\n",
       "      <td>2020-08-20 13:50:36</td>\n",
       "      <td>lockewritesdocs</td>\n",
       "    </tr>\n",
       "    <tr>\n",
       "      <td>682732176</td>\n",
       "      <td>[DOCS] [7.x] Adding ignore_unavailable param. ...</td>\n",
       "      <td>2020-08-20 13:47:21</td>\n",
       "      <td>lockewritesdocs</td>\n",
       "    </tr>\n",
       "    <tr>\n",
       "      <td>...</td>\n",
       "      <td>...</td>\n",
       "      <td>...</td>\n",
       "      <td>...</td>\n",
       "    </tr>\n",
       "    <tr>\n",
       "      <td>23083082</td>\n",
       "      <td>Consistency between `_search` and `_msearch`</td>\n",
       "      <td>2013-11-21 17:33:06</td>\n",
       "      <td>ofavre</td>\n",
       "    </tr>\n",
       "    <tr>\n",
       "      <td>20864348</td>\n",
       "      <td>ActionResponse should implement ToXContentObject</td>\n",
       "      <td>2013-10-11 11:52:52</td>\n",
       "      <td>s1monw</td>\n",
       "    </tr>\n",
       "    <tr>\n",
       "      <td>20743479</td>\n",
       "      <td>Get document API can specify an alias, but wil...</td>\n",
       "      <td>2013-10-09 13:56:33</td>\n",
       "      <td>ccw-morris</td>\n",
       "    </tr>\n",
       "    <tr>\n",
       "      <td>12899202</td>\n",
       "      <td>index.auto_expand_replicas and shard allocatio...</td>\n",
       "      <td>2013-04-07 18:10:01</td>\n",
       "      <td>synhershko</td>\n",
       "    </tr>\n",
       "    <tr>\n",
       "      <td>1400233</td>\n",
       "      <td>Changes API</td>\n",
       "      <td>2011-08-13 15:45:14</td>\n",
       "      <td>Vineeth-Mohan</td>\n",
       "    </tr>\n",
       "  </tbody>\n",
       "</table>\n",
       "<p>61215 rows × 3 columns</p>\n",
       "</div>"
      ],
      "text/plain": [
       "                                                       title  \\\n",
       "id                                                             \n",
       "682740346  [7.9] [DOCS] Fix EQL threat detection example ...   \n",
       "682739786  [7.x] [DOCS] Fix EQL threat detection example ...   \n",
       "682737733  [DOCS] [7.8] Adding ignore_unavailable param. ...   \n",
       "682734621  [DOCS] [7.9] Adding ignore_unavailable param. ...   \n",
       "682732176  [DOCS] [7.x] Adding ignore_unavailable param. ...   \n",
       "...                                                      ...   \n",
       "23083082        Consistency between `_search` and `_msearch`   \n",
       "20864348    ActionResponse should implement ToXContentObject   \n",
       "20743479   Get document API can specify an alias, but wil...   \n",
       "12899202   index.auto_expand_replicas and shard allocatio...   \n",
       "1400233                                          Changes API   \n",
       "\n",
       "                   created_at             user  \n",
       "id                                              \n",
       "682740346 2020-08-20 13:58:10         jrodewig  \n",
       "682739786 2020-08-20 13:57:22         jrodewig  \n",
       "682737733 2020-08-20 13:54:35  lockewritesdocs  \n",
       "682734621 2020-08-20 13:50:36  lockewritesdocs  \n",
       "682732176 2020-08-20 13:47:21  lockewritesdocs  \n",
       "...                       ...              ...  \n",
       "23083082  2013-11-21 17:33:06           ofavre  \n",
       "20864348  2013-10-11 11:52:52           s1monw  \n",
       "20743479  2013-10-09 13:56:33       ccw-morris  \n",
       "12899202  2013-04-07 18:10:01       synhershko  \n",
       "1400233   2011-08-13 15:45:14    Vineeth-Mohan  \n",
       "\n",
       "[61215 rows x 3 columns]"
      ]
     },
     "execution_count": 33,
     "metadata": {},
     "output_type": "execute_result"
    }
   ],
   "source": [
    "# Creation and export of issue dataframe\n",
    "\n",
    "\"\"\"tmp = []\n",
    "for issue in issues:\n",
    "    tmp.append((issue.id, issue.title, issue.created_at, issue.user.login))\n",
    "issuesDf = pd.DataFrame(tmp, columns=[\"id\", \"title\", \"created_at\", \"user\"])\n",
    "issuesDf.set_index(\"id\")\"\"\""
   ]
  },
  {
   "cell_type": "code",
   "execution_count": 34,
   "metadata": {},
   "outputs": [],
   "source": [
    "# Export to csv\n",
    "#issuesDf.to_csv(\"issues.csv\", index=False)"
   ]
  },
  {
   "cell_type": "code",
   "execution_count": 13,
   "metadata": {},
   "outputs": [
    {
     "name": "stdout",
     "output_type": "stream",
     "text": [
      "{'_CompletableGithubObject__completed': False,\n",
      " '_active_lock_reason': <github.GithubObject._ValuedAttribute object at 0x7fd337d26f50>,\n",
      " '_assignee': <github.GithubObject._ValuedAttribute object at 0x7fd337d26e50>,\n",
      " '_assignees': <github.GithubObject._ValuedAttribute object at 0x7fd337d26dd0>,\n",
      " '_body': <github.GithubObject._ValuedAttribute object at 0x7fd337d26d50>,\n",
      " '_closed_at': <github.GithubObject._ValuedAttribute object at 0x7fd337d26cd0>,\n",
      " '_closed_by': NotSet,\n",
      " '_comments': <github.GithubObject._ValuedAttribute object at 0x7fd337d26b90>,\n",
      " '_comments_url': <github.GithubObject._ValuedAttribute object at 0x7fd337d26810>,\n",
      " '_created_at': <github.GithubObject._ValuedAttribute object at 0x7fd337d26a10>,\n",
      " '_events_url': <github.GithubObject._ValuedAttribute object at 0x7fd337d26790>,\n",
      " '_headers': {'access-control-allow-origin': '*',\n",
      "              'access-control-expose-headers': 'ETag, Link, Location, '\n",
      "                                               'Retry-After, X-GitHub-OTP, '\n",
      "                                               'X-RateLimit-Limit, '\n",
      "                                               'X-RateLimit-Remaining, '\n",
      "                                               'X-RateLimit-Reset, '\n",
      "                                               'X-OAuth-Scopes, '\n",
      "                                               'X-Accepted-OAuth-Scopes, '\n",
      "                                               'X-Poll-Interval, '\n",
      "                                               'X-GitHub-Media-Type, '\n",
      "                                               'Deprecation, Sunset',\n",
      "              'cache-control': 'private, max-age=60, s-maxage=60',\n",
      "              'content-encoding': 'gzip',\n",
      "              'content-security-policy': \"default-src 'none'\",\n",
      "              'content-type': 'application/json; charset=utf-8',\n",
      "              'date': 'Tue, 18 Aug 2020 13:18:15 GMT',\n",
      "              'etag': 'W/\"703f2bc6be9f8046ef76b0fe872ad2df\"',\n",
      "              'link': '<https://api.github.com/repositories/507775/issues?state=open&page=2>; '\n",
      "                      'rel=\"next\", '\n",
      "                      '<https://api.github.com/repositories/507775/issues?state=open&page=98>; '\n",
      "                      'rel=\"last\"',\n",
      "              'referrer-policy': 'origin-when-cross-origin, '\n",
      "                                 'strict-origin-when-cross-origin',\n",
      "              'server': 'GitHub.com',\n",
      "              'status': '200 OK',\n",
      "              'strict-transport-security': 'max-age=31536000; '\n",
      "                                           'includeSubdomains; preload',\n",
      "              'transfer-encoding': 'chunked',\n",
      "              'vary': 'Accept, Authorization, Cookie, X-GitHub-OTP, '\n",
      "                      'Accept-Encoding, Accept, X-Requested-With, '\n",
      "                      'Accept-Encoding',\n",
      "              'x-accepted-oauth-scopes': 'repo',\n",
      "              'x-content-type-options': 'nosniff',\n",
      "              'x-frame-options': 'deny',\n",
      "              'x-github-media-type': 'github.v3; format=json',\n",
      "              'x-github-request-id': '67EF:28D0:1CF8547:22E53A3:5F3BD517',\n",
      "              'x-oauth-scopes': 'repo',\n",
      "              'x-ratelimit-limit': '5000',\n",
      "              'x-ratelimit-remaining': '4980',\n",
      "              'x-ratelimit-reset': '1597759915',\n",
      "              'x-xss-protection': '1; mode=block'},\n",
      " '_html_url': <github.GithubObject._ValuedAttribute object at 0x7fd337d26690>,\n",
      " '_id': <github.GithubObject._ValuedAttribute object at 0x7fd337d26590>,\n",
      " '_labels': <github.GithubObject._ValuedAttribute object at 0x7fd337d26850>,\n",
      " '_labels_url': <github.GithubObject._ValuedAttribute object at 0x7fd337d1ccd0>,\n",
      " '_locked': <github.GithubObject._ValuedAttribute object at 0x7fd337d1cc50>,\n",
      " '_milestone': <github.GithubObject._ValuedAttribute object at 0x7fd337d1cdd0>,\n",
      " '_number': <github.GithubObject._ValuedAttribute object at 0x7fd337d1c610>,\n",
      " '_pull_request': <github.GithubObject._ValuedAttribute object at 0x7fd337d1c590>,\n",
      " '_rawData': {'active_lock_reason': None,\n",
      "              'assignee': None,\n",
      "              'assignees': [],\n",
      "              'author_association': 'CONTRIBUTOR',\n",
      "              'body': 'Fixes '\n",
      "                      'https://github.com/elastic/elasticsearch/issues/59707.',\n",
      "              'closed_at': None,\n",
      "              'comments': 0,\n",
      "              'comments_url': 'https://api.github.com/repos/elastic/elasticsearch/issues/61268/comments',\n",
      "              'created_at': '2020-08-18T13:18:13Z',\n",
      "              'events_url': 'https://api.github.com/repos/elastic/elasticsearch/issues/61268/events',\n",
      "              'html_url': 'https://github.com/elastic/elasticsearch/pull/61268',\n",
      "              'id': 681035022,\n",
      "              'labels': [{'color': '0e8a16',\n",
      "                          'default': False,\n",
      "                          'description': 'EQL querying',\n",
      "                          'id': 1690690117,\n",
      "                          'name': ':Query Languages/EQL',\n",
      "                          'node_id': 'MDU6TGFiZWwxNjkwNjkwMTE3',\n",
      "                          'url': 'https://api.github.com/repos/elastic/elasticsearch/labels/:Query%20Languages/EQL'},\n",
      "                         {'color': 'b60205',\n",
      "                          'default': False,\n",
      "                          'description': None,\n",
      "                          'id': 23173,\n",
      "                          'name': '>bug',\n",
      "                          'node_id': 'MDU6TGFiZWwyMzE3Mw==',\n",
      "                          'url': 'https://api.github.com/repos/elastic/elasticsearch/labels/%3Ebug'},\n",
      "                         {'color': 'dddddd',\n",
      "                          'default': False,\n",
      "                          'description': '',\n",
      "                          'id': 2205552170,\n",
      "                          'name': 'v7.10.0',\n",
      "                          'node_id': 'MDU6TGFiZWwyMjA1NTUyMTcw',\n",
      "                          'url': 'https://api.github.com/repos/elastic/elasticsearch/labels/v7.10.0'},\n",
      "                         {'color': 'dddddd',\n",
      "                          'default': False,\n",
      "                          'description': '',\n",
      "                          'id': 2205552368,\n",
      "                          'name': 'v7.9.1',\n",
      "                          'node_id': 'MDU6TGFiZWwyMjA1NTUyMzY4',\n",
      "                          'url': 'https://api.github.com/repos/elastic/elasticsearch/labels/v7.9.1'},\n",
      "                         {'color': 'dddddd',\n",
      "                          'default': False,\n",
      "                          'description': '',\n",
      "                          'id': 1194435738,\n",
      "                          'name': 'v8.0.0',\n",
      "                          'node_id': 'MDU6TGFiZWwxMTk0NDM1NzM4',\n",
      "                          'url': 'https://api.github.com/repos/elastic/elasticsearch/labels/v8.0.0'}],\n",
      "              'labels_url': 'https://api.github.com/repos/elastic/elasticsearch/issues/61268/labels{/name}',\n",
      "              'locked': False,\n",
      "              'milestone': None,\n",
      "              'node_id': 'MDExOlB1bGxSZXF1ZXN0NDY5NDkyODY4',\n",
      "              'number': 61268,\n",
      "              'performed_via_github_app': None,\n",
      "              'pull_request': {'diff_url': 'https://github.com/elastic/elasticsearch/pull/61268.diff',\n",
      "                               'html_url': 'https://github.com/elastic/elasticsearch/pull/61268',\n",
      "                               'patch_url': 'https://github.com/elastic/elasticsearch/pull/61268.patch',\n",
      "                               'url': 'https://api.github.com/repos/elastic/elasticsearch/pulls/61268'},\n",
      "              'repository_url': 'https://api.github.com/repos/elastic/elasticsearch',\n",
      "              'state': 'open',\n",
      "              'title': 'EQL: Return sequence join keys in the original type',\n",
      "              'updated_at': '2020-08-18T13:18:14Z',\n",
      "              'url': 'https://api.github.com/repos/elastic/elasticsearch/issues/61268',\n",
      "              'user': {'avatar_url': 'https://avatars2.githubusercontent.com/u/893749?v=4',\n",
      "                       'events_url': 'https://api.github.com/users/astefan/events{/privacy}',\n",
      "                       'followers_url': 'https://api.github.com/users/astefan/followers',\n",
      "                       'following_url': 'https://api.github.com/users/astefan/following{/other_user}',\n",
      "                       'gists_url': 'https://api.github.com/users/astefan/gists{/gist_id}',\n",
      "                       'gravatar_id': '',\n",
      "                       'html_url': 'https://github.com/astefan',\n",
      "                       'id': 893749,\n",
      "                       'login': 'astefan',\n",
      "                       'node_id': 'MDQ6VXNlcjg5Mzc0OQ==',\n",
      "                       'organizations_url': 'https://api.github.com/users/astefan/orgs',\n",
      "                       'received_events_url': 'https://api.github.com/users/astefan/received_events',\n",
      "                       'repos_url': 'https://api.github.com/users/astefan/repos',\n",
      "                       'site_admin': False,\n",
      "                       'starred_url': 'https://api.github.com/users/astefan/starred{/owner}{/repo}',\n",
      "                       'subscriptions_url': 'https://api.github.com/users/astefan/subscriptions',\n",
      "                       'type': 'User',\n",
      "                       'url': 'https://api.github.com/users/astefan'}},\n",
      " '_repository': NotSet,\n",
      " '_requester': <github.Requester.Requester object at 0x7fd337d19150>,\n",
      " '_state': <github.GithubObject._ValuedAttribute object at 0x7fd337d1c250>,\n",
      " '_title': <github.GithubObject._ValuedAttribute object at 0x7fd337d1c190>,\n",
      " '_updated_at': <github.GithubObject._ValuedAttribute object at 0x7fd337d1c110>,\n",
      " '_url': <github.GithubObject._ValuedAttribute object at 0x7fd337d1c0d0>,\n",
      " '_user': <github.GithubObject._ValuedAttribute object at 0x7fd337d1c050>}\n"
     ]
    }
   ],
   "source": [
    "\"\"\"from pprint import pprint\n",
    "pprint(vars(issues[0]))\"\"\""
   ]
  },
  {
   "cell_type": "code",
   "execution_count": 55,
   "metadata": {},
   "outputs": [],
   "source": [
    "\"\"\"from sklearn.preprocessing import LabelEncoder\n",
    "from sklearn.preprocessing import OneHotEncoder\n",
    "import numpy as np\n",
    "\n",
    "label_encoder = LabelEncoder()\n",
    "label_encoder = label_encoder.fit(label_names)\n",
    "\n",
    "onehot_encoder = OneHotEncoder(sparse=False)\"\"\""
   ]
  },
  {
   "cell_type": "code",
   "execution_count": 85,
   "metadata": {},
   "outputs": [],
   "source": [
    "\"\"\"issues_encoded = []\n",
    "for issue in issues:\n",
    "    vector = np.full((len(label_names)+1,), 0)\n",
    "    vector[-1] = issue.id\n",
    "    label_encoded = label_encoder.transform([label.name for label in issue.labels])\n",
    "    for label in label_encoded:\n",
    "        vector[label] = 1\n",
    "    issues_encoded.append(vector)\"\"\""
   ]
  },
  {
   "cell_type": "code",
   "execution_count": 90,
   "metadata": {},
   "outputs": [],
   "source": [
    "\"\"\"cols = np.append(label_encoder.classes_,\"id\")\n",
    "issue_labels = pd.DataFrame(issues_encoded, columns=cols)\n",
    "issue_labels.set_index(\"id\",inplace=True)\"\"\""
   ]
  },
  {
   "cell_type": "code",
   "execution_count": 92,
   "metadata": {},
   "outputs": [],
   "source": [
    "#issue_labels.to_csv(\"issue_labels_as_columns.csv\")"
   ]
  },
  {
   "cell_type": "markdown",
   "metadata": {},
   "source": [
    "### Combine Labels and Issues into a Dataframe"
   ]
  },
  {
   "cell_type": "code",
   "execution_count": 7,
   "metadata": {},
   "outputs": [],
   "source": [
    "# Creation and export of issue label dataframe\n",
    "\n",
    "\"\"\"tmp = []\n",
    "for issue in issues:\n",
    "    for label in issue.labels:\n",
    "        tmp.append((issue.id, label.name))\n",
    "ilpr = pd.DataFrame(tmp, columns=[\"id\", \"label\"])\n",
    "# Export to csv\n",
    "ilpr.to_csv(\"issues_label_per_row.csv\")\"\"\""
   ]
  },
  {
   "cell_type": "markdown",
   "metadata": {},
   "source": [
    "### Tags"
   ]
  },
  {
   "cell_type": "code",
   "execution_count": 38,
   "metadata": {},
   "outputs": [],
   "source": [
    "# Dump tags objects retrieved from Github APIs\n",
    "\n",
    "\"\"\"tags = repo.get_tags()\n",
    "f = open('tags.pkl', 'DONT')\n",
    "for tag in tags:\n",
    "    pickle.dump(tag, f)\"\"\""
   ]
  },
  {
   "cell_type": "code",
   "execution_count": 74,
   "metadata": {},
   "outputs": [],
   "source": [
    "# Retrieve tags objects retrieved from Github APIs\n",
    "\n",
    "\"\"\"tags = []\n",
    "with (open(\"tags.pkl\", \"rb\")) as openfile:\n",
    "    while True:\n",
    "        try:\n",
    "            tags.append(pickle.load(openfile))\n",
    "        except EOFError:\n",
    "            break\"\"\""
   ]
  },
  {
   "cell_type": "code",
   "execution_count": 75,
   "metadata": {},
   "outputs": [
    {
     "name": "stdout",
     "output_type": "stream",
     "text": [
      "{'_commit': <github.GithubObject._ValuedAttribute object at 0x7fd2066b7350>,\n",
      " '_headers': {'access-control-allow-origin': '*',\n",
      "              'access-control-expose-headers': 'ETag, Link, Location, '\n",
      "                                               'Retry-After, X-GitHub-OTP, '\n",
      "                                               'X-RateLimit-Limit, '\n",
      "                                               'X-RateLimit-Remaining, '\n",
      "                                               'X-RateLimit-Reset, '\n",
      "                                               'X-OAuth-Scopes, '\n",
      "                                               'X-Accepted-OAuth-Scopes, '\n",
      "                                               'X-Poll-Interval, '\n",
      "                                               'X-GitHub-Media-Type, '\n",
      "                                               'Deprecation, Sunset',\n",
      "              'cache-control': 'private, max-age=60, s-maxage=60',\n",
      "              'content-encoding': 'gzip',\n",
      "              'content-security-policy': \"default-src 'none'\",\n",
      "              'content-type': 'application/json; charset=utf-8',\n",
      "              'date': 'Thu, 20 Aug 2020 15:38:54 GMT',\n",
      "              'etag': 'W/\"270a540144f002fffec1120b71baaadb\"',\n",
      "              'last-modified': 'Thu, 20 Aug 2020 14:55:48 GMT',\n",
      "              'link': '<https://api.github.com/repositories/507775/tags?page=2>; '\n",
      "                      'rel=\"next\", '\n",
      "                      '<https://api.github.com/repositories/507775/tags?page=10>; '\n",
      "                      'rel=\"last\"',\n",
      "              'referrer-policy': 'origin-when-cross-origin, '\n",
      "                                 'strict-origin-when-cross-origin',\n",
      "              'server': 'GitHub.com',\n",
      "              'status': '200 OK',\n",
      "              'strict-transport-security': 'max-age=31536000; '\n",
      "                                           'includeSubdomains; preload',\n",
      "              'transfer-encoding': 'chunked',\n",
      "              'vary': 'Accept, Authorization, Cookie, X-GitHub-OTP, '\n",
      "                      'Accept-Encoding, Accept, X-Requested-With, '\n",
      "                      'Accept-Encoding',\n",
      "              'x-accepted-oauth-scopes': '',\n",
      "              'x-content-type-options': 'nosniff',\n",
      "              'x-frame-options': 'deny',\n",
      "              'x-github-media-type': 'github.v3; format=json',\n",
      "              'x-github-request-id': '66EA:F1B6:2EF801E:39C6F82:5F3E990D',\n",
      "              'x-oauth-scopes': 'repo',\n",
      "              'x-ratelimit-limit': '5000',\n",
      "              'x-ratelimit-remaining': '2800',\n",
      "              'x-ratelimit-reset': '1597938294',\n",
      "              'x-xss-protection': '1; mode=block'},\n",
      " '_name': <github.GithubObject._ValuedAttribute object at 0x7fd2066bdcd0>,\n",
      " '_rawData': {'commit': {'sha': 'a479a2a7fce0389512d6a9361301708b92dff667',\n",
      "                         'url': 'https://api.github.com/repos/elastic/elasticsearch/commits/a479a2a7fce0389512d6a9361301708b92dff667'},\n",
      "              'name': 'v7.9.0',\n",
      "              'node_id': 'MDM6UmVmNTA3Nzc1OnJlZnMvdGFncy92Ny45LjA=',\n",
      "              'tarball_url': 'https://api.github.com/repos/elastic/elasticsearch/tarball/v7.9.0',\n",
      "              'zipball_url': 'https://api.github.com/repos/elastic/elasticsearch/zipball/v7.9.0'},\n",
      " '_requester': <github.Requester.Requester object at 0x7fd2052cbc10>,\n",
      " '_tarball_url': <github.GithubObject._ValuedAttribute object at 0x7fd2066bdc10>,\n",
      " '_zipball_url': <github.GithubObject._ValuedAttribute object at 0x7fd2066bdb90>}\n"
     ]
    }
   ],
   "source": [
    "\"\"\"from pprint import pprint\n",
    "pprint(vars(tags[0]))\"\"\""
   ]
  },
  {
   "cell_type": "code",
   "execution_count": 77,
   "metadata": {},
   "outputs": [],
   "source": [
    "tmp = []\n",
    "for tag in tags:\n",
    "    tmp.append((tag.name, tag.commit.sha, repo.get_commit(sha=tag.commit.sha).commit.author.date))"
   ]
  },
  {
   "cell_type": "code",
   "execution_count": 80,
   "metadata": {},
   "outputs": [],
   "source": [
    "# Create a file with tags pandas df\n",
    "tagsDf = pd.DataFrame(tmp, columns=[\"Tag\", \"Sha\", \"Date\"])\n",
    "tagsDf.to_csv(\"./tags.csv\")"
   ]
  },
  {
   "cell_type": "code",
   "execution_count": 81,
   "metadata": {},
   "outputs": [
    {
     "data": {
      "text/html": [
       "<div>\n",
       "<style scoped>\n",
       "    .dataframe tbody tr th:only-of-type {\n",
       "        vertical-align: middle;\n",
       "    }\n",
       "\n",
       "    .dataframe tbody tr th {\n",
       "        vertical-align: top;\n",
       "    }\n",
       "\n",
       "    .dataframe thead th {\n",
       "        text-align: right;\n",
       "    }\n",
       "</style>\n",
       "<table border=\"1\" class=\"dataframe\">\n",
       "  <thead>\n",
       "    <tr style=\"text-align: right;\">\n",
       "      <th></th>\n",
       "      <th>Tag</th>\n",
       "      <th>Sha</th>\n",
       "      <th>Date</th>\n",
       "    </tr>\n",
       "  </thead>\n",
       "  <tbody>\n",
       "    <tr>\n",
       "      <td>0</td>\n",
       "      <td>v7.9.0</td>\n",
       "      <td>a479a2a7fce0389512d6a9361301708b92dff667</td>\n",
       "      <td>2020-08-11 16:42:47</td>\n",
       "    </tr>\n",
       "    <tr>\n",
       "      <td>1</td>\n",
       "      <td>v7.8.1</td>\n",
       "      <td>b5ca9c58fb664ca8bf9e4057fc229b3396bf3a89</td>\n",
       "      <td>2020-07-21 12:13:59</td>\n",
       "    </tr>\n",
       "    <tr>\n",
       "      <td>2</td>\n",
       "      <td>v7.8.0</td>\n",
       "      <td>757314695644ea9a1dc2fecd26d1a43856725e65</td>\n",
       "      <td>2020-06-12 22:39:07</td>\n",
       "    </tr>\n",
       "    <tr>\n",
       "      <td>3</td>\n",
       "      <td>v7.7.1</td>\n",
       "      <td>ad56dce891c901a492bb1ee393f12dfff473a423</td>\n",
       "      <td>2020-05-28 13:52:12</td>\n",
       "    </tr>\n",
       "    <tr>\n",
       "      <td>4</td>\n",
       "      <td>v7.7.0</td>\n",
       "      <td>81a1e9eda8e6183f5237786246f6dced26a10eaf</td>\n",
       "      <td>2020-05-08 23:11:19</td>\n",
       "    </tr>\n",
       "  </tbody>\n",
       "</table>\n",
       "</div>"
      ],
      "text/plain": [
       "      Tag                                       Sha                Date\n",
       "0  v7.9.0  a479a2a7fce0389512d6a9361301708b92dff667 2020-08-11 16:42:47\n",
       "1  v7.8.1  b5ca9c58fb664ca8bf9e4057fc229b3396bf3a89 2020-07-21 12:13:59\n",
       "2  v7.8.0  757314695644ea9a1dc2fecd26d1a43856725e65 2020-06-12 22:39:07\n",
       "3  v7.7.1  ad56dce891c901a492bb1ee393f12dfff473a423 2020-05-28 13:52:12\n",
       "4  v7.7.0  81a1e9eda8e6183f5237786246f6dced26a10eaf 2020-05-08 23:11:19"
      ]
     },
     "execution_count": 81,
     "metadata": {},
     "output_type": "execute_result"
    }
   ],
   "source": [
    "tagsDf.head()"
   ]
  },
  {
   "cell_type": "code",
   "execution_count": null,
   "metadata": {},
   "outputs": [],
   "source": []
  }
 ],
 "metadata": {
  "kernelspec": {
   "display_name": "Python 3",
   "language": "python",
   "name": "python3"
  },
  "language_info": {
   "codemirror_mode": {
    "name": "ipython",
    "version": 3
   },
   "file_extension": ".py",
   "mimetype": "text/x-python",
   "name": "python",
   "nbconvert_exporter": "python",
   "pygments_lexer": "ipython3",
   "version": "3.7.4"
  }
 },
 "nbformat": 4,
 "nbformat_minor": 2
}
